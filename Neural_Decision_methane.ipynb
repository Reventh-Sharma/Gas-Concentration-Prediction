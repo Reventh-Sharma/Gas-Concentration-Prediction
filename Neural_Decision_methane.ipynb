{
  "nbformat": 4,
  "nbformat_minor": 0,
  "metadata": {
    "kernelspec": {
      "name": "python3",
      "display_name": "Python 3"
    },
    "colab": {
      "name": "Neural_Decision_methane.ipynb",
      "provenance": [],
      "collapsed_sections": [],
      "include_colab_link": true
    },
    "accelerator": "GPU"
  },
  "cells": [
    {
      "cell_type": "markdown",
      "metadata": {
        "id": "view-in-github",
        "colab_type": "text"
      },
      "source": [
        "<a href=\"https://colab.research.google.com/github/Reventh-Sharma/Gas-Concentration-Prediction/blob/master/Neural_Decision_methane.ipynb\" target=\"_parent\"><img src=\"https://colab.research.google.com/assets/colab-badge.svg\" alt=\"Open In Colab\"/></a>"
      ]
    },
    {
      "cell_type": "code",
      "metadata": {
        "id": "KVTF77pqKq0p",
        "colab_type": "code",
        "colab": {
          "base_uri": "https://localhost:8080/",
          "height": 35
        },
        "outputId": "eae2408f-be74-493c-8102-e1063f98aa37"
      },
      "source": [
        "from google.colab import drive\n",
        "drive.mount('/content/drive')"
      ],
      "execution_count": null,
      "outputs": [
        {
          "output_type": "stream",
          "text": [
            "Drive already mounted at /content/drive; to attempt to forcibly remount, call drive.mount(\"/content/drive\", force_remount=True).\n"
          ],
          "name": "stdout"
        }
      ]
    },
    {
      "cell_type": "code",
      "metadata": {
        "id": "2gmF8C2gEFDo",
        "colab_type": "code",
        "colab": {}
      },
      "source": [
        "import numpy as np\n",
        "import pandas as pd\n",
        "import math\n",
        "from statistics import mean\n",
        "import matplotlib.pyplot as plt\n",
        "from sklearn.metrics import mean_squared_error\n",
        "from sklearn.model_selection import train_test_split"
      ],
      "execution_count": null,
      "outputs": []
    },
    {
      "cell_type": "code",
      "metadata": {
        "id": "CTdUUSOeEFDx",
        "colab_type": "code",
        "colab": {}
      },
      "source": [
        "dataset = pd.read_csv('/content/drive/My Drive/Colab Notebooks/unanomalousfinal2.csv')\n",
        "X1=dataset.iloc[:,:].values\n",
        "X1=np.append(X1,[X1[-1,:]],axis=0)"
      ],
      "execution_count": null,
      "outputs": []
    },
    {
      "cell_type": "code",
      "metadata": {
        "id": "I18kax5xEFEB",
        "colab_type": "code",
        "colab": {}
      },
      "source": [
        "dataset = pd.read_csv('/content/drive/My Drive/Colab Notebooks/ethylene_methane.csv')"
      ],
      "execution_count": null,
      "outputs": []
    },
    {
      "cell_type": "code",
      "metadata": {
        "id": "anuWNLoLEFEO",
        "colab_type": "code",
        "colab": {}
      },
      "source": [
        "y = dataset.iloc[:, 1:3].values"
      ],
      "execution_count": null,
      "outputs": []
    },
    {
      "cell_type": "code",
      "metadata": {
        "id": "p4No_5ROEFEU",
        "colab_type": "code",
        "colab": {}
      },
      "source": [
        "a=int(int(np.size(y,0)/10000)*1900)\n",
        "y1=np.zeros((a,2))\n",
        "for i in range(int(np.size(y,0)/10000)):\n",
        "    y1[i*1900:(i+1)*1900,:]=y[i*10000+8000:(i+1)*10000-100,:]\n",
        "del dataset,y"
      ],
      "execution_count": null,
      "outputs": []
    },
    {
      "cell_type": "code",
      "metadata": {
        "id": "JPmIvbkmEFEf",
        "colab_type": "code",
        "colab": {}
      },
      "source": [
        "X1 = (X1-X1.mean(axis=0))/X1.max(axis=0)\n",
        "y1_mean = y1.mean(axis = 0)\n",
        "y1_max=y1.max(axis=0)\n",
        "y2 = (y1-y1_mean)/y1_max"
      ],
      "execution_count": null,
      "outputs": []
    },
    {
      "cell_type": "code",
      "metadata": {
        "id": "MqPEp_6eEFEl",
        "colab_type": "code",
        "colab": {}
      },
      "source": [
        "X_train, X_test, y_train, y_test = train_test_split(X1, y2, test_size = 0.25,random_state=42)"
      ],
      "execution_count": null,
      "outputs": []
    },
    {
      "cell_type": "code",
      "metadata": {
        "id": "H00eYsyLEFEr",
        "colab_type": "code",
        "colab": {}
      },
      "source": [
        "from sklearn.tree import DecisionTreeRegressor"
      ],
      "execution_count": null,
      "outputs": []
    },
    {
      "cell_type": "code",
      "metadata": {
        "id": "dIbc4XmvEFEx",
        "colab_type": "code",
        "colab": {}
      },
      "source": [
        "max_depth=np.arange(1,77,5)\n",
        "error_train_co=np.zeros(np.size(max_depth))\n",
        "error_test_co=np.zeros(np.size(max_depth))\n",
        "error_train_et=np.zeros(np.size(max_depth))\n",
        "error_test_et=np.zeros(np.size(max_depth))"
      ],
      "execution_count": null,
      "outputs": []
    },
    {
      "cell_type": "code",
      "metadata": {
        "id": "pkgJjr-dEFE4",
        "colab_type": "code",
        "colab": {}
      },
      "source": [
        "m=0\n",
        "for depth in max_depth:\n",
        "    regr=DecisionTreeRegressor(max_depth=depth, min_samples_split=10, min_samples_leaf=2)\n",
        "    regr.fit(X_train,y_train)\n",
        "    y_pred=regr.predict(X_test)\n",
        "    for i in range(0,np.size(y_pred,0)):\n",
        "        for j in range(0,np.size(y_pred,1)):\n",
        "            if y_pred[i,j]<-y1_mean[j]/y1_max[j]:\n",
        "                y_pred[i,j]=-y1_mean[j]/y1_max[j]\n",
        "    y_train_pred=regr.predict(X_train)\n",
        "    error_train_co[m]=math.sqrt(mean_squared_error(y_train[:,0], y_train_pred[:,0]))\n",
        "    error_test_co[m]=math.sqrt(mean_squared_error(y_test[:,0], y_pred[:,0]))\n",
        "    error_train_et[m]=math.sqrt(mean_squared_error(y_train[:,1], y_train_pred[:,1]))\n",
        "    error_test_et[m]=math.sqrt(mean_squared_error(y_test[:,1], y_pred[:,1]))\n",
        "    m=m+1"
      ],
      "execution_count": null,
      "outputs": []
    },
    {
      "cell_type": "code",
      "metadata": {
        "id": "I8oHHq_REFE8",
        "colab_type": "code",
        "colab": {
          "base_uri": "https://localhost:8080/",
          "height": 279
        },
        "outputId": "4159d2bf-137e-4a46-8c83-ee91ea9ddf99"
      },
      "source": [
        "plt.plot(max_depth, error_train_co, label='Train error')\n",
        "plt.plot(max_depth, error_test_co, label='Test error')\n",
        "plt.xlabel('Max Depth')\n",
        "plt.ylabel('Error')\n",
        "plt.legend()\n",
        "plt.show()"
      ],
      "execution_count": null,
      "outputs": [
        {
          "output_type": "display_data",
          "data": {
            "image/png": "[encoded data removed]",
            "text/plain": [
              "<Figure size 432x288 with 1 Axes>"
            ]
          },
          "metadata": {
            "tags": []
          }
        }
      ]
    },
    {
      "cell_type": "code",
      "metadata": {
        "id": "ITBFDR8gEFFB",
        "colab_type": "code",
        "colab": {
          "base_uri": "https://localhost:8080/",
          "height": 279
        },
        "outputId": "fd73d66b-7499-4e16-f838-5f962a5ac940"
      },
      "source": [
        "plt.plot(max_depth, error_train_et, label='Train error')\n",
        "plt.plot(max_depth, error_test_et, label='Test error')\n",
        "plt.xlabel('Max Depth')\n",
        "plt.ylabel('Error')\n",
        "plt.legend()\n",
        "plt.show()"
      ],
      "execution_count": null,
      "outputs": [
        {
          "output_type": "display_data",
          "data": {
            "image/png": "[encoded data removed]",
            "text/plain": [
              "<Figure size 432x288 with 1 Axes>"
            ]
          },
          "metadata": {
            "tags": []
          }
        }
      ]
    },
    {
      "cell_type": "code",
      "metadata": {
        "id": "r186_2dZEFFF",
        "colab_type": "code",
        "colab": {}
      },
      "source": [
        "depth=56"
      ],
      "execution_count": null,
      "outputs": []
    },
    {
      "cell_type": "code",
      "metadata": {
        "id": "5x9qmtAMEFFJ",
        "colab_type": "code",
        "colab": {}
      },
      "source": [
        "regr=DecisionTreeRegressor(max_depth=depth, min_samples_split=100, min_samples_leaf=20)\n",
        "regr.fit(X_train,y_train)\n",
        "y_pred=regr.predict(X_test)\n",
        "for i in range(0,np.size(y_pred,0)):\n",
        "    for j in range(0,np.size(y_pred,1)):\n",
        "        if y_pred[i,j]<-y1_mean[j]/y1_max[j]:\n",
        "            y_pred[i,j]=-y1_mean[j]/y1_max[j]\n",
        "error_test_co=(math.sqrt(mean_squared_error(y_test[:,0], y_pred[:,0])))\n",
        "error_test_et=math.sqrt(mean_squared_error(y_test[:,1], y_pred[:,1]))\n",
        "RMSE=np.array([error_test_co, error_test_et])*y1_max"
      ],
      "execution_count": null,
      "outputs": []
    },
    {
      "cell_type": "code",
      "metadata": {
        "id": "bCa1CPdsRaP0",
        "colab_type": "code",
        "colab": {
          "base_uri": "https://localhost:8080/",
          "height": 55
        },
        "outputId": "cc7f9c47-938a-413b-d576-d9de5bdfb023"
      },
      "source": [
        "print(\"RMSE for CO prediction is\",RMSE[0],\"and Ethylene prediction is\",RMSE[1],\"respectively.\")"
      ],
      "execution_count": null,
      "outputs": [
        {
          "output_type": "stream",
          "text": [
            "RMSE for CO prediction is 12.470682111719917 and Ethylene prediction is 1.0751279293455944 respectively.\n"
          ],
          "name": "stdout"
        }
      ]
    },
    {
      "cell_type": "code",
      "metadata": {
        "id": "eS7wEYFcEFFN",
        "colab_type": "code",
        "colab": {}
      },
      "source": [
        "from sklearn.ensemble import RandomForestRegressor"
      ],
      "execution_count": null,
      "outputs": []
    },
    {
      "cell_type": "code",
      "metadata": {
        "id": "QpC7tjYwEFFS",
        "colab_type": "code",
        "colab": {}
      },
      "source": [
        "max_depth=np.arange(1,52,5)\n",
        "error_train_co=np.zeros(np.size(max_depth))\n",
        "error_test_co=np.zeros(np.size(max_depth))\n",
        "error_train_et=np.zeros(np.size(max_depth))\n",
        "error_test_et=np.zeros(np.size(max_depth))"
      ],
      "execution_count": null,
      "outputs": []
    },
    {
      "cell_type": "code",
      "metadata": {
        "id": "o1dyXl90EFFX",
        "colab_type": "code",
        "colab": {
          "base_uri": "https://localhost:8080/",
          "height": 441
        },
        "outputId": "60e82f21-6640-4cd3-ed4a-8541903a54d6"
      },
      "source": [
        "m=0\n",
        "for depth in max_depth:\n",
        "    regr=RandomForestRegressor(max_depth=depth, min_samples_split=10, min_samples_leaf=2)\n",
        "    regr.fit(X_train,y_train)\n",
        "    y_pred=regr.predict(X_test)\n",
        "    for i in range(0,np.size(y_pred,0)):\n",
        "        for j in range(0,np.size(y_pred,1)):\n",
        "            if y_pred[i,j]<-y1_mean[j]/y1_max[j]:\n",
        "                y_pred[i,j]=-y1_mean[j]/y1_max[j]\n",
        "    y_train_pred=regr.predict(X_train)\n",
        "    error_train_co[m]=math.sqrt(mean_squared_error(y_train[:,0], y_train_pred[:,0]))\n",
        "    error_test_co[m]=math.sqrt(mean_squared_error(y_test[:,0], y_pred[:,0]))\n",
        "    error_train_et[m]=math.sqrt(mean_squared_error(y_train[:,1], y_train_pred[:,1]))\n",
        "    error_test_et[m]=math.sqrt(mean_squared_error(y_test[:,1], y_pred[:,1]))\n",
        "    m=m+1"
      ],
      "execution_count": null,
      "outputs": [
        {
          "output_type": "stream",
          "text": [
            "/usr/local/lib/python3.6/dist-packages/sklearn/ensemble/forest.py:245: FutureWarning: The default value of n_estimators will change from 10 in version 0.20 to 100 in 0.22.\n",
            "  \"10 in version 0.20 to 100 in 0.22.\", FutureWarning)\n",
            "/usr/local/lib/python3.6/dist-packages/sklearn/ensemble/forest.py:245: FutureWarning: The default value of n_estimators will change from 10 in version 0.20 to 100 in 0.22.\n",
            "  \"10 in version 0.20 to 100 in 0.22.\", FutureWarning)\n",
            "/usr/local/lib/python3.6/dist-packages/sklearn/ensemble/forest.py:245: FutureWarning: The default value of n_estimators will change from 10 in version 0.20 to 100 in 0.22.\n",
            "  \"10 in version 0.20 to 100 in 0.22.\", FutureWarning)\n",
            "/usr/local/lib/python3.6/dist-packages/sklearn/ensemble/forest.py:245: FutureWarning: The default value of n_estimators will change from 10 in version 0.20 to 100 in 0.22.\n",
            "  \"10 in version 0.20 to 100 in 0.22.\", FutureWarning)\n",
            "/usr/local/lib/python3.6/dist-packages/sklearn/ensemble/forest.py:245: FutureWarning: The default value of n_estimators will change from 10 in version 0.20 to 100 in 0.22.\n",
            "  \"10 in version 0.20 to 100 in 0.22.\", FutureWarning)\n",
            "/usr/local/lib/python3.6/dist-packages/sklearn/ensemble/forest.py:245: FutureWarning: The default value of n_estimators will change from 10 in version 0.20 to 100 in 0.22.\n",
            "  \"10 in version 0.20 to 100 in 0.22.\", FutureWarning)\n",
            "/usr/local/lib/python3.6/dist-packages/sklearn/ensemble/forest.py:245: FutureWarning: The default value of n_estimators will change from 10 in version 0.20 to 100 in 0.22.\n",
            "  \"10 in version 0.20 to 100 in 0.22.\", FutureWarning)\n",
            "/usr/local/lib/python3.6/dist-packages/sklearn/ensemble/forest.py:245: FutureWarning: The default value of n_estimators will change from 10 in version 0.20 to 100 in 0.22.\n",
            "  \"10 in version 0.20 to 100 in 0.22.\", FutureWarning)\n",
            "/usr/local/lib/python3.6/dist-packages/sklearn/ensemble/forest.py:245: FutureWarning: The default value of n_estimators will change from 10 in version 0.20 to 100 in 0.22.\n",
            "  \"10 in version 0.20 to 100 in 0.22.\", FutureWarning)\n",
            "/usr/local/lib/python3.6/dist-packages/sklearn/ensemble/forest.py:245: FutureWarning: The default value of n_estimators will change from 10 in version 0.20 to 100 in 0.22.\n",
            "  \"10 in version 0.20 to 100 in 0.22.\", FutureWarning)\n",
            "/usr/local/lib/python3.6/dist-packages/sklearn/ensemble/forest.py:245: FutureWarning: The default value of n_estimators will change from 10 in version 0.20 to 100 in 0.22.\n",
            "  \"10 in version 0.20 to 100 in 0.22.\", FutureWarning)\n"
          ],
          "name": "stderr"
        }
      ]
    },
    {
      "cell_type": "code",
      "metadata": {
        "id": "I46oWGtBEFFc",
        "colab_type": "code",
        "colab": {
          "base_uri": "https://localhost:8080/",
          "height": 279
        },
        "outputId": "84dae432-0fbb-402d-f03a-1e0c08ea7d4f"
      },
      "source": [
        "plt.plot(max_depth, error_train_co, label='Train error')\n",
        "plt.plot(max_depth, error_test_co, label='Test error')\n",
        "plt.xlabel('Max Depth')\n",
        "plt.ylabel('Error')\n",
        "plt.legend()\n",
        "plt.show()"
      ],
      "execution_count": null,
      "outputs": [
        {
          "output_type": "display_data",
          "data": {
            "image/png": "[encoded data removed]",
            "text/plain": [
              "<Figure size 432x288 with 1 Axes>"
            ]
          },
          "metadata": {
            "tags": []
          }
        }
      ]
    },
    {
      "cell_type": "code",
      "metadata": {
        "id": "SLc1d4e1EFFh",
        "colab_type": "code",
        "colab": {
          "base_uri": "https://localhost:8080/",
          "height": 279
        },
        "outputId": "63d08cfb-fbe2-4804-88b6-0e314c8b4015"
      },
      "source": [
        "plt.plot(max_depth, error_train_et, label='Train error')\n",
        "plt.plot(max_depth, error_test_et, label='Test error')\n",
        "plt.xlabel('Max Depth')\n",
        "plt.ylabel('Error')\n",
        "plt.legend()\n",
        "plt.show()"
      ],
      "execution_count": null,
      "outputs": [
        {
          "output_type": "display_data",
          "data": {
            "image/png": "[encoded data removed]",
            "text/plain": [
              "<Figure size 432x288 with 1 Axes>"
            ]
          },
          "metadata": {
            "tags": []
          }
        }
      ]
    },
    {
      "cell_type": "code",
      "metadata": {
        "id": "0SO6aEt6EFFm",
        "colab_type": "code",
        "colab": {}
      },
      "source": [
        "depth=40"
      ],
      "execution_count": null,
      "outputs": []
    },
    {
      "cell_type": "code",
      "metadata": {
        "id": "fk3u9eSUEFFr",
        "colab_type": "code",
        "colab": {
          "base_uri": "https://localhost:8080/",
          "height": 74
        },
        "outputId": "a8d41f49-1656-402f-f410-a8ea860a9a2f"
      },
      "source": [
        "regr=RandomForestRegressor(max_depth=depth, min_samples_split=10, min_samples_leaf=2)\n",
        "regr.fit(X_train,y_train)\n",
        "y_pred=regr.predict(X_test)\n",
        "for i in range(0,np.size(y_pred,0)):\n",
        "    for j in range(0,np.size(y_pred,1)):\n",
        "        if y_pred[i,j]<-y1_mean[j]/y1_max[j]:\n",
        "            y_pred[i,j]=-y1_mean[j]/y1_max[j]\n",
        "error_test_co=(math.sqrt(mean_squared_error(y_test[:,0], y_pred[:,0])))\n",
        "error_test_et=math.sqrt(mean_squared_error(y_test[:,1], y_pred[:,1]))\n",
        "RMSE=np.array([error_test_co, error_test_et])*y1_max"
      ],
      "execution_count": null,
      "outputs": [
        {
          "output_type": "stream",
          "text": [
            "/usr/local/lib/python3.6/dist-packages/sklearn/ensemble/forest.py:245: FutureWarning: The default value of n_estimators will change from 10 in version 0.20 to 100 in 0.22.\n",
            "  \"10 in version 0.20 to 100 in 0.22.\", FutureWarning)\n"
          ],
          "name": "stderr"
        }
      ]
    },
    {
      "cell_type": "code",
      "metadata": {
        "id": "_s_ieSd5CLOd",
        "colab_type": "code",
        "colab": {
          "base_uri": "https://localhost:8080/",
          "height": 55
        },
        "outputId": "656f01f1-fa4d-4040-c96e-d21682c69109"
      },
      "source": [
        "print(\"RMSE for CO prediction is\",RMSE[0],\"and Ethylene prediction is\",RMSE[1],\"respectively.\")"
      ],
      "execution_count": null,
      "outputs": [
        {
          "output_type": "stream",
          "text": [
            "RMSE for CO prediction is 10.63529561669382 and Ethylene prediction is 0.892085008442184 respectively.\n"
          ],
          "name": "stdout"
        }
      ]
    },
    {
      "cell_type": "code",
      "metadata": {
        "id": "M4Mya8fsEFFu",
        "colab_type": "code",
        "colab": {}
      },
      "source": [
        "from keras.models import Sequential\n",
        "from keras.layers import Dense\n",
        "from keras.layers import Dropout"
      ],
      "execution_count": null,
      "outputs": []
    },
    {
      "cell_type": "code",
      "metadata": {
        "id": "7bQAeob5EFFy",
        "colab_type": "code",
        "colab": {
          "base_uri": "https://localhost:8080/",
          "height": 184
        },
        "outputId": "47ef36c0-fab2-4373-ec8f-c6079712f060"
      },
      "source": [
        "classifier = Sequential()\n",
        "classifier.add(Dense(output_dim = 50, init = 'uniform', activation = 'relu', input_dim = 16))\n",
        "classifier.add(Dropout(rate=0.1))\n",
        "classifier.add(Dense(output_dim = 100, init = 'uniform', activation = 'relu'))\n",
        "classifier.add(Dropout(rate=0.1))\n",
        "classifier.add(Dense(output_dim = 10, init = 'uniform', activation = 'relu'))\n",
        "classifier.add(Dropout(rate=0.1))\n",
        "classifier.add(Dense(output_dim = 2, init = 'uniform', activation = 'linear'))\n",
        "classifier.compile(optimizer = 'adam', loss = 'mse', metrics = ['accuracy'])"
      ],
      "execution_count": null,
      "outputs": [
        {
          "output_type": "stream",
          "text": [
            "/usr/local/lib/python3.6/dist-packages/ipykernel_launcher.py:2: UserWarning: Update your `Dense` call to the Keras 2 API: `Dense(activation=\"relu\", input_dim=16, units=50, kernel_initializer=\"uniform\")`\n",
            "  \n",
            "/usr/local/lib/python3.6/dist-packages/ipykernel_launcher.py:4: UserWarning: Update your `Dense` call to the Keras 2 API: `Dense(activation=\"relu\", units=100, kernel_initializer=\"uniform\")`\n",
            "  after removing the cwd from sys.path.\n",
            "/usr/local/lib/python3.6/dist-packages/ipykernel_launcher.py:6: UserWarning: Update your `Dense` call to the Keras 2 API: `Dense(activation=\"relu\", units=10, kernel_initializer=\"uniform\")`\n",
            "  \n",
            "/usr/local/lib/python3.6/dist-packages/ipykernel_launcher.py:8: UserWarning: Update your `Dense` call to the Keras 2 API: `Dense(activation=\"linear\", units=2, kernel_initializer=\"uniform\")`\n",
            "  \n"
          ],
          "name": "stderr"
        }
      ]
    },
    {
      "cell_type": "code",
      "metadata": {
        "id": "PtccW5rOEFF2",
        "colab_type": "code",
        "colab": {}
      },
      "source": [
        "count=np.arange(1,201,1)\n",
        "error_train_co=np.zeros(np.size(count))\n",
        "error_test_co=np.zeros(np.size(count))\n",
        "error_train_et=np.zeros(np.size(count))\n",
        "error_test_et=np.zeros(np.size(count))"
      ],
      "execution_count": null,
      "outputs": []
    },
    {
      "cell_type": "code",
      "metadata": {
        "id": "NeUv9-kNEFF8",
        "colab_type": "code",
        "colab": {
          "base_uri": "https://localhost:8080/",
          "height": 1000
        },
        "outputId": "63603ab4-ade1-4a48-d738-f1855662559c"
      },
      "source": [
        "for index in count:\n",
        "    classifier.fit(X_train, y_train, batch_size = 1900, nb_epoch = 5)\n",
        "    y_pred = classifier.predict(X_test)\n",
        "    for i in range(0,np.size(y_pred,0)):\n",
        "        for j in range(0,np.size(y_pred,1)):\n",
        "            if y_pred[i,j]<-y1_mean[j]/y1_max[j]:\n",
        "                y_pred[i,j]=-y1_mean[j]/y1_max[j]\n",
        "    y_train_pred=classifier.predict(X_train)\n",
        "    error_train_co[index-1]=math.sqrt(mean_squared_error(y_train[:,0], y_train_pred[:,0]))\n",
        "    error_test_co[index-1]=math.sqrt(mean_squared_error(y_test[:,0], y_pred[:,0]))\n",
        "    error_train_et[index-1]=math.sqrt(mean_squared_error(y_train[:,1], y_train_pred[:,1]))\n",
        "    error_test_et[index-1]=math.sqrt(mean_squared_error(y_test[:,1], y_pred[:,1]))"
      ],
      "execution_count": null,
      "outputs": [
        {
          "output_type": "stream",
          "text": [
            "WARNING:tensorflow:From /usr/local/lib/python3.6/dist-packages/keras/backend/tensorflow_backend.py:1033: The name tf.assign_add is deprecated. Please use tf.compat.v1.assign_add instead.\n",
            "\n"
          ],
          "name": "stdout"
        },
        {
          "output_type": "stream",
          "text": [
            "/usr/local/lib/python3.6/dist-packages/ipykernel_launcher.py:2: UserWarning: The `nb_epoch` argument in `fit` has been renamed `epochs`.\n",
            "  \n"
          ],
          "name": "stderr"
        },
        {
          "output_type": "stream",
          "text": [
            "WARNING:tensorflow:From /usr/local/lib/python3.6/dist-packages/keras/backend/tensorflow_backend.py:1020: The name tf.assign is deprecated. Please use tf.compat.v1.assign instead.\n",
            "\n",
            "WARNING:tensorflow:From /usr/local/lib/python3.6/dist-packages/keras/backend/tensorflow_backend.py:3005: The name tf.Session is deprecated. Please use tf.compat.v1.Session instead.\n",
            "\n",
            "Epoch 1/5\n",
            "WARNING:tensorflow:From /usr/local/lib/python3.6/dist-packages/keras/backend/tensorflow_backend.py:190: The name tf.get_default_session is deprecated. Please use tf.compat.v1.get_default_session instead.\n",
            "\n",
            "WARNING:tensorflow:From /usr/local/lib/python3.6/dist-packages/keras/backend/tensorflow_backend.py:197: The name tf.ConfigProto is deprecated. Please use tf.compat.v1.ConfigProto instead.\n",
            "\n",
            "WARNING:tensorflow:From /usr/local/lib/python3.6/dist-packages/keras/backend/tensorflow_backend.py:207: The name tf.global_variables is deprecated. Please use tf.compat.v1.global_variables instead.\n",
            "\n",
            "WARNING:tensorflow:From /usr/local/lib/python3.6/dist-packages/keras/backend/tensorflow_backend.py:216: The name tf.is_variable_initialized is deprecated. Please use tf.compat.v1.is_variable_initialized instead.\n",
            "\n",
            "WARNING:tensorflow:From /usr/local/lib/python3.6/dist-packages/keras/backend/tensorflow_backend.py:223: The name tf.variables_initializer is deprecated. Please use tf.compat.v1.variables_initializer instead.\n",
            "\n",
            "594225/594225 [==============================] - 6s 10us/step - loss: 0.0328 - acc: 0.6946\n",
            "Epoch 2/5\n",
            "594225/594225 [==============================] - 2s 3us/step - loss: 0.0205 - acc: 0.7963\n",
            "Epoch 3/5\n",
            "594225/594225 [==============================] - 2s 3us/step - loss: 0.0187 - acc: 0.8215\n",
            "Epoch 4/5\n",
            "594225/594225 [==============================] - 2s 3us/step - loss: 0.0175 - acc: 0.8296\n",
            "Epoch 5/5\n",
            "594225/594225 [==============================] - 2s 3us/step - loss: 0.0166 - acc: 0.8405\n",
            "Epoch 1/5\n",
            " 64600/594225 [==>...........................] - ETA: 1s - loss: 0.0160 - acc: 0.8549"
          ],
          "name": "stdout"
        },
        {
          "output_type": "stream",
          "text": [
            "/usr/local/lib/python3.6/dist-packages/ipykernel_launcher.py:2: UserWarning: The `nb_epoch` argument in `fit` has been renamed `epochs`.\n",
            "  \n"
          ],
          "name": "stderr"
        },
        {
          "output_type": "stream",
          "text": [
            "594225/594225 [==============================] - 1s 2us/step - loss: 0.0157 - acc: 0.8579\n",
            "Epoch 2/5\n",
            "594225/594225 [==============================] - 1s 2us/step - loss: 0.0149 - acc: 0.8643\n",
            "Epoch 3/5\n",
            "594225/594225 [==============================] - 1s 2us/step - loss: 0.0143 - acc: 0.8688\n",
            "Epoch 4/5\n",
            "594225/594225 [==============================] - 1s 2us/step - loss: 0.0138 - acc: 0.8715\n",
            "Epoch 5/5\n",
            "594225/594225 [==============================] - 1s 3us/step - loss: 0.0133 - acc: 0.8734\n",
            "Epoch 1/5\n",
            " 68400/594225 [==>...........................] - ETA: 1s - loss: 0.0130 - acc: 0.8739"
          ],
          "name": "stdout"
        },
        {
          "output_type": "stream",
          "text": [
            "/usr/local/lib/python3.6/dist-packages/ipykernel_launcher.py:2: UserWarning: The `nb_epoch` argument in `fit` has been renamed `epochs`.\n",
            "  \n"
          ],
          "name": "stderr"
        },
        {
          "output_type": "stream",
          "text": [
            "594225/594225 [==============================] - 1s 2us/step - loss: 0.0129 - acc: 0.8747\n",
            "Epoch 2/5\n",
            "594225/594225 [==============================] - 1s 2us/step - loss: 0.0125 - acc: 0.8762\n",
            "Epoch 3/5\n",
            "594225/594225 [==============================] - 1s 2us/step - loss: 0.0122 - acc: 0.8788\n",
            "Epoch 4/5\n",
            "594225/594225 [==============================] - 1s 3us/step - loss: 0.0119 - acc: 0.8792\n",
            "Epoch 5/5\n",
            "594225/594225 [==============================] - 1s 2us/step - loss: 0.0115 - acc: 0.8804\n",
            "Epoch 1/5\n",
            " 66500/594225 [==>...........................] - ETA: 1s - loss: 0.0114 - acc: 0.8797"
          ],
          "name": "stdout"
        },
        {
          "output_type": "stream",
          "text": [
            "/usr/local/lib/python3.6/dist-packages/ipykernel_launcher.py:2: UserWarning: The `nb_epoch` argument in `fit` has been renamed `epochs`.\n",
            "  \n"
          ],
          "name": "stderr"
        },
        {
          "output_type": "stream",
          "text": [
            "594225/594225 [==============================] - 1s 2us/step - loss: 0.0113 - acc: 0.8791\n",
            "Epoch 2/5\n",
            "594225/594225 [==============================] - 1s 2us/step - loss: 0.0111 - acc: 0.8796\n",
            "Epoch 3/5\n",
            "594225/594225 [==============================] - 1s 2us/step - loss: 0.0110 - acc: 0.8787\n",
            "Epoch 4/5\n",
            "594225/594225 [==============================] - 1s 2us/step - loss: 0.0107 - acc: 0.8763\n",
            "Epoch 5/5\n",
            "594225/594225 [==============================] - 1s 2us/step - loss: 0.0106 - acc: 0.8750\n",
            "Epoch 1/5\n",
            " 74100/594225 [==>...........................] - ETA: 1s - loss: 0.0106 - acc: 0.8753"
          ],
          "name": "stdout"
        },
        {
          "output_type": "stream",
          "text": [
            "/usr/local/lib/python3.6/dist-packages/ipykernel_launcher.py:2: UserWarning: The `nb_epoch` argument in `fit` has been renamed `epochs`.\n",
            "  \n"
          ],
          "name": "stderr"
        },
        {
          "output_type": "stream",
          "text": [
            "594225/594225 [==============================] - 1s 2us/step - loss: 0.0104 - acc: 0.8726\n",
            "Epoch 2/5\n",
            "594225/594225 [==============================] - 1s 2us/step - loss: 0.0103 - acc: 0.8711\n",
            "Epoch 3/5\n",
            "594225/594225 [==============================] - 1s 2us/step - loss: 0.0101 - acc: 0.8698\n",
            "Epoch 4/5\n",
            "594225/594225 [==============================] - 1s 3us/step - loss: 0.0100 - acc: 0.8698\n",
            "Epoch 5/5\n",
            "594225/594225 [==============================] - 1s 2us/step - loss: 0.0098 - acc: 0.8676\n",
            "Epoch 1/5\n",
            " 62700/594225 [==>...........................] - ETA: 1s - loss: 0.0099 - acc: 0.8677"
          ],
          "name": "stdout"
        },
        {
          "output_type": "stream",
          "text": [
            "/usr/local/lib/python3.6/dist-packages/ipykernel_launcher.py:2: UserWarning: The `nb_epoch` argument in `fit` has been renamed `epochs`.\n",
            "  \n"
          ],
          "name": "stderr"
        },
        {
          "output_type": "stream",
          "text": [
            "594225/594225 [==============================] - 1s 2us/step - loss: 0.0098 - acc: 0.8692\n",
            "Epoch 2/5\n",
            "594225/594225 [==============================] - 1s 2us/step - loss: 0.0097 - acc: 0.8687\n",
            "Epoch 3/5\n",
            "594225/594225 [==============================] - 1s 2us/step - loss: 0.0095 - acc: 0.8697\n",
            "Epoch 4/5\n",
            "594225/594225 [==============================] - 1s 2us/step - loss: 0.0094 - acc: 0.8721\n",
            "Epoch 5/5\n",
            "594225/594225 [==============================] - 2s 3us/step - loss: 0.0093 - acc: 0.8724\n",
            "Epoch 1/5\n",
            " 62700/594225 [==>...........................] - ETA: 1s - loss: 0.0090 - acc: 0.8721"
          ],
          "name": "stdout"
        },
        {
          "output_type": "stream",
          "text": [
            "/usr/local/lib/python3.6/dist-packages/ipykernel_launcher.py:2: UserWarning: The `nb_epoch` argument in `fit` has been renamed `epochs`.\n",
            "  \n"
          ],
          "name": "stderr"
        },
        {
          "output_type": "stream",
          "text": [
            "594225/594225 [==============================] - 1s 3us/step - loss: 0.0092 - acc: 0.8694\n",
            "Epoch 2/5\n",
            "594225/594225 [==============================] - 2s 3us/step - loss: 0.0092 - acc: 0.8710\n",
            "Epoch 3/5\n",
            "594225/594225 [==============================] - 2s 3us/step - loss: 0.0092 - acc: 0.8701\n",
            "Epoch 4/5\n",
            "594225/594225 [==============================] - 2s 3us/step - loss: 0.0091 - acc: 0.8709\n",
            "Epoch 5/5\n",
            "594225/594225 [==============================] - 2s 3us/step - loss: 0.0090 - acc: 0.8722\n",
            "Epoch 1/5\n",
            " 60800/594225 [==>...........................] - ETA: 1s - loss: 0.0088 - acc: 0.8676"
          ],
          "name": "stdout"
        },
        {
          "output_type": "stream",
          "text": [
            "/usr/local/lib/python3.6/dist-packages/ipykernel_launcher.py:2: UserWarning: The `nb_epoch` argument in `fit` has been renamed `epochs`.\n",
            "  \n"
          ],
          "name": "stderr"
        },
        {
          "output_type": "stream",
          "text": [
            "594225/594225 [==============================] - 2s 3us/step - loss: 0.0089 - acc: 0.8727\n",
            "Epoch 2/5\n",
            "594225/594225 [==============================] - 2s 3us/step - loss: 0.0089 - acc: 0.8721\n",
            "Epoch 3/5\n",
            "594225/594225 [==============================] - 2s 3us/step - loss: 0.0088 - acc: 0.8743\n",
            "Epoch 4/5\n",
            "594225/594225 [==============================] - 2s 3us/step - loss: 0.0087 - acc: 0.8750\n",
            "Epoch 5/5\n",
            "594225/594225 [==============================] - 1s 2us/step - loss: 0.0087 - acc: 0.8730\n",
            "Epoch 1/5\n",
            " 60800/594225 [==>...........................] - ETA: 1s - loss: 0.0088 - acc: 0.8657"
          ],
          "name": "stdout"
        },
        {
          "output_type": "stream",
          "text": [
            "/usr/local/lib/python3.6/dist-packages/ipykernel_launcher.py:2: UserWarning: The `nb_epoch` argument in `fit` has been renamed `epochs`.\n",
            "  \n"
          ],
          "name": "stderr"
        },
        {
          "output_type": "stream",
          "text": [
            "594225/594225 [==============================] - 2s 3us/step - loss: 0.0087 - acc: 0.8717\n",
            "Epoch 2/5\n",
            "594225/594225 [==============================] - 1s 2us/step - loss: 0.0086 - acc: 0.8745\n",
            "Epoch 3/5\n",
            "594225/594225 [==============================] - 1s 3us/step - loss: 0.0086 - acc: 0.8727\n",
            "Epoch 4/5\n",
            "594225/594225 [==============================] - 1s 2us/step - loss: 0.0086 - acc: 0.8748\n",
            "Epoch 5/5\n",
            "594225/594225 [==============================] - 2s 3us/step - loss: 0.0085 - acc: 0.8770\n",
            "Epoch 1/5\n",
            " 62700/594225 [==>...........................] - ETA: 1s - loss: 0.0084 - acc: 0.8799"
          ],
          "name": "stdout"
        },
        {
          "output_type": "stream",
          "text": [
            "/usr/local/lib/python3.6/dist-packages/ipykernel_launcher.py:2: UserWarning: The `nb_epoch` argument in `fit` has been renamed `epochs`.\n",
            "  \n"
          ],
          "name": "stderr"
        },
        {
          "output_type": "stream",
          "text": [
            "594225/594225 [==============================] - 2s 3us/step - loss: 0.0085 - acc: 0.8757\n",
            "Epoch 2/5\n",
            "594225/594225 [==============================] - 1s 2us/step - loss: 0.0085 - acc: 0.8764\n",
            "Epoch 3/5\n",
            "594225/594225 [==============================] - 1s 2us/step - loss: 0.0084 - acc: 0.8788\n",
            "Epoch 4/5\n",
            "594225/594225 [==============================] - 1s 2us/step - loss: 0.0084 - acc: 0.8766\n",
            "Epoch 5/5\n",
            "594225/594225 [==============================] - 1s 2us/step - loss: 0.0084 - acc: 0.8772\n",
            "Epoch 1/5\n",
            " 58900/594225 [=>............................] - ETA: 1s - loss: 0.0086 - acc: 0.8721"
          ],
          "name": "stdout"
        },
        {
          "output_type": "stream",
          "text": [
            "/usr/local/lib/python3.6/dist-packages/ipykernel_launcher.py:2: UserWarning: The `nb_epoch` argument in `fit` has been renamed `epochs`.\n",
            "  \n"
          ],
          "name": "stderr"
        },
        {
          "output_type": "stream",
          "text": [
            "594225/594225 [==============================] - 1s 3us/step - loss: 0.0083 - acc: 0.8781\n",
            "Epoch 2/5\n",
            "594225/594225 [==============================] - 2s 3us/step - loss: 0.0083 - acc: 0.8781\n",
            "Epoch 3/5\n",
            "594225/594225 [==============================] - 2s 3us/step - loss: 0.0083 - acc: 0.8804\n",
            "Epoch 4/5\n",
            "594225/594225 [==============================] - 2s 3us/step - loss: 0.0083 - acc: 0.8778\n",
            "Epoch 5/5\n",
            "594225/594225 [==============================] - 1s 2us/step - loss: 0.0083 - acc: 0.8799\n",
            "Epoch 1/5\n",
            " 60800/594225 [==>...........................] - ETA: 1s - loss: 0.0082 - acc: 0.8810"
          ],
          "name": "stdout"
        },
        {
          "output_type": "stream",
          "text": [
            "/usr/local/lib/python3.6/dist-packages/ipykernel_launcher.py:2: UserWarning: The `nb_epoch` argument in `fit` has been renamed `epochs`.\n",
            "  \n"
          ],
          "name": "stderr"
        },
        {
          "output_type": "stream",
          "text": [
            "594225/594225 [==============================] - 2s 3us/step - loss: 0.0082 - acc: 0.8828\n",
            "Epoch 2/5\n",
            "594225/594225 [==============================] - 1s 3us/step - loss: 0.0082 - acc: 0.8823\n",
            "Epoch 3/5\n",
            "594225/594225 [==============================] - 1s 3us/step - loss: 0.0082 - acc: 0.8794\n",
            "Epoch 4/5\n",
            "594225/594225 [==============================] - 1s 2us/step - loss: 0.0081 - acc: 0.8805\n",
            "Epoch 5/5\n",
            "594225/594225 [==============================] - 1s 2us/step - loss: 0.0082 - acc: 0.8817\n",
            "Epoch 1/5\n",
            " 68400/594225 [==>...........................] - ETA: 1s - loss: 0.0082 - acc: 0.8844"
          ],
          "name": "stdout"
        },
        {
          "output_type": "stream",
          "text": [
            "/usr/local/lib/python3.6/dist-packages/ipykernel_launcher.py:2: UserWarning: The `nb_epoch` argument in `fit` has been renamed `epochs`.\n",
            "  \n"
          ],
          "name": "stderr"
        },
        {
          "output_type": "stream",
          "text": [
            "594225/594225 [==============================] - 1s 3us/step - loss: 0.0081 - acc: 0.8826\n",
            "Epoch 2/5\n",
            "594225/594225 [==============================] - 2s 3us/step - loss: 0.0081 - acc: 0.8819\n",
            "Epoch 3/5\n",
            "594225/594225 [==============================] - 2s 3us/step - loss: 0.0081 - acc: 0.8809\n",
            "Epoch 4/5\n",
            "594225/594225 [==============================] - 2s 3us/step - loss: 0.0081 - acc: 0.8830\n",
            "Epoch 5/5\n",
            "594225/594225 [==============================] - 1s 2us/step - loss: 0.0081 - acc: 0.8826\n",
            "Epoch 1/5\n",
            " 68400/594225 [==>...........................] - ETA: 1s - loss: 0.0081 - acc: 0.8819"
          ],
          "name": "stdout"
        },
        {
          "output_type": "stream",
          "text": [
            "/usr/local/lib/python3.6/dist-packages/ipykernel_launcher.py:2: UserWarning: The `nb_epoch` argument in `fit` has been renamed `epochs`.\n",
            "  \n"
          ],
          "name": "stderr"
        },
        {
          "output_type": "stream",
          "text": [
            "594225/594225 [==============================] - 1s 2us/step - loss: 0.0081 - acc: 0.8859\n",
            "Epoch 2/5\n",
            "594225/594225 [==============================] - 1s 2us/step - loss: 0.0081 - acc: 0.8818\n",
            "Epoch 3/5\n",
            "594225/594225 [==============================] - 2s 3us/step - loss: 0.0080 - acc: 0.8847\n",
            "Epoch 4/5\n",
            "594225/594225 [==============================] - 1s 2us/step - loss: 0.0080 - acc: 0.8870\n",
            "Epoch 5/5\n",
            "594225/594225 [==============================] - 2s 3us/step - loss: 0.0080 - acc: 0.8845\n",
            "Epoch 1/5\n",
            " 68400/594225 [==>...........................] - ETA: 1s - loss: 0.0079 - acc: 0.8850"
          ],
          "name": "stdout"
        },
        {
          "output_type": "stream",
          "text": [
            "/usr/local/lib/python3.6/dist-packages/ipykernel_launcher.py:2: UserWarning: The `nb_epoch` argument in `fit` has been renamed `epochs`.\n",
            "  \n"
          ],
          "name": "stderr"
        },
        {
          "output_type": "stream",
          "text": [
            "594225/594225 [==============================] - 1s 2us/step - loss: 0.0079 - acc: 0.8866\n",
            "Epoch 2/5\n",
            "594225/594225 [==============================] - 1s 2us/step - loss: 0.0079 - acc: 0.8866\n",
            "Epoch 3/5\n",
            "594225/594225 [==============================] - 2s 3us/step - loss: 0.0080 - acc: 0.8862\n",
            "Epoch 4/5\n",
            "594225/594225 [==============================] - 2s 3us/step - loss: 0.0079 - acc: 0.8857\n",
            "Epoch 5/5\n",
            "594225/594225 [==============================] - 1s 2us/step - loss: 0.0079 - acc: 0.8873\n",
            "Epoch 1/5\n",
            " 64600/594225 [==>...........................] - ETA: 1s - loss: 0.0079 - acc: 0.8877"
          ],
          "name": "stdout"
        },
        {
          "output_type": "stream",
          "text": [
            "/usr/local/lib/python3.6/dist-packages/ipykernel_launcher.py:2: UserWarning: The `nb_epoch` argument in `fit` has been renamed `epochs`.\n",
            "  \n"
          ],
          "name": "stderr"
        },
        {
          "output_type": "stream",
          "text": [
            "594225/594225 [==============================] - 2s 3us/step - loss: 0.0079 - acc: 0.8882\n",
            "Epoch 2/5\n",
            "594225/594225 [==============================] - 2s 3us/step - loss: 0.0079 - acc: 0.8893\n",
            "Epoch 3/5\n",
            "594225/594225 [==============================] - 2s 3us/step - loss: 0.0079 - acc: 0.8904\n",
            "Epoch 4/5\n",
            "594225/594225 [==============================] - 2s 3us/step - loss: 0.0078 - acc: 0.8881\n",
            "Epoch 5/5\n",
            "594225/594225 [==============================] - 2s 3us/step - loss: 0.0079 - acc: 0.8891\n",
            "Epoch 1/5\n",
            " 68400/594225 [==>...........................] - ETA: 1s - loss: 0.0078 - acc: 0.8852"
          ],
          "name": "stdout"
        },
        {
          "output_type": "stream",
          "text": [
            "/usr/local/lib/python3.6/dist-packages/ipykernel_launcher.py:2: UserWarning: The `nb_epoch` argument in `fit` has been renamed `epochs`.\n",
            "  \n"
          ],
          "name": "stderr"
        },
        {
          "output_type": "stream",
          "text": [
            "594225/594225 [==============================] - 1s 2us/step - loss: 0.0078 - acc: 0.8896\n",
            "Epoch 2/5\n",
            "594225/594225 [==============================] - 1s 2us/step - loss: 0.0079 - acc: 0.8890\n",
            "Epoch 3/5\n",
            "594225/594225 [==============================] - 2s 3us/step - loss: 0.0078 - acc: 0.8904\n",
            "Epoch 4/5\n",
            "594225/594225 [==============================] - 1s 3us/step - loss: 0.0078 - acc: 0.8893\n",
            "Epoch 5/5\n",
            "594225/594225 [==============================] - 2s 3us/step - loss: 0.0078 - acc: 0.8901\n",
            "Epoch 1/5\n",
            " 66500/594225 [==>...........................] - ETA: 1s - loss: 0.0079 - acc: 0.8940"
          ],
          "name": "stdout"
        },
        {
          "output_type": "stream",
          "text": [
            "/usr/local/lib/python3.6/dist-packages/ipykernel_launcher.py:2: UserWarning: The `nb_epoch` argument in `fit` has been renamed `epochs`.\n",
            "  \n"
          ],
          "name": "stderr"
        },
        {
          "output_type": "stream",
          "text": [
            "594225/594225 [==============================] - 1s 2us/step - loss: 0.0078 - acc: 0.8906\n",
            "Epoch 2/5\n",
            "594225/594225 [==============================] - 1s 2us/step - loss: 0.0078 - acc: 0.8887\n",
            "Epoch 3/5\n",
            "594225/594225 [==============================] - 2s 3us/step - loss: 0.0078 - acc: 0.8923\n",
            "Epoch 4/5\n",
            "594225/594225 [==============================] - 2s 3us/step - loss: 0.0078 - acc: 0.8904\n",
            "Epoch 5/5\n",
            "594225/594225 [==============================] - 2s 3us/step - loss: 0.0077 - acc: 0.8890\n",
            "Epoch 1/5\n",
            " 68400/594225 [==>...........................] - ETA: 1s - loss: 0.0077 - acc: 0.8918"
          ],
          "name": "stdout"
        },
        {
          "output_type": "stream",
          "text": [
            "/usr/local/lib/python3.6/dist-packages/ipykernel_launcher.py:2: UserWarning: The `nb_epoch` argument in `fit` has been renamed `epochs`.\n",
            "  \n"
          ],
          "name": "stderr"
        },
        {
          "output_type": "stream",
          "text": [
            "594225/594225 [==============================] - 1s 2us/step - loss: 0.0078 - acc: 0.8913\n",
            "Epoch 2/5\n",
            "594225/594225 [==============================] - 1s 2us/step - loss: 0.0077 - acc: 0.8922\n",
            "Epoch 3/5\n",
            "594225/594225 [==============================] - 1s 2us/step - loss: 0.0077 - acc: 0.8918\n",
            "Epoch 4/5\n",
            "594225/594225 [==============================] - 1s 2us/step - loss: 0.0077 - acc: 0.8925\n",
            "Epoch 5/5\n",
            "594225/594225 [==============================] - 2s 3us/step - loss: 0.0078 - acc: 0.8943\n",
            "Epoch 1/5\n",
            " 62700/594225 [==>...........................] - ETA: 1s - loss: 0.0079 - acc: 0.8915"
          ],
          "name": "stdout"
        },
        {
          "output_type": "stream",
          "text": [
            "/usr/local/lib/python3.6/dist-packages/ipykernel_launcher.py:2: UserWarning: The `nb_epoch` argument in `fit` has been renamed `epochs`.\n",
            "  \n"
          ],
          "name": "stderr"
        },
        {
          "output_type": "stream",
          "text": [
            "594225/594225 [==============================] - 1s 2us/step - loss: 0.0077 - acc: 0.8914\n",
            "Epoch 2/5\n",
            "594225/594225 [==============================] - 2s 3us/step - loss: 0.0077 - acc: 0.8948\n",
            "Epoch 3/5\n",
            "594225/594225 [==============================] - 1s 3us/step - loss: 0.0077 - acc: 0.8946\n",
            "Epoch 4/5\n",
            "594225/594225 [==============================] - 1s 3us/step - loss: 0.0077 - acc: 0.8955\n",
            "Epoch 5/5\n",
            "594225/594225 [==============================] - 2s 3us/step - loss: 0.0076 - acc: 0.8940\n",
            "Epoch 1/5\n",
            " 62700/594225 [==>...........................] - ETA: 1s - loss: 0.0076 - acc: 0.8965"
          ],
          "name": "stdout"
        },
        {
          "output_type": "stream",
          "text": [
            "/usr/local/lib/python3.6/dist-packages/ipykernel_launcher.py:2: UserWarning: The `nb_epoch` argument in `fit` has been renamed `epochs`.\n",
            "  \n"
          ],
          "name": "stderr"
        },
        {
          "output_type": "stream",
          "text": [
            "594225/594225 [==============================] - 1s 2us/step - loss: 0.0076 - acc: 0.8955\n",
            "Epoch 2/5\n",
            "594225/594225 [==============================] - 1s 2us/step - loss: 0.0077 - acc: 0.8926\n",
            "Epoch 3/5\n",
            "594225/594225 [==============================] - 2s 3us/step - loss: 0.0076 - acc: 0.8929\n",
            "Epoch 4/5\n",
            "594225/594225 [==============================] - 1s 2us/step - loss: 0.0076 - acc: 0.8944\n",
            "Epoch 5/5\n",
            "594225/594225 [==============================] - 2s 3us/step - loss: 0.0076 - acc: 0.8949\n",
            "Epoch 1/5\n",
            " 66500/594225 [==>...........................] - ETA: 1s - loss: 0.0077 - acc: 0.8937"
          ],
          "name": "stdout"
        },
        {
          "output_type": "stream",
          "text": [
            "/usr/local/lib/python3.6/dist-packages/ipykernel_launcher.py:2: UserWarning: The `nb_epoch` argument in `fit` has been renamed `epochs`.\n",
            "  \n"
          ],
          "name": "stderr"
        },
        {
          "output_type": "stream",
          "text": [
            "594225/594225 [==============================] - 1s 3us/step - loss: 0.0076 - acc: 0.8955\n",
            "Epoch 2/5\n",
            "594225/594225 [==============================] - 2s 3us/step - loss: 0.0076 - acc: 0.8948\n",
            "Epoch 3/5\n",
            "594225/594225 [==============================] - 1s 3us/step - loss: 0.0076 - acc: 0.8938\n",
            "Epoch 4/5\n",
            "594225/594225 [==============================] - 2s 3us/step - loss: 0.0076 - acc: 0.8969\n",
            "Epoch 5/5\n",
            "594225/594225 [==============================] - 1s 3us/step - loss: 0.0076 - acc: 0.8938\n",
            "Epoch 1/5\n",
            " 64600/594225 [==>...........................] - ETA: 1s - loss: 0.0074 - acc: 0.8965"
          ],
          "name": "stdout"
        },
        {
          "output_type": "stream",
          "text": [
            "/usr/local/lib/python3.6/dist-packages/ipykernel_launcher.py:2: UserWarning: The `nb_epoch` argument in `fit` has been renamed `epochs`.\n",
            "  \n"
          ],
          "name": "stderr"
        },
        {
          "output_type": "stream",
          "text": [
            "594225/594225 [==============================] - 2s 3us/step - loss: 0.0075 - acc: 0.8939\n",
            "Epoch 2/5\n",
            "594225/594225 [==============================] - 2s 3us/step - loss: 0.0075 - acc: 0.8956\n",
            "Epoch 3/5\n",
            "594225/594225 [==============================] - 2s 3us/step - loss: 0.0076 - acc: 0.8960\n",
            "Epoch 4/5\n",
            "594225/594225 [==============================] - 2s 3us/step - loss: 0.0075 - acc: 0.8964\n",
            "Epoch 5/5\n",
            "594225/594225 [==============================] - 2s 3us/step - loss: 0.0075 - acc: 0.8989\n",
            "Epoch 1/5\n",
            " 62700/594225 [==>...........................] - ETA: 1s - loss: 0.0075 - acc: 0.8980"
          ],
          "name": "stdout"
        },
        {
          "output_type": "stream",
          "text": [
            "/usr/local/lib/python3.6/dist-packages/ipykernel_launcher.py:2: UserWarning: The `nb_epoch` argument in `fit` has been renamed `epochs`.\n",
            "  \n"
          ],
          "name": "stderr"
        },
        {
          "output_type": "stream",
          "text": [
            "594225/594225 [==============================] - 1s 2us/step - loss: 0.0075 - acc: 0.8959\n",
            "Epoch 2/5\n",
            "594225/594225 [==============================] - 1s 2us/step - loss: 0.0075 - acc: 0.8963\n",
            "Epoch 3/5\n",
            "594225/594225 [==============================] - 1s 2us/step - loss: 0.0075 - acc: 0.8935\n",
            "Epoch 4/5\n",
            "594225/594225 [==============================] - 2s 3us/step - loss: 0.0075 - acc: 0.8960\n",
            "Epoch 5/5\n",
            "594225/594225 [==============================] - 2s 3us/step - loss: 0.0074 - acc: 0.8991\n",
            "Epoch 1/5\n",
            " 66500/594225 [==>...........................] - ETA: 1s - loss: 0.0075 - acc: 0.8929"
          ],
          "name": "stdout"
        },
        {
          "output_type": "stream",
          "text": [
            "/usr/local/lib/python3.6/dist-packages/ipykernel_launcher.py:2: UserWarning: The `nb_epoch` argument in `fit` has been renamed `epochs`.\n",
            "  \n"
          ],
          "name": "stderr"
        },
        {
          "output_type": "stream",
          "text": [
            "594225/594225 [==============================] - 1s 2us/step - loss: 0.0075 - acc: 0.8959\n",
            "Epoch 2/5\n",
            "594225/594225 [==============================] - 1s 2us/step - loss: 0.0074 - acc: 0.8954\n",
            "Epoch 3/5\n",
            "594225/594225 [==============================] - 1s 2us/step - loss: 0.0075 - acc: 0.8992\n",
            "Epoch 4/5\n",
            "594225/594225 [==============================] - 2s 3us/step - loss: 0.0074 - acc: 0.8984\n",
            "Epoch 5/5\n",
            "594225/594225 [==============================] - 1s 3us/step - loss: 0.0075 - acc: 0.8955\n",
            "Epoch 1/5\n",
            " 64600/594225 [==>...........................] - ETA: 1s - loss: 0.0076 - acc: 0.9002"
          ],
          "name": "stdout"
        },
        {
          "output_type": "stream",
          "text": [
            "/usr/local/lib/python3.6/dist-packages/ipykernel_launcher.py:2: UserWarning: The `nb_epoch` argument in `fit` has been renamed `epochs`.\n",
            "  \n"
          ],
          "name": "stderr"
        },
        {
          "output_type": "stream",
          "text": [
            "594225/594225 [==============================] - 1s 2us/step - loss: 0.0074 - acc: 0.8993\n",
            "Epoch 2/5\n",
            "594225/594225 [==============================] - 2s 3us/step - loss: 0.0074 - acc: 0.8970\n",
            "Epoch 3/5\n",
            "594225/594225 [==============================] - 1s 2us/step - loss: 0.0074 - acc: 0.8985\n",
            "Epoch 4/5\n",
            "594225/594225 [==============================] - 1s 3us/step - loss: 0.0074 - acc: 0.8994\n",
            "Epoch 5/5\n",
            "594225/594225 [==============================] - 2s 3us/step - loss: 0.0075 - acc: 0.8936\n",
            "Epoch 1/5\n",
            " 64600/594225 [==>...........................] - ETA: 1s - loss: 0.0074 - acc: 0.8926"
          ],
          "name": "stdout"
        },
        {
          "output_type": "stream",
          "text": [
            "/usr/local/lib/python3.6/dist-packages/ipykernel_launcher.py:2: UserWarning: The `nb_epoch` argument in `fit` has been renamed `epochs`.\n",
            "  \n"
          ],
          "name": "stderr"
        },
        {
          "output_type": "stream",
          "text": [
            "594225/594225 [==============================] - 2s 3us/step - loss: 0.0074 - acc: 0.8965\n",
            "Epoch 2/5\n",
            "594225/594225 [==============================] - 1s 3us/step - loss: 0.0074 - acc: 0.8971\n",
            "Epoch 3/5\n",
            "594225/594225 [==============================] - 2s 3us/step - loss: 0.0074 - acc: 0.8954\n",
            "Epoch 4/5\n",
            "594225/594225 [==============================] - 2s 3us/step - loss: 0.0074 - acc: 0.8992\n",
            "Epoch 5/5\n",
            "594225/594225 [==============================] - 1s 2us/step - loss: 0.0074 - acc: 0.8987\n",
            "Epoch 1/5\n",
            " 58900/594225 [=>............................] - ETA: 1s - loss: 0.0075 - acc: 0.8952"
          ],
          "name": "stdout"
        },
        {
          "output_type": "stream",
          "text": [
            "/usr/local/lib/python3.6/dist-packages/ipykernel_launcher.py:2: UserWarning: The `nb_epoch` argument in `fit` has been renamed `epochs`.\n",
            "  \n"
          ],
          "name": "stderr"
        },
        {
          "output_type": "stream",
          "text": [
            "594225/594225 [==============================] - 1s 2us/step - loss: 0.0074 - acc: 0.8976\n",
            "Epoch 2/5\n",
            "594225/594225 [==============================] - 1s 2us/step - loss: 0.0073 - acc: 0.8996\n",
            "Epoch 3/5\n",
            "594225/594225 [==============================] - 2s 3us/step - loss: 0.0074 - acc: 0.8980\n",
            "Epoch 4/5\n",
            "594225/594225 [==============================] - 2s 3us/step - loss: 0.0073 - acc: 0.8970\n",
            "Epoch 5/5\n",
            "594225/594225 [==============================] - 1s 2us/step - loss: 0.0073 - acc: 0.8990\n",
            "Epoch 1/5\n",
            " 64600/594225 [==>...........................] - ETA: 1s - loss: 0.0075 - acc: 0.8981"
          ],
          "name": "stdout"
        },
        {
          "output_type": "stream",
          "text": [
            "/usr/local/lib/python3.6/dist-packages/ipykernel_launcher.py:2: UserWarning: The `nb_epoch` argument in `fit` has been renamed `epochs`.\n",
            "  \n"
          ],
          "name": "stderr"
        },
        {
          "output_type": "stream",
          "text": [
            "594225/594225 [==============================] - 2s 3us/step - loss: 0.0074 - acc: 0.8982\n",
            "Epoch 2/5\n",
            "594225/594225 [==============================] - 1s 2us/step - loss: 0.0074 - acc: 0.8987\n",
            "Epoch 3/5\n",
            "594225/594225 [==============================] - 1s 2us/step - loss: 0.0074 - acc: 0.9004\n",
            "Epoch 4/5\n",
            "594225/594225 [==============================] - 1s 2us/step - loss: 0.0074 - acc: 0.8990\n",
            "Epoch 5/5\n",
            "594225/594225 [==============================] - 1s 2us/step - loss: 0.0074 - acc: 0.8973\n",
            "Epoch 1/5\n",
            " 68400/594225 [==>...........................] - ETA: 1s - loss: 0.0072 - acc: 0.8999"
          ],
          "name": "stdout"
        },
        {
          "output_type": "stream",
          "text": [
            "/usr/local/lib/python3.6/dist-packages/ipykernel_launcher.py:2: UserWarning: The `nb_epoch` argument in `fit` has been renamed `epochs`.\n",
            "  \n"
          ],
          "name": "stderr"
        },
        {
          "output_type": "stream",
          "text": [
            "594225/594225 [==============================] - 2s 3us/step - loss: 0.0073 - acc: 0.8975\n",
            "Epoch 2/5\n",
            "594225/594225 [==============================] - 1s 3us/step - loss: 0.0074 - acc: 0.8992\n",
            "Epoch 3/5\n",
            "594225/594225 [==============================] - 1s 3us/step - loss: 0.0074 - acc: 0.8969\n",
            "Epoch 4/5\n",
            "594225/594225 [==============================] - 2s 3us/step - loss: 0.0073 - acc: 0.8995\n",
            "Epoch 5/5\n",
            "594225/594225 [==============================] - 2s 3us/step - loss: 0.0073 - acc: 0.9019\n",
            "Epoch 1/5\n",
            " 62700/594225 [==>...........................] - ETA: 1s - loss: 0.0073 - acc: 0.8992"
          ],
          "name": "stdout"
        },
        {
          "output_type": "stream",
          "text": [
            "/usr/local/lib/python3.6/dist-packages/ipykernel_launcher.py:2: UserWarning: The `nb_epoch` argument in `fit` has been renamed `epochs`.\n",
            "  \n"
          ],
          "name": "stderr"
        },
        {
          "output_type": "stream",
          "text": [
            "594225/594225 [==============================] - 2s 3us/step - loss: 0.0073 - acc: 0.8984\n",
            "Epoch 2/5\n",
            "594225/594225 [==============================] - 2s 3us/step - loss: 0.0073 - acc: 0.9011\n",
            "Epoch 3/5\n",
            "594225/594225 [==============================] - 2s 3us/step - loss: 0.0073 - acc: 0.9014\n",
            "Epoch 4/5\n",
            "594225/594225 [==============================] - 1s 2us/step - loss: 0.0073 - acc: 0.9009\n",
            "Epoch 5/5\n",
            "594225/594225 [==============================] - 2s 3us/step - loss: 0.0073 - acc: 0.9024\n",
            "Epoch 1/5\n",
            " 66500/594225 [==>...........................] - ETA: 1s - loss: 0.0075 - acc: 0.8951"
          ],
          "name": "stdout"
        },
        {
          "output_type": "stream",
          "text": [
            "/usr/local/lib/python3.6/dist-packages/ipykernel_launcher.py:2: UserWarning: The `nb_epoch` argument in `fit` has been renamed `epochs`.\n",
            "  \n"
          ],
          "name": "stderr"
        },
        {
          "output_type": "stream",
          "text": [
            "594225/594225 [==============================] - 1s 2us/step - loss: 0.0074 - acc: 0.9031\n",
            "Epoch 2/5\n",
            "594225/594225 [==============================] - 1s 2us/step - loss: 0.0073 - acc: 0.9010\n",
            "Epoch 3/5\n",
            "594225/594225 [==============================] - 2s 3us/step - loss: 0.0073 - acc: 0.8988\n",
            "Epoch 4/5\n",
            "594225/594225 [==============================] - 2s 3us/step - loss: 0.0073 - acc: 0.8995\n",
            "Epoch 5/5\n",
            "594225/594225 [==============================] - 2s 3us/step - loss: 0.0072 - acc: 0.9024\n",
            "Epoch 1/5\n",
            " 66500/594225 [==>...........................] - ETA: 1s - loss: 0.0073 - acc: 0.8988"
          ],
          "name": "stdout"
        },
        {
          "output_type": "stream",
          "text": [
            "/usr/local/lib/python3.6/dist-packages/ipykernel_launcher.py:2: UserWarning: The `nb_epoch` argument in `fit` has been renamed `epochs`.\n",
            "  \n"
          ],
          "name": "stderr"
        },
        {
          "output_type": "stream",
          "text": [
            "594225/594225 [==============================] - 1s 3us/step - loss: 0.0072 - acc: 0.9018\n",
            "Epoch 2/5\n",
            "594225/594225 [==============================] - 2s 3us/step - loss: 0.0072 - acc: 0.9036\n",
            "Epoch 3/5\n",
            "594225/594225 [==============================] - 2s 3us/step - loss: 0.0072 - acc: 0.9043\n",
            "Epoch 4/5\n",
            "594225/594225 [==============================] - 2s 3us/step - loss: 0.0073 - acc: 0.8991\n",
            "Epoch 5/5\n",
            "594225/594225 [==============================] - 2s 3us/step - loss: 0.0073 - acc: 0.9021\n",
            "Epoch 1/5\n",
            " 64600/594225 [==>...........................] - ETA: 1s - loss: 0.0074 - acc: 0.9018"
          ],
          "name": "stdout"
        },
        {
          "output_type": "stream",
          "text": [
            "/usr/local/lib/python3.6/dist-packages/ipykernel_launcher.py:2: UserWarning: The `nb_epoch` argument in `fit` has been renamed `epochs`.\n",
            "  \n"
          ],
          "name": "stderr"
        },
        {
          "output_type": "stream",
          "text": [
            "594225/594225 [==============================] - 1s 2us/step - loss: 0.0073 - acc: 0.9026\n",
            "Epoch 2/5\n",
            "594225/594225 [==============================] - 1s 2us/step - loss: 0.0073 - acc: 0.9033\n",
            "Epoch 3/5\n",
            "594225/594225 [==============================] - 1s 2us/step - loss: 0.0072 - acc: 0.9054\n",
            "Epoch 4/5\n",
            "594225/594225 [==============================] - 1s 2us/step - loss: 0.0072 - acc: 0.9019\n",
            "Epoch 5/5\n",
            "594225/594225 [==============================] - 1s 3us/step - loss: 0.0072 - acc: 0.9023\n",
            "Epoch 1/5\n",
            " 64600/594225 [==>...........................] - ETA: 1s - loss: 0.0073 - acc: 0.8977"
          ],
          "name": "stdout"
        },
        {
          "output_type": "stream",
          "text": [
            "/usr/local/lib/python3.6/dist-packages/ipykernel_launcher.py:2: UserWarning: The `nb_epoch` argument in `fit` has been renamed `epochs`.\n",
            "  \n"
          ],
          "name": "stderr"
        },
        {
          "output_type": "stream",
          "text": [
            "594225/594225 [==============================] - 1s 3us/step - loss: 0.0072 - acc: 0.9034\n",
            "Epoch 2/5\n",
            "594225/594225 [==============================] - 1s 2us/step - loss: 0.0072 - acc: 0.9042\n",
            "Epoch 3/5\n",
            "594225/594225 [==============================] - 1s 2us/step - loss: 0.0073 - acc: 0.9049\n",
            "Epoch 4/5\n",
            "594225/594225 [==============================] - 2s 3us/step - loss: 0.0073 - acc: 0.9025\n",
            "Epoch 5/5\n",
            "594225/594225 [==============================] - 1s 2us/step - loss: 0.0072 - acc: 0.9031\n",
            "Epoch 1/5\n",
            " 64600/594225 [==>...........................] - ETA: 1s - loss: 0.0074 - acc: 0.9002"
          ],
          "name": "stdout"
        },
        {
          "output_type": "stream",
          "text": [
            "/usr/local/lib/python3.6/dist-packages/ipykernel_launcher.py:2: UserWarning: The `nb_epoch` argument in `fit` has been renamed `epochs`.\n",
            "  \n"
          ],
          "name": "stderr"
        },
        {
          "output_type": "stream",
          "text": [
            "594225/594225 [==============================] - 2s 3us/step - loss: 0.0072 - acc: 0.9028\n",
            "Epoch 2/5\n",
            "594225/594225 [==============================] - 2s 3us/step - loss: 0.0072 - acc: 0.9037\n",
            "Epoch 3/5\n",
            "594225/594225 [==============================] - 1s 3us/step - loss: 0.0072 - acc: 0.9025\n",
            "Epoch 4/5\n",
            "594225/594225 [==============================] - 1s 2us/step - loss: 0.0072 - acc: 0.8999\n",
            "Epoch 5/5\n",
            "594225/594225 [==============================] - 2s 3us/step - loss: 0.0072 - acc: 0.9018\n",
            "Epoch 1/5\n",
            " 66500/594225 [==>...........................] - ETA: 1s - loss: 0.0072 - acc: 0.8992"
          ],
          "name": "stdout"
        },
        {
          "output_type": "stream",
          "text": [
            "/usr/local/lib/python3.6/dist-packages/ipykernel_launcher.py:2: UserWarning: The `nb_epoch` argument in `fit` has been renamed `epochs`.\n",
            "  \n"
          ],
          "name": "stderr"
        },
        {
          "output_type": "stream",
          "text": [
            "594225/594225 [==============================] - 2s 3us/step - loss: 0.0072 - acc: 0.9021\n",
            "Epoch 2/5\n",
            "594225/594225 [==============================] - 2s 3us/step - loss: 0.0072 - acc: 0.9020\n",
            "Epoch 3/5\n",
            "594225/594225 [==============================] - 2s 3us/step - loss: 0.0072 - acc: 0.9049\n",
            "Epoch 4/5\n",
            "594225/594225 [==============================] - 2s 3us/step - loss: 0.0072 - acc: 0.9052\n",
            "Epoch 5/5\n",
            "594225/594225 [==============================] - 2s 3us/step - loss: 0.0073 - acc: 0.9043\n",
            "Epoch 1/5\n",
            " 62700/594225 [==>...........................] - ETA: 1s - loss: 0.0070 - acc: 0.8999"
          ],
          "name": "stdout"
        },
        {
          "output_type": "stream",
          "text": [
            "/usr/local/lib/python3.6/dist-packages/ipykernel_launcher.py:2: UserWarning: The `nb_epoch` argument in `fit` has been renamed `epochs`.\n",
            "  \n"
          ],
          "name": "stderr"
        },
        {
          "output_type": "stream",
          "text": [
            "594225/594225 [==============================] - 1s 2us/step - loss: 0.0072 - acc: 0.9054\n",
            "Epoch 2/5\n",
            "594225/594225 [==============================] - 2s 3us/step - loss: 0.0072 - acc: 0.9049\n",
            "Epoch 3/5\n",
            "594225/594225 [==============================] - 1s 2us/step - loss: 0.0072 - acc: 0.9069\n",
            "Epoch 4/5\n",
            "594225/594225 [==============================] - 2s 3us/step - loss: 0.0072 - acc: 0.9054\n",
            "Epoch 5/5\n",
            "594225/594225 [==============================] - 1s 3us/step - loss: 0.0072 - acc: 0.9063\n",
            "Epoch 1/5\n",
            " 62700/594225 [==>...........................] - ETA: 1s - loss: 0.0071 - acc: 0.9126"
          ],
          "name": "stdout"
        },
        {
          "output_type": "stream",
          "text": [
            "/usr/local/lib/python3.6/dist-packages/ipykernel_launcher.py:2: UserWarning: The `nb_epoch` argument in `fit` has been renamed `epochs`.\n",
            "  \n"
          ],
          "name": "stderr"
        },
        {
          "output_type": "stream",
          "text": [
            "594225/594225 [==============================] - 2s 3us/step - loss: 0.0072 - acc: 0.9076\n",
            "Epoch 2/5\n",
            "594225/594225 [==============================] - 2s 3us/step - loss: 0.0071 - acc: 0.9048\n",
            "Epoch 3/5\n",
            "594225/594225 [==============================] - 1s 2us/step - loss: 0.0072 - acc: 0.9052\n",
            "Epoch 4/5\n",
            "594225/594225 [==============================] - 2s 3us/step - loss: 0.0072 - acc: 0.9074\n",
            "Epoch 5/5\n",
            "594225/594225 [==============================] - 1s 3us/step - loss: 0.0072 - acc: 0.9059\n",
            "Epoch 1/5\n",
            " 66500/594225 [==>...........................] - ETA: 1s - loss: 0.0071 - acc: 0.9104"
          ],
          "name": "stdout"
        },
        {
          "output_type": "stream",
          "text": [
            "/usr/local/lib/python3.6/dist-packages/ipykernel_launcher.py:2: UserWarning: The `nb_epoch` argument in `fit` has been renamed `epochs`.\n",
            "  \n"
          ],
          "name": "stderr"
        },
        {
          "output_type": "stream",
          "text": [
            "594225/594225 [==============================] - 2s 3us/step - loss: 0.0071 - acc: 0.9089\n",
            "Epoch 2/5\n",
            "594225/594225 [==============================] - 1s 3us/step - loss: 0.0072 - acc: 0.9066\n",
            "Epoch 3/5\n",
            "594225/594225 [==============================] - 2s 3us/step - loss: 0.0072 - acc: 0.9081\n",
            "Epoch 4/5\n",
            "594225/594225 [==============================] - 1s 2us/step - loss: 0.0071 - acc: 0.9068\n",
            "Epoch 5/5\n",
            "594225/594225 [==============================] - 1s 3us/step - loss: 0.0072 - acc: 0.9049\n",
            "Epoch 1/5\n",
            " 58900/594225 [=>............................] - ETA: 1s - loss: 0.0072 - acc: 0.9072"
          ],
          "name": "stdout"
        },
        {
          "output_type": "stream",
          "text": [
            "/usr/local/lib/python3.6/dist-packages/ipykernel_launcher.py:2: UserWarning: The `nb_epoch` argument in `fit` has been renamed `epochs`.\n",
            "  \n"
          ],
          "name": "stderr"
        },
        {
          "output_type": "stream",
          "text": [
            "594225/594225 [==============================] - 2s 3us/step - loss: 0.0071 - acc: 0.9067\n",
            "Epoch 2/5\n",
            "594225/594225 [==============================] - 2s 3us/step - loss: 0.0071 - acc: 0.9088\n",
            "Epoch 3/5\n",
            "594225/594225 [==============================] - 2s 3us/step - loss: 0.0072 - acc: 0.9066\n",
            "Epoch 4/5\n",
            "594225/594225 [==============================] - 1s 3us/step - loss: 0.0072 - acc: 0.9055\n",
            "Epoch 5/5\n",
            "594225/594225 [==============================] - 2s 3us/step - loss: 0.0071 - acc: 0.9057\n",
            "Epoch 1/5\n",
            " 60800/594225 [==>...........................] - ETA: 1s - loss: 0.0072 - acc: 0.9147"
          ],
          "name": "stdout"
        },
        {
          "output_type": "stream",
          "text": [
            "/usr/local/lib/python3.6/dist-packages/ipykernel_launcher.py:2: UserWarning: The `nb_epoch` argument in `fit` has been renamed `epochs`.\n",
            "  \n"
          ],
          "name": "stderr"
        },
        {
          "output_type": "stream",
          "text": [
            "594225/594225 [==============================] - 1s 2us/step - loss: 0.0071 - acc: 0.9068\n",
            "Epoch 2/5\n",
            "594225/594225 [==============================] - 2s 3us/step - loss: 0.0072 - acc: 0.9039\n",
            "Epoch 3/5\n",
            "594225/594225 [==============================] - 2s 3us/step - loss: 0.0072 - acc: 0.9091\n",
            "Epoch 4/5\n",
            "594225/594225 [==============================] - 2s 3us/step - loss: 0.0071 - acc: 0.9076\n",
            "Epoch 5/5\n",
            "594225/594225 [==============================] - 2s 3us/step - loss: 0.0071 - acc: 0.9071\n",
            "Epoch 1/5\n",
            " 60800/594225 [==>...........................] - ETA: 1s - loss: 0.0071 - acc: 0.8987"
          ],
          "name": "stdout"
        },
        {
          "output_type": "stream",
          "text": [
            "/usr/local/lib/python3.6/dist-packages/ipykernel_launcher.py:2: UserWarning: The `nb_epoch` argument in `fit` has been renamed `epochs`.\n",
            "  \n"
          ],
          "name": "stderr"
        },
        {
          "output_type": "stream",
          "text": [
            "594225/594225 [==============================] - 2s 3us/step - loss: 0.0071 - acc: 0.9058\n",
            "Epoch 2/5\n",
            "594225/594225 [==============================] - 2s 3us/step - loss: 0.0071 - acc: 0.9070\n",
            "Epoch 3/5\n",
            "594225/594225 [==============================] - 2s 3us/step - loss: 0.0071 - acc: 0.9054\n",
            "Epoch 4/5\n",
            "594225/594225 [==============================] - 2s 3us/step - loss: 0.0071 - acc: 0.9097\n",
            "Epoch 5/5\n",
            "594225/594225 [==============================] - 2s 3us/step - loss: 0.0071 - acc: 0.9080\n",
            "Epoch 1/5\n",
            " 60800/594225 [==>...........................] - ETA: 1s - loss: 0.0072 - acc: 0.9126"
          ],
          "name": "stdout"
        },
        {
          "output_type": "stream",
          "text": [
            "/usr/local/lib/python3.6/dist-packages/ipykernel_launcher.py:2: UserWarning: The `nb_epoch` argument in `fit` has been renamed `epochs`.\n",
            "  \n"
          ],
          "name": "stderr"
        },
        {
          "output_type": "stream",
          "text": [
            "594225/594225 [==============================] - 1s 2us/step - loss: 0.0071 - acc: 0.9056\n",
            "Epoch 2/5\n",
            "594225/594225 [==============================] - 2s 3us/step - loss: 0.0071 - acc: 0.9052\n",
            "Epoch 3/5\n",
            "594225/594225 [==============================] - 1s 2us/step - loss: 0.0071 - acc: 0.9060\n",
            "Epoch 4/5\n",
            "594225/594225 [==============================] - 2s 3us/step - loss: 0.0071 - acc: 0.9076\n",
            "Epoch 5/5\n",
            "594225/594225 [==============================] - 1s 2us/step - loss: 0.0071 - acc: 0.9036\n",
            "Epoch 1/5\n",
            " 66500/594225 [==>...........................] - ETA: 1s - loss: 0.0071 - acc: 0.8925"
          ],
          "name": "stdout"
        },
        {
          "output_type": "stream",
          "text": [
            "/usr/local/lib/python3.6/dist-packages/ipykernel_launcher.py:2: UserWarning: The `nb_epoch` argument in `fit` has been renamed `epochs`.\n",
            "  \n"
          ],
          "name": "stderr"
        },
        {
          "output_type": "stream",
          "text": [
            "594225/594225 [==============================] - 2s 3us/step - loss: 0.0071 - acc: 0.9040\n",
            "Epoch 2/5\n",
            "594225/594225 [==============================] - 2s 3us/step - loss: 0.0071 - acc: 0.9057\n",
            "Epoch 3/5\n",
            "594225/594225 [==============================] - 1s 3us/step - loss: 0.0071 - acc: 0.9094\n",
            "Epoch 4/5\n",
            "594225/594225 [==============================] - 1s 2us/step - loss: 0.0071 - acc: 0.9066\n",
            "Epoch 5/5\n",
            "594225/594225 [==============================] - 2s 3us/step - loss: 0.0071 - acc: 0.9042\n",
            "Epoch 1/5\n",
            " 60800/594225 [==>...........................] - ETA: 1s - loss: 0.0070 - acc: 0.9054"
          ],
          "name": "stdout"
        },
        {
          "output_type": "stream",
          "text": [
            "/usr/local/lib/python3.6/dist-packages/ipykernel_launcher.py:2: UserWarning: The `nb_epoch` argument in `fit` has been renamed `epochs`.\n",
            "  \n"
          ],
          "name": "stderr"
        },
        {
          "output_type": "stream",
          "text": [
            "594225/594225 [==============================] - 2s 3us/step - loss: 0.0070 - acc: 0.9049\n",
            "Epoch 2/5\n",
            "594225/594225 [==============================] - 1s 2us/step - loss: 0.0070 - acc: 0.9048\n",
            "Epoch 3/5\n",
            "594225/594225 [==============================] - 1s 2us/step - loss: 0.0070 - acc: 0.9043\n",
            "Epoch 4/5\n",
            "594225/594225 [==============================] - 2s 3us/step - loss: 0.0071 - acc: 0.9033\n",
            "Epoch 5/5\n",
            "594225/594225 [==============================] - 2s 3us/step - loss: 0.0071 - acc: 0.9055\n",
            "Epoch 1/5\n",
            " 60800/594225 [==>...........................] - ETA: 1s - loss: 0.0069 - acc: 0.9075"
          ],
          "name": "stdout"
        },
        {
          "output_type": "stream",
          "text": [
            "/usr/local/lib/python3.6/dist-packages/ipykernel_launcher.py:2: UserWarning: The `nb_epoch` argument in `fit` has been renamed `epochs`.\n",
            "  \n"
          ],
          "name": "stderr"
        },
        {
          "output_type": "stream",
          "text": [
            "594225/594225 [==============================] - 2s 3us/step - loss: 0.0070 - acc: 0.9080\n",
            "Epoch 2/5\n",
            "594225/594225 [==============================] - 2s 3us/step - loss: 0.0070 - acc: 0.9068\n",
            "Epoch 3/5\n",
            "594225/594225 [==============================] - 2s 3us/step - loss: 0.0071 - acc: 0.9048\n",
            "Epoch 4/5\n",
            "594225/594225 [==============================] - 2s 3us/step - loss: 0.0070 - acc: 0.9062\n",
            "Epoch 5/5\n",
            "594225/594225 [==============================] - 2s 3us/step - loss: 0.0071 - acc: 0.9068\n",
            "Epoch 1/5\n",
            " 68400/594225 [==>...........................] - ETA: 1s - loss: 0.0072 - acc: 0.9049"
          ],
          "name": "stdout"
        },
        {
          "output_type": "stream",
          "text": [
            "/usr/local/lib/python3.6/dist-packages/ipykernel_launcher.py:2: UserWarning: The `nb_epoch` argument in `fit` has been renamed `epochs`.\n",
            "  \n"
          ],
          "name": "stderr"
        },
        {
          "output_type": "stream",
          "text": [
            "594225/594225 [==============================] - 1s 2us/step - loss: 0.0070 - acc: 0.9064\n",
            "Epoch 2/5\n",
            "594225/594225 [==============================] - 1s 2us/step - loss: 0.0070 - acc: 0.9073\n",
            "Epoch 3/5\n",
            "594225/594225 [==============================] - 2s 3us/step - loss: 0.0071 - acc: 0.9052\n",
            "Epoch 4/5\n",
            "594225/594225 [==============================] - 1s 2us/step - loss: 0.0070 - acc: 0.9087\n",
            "Epoch 5/5\n",
            "594225/594225 [==============================] - 2s 3us/step - loss: 0.0071 - acc: 0.9050\n",
            "Epoch 1/5\n",
            " 64600/594225 [==>...........................] - ETA: 1s - loss: 0.0069 - acc: 0.9078"
          ],
          "name": "stdout"
        },
        {
          "output_type": "stream",
          "text": [
            "/usr/local/lib/python3.6/dist-packages/ipykernel_launcher.py:2: UserWarning: The `nb_epoch` argument in `fit` has been renamed `epochs`.\n",
            "  \n"
          ],
          "name": "stderr"
        },
        {
          "output_type": "stream",
          "text": [
            "594225/594225 [==============================] - 2s 3us/step - loss: 0.0070 - acc: 0.9071\n",
            "Epoch 2/5\n",
            "594225/594225 [==============================] - 2s 3us/step - loss: 0.0070 - acc: 0.9058\n",
            "Epoch 3/5\n",
            "594225/594225 [==============================] - 2s 3us/step - loss: 0.0070 - acc: 0.9078\n",
            "Epoch 4/5\n",
            "594225/594225 [==============================] - 2s 3us/step - loss: 0.0070 - acc: 0.9062\n",
            "Epoch 5/5\n",
            "594225/594225 [==============================] - 1s 3us/step - loss: 0.0070 - acc: 0.9078\n",
            "Epoch 1/5\n",
            " 64600/594225 [==>...........................] - ETA: 1s - loss: 0.0072 - acc: 0.9111"
          ],
          "name": "stdout"
        },
        {
          "output_type": "stream",
          "text": [
            "/usr/local/lib/python3.6/dist-packages/ipykernel_launcher.py:2: UserWarning: The `nb_epoch` argument in `fit` has been renamed `epochs`.\n",
            "  \n"
          ],
          "name": "stderr"
        },
        {
          "output_type": "stream",
          "text": [
            "594225/594225 [==============================] - 1s 3us/step - loss: 0.0070 - acc: 0.9085\n",
            "Epoch 2/5\n",
            "594225/594225 [==============================] - 2s 3us/step - loss: 0.0070 - acc: 0.9084\n",
            "Epoch 3/5\n",
            "594225/594225 [==============================] - 2s 3us/step - loss: 0.0070 - acc: 0.9064\n",
            "Epoch 4/5\n",
            "594225/594225 [==============================] - 2s 3us/step - loss: 0.0070 - acc: 0.9096\n",
            "Epoch 5/5\n",
            "594225/594225 [==============================] - 2s 3us/step - loss: 0.0070 - acc: 0.9057\n",
            "Epoch 1/5\n",
            " 60800/594225 [==>...........................] - ETA: 1s - loss: 0.0072 - acc: 0.8962"
          ],
          "name": "stdout"
        },
        {
          "output_type": "stream",
          "text": [
            "/usr/local/lib/python3.6/dist-packages/ipykernel_launcher.py:2: UserWarning: The `nb_epoch` argument in `fit` has been renamed `epochs`.\n",
            "  \n"
          ],
          "name": "stderr"
        },
        {
          "output_type": "stream",
          "text": [
            "594225/594225 [==============================] - 2s 3us/step - loss: 0.0070 - acc: 0.9080\n",
            "Epoch 2/5\n",
            "594225/594225 [==============================] - 2s 3us/step - loss: 0.0070 - acc: 0.9073\n",
            "Epoch 3/5\n",
            "594225/594225 [==============================] - 2s 3us/step - loss: 0.0070 - acc: 0.9069\n",
            "Epoch 4/5\n",
            "594225/594225 [==============================] - 1s 3us/step - loss: 0.0070 - acc: 0.9086\n",
            "Epoch 5/5\n",
            "594225/594225 [==============================] - 1s 2us/step - loss: 0.0070 - acc: 0.9061\n",
            "Epoch 1/5\n",
            " 60800/594225 [==>...........................] - ETA: 1s - loss: 0.0070 - acc: 0.9047"
          ],
          "name": "stdout"
        },
        {
          "output_type": "stream",
          "text": [
            "/usr/local/lib/python3.6/dist-packages/ipykernel_launcher.py:2: UserWarning: The `nb_epoch` argument in `fit` has been renamed `epochs`.\n",
            "  \n"
          ],
          "name": "stderr"
        },
        {
          "output_type": "stream",
          "text": [
            "594225/594225 [==============================] - 1s 2us/step - loss: 0.0070 - acc: 0.9073\n",
            "Epoch 2/5\n",
            "594225/594225 [==============================] - 1s 2us/step - loss: 0.0070 - acc: 0.9079\n",
            "Epoch 3/5\n",
            "594225/594225 [==============================] - 1s 2us/step - loss: 0.0070 - acc: 0.9069\n",
            "Epoch 4/5\n",
            "594225/594225 [==============================] - 2s 3us/step - loss: 0.0070 - acc: 0.9094\n",
            "Epoch 5/5\n",
            "594225/594225 [==============================] - 1s 2us/step - loss: 0.0069 - acc: 0.9084\n",
            "Epoch 1/5\n",
            " 62700/594225 [==>...........................] - ETA: 1s - loss: 0.0072 - acc: 0.9049"
          ],
          "name": "stdout"
        },
        {
          "output_type": "stream",
          "text": [
            "/usr/local/lib/python3.6/dist-packages/ipykernel_launcher.py:2: UserWarning: The `nb_epoch` argument in `fit` has been renamed `epochs`.\n",
            "  \n"
          ],
          "name": "stderr"
        },
        {
          "output_type": "stream",
          "text": [
            "594225/594225 [==============================] - 2s 3us/step - loss: 0.0070 - acc: 0.9061\n",
            "Epoch 2/5\n",
            "594225/594225 [==============================] - 2s 3us/step - loss: 0.0069 - acc: 0.9099\n",
            "Epoch 3/5\n",
            "594225/594225 [==============================] - 2s 3us/step - loss: 0.0070 - acc: 0.9074\n",
            "Epoch 4/5\n",
            "594225/594225 [==============================] - 1s 2us/step - loss: 0.0070 - acc: 0.9068\n",
            "Epoch 5/5\n",
            "594225/594225 [==============================] - 2s 3us/step - loss: 0.0070 - acc: 0.9068\n",
            "Epoch 1/5\n",
            " 66500/594225 [==>...........................] - ETA: 1s - loss: 0.0070 - acc: 0.9114"
          ],
          "name": "stdout"
        },
        {
          "output_type": "stream",
          "text": [
            "/usr/local/lib/python3.6/dist-packages/ipykernel_launcher.py:2: UserWarning: The `nb_epoch` argument in `fit` has been renamed `epochs`.\n",
            "  \n"
          ],
          "name": "stderr"
        },
        {
          "output_type": "stream",
          "text": [
            "594225/594225 [==============================] - 1s 2us/step - loss: 0.0070 - acc: 0.9100\n",
            "Epoch 2/5\n",
            "594225/594225 [==============================] - 1s 2us/step - loss: 0.0070 - acc: 0.9075\n",
            "Epoch 3/5\n",
            "594225/594225 [==============================] - 2s 3us/step - loss: 0.0070 - acc: 0.9057\n",
            "Epoch 4/5\n",
            "594225/594225 [==============================] - 1s 3us/step - loss: 0.0070 - acc: 0.9085\n",
            "Epoch 5/5\n",
            "594225/594225 [==============================] - 2s 3us/step - loss: 0.0070 - acc: 0.9102\n",
            "Epoch 1/5\n",
            " 66500/594225 [==>...........................] - ETA: 1s - loss: 0.0070 - acc: 0.9110"
          ],
          "name": "stdout"
        },
        {
          "output_type": "stream",
          "text": [
            "/usr/local/lib/python3.6/dist-packages/ipykernel_launcher.py:2: UserWarning: The `nb_epoch` argument in `fit` has been renamed `epochs`.\n",
            "  \n"
          ],
          "name": "stderr"
        },
        {
          "output_type": "stream",
          "text": [
            "594225/594225 [==============================] - 2s 3us/step - loss: 0.0070 - acc: 0.9069\n",
            "Epoch 2/5\n",
            "594225/594225 [==============================] - 1s 2us/step - loss: 0.0070 - acc: 0.9080\n",
            "Epoch 3/5\n",
            "594225/594225 [==============================] - 1s 2us/step - loss: 0.0070 - acc: 0.9082\n",
            "Epoch 4/5\n",
            "594225/594225 [==============================] - 2s 3us/step - loss: 0.0070 - acc: 0.9081\n",
            "Epoch 5/5\n",
            "594225/594225 [==============================] - 2s 3us/step - loss: 0.0070 - acc: 0.9104\n",
            "Epoch 1/5\n",
            " 62700/594225 [==>...........................] - ETA: 1s - loss: 0.0066 - acc: 0.9119"
          ],
          "name": "stdout"
        },
        {
          "output_type": "stream",
          "text": [
            "/usr/local/lib/python3.6/dist-packages/ipykernel_launcher.py:2: UserWarning: The `nb_epoch` argument in `fit` has been renamed `epochs`.\n",
            "  \n"
          ],
          "name": "stderr"
        },
        {
          "output_type": "stream",
          "text": [
            "594225/594225 [==============================] - 2s 3us/step - loss: 0.0069 - acc: 0.9087\n",
            "Epoch 2/5\n",
            "594225/594225 [==============================] - 2s 3us/step - loss: 0.0069 - acc: 0.9066\n",
            "Epoch 3/5\n",
            "594225/594225 [==============================] - 2s 3us/step - loss: 0.0069 - acc: 0.9100\n",
            "Epoch 4/5\n",
            "594225/594225 [==============================] - 1s 2us/step - loss: 0.0070 - acc: 0.9097\n",
            "Epoch 5/5\n",
            "594225/594225 [==============================] - 2s 3us/step - loss: 0.0069 - acc: 0.9119\n",
            "Epoch 1/5\n",
            " 62700/594225 [==>...........................] - ETA: 1s - loss: 0.0070 - acc: 0.9076"
          ],
          "name": "stdout"
        },
        {
          "output_type": "stream",
          "text": [
            "/usr/local/lib/python3.6/dist-packages/ipykernel_launcher.py:2: UserWarning: The `nb_epoch` argument in `fit` has been renamed `epochs`.\n",
            "  \n"
          ],
          "name": "stderr"
        },
        {
          "output_type": "stream",
          "text": [
            "594225/594225 [==============================] - 1s 2us/step - loss: 0.0070 - acc: 0.9098\n",
            "Epoch 2/5\n",
            "594225/594225 [==============================] - 1s 2us/step - loss: 0.0069 - acc: 0.9105\n",
            "Epoch 3/5\n",
            "594225/594225 [==============================] - 2s 3us/step - loss: 0.0069 - acc: 0.9078\n",
            "Epoch 4/5\n",
            "594225/594225 [==============================] - 2s 3us/step - loss: 0.0070 - acc: 0.9084\n",
            "Epoch 5/5\n",
            "594225/594225 [==============================] - 1s 2us/step - loss: 0.0069 - acc: 0.9116\n",
            "Epoch 1/5\n",
            " 57000/594225 [=>............................] - ETA: 1s - loss: 0.0069 - acc: 0.9091"
          ],
          "name": "stdout"
        },
        {
          "output_type": "stream",
          "text": [
            "/usr/local/lib/python3.6/dist-packages/ipykernel_launcher.py:2: UserWarning: The `nb_epoch` argument in `fit` has been renamed `epochs`.\n",
            "  \n"
          ],
          "name": "stderr"
        },
        {
          "output_type": "stream",
          "text": [
            "594225/594225 [==============================] - 2s 3us/step - loss: 0.0069 - acc: 0.9095\n",
            "Epoch 2/5\n",
            "594225/594225 [==============================] - 2s 3us/step - loss: 0.0069 - acc: 0.9103\n",
            "Epoch 3/5\n",
            "594225/594225 [==============================] - 2s 3us/step - loss: 0.0070 - acc: 0.9100\n",
            "Epoch 4/5\n",
            "594225/594225 [==============================] - 1s 2us/step - loss: 0.0069 - acc: 0.9116\n",
            "Epoch 5/5\n",
            "594225/594225 [==============================] - 1s 2us/step - loss: 0.0069 - acc: 0.9125\n",
            "Epoch 1/5\n",
            " 60800/594225 [==>...........................] - ETA: 1s - loss: 0.0067 - acc: 0.9152"
          ],
          "name": "stdout"
        },
        {
          "output_type": "stream",
          "text": [
            "/usr/local/lib/python3.6/dist-packages/ipykernel_launcher.py:2: UserWarning: The `nb_epoch` argument in `fit` has been renamed `epochs`.\n",
            "  \n"
          ],
          "name": "stderr"
        },
        {
          "output_type": "stream",
          "text": [
            "594225/594225 [==============================] - 1s 3us/step - loss: 0.0069 - acc: 0.9118\n",
            "Epoch 2/5\n",
            "594225/594225 [==============================] - 1s 2us/step - loss: 0.0069 - acc: 0.9098\n",
            "Epoch 3/5\n",
            "594225/594225 [==============================] - 2s 3us/step - loss: 0.0070 - acc: 0.9084\n",
            "Epoch 4/5\n",
            "594225/594225 [==============================] - 1s 3us/step - loss: 0.0069 - acc: 0.9090\n",
            "Epoch 5/5\n",
            "594225/594225 [==============================] - 2s 3us/step - loss: 0.0069 - acc: 0.9111\n",
            "Epoch 1/5\n",
            " 60800/594225 [==>...........................] - ETA: 1s - loss: 0.0069 - acc: 0.9102"
          ],
          "name": "stdout"
        },
        {
          "output_type": "stream",
          "text": [
            "/usr/local/lib/python3.6/dist-packages/ipykernel_launcher.py:2: UserWarning: The `nb_epoch` argument in `fit` has been renamed `epochs`.\n",
            "  \n"
          ],
          "name": "stderr"
        },
        {
          "output_type": "stream",
          "text": [
            "594225/594225 [==============================] - 2s 3us/step - loss: 0.0069 - acc: 0.9096\n",
            "Epoch 2/5\n",
            "594225/594225 [==============================] - 2s 3us/step - loss: 0.0069 - acc: 0.9098\n",
            "Epoch 3/5\n",
            "594225/594225 [==============================] - 2s 3us/step - loss: 0.0069 - acc: 0.9109\n",
            "Epoch 4/5\n",
            "594225/594225 [==============================] - 1s 3us/step - loss: 0.0069 - acc: 0.9109\n",
            "Epoch 5/5\n",
            "594225/594225 [==============================] - 2s 3us/step - loss: 0.0069 - acc: 0.9109\n",
            "Epoch 1/5\n",
            " 60800/594225 [==>...........................] - ETA: 1s - loss: 0.0069 - acc: 0.9163"
          ],
          "name": "stdout"
        },
        {
          "output_type": "stream",
          "text": [
            "/usr/local/lib/python3.6/dist-packages/ipykernel_launcher.py:2: UserWarning: The `nb_epoch` argument in `fit` has been renamed `epochs`.\n",
            "  \n"
          ],
          "name": "stderr"
        },
        {
          "output_type": "stream",
          "text": [
            "594225/594225 [==============================] - 2s 3us/step - loss: 0.0069 - acc: 0.9118\n",
            "Epoch 2/5\n",
            "594225/594225 [==============================] - 2s 3us/step - loss: 0.0069 - acc: 0.9107\n",
            "Epoch 3/5\n",
            "594225/594225 [==============================] - 2s 3us/step - loss: 0.0069 - acc: 0.9099\n",
            "Epoch 4/5\n",
            "594225/594225 [==============================] - 1s 2us/step - loss: 0.0069 - acc: 0.9090\n",
            "Epoch 5/5\n",
            "594225/594225 [==============================] - 2s 3us/step - loss: 0.0069 - acc: 0.9101\n",
            "Epoch 1/5\n",
            " 68400/594225 [==>...........................] - ETA: 1s - loss: 0.0067 - acc: 0.9138"
          ],
          "name": "stdout"
        },
        {
          "output_type": "stream",
          "text": [
            "/usr/local/lib/python3.6/dist-packages/ipykernel_launcher.py:2: UserWarning: The `nb_epoch` argument in `fit` has been renamed `epochs`.\n",
            "  \n"
          ],
          "name": "stderr"
        },
        {
          "output_type": "stream",
          "text": [
            "594225/594225 [==============================] - 1s 2us/step - loss: 0.0069 - acc: 0.9103\n",
            "Epoch 2/5\n",
            "594225/594225 [==============================] - 2s 3us/step - loss: 0.0069 - acc: 0.9110\n",
            "Epoch 3/5\n",
            "594225/594225 [==============================] - 1s 2us/step - loss: 0.0069 - acc: 0.9127\n",
            "Epoch 4/5\n",
            "594225/594225 [==============================] - 2s 3us/step - loss: 0.0069 - acc: 0.9130\n",
            "Epoch 5/5\n",
            "594225/594225 [==============================] - 2s 3us/step - loss: 0.0069 - acc: 0.9100\n",
            "Epoch 1/5\n",
            " 66500/594225 [==>...........................] - ETA: 1s - loss: 0.0069 - acc: 0.9115"
          ],
          "name": "stdout"
        },
        {
          "output_type": "stream",
          "text": [
            "/usr/local/lib/python3.6/dist-packages/ipykernel_launcher.py:2: UserWarning: The `nb_epoch` argument in `fit` has been renamed `epochs`.\n",
            "  \n"
          ],
          "name": "stderr"
        },
        {
          "output_type": "stream",
          "text": [
            "594225/594225 [==============================] - 1s 2us/step - loss: 0.0069 - acc: 0.9114\n",
            "Epoch 2/5\n",
            "594225/594225 [==============================] - 1s 3us/step - loss: 0.0069 - acc: 0.9094\n",
            "Epoch 3/5\n",
            "594225/594225 [==============================] - 2s 3us/step - loss: 0.0069 - acc: 0.9117\n",
            "Epoch 4/5\n",
            "594225/594225 [==============================] - 1s 2us/step - loss: 0.0069 - acc: 0.9099\n",
            "Epoch 5/5\n",
            "594225/594225 [==============================] - 1s 3us/step - loss: 0.0070 - acc: 0.9105\n",
            "Epoch 1/5\n",
            " 64600/594225 [==>...........................] - ETA: 1s - loss: 0.0069 - acc: 0.9119"
          ],
          "name": "stdout"
        },
        {
          "output_type": "stream",
          "text": [
            "/usr/local/lib/python3.6/dist-packages/ipykernel_launcher.py:2: UserWarning: The `nb_epoch` argument in `fit` has been renamed `epochs`.\n",
            "  \n"
          ],
          "name": "stderr"
        },
        {
          "output_type": "stream",
          "text": [
            "594225/594225 [==============================] - 2s 3us/step - loss: 0.0069 - acc: 0.9125\n",
            "Epoch 2/5\n",
            "594225/594225 [==============================] - 2s 3us/step - loss: 0.0068 - acc: 0.9097\n",
            "Epoch 3/5\n",
            "594225/594225 [==============================] - 2s 3us/step - loss: 0.0069 - acc: 0.9093\n",
            "Epoch 4/5\n",
            "594225/594225 [==============================] - 2s 3us/step - loss: 0.0069 - acc: 0.9106\n",
            "Epoch 5/5\n",
            "594225/594225 [==============================] - 2s 3us/step - loss: 0.0069 - acc: 0.9112\n",
            "Epoch 1/5\n",
            " 66500/594225 [==>...........................] - ETA: 1s - loss: 0.0069 - acc: 0.9118"
          ],
          "name": "stdout"
        },
        {
          "output_type": "stream",
          "text": [
            "/usr/local/lib/python3.6/dist-packages/ipykernel_launcher.py:2: UserWarning: The `nb_epoch` argument in `fit` has been renamed `epochs`.\n",
            "  \n"
          ],
          "name": "stderr"
        },
        {
          "output_type": "stream",
          "text": [
            "594225/594225 [==============================] - 1s 2us/step - loss: 0.0069 - acc: 0.9103\n",
            "Epoch 2/5\n",
            "594225/594225 [==============================] - 2s 3us/step - loss: 0.0069 - acc: 0.9117\n",
            "Epoch 3/5\n",
            "594225/594225 [==============================] - 2s 3us/step - loss: 0.0069 - acc: 0.9108\n",
            "Epoch 4/5\n",
            "594225/594225 [==============================] - 2s 3us/step - loss: 0.0069 - acc: 0.9102\n",
            "Epoch 5/5\n",
            "594225/594225 [==============================] - 2s 3us/step - loss: 0.0069 - acc: 0.9091\n",
            "Epoch 1/5\n",
            " 64600/594225 [==>...........................] - ETA: 1s - loss: 0.0070 - acc: 0.9098"
          ],
          "name": "stdout"
        },
        {
          "output_type": "stream",
          "text": [
            "/usr/local/lib/python3.6/dist-packages/ipykernel_launcher.py:2: UserWarning: The `nb_epoch` argument in `fit` has been renamed `epochs`.\n",
            "  \n"
          ],
          "name": "stderr"
        },
        {
          "output_type": "stream",
          "text": [
            "594225/594225 [==============================] - 2s 3us/step - loss: 0.0069 - acc: 0.9118\n",
            "Epoch 2/5\n",
            "594225/594225 [==============================] - 2s 3us/step - loss: 0.0069 - acc: 0.9103\n",
            "Epoch 3/5\n",
            "594225/594225 [==============================] - 2s 3us/step - loss: 0.0068 - acc: 0.9119\n",
            "Epoch 4/5\n",
            "594225/594225 [==============================] - 1s 2us/step - loss: 0.0069 - acc: 0.9113\n",
            "Epoch 5/5\n",
            "594225/594225 [==============================] - 2s 3us/step - loss: 0.0069 - acc: 0.9127\n",
            "Epoch 1/5\n",
            " 64600/594225 [==>...........................] - ETA: 1s - loss: 0.0070 - acc: 0.9074"
          ],
          "name": "stdout"
        },
        {
          "output_type": "stream",
          "text": [
            "/usr/local/lib/python3.6/dist-packages/ipykernel_launcher.py:2: UserWarning: The `nb_epoch` argument in `fit` has been renamed `epochs`.\n",
            "  \n"
          ],
          "name": "stderr"
        },
        {
          "output_type": "stream",
          "text": [
            "594225/594225 [==============================] - 2s 3us/step - loss: 0.0069 - acc: 0.9107\n",
            "Epoch 2/5\n",
            "594225/594225 [==============================] - 1s 2us/step - loss: 0.0069 - acc: 0.9128\n",
            "Epoch 3/5\n",
            "594225/594225 [==============================] - 1s 2us/step - loss: 0.0068 - acc: 0.9125\n",
            "Epoch 4/5\n",
            "594225/594225 [==============================] - 1s 3us/step - loss: 0.0069 - acc: 0.9116\n",
            "Epoch 5/5\n",
            "594225/594225 [==============================] - 1s 3us/step - loss: 0.0068 - acc: 0.9131\n",
            "Epoch 1/5\n",
            " 64600/594225 [==>...........................] - ETA: 1s - loss: 0.0069 - acc: 0.9101"
          ],
          "name": "stdout"
        },
        {
          "output_type": "stream",
          "text": [
            "/usr/local/lib/python3.6/dist-packages/ipykernel_launcher.py:2: UserWarning: The `nb_epoch` argument in `fit` has been renamed `epochs`.\n",
            "  \n"
          ],
          "name": "stderr"
        },
        {
          "output_type": "stream",
          "text": [
            "594225/594225 [==============================] - 1s 3us/step - loss: 0.0069 - acc: 0.9100\n",
            "Epoch 2/5\n",
            "594225/594225 [==============================] - 2s 3us/step - loss: 0.0069 - acc: 0.9102\n",
            "Epoch 3/5\n",
            "594225/594225 [==============================] - 1s 2us/step - loss: 0.0068 - acc: 0.9121\n",
            "Epoch 4/5\n",
            "594225/594225 [==============================] - 1s 2us/step - loss: 0.0068 - acc: 0.9125\n",
            "Epoch 5/5\n",
            "594225/594225 [==============================] - 2s 3us/step - loss: 0.0068 - acc: 0.9114\n",
            "Epoch 1/5\n",
            " 62700/594225 [==>...........................] - ETA: 1s - loss: 0.0067 - acc: 0.9171"
          ],
          "name": "stdout"
        },
        {
          "output_type": "stream",
          "text": [
            "/usr/local/lib/python3.6/dist-packages/ipykernel_launcher.py:2: UserWarning: The `nb_epoch` argument in `fit` has been renamed `epochs`.\n",
            "  \n"
          ],
          "name": "stderr"
        },
        {
          "output_type": "stream",
          "text": [
            "594225/594225 [==============================] - 1s 2us/step - loss: 0.0069 - acc: 0.9117\n",
            "Epoch 2/5\n",
            "594225/594225 [==============================] - 2s 3us/step - loss: 0.0069 - acc: 0.9109\n",
            "Epoch 3/5\n",
            "594225/594225 [==============================] - 2s 3us/step - loss: 0.0068 - acc: 0.9114\n",
            "Epoch 4/5\n",
            "594225/594225 [==============================] - 1s 3us/step - loss: 0.0069 - acc: 0.9116\n",
            "Epoch 5/5\n",
            "594225/594225 [==============================] - 1s 3us/step - loss: 0.0069 - acc: 0.9110\n",
            "Epoch 1/5\n",
            " 64600/594225 [==>...........................] - ETA: 1s - loss: 0.0067 - acc: 0.9145"
          ],
          "name": "stdout"
        },
        {
          "output_type": "stream",
          "text": [
            "/usr/local/lib/python3.6/dist-packages/ipykernel_launcher.py:2: UserWarning: The `nb_epoch` argument in `fit` has been renamed `epochs`.\n",
            "  \n"
          ],
          "name": "stderr"
        },
        {
          "output_type": "stream",
          "text": [
            "594225/594225 [==============================] - 2s 3us/step - loss: 0.0069 - acc: 0.9126\n",
            "Epoch 2/5\n",
            "594225/594225 [==============================] - 2s 3us/step - loss: 0.0068 - acc: 0.9121\n",
            "Epoch 3/5\n",
            "594225/594225 [==============================] - 2s 3us/step - loss: 0.0069 - acc: 0.9113\n",
            "Epoch 4/5\n",
            "594225/594225 [==============================] - 2s 3us/step - loss: 0.0068 - acc: 0.9122\n",
            "Epoch 5/5\n",
            "594225/594225 [==============================] - 2s 3us/step - loss: 0.0069 - acc: 0.9130\n",
            "Epoch 1/5\n",
            " 64600/594225 [==>...........................] - ETA: 1s - loss: 0.0070 - acc: 0.9030"
          ],
          "name": "stdout"
        },
        {
          "output_type": "stream",
          "text": [
            "/usr/local/lib/python3.6/dist-packages/ipykernel_launcher.py:2: UserWarning: The `nb_epoch` argument in `fit` has been renamed `epochs`.\n",
            "  \n"
          ],
          "name": "stderr"
        },
        {
          "output_type": "stream",
          "text": [
            "594225/594225 [==============================] - 1s 3us/step - loss: 0.0068 - acc: 0.9111\n",
            "Epoch 2/5\n",
            "594225/594225 [==============================] - 2s 3us/step - loss: 0.0068 - acc: 0.9106\n",
            "Epoch 3/5\n",
            "594225/594225 [==============================] - 2s 3us/step - loss: 0.0069 - acc: 0.9115\n",
            "Epoch 4/5\n",
            "594225/594225 [==============================] - 1s 3us/step - loss: 0.0068 - acc: 0.9143\n",
            "Epoch 5/5\n",
            "594225/594225 [==============================] - 2s 3us/step - loss: 0.0068 - acc: 0.9122\n",
            "Epoch 1/5\n",
            " 62700/594225 [==>...........................] - ETA: 1s - loss: 0.0067 - acc: 0.9158"
          ],
          "name": "stdout"
        },
        {
          "output_type": "stream",
          "text": [
            "/usr/local/lib/python3.6/dist-packages/ipykernel_launcher.py:2: UserWarning: The `nb_epoch` argument in `fit` has been renamed `epochs`.\n",
            "  \n"
          ],
          "name": "stderr"
        },
        {
          "output_type": "stream",
          "text": [
            "594225/594225 [==============================] - 2s 3us/step - loss: 0.0068 - acc: 0.9128\n",
            "Epoch 2/5\n",
            "594225/594225 [==============================] - 1s 2us/step - loss: 0.0068 - acc: 0.9152\n",
            "Epoch 3/5\n",
            "594225/594225 [==============================] - 2s 3us/step - loss: 0.0068 - acc: 0.9119\n",
            "Epoch 4/5\n",
            "594225/594225 [==============================] - 1s 2us/step - loss: 0.0069 - acc: 0.9114\n",
            "Epoch 5/5\n",
            "594225/594225 [==============================] - 1s 3us/step - loss: 0.0068 - acc: 0.9122\n",
            "Epoch 1/5\n",
            " 60800/594225 [==>...........................] - ETA: 1s - loss: 0.0068 - acc: 0.9178"
          ],
          "name": "stdout"
        },
        {
          "output_type": "stream",
          "text": [
            "/usr/local/lib/python3.6/dist-packages/ipykernel_launcher.py:2: UserWarning: The `nb_epoch` argument in `fit` has been renamed `epochs`.\n",
            "  \n"
          ],
          "name": "stderr"
        },
        {
          "output_type": "stream",
          "text": [
            "594225/594225 [==============================] - 2s 3us/step - loss: 0.0068 - acc: 0.9136\n",
            "Epoch 2/5\n",
            "594225/594225 [==============================] - 2s 3us/step - loss: 0.0068 - acc: 0.9134\n",
            "Epoch 3/5\n",
            "594225/594225 [==============================] - 2s 3us/step - loss: 0.0068 - acc: 0.9116\n",
            "Epoch 4/5\n",
            "594225/594225 [==============================] - 1s 2us/step - loss: 0.0068 - acc: 0.9112\n",
            "Epoch 5/5\n",
            "594225/594225 [==============================] - 2s 3us/step - loss: 0.0068 - acc: 0.9136\n",
            "Epoch 1/5\n",
            " 62700/594225 [==>...........................] - ETA: 1s - loss: 0.0068 - acc: 0.9169"
          ],
          "name": "stdout"
        },
        {
          "output_type": "stream",
          "text": [
            "/usr/local/lib/python3.6/dist-packages/ipykernel_launcher.py:2: UserWarning: The `nb_epoch` argument in `fit` has been renamed `epochs`.\n",
            "  \n"
          ],
          "name": "stderr"
        },
        {
          "output_type": "stream",
          "text": [
            "594225/594225 [==============================] - 2s 3us/step - loss: 0.0068 - acc: 0.9139\n",
            "Epoch 2/5\n",
            "594225/594225 [==============================] - 1s 3us/step - loss: 0.0068 - acc: 0.9136\n",
            "Epoch 3/5\n",
            "594225/594225 [==============================] - 1s 2us/step - loss: 0.0068 - acc: 0.9135\n",
            "Epoch 4/5\n",
            "594225/594225 [==============================] - 2s 3us/step - loss: 0.0069 - acc: 0.9109\n",
            "Epoch 5/5\n",
            "594225/594225 [==============================] - 2s 3us/step - loss: 0.0068 - acc: 0.9138\n",
            "Epoch 1/5\n",
            " 64600/594225 [==>...........................] - ETA: 1s - loss: 0.0069 - acc: 0.9156"
          ],
          "name": "stdout"
        },
        {
          "output_type": "stream",
          "text": [
            "/usr/local/lib/python3.6/dist-packages/ipykernel_launcher.py:2: UserWarning: The `nb_epoch` argument in `fit` has been renamed `epochs`.\n",
            "  \n"
          ],
          "name": "stderr"
        },
        {
          "output_type": "stream",
          "text": [
            "594225/594225 [==============================] - 1s 2us/step - loss: 0.0068 - acc: 0.9129\n",
            "Epoch 2/5\n",
            "594225/594225 [==============================] - 2s 3us/step - loss: 0.0068 - acc: 0.9114\n",
            "Epoch 3/5\n",
            "594225/594225 [==============================] - 2s 3us/step - loss: 0.0068 - acc: 0.9141\n",
            "Epoch 4/5\n",
            "594225/594225 [==============================] - 1s 2us/step - loss: 0.0068 - acc: 0.9132\n",
            "Epoch 5/5\n",
            "594225/594225 [==============================] - 1s 2us/step - loss: 0.0068 - acc: 0.9140\n",
            "Epoch 1/5\n",
            " 60800/594225 [==>...........................] - ETA: 1s - loss: 0.0068 - acc: 0.9154"
          ],
          "name": "stdout"
        },
        {
          "output_type": "stream",
          "text": [
            "/usr/local/lib/python3.6/dist-packages/ipykernel_launcher.py:2: UserWarning: The `nb_epoch` argument in `fit` has been renamed `epochs`.\n",
            "  \n"
          ],
          "name": "stderr"
        },
        {
          "output_type": "stream",
          "text": [
            "594225/594225 [==============================] - 2s 3us/step - loss: 0.0068 - acc: 0.9120\n",
            "Epoch 2/5\n",
            "594225/594225 [==============================] - 1s 3us/step - loss: 0.0068 - acc: 0.9115\n",
            "Epoch 3/5\n",
            "594225/594225 [==============================] - 1s 2us/step - loss: 0.0068 - acc: 0.9113\n",
            "Epoch 4/5\n",
            "594225/594225 [==============================] - 2s 3us/step - loss: 0.0068 - acc: 0.9137\n",
            "Epoch 5/5\n",
            "594225/594225 [==============================] - 1s 3us/step - loss: 0.0068 - acc: 0.9133\n",
            "Epoch 1/5\n",
            " 68400/594225 [==>...........................] - ETA: 1s - loss: 0.0070 - acc: 0.9085"
          ],
          "name": "stdout"
        },
        {
          "output_type": "stream",
          "text": [
            "/usr/local/lib/python3.6/dist-packages/ipykernel_launcher.py:2: UserWarning: The `nb_epoch` argument in `fit` has been renamed `epochs`.\n",
            "  \n"
          ],
          "name": "stderr"
        },
        {
          "output_type": "stream",
          "text": [
            "594225/594225 [==============================] - 2s 3us/step - loss: 0.0068 - acc: 0.9111\n",
            "Epoch 2/5\n",
            "594225/594225 [==============================] - 1s 2us/step - loss: 0.0067 - acc: 0.9135\n",
            "Epoch 3/5\n",
            "594225/594225 [==============================] - 1s 2us/step - loss: 0.0068 - acc: 0.9118\n",
            "Epoch 4/5\n",
            "594225/594225 [==============================] - 1s 2us/step - loss: 0.0068 - acc: 0.9133\n",
            "Epoch 5/5\n",
            "594225/594225 [==============================] - 2s 3us/step - loss: 0.0068 - acc: 0.9127\n",
            "Epoch 1/5\n",
            " 64600/594225 [==>...........................] - ETA: 1s - loss: 0.0069 - acc: 0.9099"
          ],
          "name": "stdout"
        },
        {
          "output_type": "stream",
          "text": [
            "/usr/local/lib/python3.6/dist-packages/ipykernel_launcher.py:2: UserWarning: The `nb_epoch` argument in `fit` has been renamed `epochs`.\n",
            "  \n"
          ],
          "name": "stderr"
        },
        {
          "output_type": "stream",
          "text": [
            "594225/594225 [==============================] - 1s 2us/step - loss: 0.0068 - acc: 0.9130\n",
            "Epoch 2/5\n",
            "594225/594225 [==============================] - 2s 3us/step - loss: 0.0068 - acc: 0.9119\n",
            "Epoch 3/5\n",
            "594225/594225 [==============================] - 2s 3us/step - loss: 0.0068 - acc: 0.9123\n",
            "Epoch 4/5\n",
            "594225/594225 [==============================] - 2s 3us/step - loss: 0.0068 - acc: 0.9138\n",
            "Epoch 5/5\n",
            "594225/594225 [==============================] - 2s 3us/step - loss: 0.0068 - acc: 0.9129\n",
            "Epoch 1/5\n",
            " 64600/594225 [==>...........................] - ETA: 1s - loss: 0.0067 - acc: 0.9142"
          ],
          "name": "stdout"
        },
        {
          "output_type": "stream",
          "text": [
            "/usr/local/lib/python3.6/dist-packages/ipykernel_launcher.py:2: UserWarning: The `nb_epoch` argument in `fit` has been renamed `epochs`.\n",
            "  \n"
          ],
          "name": "stderr"
        },
        {
          "output_type": "stream",
          "text": [
            "594225/594225 [==============================] - 2s 3us/step - loss: 0.0068 - acc: 0.9129\n",
            "Epoch 2/5\n",
            "594225/594225 [==============================] - 1s 3us/step - loss: 0.0068 - acc: 0.9125\n",
            "Epoch 3/5\n",
            "594225/594225 [==============================] - 2s 3us/step - loss: 0.0068 - acc: 0.9126\n",
            "Epoch 4/5\n",
            "594225/594225 [==============================] - 2s 3us/step - loss: 0.0068 - acc: 0.9155\n",
            "Epoch 5/5\n",
            "594225/594225 [==============================] - 2s 3us/step - loss: 0.0068 - acc: 0.9120\n",
            "Epoch 1/5\n",
            " 68400/594225 [==>...........................] - ETA: 1s - loss: 0.0068 - acc: 0.9146"
          ],
          "name": "stdout"
        },
        {
          "output_type": "stream",
          "text": [
            "/usr/local/lib/python3.6/dist-packages/ipykernel_launcher.py:2: UserWarning: The `nb_epoch` argument in `fit` has been renamed `epochs`.\n",
            "  \n"
          ],
          "name": "stderr"
        },
        {
          "output_type": "stream",
          "text": [
            "594225/594225 [==============================] - 1s 2us/step - loss: 0.0068 - acc: 0.9119\n",
            "Epoch 2/5\n",
            "594225/594225 [==============================] - 1s 2us/step - loss: 0.0068 - acc: 0.9138\n",
            "Epoch 3/5\n",
            "594225/594225 [==============================] - 1s 3us/step - loss: 0.0068 - acc: 0.9132\n",
            "Epoch 4/5\n",
            "594225/594225 [==============================] - 2s 3us/step - loss: 0.0067 - acc: 0.9138\n",
            "Epoch 5/5\n",
            "594225/594225 [==============================] - 2s 3us/step - loss: 0.0068 - acc: 0.9140\n",
            "Epoch 1/5\n",
            " 64600/594225 [==>...........................] - ETA: 1s - loss: 0.0069 - acc: 0.9145"
          ],
          "name": "stdout"
        },
        {
          "output_type": "stream",
          "text": [
            "/usr/local/lib/python3.6/dist-packages/ipykernel_launcher.py:2: UserWarning: The `nb_epoch` argument in `fit` has been renamed `epochs`.\n",
            "  \n"
          ],
          "name": "stderr"
        },
        {
          "output_type": "stream",
          "text": [
            "594225/594225 [==============================] - 2s 3us/step - loss: 0.0068 - acc: 0.9129\n",
            "Epoch 2/5\n",
            "594225/594225 [==============================] - 1s 3us/step - loss: 0.0068 - acc: 0.9140\n",
            "Epoch 3/5\n",
            "594225/594225 [==============================] - 1s 3us/step - loss: 0.0068 - acc: 0.9110\n",
            "Epoch 4/5\n",
            "594225/594225 [==============================] - 2s 3us/step - loss: 0.0068 - acc: 0.9121\n",
            "Epoch 5/5\n",
            "594225/594225 [==============================] - 1s 3us/step - loss: 0.0068 - acc: 0.9136\n",
            "Epoch 1/5\n",
            " 68400/594225 [==>...........................] - ETA: 1s - loss: 0.0066 - acc: 0.9162"
          ],
          "name": "stdout"
        },
        {
          "output_type": "stream",
          "text": [
            "/usr/local/lib/python3.6/dist-packages/ipykernel_launcher.py:2: UserWarning: The `nb_epoch` argument in `fit` has been renamed `epochs`.\n",
            "  \n"
          ],
          "name": "stderr"
        },
        {
          "output_type": "stream",
          "text": [
            "594225/594225 [==============================] - 1s 3us/step - loss: 0.0068 - acc: 0.9142\n",
            "Epoch 2/5\n",
            "594225/594225 [==============================] - 2s 3us/step - loss: 0.0068 - acc: 0.9122\n",
            "Epoch 3/5\n",
            "594225/594225 [==============================] - 2s 3us/step - loss: 0.0067 - acc: 0.9123\n",
            "Epoch 4/5\n",
            "594225/594225 [==============================] - 1s 3us/step - loss: 0.0068 - acc: 0.9130\n",
            "Epoch 5/5\n",
            "594225/594225 [==============================] - 2s 3us/step - loss: 0.0067 - acc: 0.9147\n",
            "Epoch 1/5\n",
            " 68400/594225 [==>...........................] - ETA: 1s - loss: 0.0068 - acc: 0.9103"
          ],
          "name": "stdout"
        },
        {
          "output_type": "stream",
          "text": [
            "/usr/local/lib/python3.6/dist-packages/ipykernel_launcher.py:2: UserWarning: The `nb_epoch` argument in `fit` has been renamed `epochs`.\n",
            "  \n"
          ],
          "name": "stderr"
        },
        {
          "output_type": "stream",
          "text": [
            "594225/594225 [==============================] - 1s 2us/step - loss: 0.0068 - acc: 0.9145\n",
            "Epoch 2/5\n",
            "594225/594225 [==============================] - 1s 2us/step - loss: 0.0068 - acc: 0.9134\n",
            "Epoch 3/5\n",
            "594225/594225 [==============================] - 1s 2us/step - loss: 0.0068 - acc: 0.9128\n",
            "Epoch 4/5\n",
            "594225/594225 [==============================] - 2s 3us/step - loss: 0.0068 - acc: 0.9149\n",
            "Epoch 5/5\n",
            "594225/594225 [==============================] - 2s 3us/step - loss: 0.0067 - acc: 0.9151\n",
            "Epoch 1/5\n",
            " 72200/594225 [==>...........................] - ETA: 1s - loss: 0.0068 - acc: 0.9133"
          ],
          "name": "stdout"
        },
        {
          "output_type": "stream",
          "text": [
            "/usr/local/lib/python3.6/dist-packages/ipykernel_launcher.py:2: UserWarning: The `nb_epoch` argument in `fit` has been renamed `epochs`.\n",
            "  \n"
          ],
          "name": "stderr"
        },
        {
          "output_type": "stream",
          "text": [
            "594225/594225 [==============================] - 1s 2us/step - loss: 0.0068 - acc: 0.9127\n",
            "Epoch 2/5\n",
            "594225/594225 [==============================] - 2s 3us/step - loss: 0.0068 - acc: 0.9145\n",
            "Epoch 3/5\n",
            "594225/594225 [==============================] - 1s 2us/step - loss: 0.0068 - acc: 0.9124\n",
            "Epoch 4/5\n",
            "594225/594225 [==============================] - 1s 3us/step - loss: 0.0067 - acc: 0.9135\n",
            "Epoch 5/5\n",
            "594225/594225 [==============================] - 1s 2us/step - loss: 0.0068 - acc: 0.9136\n",
            "Epoch 1/5\n",
            " 60800/594225 [==>...........................] - ETA: 1s - loss: 0.0068 - acc: 0.9130"
          ],
          "name": "stdout"
        },
        {
          "output_type": "stream",
          "text": [
            "/usr/local/lib/python3.6/dist-packages/ipykernel_launcher.py:2: UserWarning: The `nb_epoch` argument in `fit` has been renamed `epochs`.\n",
            "  \n"
          ],
          "name": "stderr"
        },
        {
          "output_type": "stream",
          "text": [
            "594225/594225 [==============================] - 2s 3us/step - loss: 0.0068 - acc: 0.9123\n",
            "Epoch 2/5\n",
            "594225/594225 [==============================] - 2s 3us/step - loss: 0.0068 - acc: 0.9119\n",
            "Epoch 3/5\n",
            "594225/594225 [==============================] - 2s 3us/step - loss: 0.0068 - acc: 0.9135\n",
            "Epoch 4/5\n",
            "594225/594225 [==============================] - 2s 3us/step - loss: 0.0068 - acc: 0.9135\n",
            "Epoch 5/5\n",
            "594225/594225 [==============================] - 2s 3us/step - loss: 0.0068 - acc: 0.9126\n",
            "Epoch 1/5\n",
            " 66500/594225 [==>...........................] - ETA: 1s - loss: 0.0068 - acc: 0.9097"
          ],
          "name": "stdout"
        },
        {
          "output_type": "stream",
          "text": [
            "/usr/local/lib/python3.6/dist-packages/ipykernel_launcher.py:2: UserWarning: The `nb_epoch` argument in `fit` has been renamed `epochs`.\n",
            "  \n"
          ],
          "name": "stderr"
        },
        {
          "output_type": "stream",
          "text": [
            "594225/594225 [==============================] - 1s 3us/step - loss: 0.0068 - acc: 0.9135\n",
            "Epoch 2/5\n",
            "594225/594225 [==============================] - 1s 2us/step - loss: 0.0067 - acc: 0.9151\n",
            "Epoch 3/5\n",
            "594225/594225 [==============================] - 1s 2us/step - loss: 0.0068 - acc: 0.9135\n",
            "Epoch 4/5\n",
            "594225/594225 [==============================] - 1s 2us/step - loss: 0.0067 - acc: 0.9138\n",
            "Epoch 5/5\n",
            "594225/594225 [==============================] - 2s 3us/step - loss: 0.0068 - acc: 0.9137\n",
            "Epoch 1/5\n",
            " 62700/594225 [==>...........................] - ETA: 1s - loss: 0.0068 - acc: 0.9182"
          ],
          "name": "stdout"
        },
        {
          "output_type": "stream",
          "text": [
            "/usr/local/lib/python3.6/dist-packages/ipykernel_launcher.py:2: UserWarning: The `nb_epoch` argument in `fit` has been renamed `epochs`.\n",
            "  \n"
          ],
          "name": "stderr"
        },
        {
          "output_type": "stream",
          "text": [
            "594225/594225 [==============================] - 1s 2us/step - loss: 0.0068 - acc: 0.9147\n",
            "Epoch 2/5\n",
            "594225/594225 [==============================] - 1s 3us/step - loss: 0.0067 - acc: 0.9137\n",
            "Epoch 3/5\n",
            "594225/594225 [==============================] - 1s 3us/step - loss: 0.0068 - acc: 0.9133\n",
            "Epoch 4/5\n",
            "594225/594225 [==============================] - 1s 3us/step - loss: 0.0067 - acc: 0.9117\n",
            "Epoch 5/5\n",
            "594225/594225 [==============================] - 1s 2us/step - loss: 0.0067 - acc: 0.9149\n",
            "Epoch 1/5\n",
            " 60800/594225 [==>...........................] - ETA: 1s - loss: 0.0070 - acc: 0.9103"
          ],
          "name": "stdout"
        },
        {
          "output_type": "stream",
          "text": [
            "/usr/local/lib/python3.6/dist-packages/ipykernel_launcher.py:2: UserWarning: The `nb_epoch` argument in `fit` has been renamed `epochs`.\n",
            "  \n"
          ],
          "name": "stderr"
        },
        {
          "output_type": "stream",
          "text": [
            "594225/594225 [==============================] - 1s 2us/step - loss: 0.0068 - acc: 0.9128\n",
            "Epoch 2/5\n",
            "594225/594225 [==============================] - 1s 2us/step - loss: 0.0067 - acc: 0.9153\n",
            "Epoch 3/5\n",
            "594225/594225 [==============================] - 1s 2us/step - loss: 0.0067 - acc: 0.9164\n",
            "Epoch 4/5\n",
            "594225/594225 [==============================] - 1s 2us/step - loss: 0.0067 - acc: 0.9131\n",
            "Epoch 5/5\n",
            "594225/594225 [==============================] - 1s 2us/step - loss: 0.0067 - acc: 0.9146\n",
            "Epoch 1/5\n",
            " 66500/594225 [==>...........................] - ETA: 1s - loss: 0.0067 - acc: 0.9166"
          ],
          "name": "stdout"
        },
        {
          "output_type": "stream",
          "text": [
            "/usr/local/lib/python3.6/dist-packages/ipykernel_launcher.py:2: UserWarning: The `nb_epoch` argument in `fit` has been renamed `epochs`.\n",
            "  \n"
          ],
          "name": "stderr"
        },
        {
          "output_type": "stream",
          "text": [
            "594225/594225 [==============================] - 1s 2us/step - loss: 0.0068 - acc: 0.9154\n",
            "Epoch 2/5\n",
            "594225/594225 [==============================] - 2s 3us/step - loss: 0.0067 - acc: 0.9128\n",
            "Epoch 3/5\n",
            "594225/594225 [==============================] - 2s 3us/step - loss: 0.0068 - acc: 0.9128\n",
            "Epoch 4/5\n",
            "594225/594225 [==============================] - 2s 3us/step - loss: 0.0067 - acc: 0.9138\n",
            "Epoch 5/5\n",
            "594225/594225 [==============================] - 1s 3us/step - loss: 0.0068 - acc: 0.9139\n",
            "Epoch 1/5\n",
            " 68400/594225 [==>...........................] - ETA: 1s - loss: 0.0068 - acc: 0.9159"
          ],
          "name": "stdout"
        },
        {
          "output_type": "stream",
          "text": [
            "/usr/local/lib/python3.6/dist-packages/ipykernel_launcher.py:2: UserWarning: The `nb_epoch` argument in `fit` has been renamed `epochs`.\n",
            "  \n"
          ],
          "name": "stderr"
        },
        {
          "output_type": "stream",
          "text": [
            "594225/594225 [==============================] - 1s 3us/step - loss: 0.0068 - acc: 0.9139\n",
            "Epoch 2/5\n",
            "594225/594225 [==============================] - 1s 2us/step - loss: 0.0067 - acc: 0.9150\n",
            "Epoch 3/5\n",
            "594225/594225 [==============================] - 2s 3us/step - loss: 0.0067 - acc: 0.9136\n",
            "Epoch 4/5\n",
            "594225/594225 [==============================] - 1s 3us/step - loss: 0.0067 - acc: 0.9152\n",
            "Epoch 5/5\n",
            "594225/594225 [==============================] - 2s 3us/step - loss: 0.0067 - acc: 0.9164\n",
            "Epoch 1/5\n",
            " 68400/594225 [==>...........................] - ETA: 1s - loss: 0.0067 - acc: 0.9174"
          ],
          "name": "stdout"
        },
        {
          "output_type": "stream",
          "text": [
            "/usr/local/lib/python3.6/dist-packages/ipykernel_launcher.py:2: UserWarning: The `nb_epoch` argument in `fit` has been renamed `epochs`.\n",
            "  \n"
          ],
          "name": "stderr"
        },
        {
          "output_type": "stream",
          "text": [
            "594225/594225 [==============================] - 1s 2us/step - loss: 0.0067 - acc: 0.9144\n",
            "Epoch 2/5\n",
            "594225/594225 [==============================] - 1s 2us/step - loss: 0.0067 - acc: 0.9134\n",
            "Epoch 3/5\n",
            "594225/594225 [==============================] - 1s 2us/step - loss: 0.0067 - acc: 0.9137\n",
            "Epoch 4/5\n",
            "594225/594225 [==============================] - 1s 3us/step - loss: 0.0067 - acc: 0.9135\n",
            "Epoch 5/5\n",
            "594225/594225 [==============================] - 2s 3us/step - loss: 0.0067 - acc: 0.9140\n",
            "Epoch 1/5\n",
            " 72200/594225 [==>...........................] - ETA: 1s - loss: 0.0069 - acc: 0.9144"
          ],
          "name": "stdout"
        },
        {
          "output_type": "stream",
          "text": [
            "/usr/local/lib/python3.6/dist-packages/ipykernel_launcher.py:2: UserWarning: The `nb_epoch` argument in `fit` has been renamed `epochs`.\n",
            "  \n"
          ],
          "name": "stderr"
        },
        {
          "output_type": "stream",
          "text": [
            "594225/594225 [==============================] - 1s 3us/step - loss: 0.0068 - acc: 0.9146\n",
            "Epoch 2/5\n",
            "594225/594225 [==============================] - 1s 2us/step - loss: 0.0067 - acc: 0.9136\n",
            "Epoch 3/5\n",
            "594225/594225 [==============================] - 1s 2us/step - loss: 0.0067 - acc: 0.9160\n",
            "Epoch 4/5\n",
            "594225/594225 [==============================] - 2s 3us/step - loss: 0.0067 - acc: 0.9135\n",
            "Epoch 5/5\n",
            "594225/594225 [==============================] - 2s 3us/step - loss: 0.0068 - acc: 0.9112\n",
            "Epoch 1/5\n",
            " 64600/594225 [==>...........................] - ETA: 1s - loss: 0.0066 - acc: 0.9158"
          ],
          "name": "stdout"
        },
        {
          "output_type": "stream",
          "text": [
            "/usr/local/lib/python3.6/dist-packages/ipykernel_launcher.py:2: UserWarning: The `nb_epoch` argument in `fit` has been renamed `epochs`.\n",
            "  \n"
          ],
          "name": "stderr"
        },
        {
          "output_type": "stream",
          "text": [
            "594225/594225 [==============================] - 1s 2us/step - loss: 0.0067 - acc: 0.9154\n",
            "Epoch 2/5\n",
            "594225/594225 [==============================] - 2s 3us/step - loss: 0.0068 - acc: 0.9136\n",
            "Epoch 3/5\n",
            "594225/594225 [==============================] - 1s 2us/step - loss: 0.0067 - acc: 0.9157\n",
            "Epoch 4/5\n",
            "594225/594225 [==============================] - 2s 3us/step - loss: 0.0067 - acc: 0.9149\n",
            "Epoch 5/5\n",
            "594225/594225 [==============================] - 2s 3us/step - loss: 0.0067 - acc: 0.9103\n",
            "Epoch 1/5\n",
            " 66500/594225 [==>...........................] - ETA: 1s - loss: 0.0067 - acc: 0.9067"
          ],
          "name": "stdout"
        },
        {
          "output_type": "stream",
          "text": [
            "/usr/local/lib/python3.6/dist-packages/ipykernel_launcher.py:2: UserWarning: The `nb_epoch` argument in `fit` has been renamed `epochs`.\n",
            "  \n"
          ],
          "name": "stderr"
        },
        {
          "output_type": "stream",
          "text": [
            "594225/594225 [==============================] - 1s 2us/step - loss: 0.0067 - acc: 0.9135\n",
            "Epoch 2/5\n",
            "594225/594225 [==============================] - 1s 3us/step - loss: 0.0067 - acc: 0.9162\n",
            "Epoch 3/5\n",
            "594225/594225 [==============================] - 1s 2us/step - loss: 0.0067 - acc: 0.9122\n",
            "Epoch 4/5\n",
            "594225/594225 [==============================] - 1s 2us/step - loss: 0.0067 - acc: 0.9142\n",
            "Epoch 5/5\n",
            "594225/594225 [==============================] - 1s 2us/step - loss: 0.0067 - acc: 0.9129\n",
            "Epoch 1/5\n",
            " 62700/594225 [==>...........................] - ETA: 1s - loss: 0.0067 - acc: 0.9126"
          ],
          "name": "stdout"
        },
        {
          "output_type": "stream",
          "text": [
            "/usr/local/lib/python3.6/dist-packages/ipykernel_launcher.py:2: UserWarning: The `nb_epoch` argument in `fit` has been renamed `epochs`.\n",
            "  \n"
          ],
          "name": "stderr"
        },
        {
          "output_type": "stream",
          "text": [
            "594225/594225 [==============================] - 2s 3us/step - loss: 0.0067 - acc: 0.9148\n",
            "Epoch 2/5\n",
            "594225/594225 [==============================] - 1s 3us/step - loss: 0.0067 - acc: 0.9136\n",
            "Epoch 3/5\n",
            "594225/594225 [==============================] - 1s 2us/step - loss: 0.0067 - acc: 0.9150\n",
            "Epoch 4/5\n",
            "594225/594225 [==============================] - 1s 2us/step - loss: 0.0067 - acc: 0.9132\n",
            "Epoch 5/5\n",
            "594225/594225 [==============================] - 1s 2us/step - loss: 0.0066 - acc: 0.9131\n",
            "Epoch 1/5\n",
            " 62700/594225 [==>...........................] - ETA: 1s - loss: 0.0067 - acc: 0.9137"
          ],
          "name": "stdout"
        },
        {
          "output_type": "stream",
          "text": [
            "/usr/local/lib/python3.6/dist-packages/ipykernel_launcher.py:2: UserWarning: The `nb_epoch` argument in `fit` has been renamed `epochs`.\n",
            "  \n"
          ],
          "name": "stderr"
        },
        {
          "output_type": "stream",
          "text": [
            "594225/594225 [==============================] - 1s 2us/step - loss: 0.0067 - acc: 0.9135\n",
            "Epoch 2/5\n",
            "594225/594225 [==============================] - 1s 2us/step - loss: 0.0067 - acc: 0.9128\n",
            "Epoch 3/5\n",
            "594225/594225 [==============================] - 2s 3us/step - loss: 0.0068 - acc: 0.9127\n",
            "Epoch 4/5\n",
            "594225/594225 [==============================] - 1s 3us/step - loss: 0.0067 - acc: 0.9155\n",
            "Epoch 5/5\n",
            "594225/594225 [==============================] - 1s 2us/step - loss: 0.0067 - acc: 0.9149\n",
            "Epoch 1/5\n",
            " 64600/594225 [==>...........................] - ETA: 1s - loss: 0.0067 - acc: 0.9076"
          ],
          "name": "stdout"
        },
        {
          "output_type": "stream",
          "text": [
            "/usr/local/lib/python3.6/dist-packages/ipykernel_launcher.py:2: UserWarning: The `nb_epoch` argument in `fit` has been renamed `epochs`.\n",
            "  \n"
          ],
          "name": "stderr"
        },
        {
          "output_type": "stream",
          "text": [
            "594225/594225 [==============================] - 1s 3us/step - loss: 0.0067 - acc: 0.9128\n",
            "Epoch 2/5\n",
            "594225/594225 [==============================] - 1s 2us/step - loss: 0.0068 - acc: 0.9125\n",
            "Epoch 3/5\n",
            "594225/594225 [==============================] - 2s 3us/step - loss: 0.0067 - acc: 0.9139\n",
            "Epoch 4/5\n",
            "594225/594225 [==============================] - 1s 2us/step - loss: 0.0067 - acc: 0.9146\n",
            "Epoch 5/5\n",
            "594225/594225 [==============================] - 2s 3us/step - loss: 0.0067 - acc: 0.9117\n",
            "Epoch 1/5\n",
            " 62700/594225 [==>...........................] - ETA: 1s - loss: 0.0066 - acc: 0.9174"
          ],
          "name": "stdout"
        },
        {
          "output_type": "stream",
          "text": [
            "/usr/local/lib/python3.6/dist-packages/ipykernel_launcher.py:2: UserWarning: The `nb_epoch` argument in `fit` has been renamed `epochs`.\n",
            "  \n"
          ],
          "name": "stderr"
        },
        {
          "output_type": "stream",
          "text": [
            "594225/594225 [==============================] - 2s 3us/step - loss: 0.0067 - acc: 0.9146\n",
            "Epoch 2/5\n",
            "594225/594225 [==============================] - 2s 3us/step - loss: 0.0067 - acc: 0.9152\n",
            "Epoch 3/5\n",
            "594225/594225 [==============================] - 2s 3us/step - loss: 0.0067 - acc: 0.9124\n",
            "Epoch 4/5\n",
            "594225/594225 [==============================] - 2s 3us/step - loss: 0.0066 - acc: 0.9144\n",
            "Epoch 5/5\n",
            "594225/594225 [==============================] - 2s 3us/step - loss: 0.0067 - acc: 0.9154\n",
            "Epoch 1/5\n",
            " 64600/594225 [==>...........................] - ETA: 1s - loss: 0.0067 - acc: 0.9147"
          ],
          "name": "stdout"
        },
        {
          "output_type": "stream",
          "text": [
            "/usr/local/lib/python3.6/dist-packages/ipykernel_launcher.py:2: UserWarning: The `nb_epoch` argument in `fit` has been renamed `epochs`.\n",
            "  \n"
          ],
          "name": "stderr"
        },
        {
          "output_type": "stream",
          "text": [
            "594225/594225 [==============================] - 1s 2us/step - loss: 0.0067 - acc: 0.9163\n",
            "Epoch 2/5\n",
            "594225/594225 [==============================] - 1s 2us/step - loss: 0.0067 - acc: 0.9144\n",
            "Epoch 3/5\n",
            "594225/594225 [==============================] - 2s 3us/step - loss: 0.0067 - acc: 0.9130\n",
            "Epoch 4/5\n",
            "594225/594225 [==============================] - 1s 3us/step - loss: 0.0067 - acc: 0.9129\n",
            "Epoch 5/5\n",
            "594225/594225 [==============================] - 1s 3us/step - loss: 0.0067 - acc: 0.9130\n",
            "Epoch 1/5\n",
            " 64600/594225 [==>...........................] - ETA: 1s - loss: 0.0067 - acc: 0.9128"
          ],
          "name": "stdout"
        },
        {
          "output_type": "stream",
          "text": [
            "/usr/local/lib/python3.6/dist-packages/ipykernel_launcher.py:2: UserWarning: The `nb_epoch` argument in `fit` has been renamed `epochs`.\n",
            "  \n"
          ],
          "name": "stderr"
        },
        {
          "output_type": "stream",
          "text": [
            "594225/594225 [==============================] - 2s 3us/step - loss: 0.0067 - acc: 0.9137\n",
            "Epoch 2/5\n",
            "594225/594225 [==============================] - 1s 2us/step - loss: 0.0067 - acc: 0.9143\n",
            "Epoch 3/5\n",
            "594225/594225 [==============================] - 1s 3us/step - loss: 0.0067 - acc: 0.9130\n",
            "Epoch 4/5\n",
            "594225/594225 [==============================] - 1s 3us/step - loss: 0.0067 - acc: 0.9151\n",
            "Epoch 5/5\n",
            "594225/594225 [==============================] - 2s 3us/step - loss: 0.0067 - acc: 0.9152\n",
            "Epoch 1/5\n",
            " 66500/594225 [==>...........................] - ETA: 1s - loss: 0.0068 - acc: 0.9124"
          ],
          "name": "stdout"
        },
        {
          "output_type": "stream",
          "text": [
            "/usr/local/lib/python3.6/dist-packages/ipykernel_launcher.py:2: UserWarning: The `nb_epoch` argument in `fit` has been renamed `epochs`.\n",
            "  \n"
          ],
          "name": "stderr"
        },
        {
          "output_type": "stream",
          "text": [
            "594225/594225 [==============================] - 2s 3us/step - loss: 0.0068 - acc: 0.9157\n",
            "Epoch 2/5\n",
            "594225/594225 [==============================] - 1s 2us/step - loss: 0.0067 - acc: 0.9160\n",
            "Epoch 3/5\n",
            "594225/594225 [==============================] - 2s 3us/step - loss: 0.0067 - acc: 0.9146\n",
            "Epoch 4/5\n",
            "594225/594225 [==============================] - 1s 2us/step - loss: 0.0067 - acc: 0.9159\n",
            "Epoch 5/5\n",
            "594225/594225 [==============================] - 1s 2us/step - loss: 0.0067 - acc: 0.9142\n",
            "Epoch 1/5\n",
            " 62700/594225 [==>...........................] - ETA: 1s - loss: 0.0067 - acc: 0.9109"
          ],
          "name": "stdout"
        },
        {
          "output_type": "stream",
          "text": [
            "/usr/local/lib/python3.6/dist-packages/ipykernel_launcher.py:2: UserWarning: The `nb_epoch` argument in `fit` has been renamed `epochs`.\n",
            "  \n"
          ],
          "name": "stderr"
        },
        {
          "output_type": "stream",
          "text": [
            "594225/594225 [==============================] - 2s 3us/step - loss: 0.0067 - acc: 0.9150\n",
            "Epoch 2/5\n",
            "594225/594225 [==============================] - 1s 3us/step - loss: 0.0067 - acc: 0.9171\n",
            "Epoch 3/5\n",
            "594225/594225 [==============================] - 2s 3us/step - loss: 0.0067 - acc: 0.9149\n",
            "Epoch 4/5\n",
            "594225/594225 [==============================] - 2s 3us/step - loss: 0.0067 - acc: 0.9146\n",
            "Epoch 5/5\n",
            "594225/594225 [==============================] - 2s 3us/step - loss: 0.0067 - acc: 0.9147\n",
            "Epoch 1/5\n",
            " 68400/594225 [==>...........................] - ETA: 1s - loss: 0.0067 - acc: 0.9213"
          ],
          "name": "stdout"
        },
        {
          "output_type": "stream",
          "text": [
            "/usr/local/lib/python3.6/dist-packages/ipykernel_launcher.py:2: UserWarning: The `nb_epoch` argument in `fit` has been renamed `epochs`.\n",
            "  \n"
          ],
          "name": "stderr"
        },
        {
          "output_type": "stream",
          "text": [
            "594225/594225 [==============================] - 1s 3us/step - loss: 0.0067 - acc: 0.9160\n",
            "Epoch 2/5\n",
            "594225/594225 [==============================] - 2s 3us/step - loss: 0.0066 - acc: 0.9153\n",
            "Epoch 3/5\n",
            "594225/594225 [==============================] - 2s 3us/step - loss: 0.0067 - acc: 0.9148\n",
            "Epoch 4/5\n",
            "594225/594225 [==============================] - 2s 3us/step - loss: 0.0066 - acc: 0.9153\n",
            "Epoch 5/5\n",
            "594225/594225 [==============================] - 2s 3us/step - loss: 0.0067 - acc: 0.9149\n",
            "Epoch 1/5\n",
            " 66500/594225 [==>...........................] - ETA: 1s - loss: 0.0067 - acc: 0.9184"
          ],
          "name": "stdout"
        },
        {
          "output_type": "stream",
          "text": [
            "/usr/local/lib/python3.6/dist-packages/ipykernel_launcher.py:2: UserWarning: The `nb_epoch` argument in `fit` has been renamed `epochs`.\n",
            "  \n"
          ],
          "name": "stderr"
        },
        {
          "output_type": "stream",
          "text": [
            "594225/594225 [==============================] - 1s 3us/step - loss: 0.0067 - acc: 0.9145\n",
            "Epoch 2/5\n",
            "594225/594225 [==============================] - 1s 3us/step - loss: 0.0067 - acc: 0.9163\n",
            "Epoch 3/5\n",
            "594225/594225 [==============================] - 1s 2us/step - loss: 0.0067 - acc: 0.9148\n",
            "Epoch 4/5\n",
            "594225/594225 [==============================] - 1s 2us/step - loss: 0.0067 - acc: 0.9153\n",
            "Epoch 5/5\n",
            "594225/594225 [==============================] - 1s 2us/step - loss: 0.0067 - acc: 0.9128\n",
            "Epoch 1/5\n",
            " 64600/594225 [==>...........................] - ETA: 1s - loss: 0.0068 - acc: 0.9117"
          ],
          "name": "stdout"
        },
        {
          "output_type": "stream",
          "text": [
            "/usr/local/lib/python3.6/dist-packages/ipykernel_launcher.py:2: UserWarning: The `nb_epoch` argument in `fit` has been renamed `epochs`.\n",
            "  \n"
          ],
          "name": "stderr"
        },
        {
          "output_type": "stream",
          "text": [
            "594225/594225 [==============================] - 1s 3us/step - loss: 0.0067 - acc: 0.9134\n",
            "Epoch 2/5\n",
            "594225/594225 [==============================] - 1s 2us/step - loss: 0.0067 - acc: 0.9127\n",
            "Epoch 3/5\n",
            "594225/594225 [==============================] - 1s 3us/step - loss: 0.0067 - acc: 0.9127\n",
            "Epoch 4/5\n",
            "594225/594225 [==============================] - 1s 2us/step - loss: 0.0067 - acc: 0.9150\n",
            "Epoch 5/5\n",
            "594225/594225 [==============================] - 2s 3us/step - loss: 0.0067 - acc: 0.9136\n",
            "Epoch 1/5\n",
            " 62700/594225 [==>...........................] - ETA: 1s - loss: 0.0067 - acc: 0.9197"
          ],
          "name": "stdout"
        },
        {
          "output_type": "stream",
          "text": [
            "/usr/local/lib/python3.6/dist-packages/ipykernel_launcher.py:2: UserWarning: The `nb_epoch` argument in `fit` has been renamed `epochs`.\n",
            "  \n"
          ],
          "name": "stderr"
        },
        {
          "output_type": "stream",
          "text": [
            "594225/594225 [==============================] - 2s 3us/step - loss: 0.0067 - acc: 0.9138\n",
            "Epoch 2/5\n",
            "594225/594225 [==============================] - 2s 3us/step - loss: 0.0066 - acc: 0.9143\n",
            "Epoch 3/5\n",
            "594225/594225 [==============================] - 2s 3us/step - loss: 0.0067 - acc: 0.9148\n",
            "Epoch 4/5\n",
            "594225/594225 [==============================] - 2s 3us/step - loss: 0.0067 - acc: 0.9154\n",
            "Epoch 5/5\n",
            "594225/594225 [==============================] - 1s 3us/step - loss: 0.0066 - acc: 0.9153\n",
            "Epoch 1/5\n",
            " 64600/594225 [==>...........................] - ETA: 1s - loss: 0.0068 - acc: 0.9159"
          ],
          "name": "stdout"
        },
        {
          "output_type": "stream",
          "text": [
            "/usr/local/lib/python3.6/dist-packages/ipykernel_launcher.py:2: UserWarning: The `nb_epoch` argument in `fit` has been renamed `epochs`.\n",
            "  \n"
          ],
          "name": "stderr"
        },
        {
          "output_type": "stream",
          "text": [
            "594225/594225 [==============================] - 1s 3us/step - loss: 0.0066 - acc: 0.9131\n",
            "Epoch 2/5\n",
            "594225/594225 [==============================] - 2s 3us/step - loss: 0.0066 - acc: 0.9146\n",
            "Epoch 3/5\n",
            "594225/594225 [==============================] - 2s 3us/step - loss: 0.0066 - acc: 0.9137\n",
            "Epoch 4/5\n",
            "594225/594225 [==============================] - 1s 3us/step - loss: 0.0066 - acc: 0.9144\n",
            "Epoch 5/5\n",
            "594225/594225 [==============================] - 2s 3us/step - loss: 0.0067 - acc: 0.9130\n",
            "Epoch 1/5\n",
            " 62700/594225 [==>...........................] - ETA: 1s - loss: 0.0069 - acc: 0.9094"
          ],
          "name": "stdout"
        },
        {
          "output_type": "stream",
          "text": [
            "/usr/local/lib/python3.6/dist-packages/ipykernel_launcher.py:2: UserWarning: The `nb_epoch` argument in `fit` has been renamed `epochs`.\n",
            "  \n"
          ],
          "name": "stderr"
        },
        {
          "output_type": "stream",
          "text": [
            "594225/594225 [==============================] - 2s 3us/step - loss: 0.0067 - acc: 0.9133\n",
            "Epoch 2/5\n",
            "594225/594225 [==============================] - 2s 3us/step - loss: 0.0067 - acc: 0.9143\n",
            "Epoch 3/5\n",
            "594225/594225 [==============================] - 1s 3us/step - loss: 0.0067 - acc: 0.9150\n",
            "Epoch 4/5\n",
            "594225/594225 [==============================] - 1s 2us/step - loss: 0.0067 - acc: 0.9146\n",
            "Epoch 5/5\n",
            "594225/594225 [==============================] - 2s 3us/step - loss: 0.0067 - acc: 0.9123\n",
            "Epoch 1/5\n",
            " 64600/594225 [==>...........................] - ETA: 1s - loss: 0.0065 - acc: 0.9156"
          ],
          "name": "stdout"
        },
        {
          "output_type": "stream",
          "text": [
            "/usr/local/lib/python3.6/dist-packages/ipykernel_launcher.py:2: UserWarning: The `nb_epoch` argument in `fit` has been renamed `epochs`.\n",
            "  \n"
          ],
          "name": "stderr"
        },
        {
          "output_type": "stream",
          "text": [
            "594225/594225 [==============================] - 1s 2us/step - loss: 0.0067 - acc: 0.9140\n",
            "Epoch 2/5\n",
            "594225/594225 [==============================] - 2s 3us/step - loss: 0.0066 - acc: 0.9165\n",
            "Epoch 3/5\n",
            "594225/594225 [==============================] - 1s 2us/step - loss: 0.0067 - acc: 0.9157\n",
            "Epoch 4/5\n",
            "594225/594225 [==============================] - 1s 3us/step - loss: 0.0067 - acc: 0.9142\n",
            "Epoch 5/5\n",
            "594225/594225 [==============================] - 2s 3us/step - loss: 0.0067 - acc: 0.9135\n",
            "Epoch 1/5\n",
            " 70300/594225 [==>...........................] - ETA: 1s - loss: 0.0067 - acc: 0.9162"
          ],
          "name": "stdout"
        },
        {
          "output_type": "stream",
          "text": [
            "/usr/local/lib/python3.6/dist-packages/ipykernel_launcher.py:2: UserWarning: The `nb_epoch` argument in `fit` has been renamed `epochs`.\n",
            "  \n"
          ],
          "name": "stderr"
        },
        {
          "output_type": "stream",
          "text": [
            "594225/594225 [==============================] - 1s 2us/step - loss: 0.0067 - acc: 0.9131\n",
            "Epoch 2/5\n",
            "594225/594225 [==============================] - 2s 3us/step - loss: 0.0066 - acc: 0.9138\n",
            "Epoch 3/5\n",
            "594225/594225 [==============================] - 2s 3us/step - loss: 0.0067 - acc: 0.9156\n",
            "Epoch 4/5\n",
            "594225/594225 [==============================] - 1s 3us/step - loss: 0.0066 - acc: 0.9155\n",
            "Epoch 5/5\n",
            "594225/594225 [==============================] - 2s 3us/step - loss: 0.0067 - acc: 0.9136\n",
            "Epoch 1/5\n",
            " 60800/594225 [==>...........................] - ETA: 1s - loss: 0.0067 - acc: 0.9200"
          ],
          "name": "stdout"
        },
        {
          "output_type": "stream",
          "text": [
            "/usr/local/lib/python3.6/dist-packages/ipykernel_launcher.py:2: UserWarning: The `nb_epoch` argument in `fit` has been renamed `epochs`.\n",
            "  \n"
          ],
          "name": "stderr"
        },
        {
          "output_type": "stream",
          "text": [
            "594225/594225 [==============================] - 2s 3us/step - loss: 0.0066 - acc: 0.9153\n",
            "Epoch 2/5\n",
            "594225/594225 [==============================] - 1s 2us/step - loss: 0.0066 - acc: 0.9152\n",
            "Epoch 3/5\n",
            "594225/594225 [==============================] - 1s 2us/step - loss: 0.0067 - acc: 0.9150\n",
            "Epoch 4/5\n",
            "594225/594225 [==============================] - 2s 3us/step - loss: 0.0066 - acc: 0.9133\n",
            "Epoch 5/5\n",
            "594225/594225 [==============================] - 1s 3us/step - loss: 0.0066 - acc: 0.9116\n",
            "Epoch 1/5\n",
            " 66500/594225 [==>...........................] - ETA: 1s - loss: 0.0068 - acc: 0.9103"
          ],
          "name": "stdout"
        },
        {
          "output_type": "stream",
          "text": [
            "/usr/local/lib/python3.6/dist-packages/ipykernel_launcher.py:2: UserWarning: The `nb_epoch` argument in `fit` has been renamed `epochs`.\n",
            "  \n"
          ],
          "name": "stderr"
        },
        {
          "output_type": "stream",
          "text": [
            "594225/594225 [==============================] - 2s 3us/step - loss: 0.0067 - acc: 0.9146\n",
            "Epoch 2/5\n",
            "594225/594225 [==============================] - 2s 3us/step - loss: 0.0067 - acc: 0.9164\n",
            "Epoch 3/5\n",
            "594225/594225 [==============================] - 2s 3us/step - loss: 0.0067 - acc: 0.9152\n",
            "Epoch 4/5\n",
            "594225/594225 [==============================] - 2s 3us/step - loss: 0.0066 - acc: 0.9160\n",
            "Epoch 5/5\n",
            "594225/594225 [==============================] - 2s 3us/step - loss: 0.0067 - acc: 0.9157\n",
            "Epoch 1/5\n",
            " 64600/594225 [==>...........................] - ETA: 1s - loss: 0.0069 - acc: 0.9195"
          ],
          "name": "stdout"
        },
        {
          "output_type": "stream",
          "text": [
            "/usr/local/lib/python3.6/dist-packages/ipykernel_launcher.py:2: UserWarning: The `nb_epoch` argument in `fit` has been renamed `epochs`.\n",
            "  \n"
          ],
          "name": "stderr"
        },
        {
          "output_type": "stream",
          "text": [
            "594225/594225 [==============================] - 2s 3us/step - loss: 0.0067 - acc: 0.9155\n",
            "Epoch 2/5\n",
            "594225/594225 [==============================] - 2s 3us/step - loss: 0.0066 - acc: 0.9164\n",
            "Epoch 3/5\n",
            "594225/594225 [==============================] - 2s 3us/step - loss: 0.0066 - acc: 0.9165\n",
            "Epoch 4/5\n",
            "594225/594225 [==============================] - 1s 2us/step - loss: 0.0066 - acc: 0.9171\n",
            "Epoch 5/5\n",
            "594225/594225 [==============================] - 2s 3us/step - loss: 0.0066 - acc: 0.9153\n",
            "Epoch 1/5\n",
            " 64600/594225 [==>...........................] - ETA: 1s - loss: 0.0067 - acc: 0.9163"
          ],
          "name": "stdout"
        },
        {
          "output_type": "stream",
          "text": [
            "/usr/local/lib/python3.6/dist-packages/ipykernel_launcher.py:2: UserWarning: The `nb_epoch` argument in `fit` has been renamed `epochs`.\n",
            "  \n"
          ],
          "name": "stderr"
        },
        {
          "output_type": "stream",
          "text": [
            "594225/594225 [==============================] - 1s 2us/step - loss: 0.0067 - acc: 0.9153\n",
            "Epoch 2/5\n",
            "594225/594225 [==============================] - 1s 2us/step - loss: 0.0066 - acc: 0.9156\n",
            "Epoch 3/5\n",
            "594225/594225 [==============================] - 1s 3us/step - loss: 0.0066 - acc: 0.9146\n",
            "Epoch 4/5\n",
            "594225/594225 [==============================] - 2s 3us/step - loss: 0.0066 - acc: 0.9172\n",
            "Epoch 5/5\n",
            "594225/594225 [==============================] - 1s 2us/step - loss: 0.0066 - acc: 0.9148\n",
            "Epoch 1/5\n",
            " 68400/594225 [==>...........................] - ETA: 1s - loss: 0.0065 - acc: 0.9143"
          ],
          "name": "stdout"
        },
        {
          "output_type": "stream",
          "text": [
            "/usr/local/lib/python3.6/dist-packages/ipykernel_launcher.py:2: UserWarning: The `nb_epoch` argument in `fit` has been renamed `epochs`.\n",
            "  \n"
          ],
          "name": "stderr"
        },
        {
          "output_type": "stream",
          "text": [
            "594225/594225 [==============================] - 1s 3us/step - loss: 0.0067 - acc: 0.9146\n",
            "Epoch 2/5\n",
            "594225/594225 [==============================] - 1s 3us/step - loss: 0.0067 - acc: 0.9136\n",
            "Epoch 3/5\n",
            "594225/594225 [==============================] - 1s 2us/step - loss: 0.0067 - acc: 0.9146\n",
            "Epoch 4/5\n",
            "594225/594225 [==============================] - 2s 3us/step - loss: 0.0067 - acc: 0.9143\n",
            "Epoch 5/5\n",
            "594225/594225 [==============================] - 1s 3us/step - loss: 0.0067 - acc: 0.9165\n",
            "Epoch 1/5\n",
            " 68400/594225 [==>...........................] - ETA: 1s - loss: 0.0067 - acc: 0.9175"
          ],
          "name": "stdout"
        },
        {
          "output_type": "stream",
          "text": [
            "/usr/local/lib/python3.6/dist-packages/ipykernel_launcher.py:2: UserWarning: The `nb_epoch` argument in `fit` has been renamed `epochs`.\n",
            "  \n"
          ],
          "name": "stderr"
        },
        {
          "output_type": "stream",
          "text": [
            "594225/594225 [==============================] - 2s 3us/step - loss: 0.0066 - acc: 0.9168\n",
            "Epoch 2/5\n",
            "594225/594225 [==============================] - 2s 3us/step - loss: 0.0067 - acc: 0.9150\n",
            "Epoch 3/5\n",
            "594225/594225 [==============================] - 1s 3us/step - loss: 0.0067 - acc: 0.9151\n",
            "Epoch 4/5\n",
            "594225/594225 [==============================] - 1s 3us/step - loss: 0.0066 - acc: 0.9162\n",
            "Epoch 5/5\n",
            "594225/594225 [==============================] - 1s 3us/step - loss: 0.0066 - acc: 0.9135\n",
            "Epoch 1/5\n",
            " 66500/594225 [==>...........................] - ETA: 1s - loss: 0.0067 - acc: 0.9104"
          ],
          "name": "stdout"
        },
        {
          "output_type": "stream",
          "text": [
            "/usr/local/lib/python3.6/dist-packages/ipykernel_launcher.py:2: UserWarning: The `nb_epoch` argument in `fit` has been renamed `epochs`.\n",
            "  \n"
          ],
          "name": "stderr"
        },
        {
          "output_type": "stream",
          "text": [
            "594225/594225 [==============================] - 2s 3us/step - loss: 0.0066 - acc: 0.9155\n",
            "Epoch 2/5\n",
            "594225/594225 [==============================] - 2s 3us/step - loss: 0.0066 - acc: 0.9159\n",
            "Epoch 3/5\n",
            "594225/594225 [==============================] - 2s 3us/step - loss: 0.0067 - acc: 0.9165\n",
            "Epoch 4/5\n",
            "594225/594225 [==============================] - 2s 3us/step - loss: 0.0066 - acc: 0.9146\n",
            "Epoch 5/5\n",
            "594225/594225 [==============================] - 1s 3us/step - loss: 0.0067 - acc: 0.9130\n",
            "Epoch 1/5\n",
            " 64600/594225 [==>...........................] - ETA: 1s - loss: 0.0066 - acc: 0.9139"
          ],
          "name": "stdout"
        },
        {
          "output_type": "stream",
          "text": [
            "/usr/local/lib/python3.6/dist-packages/ipykernel_launcher.py:2: UserWarning: The `nb_epoch` argument in `fit` has been renamed `epochs`.\n",
            "  \n"
          ],
          "name": "stderr"
        },
        {
          "output_type": "stream",
          "text": [
            "594225/594225 [==============================] - 2s 3us/step - loss: 0.0067 - acc: 0.9147\n",
            "Epoch 2/5\n",
            "594225/594225 [==============================] - 1s 3us/step - loss: 0.0066 - acc: 0.9153\n",
            "Epoch 3/5\n",
            "594225/594225 [==============================] - 2s 3us/step - loss: 0.0066 - acc: 0.9157\n",
            "Epoch 4/5\n",
            "594225/594225 [==============================] - 2s 3us/step - loss: 0.0066 - acc: 0.9140\n",
            "Epoch 5/5\n",
            "594225/594225 [==============================] - 2s 3us/step - loss: 0.0066 - acc: 0.9153\n",
            "Epoch 1/5\n",
            " 64600/594225 [==>...........................] - ETA: 1s - loss: 0.0067 - acc: 0.9148"
          ],
          "name": "stdout"
        },
        {
          "output_type": "stream",
          "text": [
            "/usr/local/lib/python3.6/dist-packages/ipykernel_launcher.py:2: UserWarning: The `nb_epoch` argument in `fit` has been renamed `epochs`.\n",
            "  \n"
          ],
          "name": "stderr"
        },
        {
          "output_type": "stream",
          "text": [
            "594225/594225 [==============================] - 1s 2us/step - loss: 0.0067 - acc: 0.9145\n",
            "Epoch 2/5\n",
            "594225/594225 [==============================] - 2s 3us/step - loss: 0.0067 - acc: 0.9152\n",
            "Epoch 3/5\n",
            "594225/594225 [==============================] - 2s 3us/step - loss: 0.0066 - acc: 0.9148\n",
            "Epoch 4/5\n",
            "594225/594225 [==============================] - 2s 3us/step - loss: 0.0066 - acc: 0.9162\n",
            "Epoch 5/5\n",
            "594225/594225 [==============================] - 1s 2us/step - loss: 0.0066 - acc: 0.9152\n",
            "Epoch 1/5\n",
            " 64600/594225 [==>...........................] - ETA: 1s - loss: 0.0068 - acc: 0.9133"
          ],
          "name": "stdout"
        },
        {
          "output_type": "stream",
          "text": [
            "/usr/local/lib/python3.6/dist-packages/ipykernel_launcher.py:2: UserWarning: The `nb_epoch` argument in `fit` has been renamed `epochs`.\n",
            "  \n"
          ],
          "name": "stderr"
        },
        {
          "output_type": "stream",
          "text": [
            "594225/594225 [==============================] - 1s 3us/step - loss: 0.0066 - acc: 0.9149\n",
            "Epoch 2/5\n",
            "594225/594225 [==============================] - 2s 3us/step - loss: 0.0066 - acc: 0.9151\n",
            "Epoch 3/5\n",
            "594225/594225 [==============================] - 2s 3us/step - loss: 0.0066 - acc: 0.9145\n",
            "Epoch 4/5\n",
            "594225/594225 [==============================] - 2s 3us/step - loss: 0.0066 - acc: 0.9162\n",
            "Epoch 5/5\n",
            "594225/594225 [==============================] - 1s 2us/step - loss: 0.0066 - acc: 0.9164\n",
            "Epoch 1/5\n",
            " 66500/594225 [==>...........................] - ETA: 1s - loss: 0.0065 - acc: 0.9151"
          ],
          "name": "stdout"
        },
        {
          "output_type": "stream",
          "text": [
            "/usr/local/lib/python3.6/dist-packages/ipykernel_launcher.py:2: UserWarning: The `nb_epoch` argument in `fit` has been renamed `epochs`.\n",
            "  \n"
          ],
          "name": "stderr"
        },
        {
          "output_type": "stream",
          "text": [
            "594225/594225 [==============================] - 1s 2us/step - loss: 0.0066 - acc: 0.9161\n",
            "Epoch 2/5\n",
            "594225/594225 [==============================] - 2s 3us/step - loss: 0.0066 - acc: 0.9148\n",
            "Epoch 3/5\n",
            "594225/594225 [==============================] - 1s 3us/step - loss: 0.0067 - acc: 0.9148\n",
            "Epoch 4/5\n",
            "594225/594225 [==============================] - 1s 2us/step - loss: 0.0066 - acc: 0.9144\n",
            "Epoch 5/5\n",
            "594225/594225 [==============================] - 2s 3us/step - loss: 0.0066 - acc: 0.9152\n",
            "Epoch 1/5\n",
            " 70300/594225 [==>...........................] - ETA: 1s - loss: 0.0067 - acc: 0.9140"
          ],
          "name": "stdout"
        },
        {
          "output_type": "stream",
          "text": [
            "/usr/local/lib/python3.6/dist-packages/ipykernel_launcher.py:2: UserWarning: The `nb_epoch` argument in `fit` has been renamed `epochs`.\n",
            "  \n"
          ],
          "name": "stderr"
        },
        {
          "output_type": "stream",
          "text": [
            "594225/594225 [==============================] - 2s 3us/step - loss: 0.0066 - acc: 0.9110\n",
            "Epoch 2/5\n",
            "594225/594225 [==============================] - 1s 3us/step - loss: 0.0066 - acc: 0.9136\n",
            "Epoch 3/5\n",
            "594225/594225 [==============================] - 2s 3us/step - loss: 0.0066 - acc: 0.9162\n",
            "Epoch 4/5\n",
            "594225/594225 [==============================] - 2s 3us/step - loss: 0.0066 - acc: 0.9151\n",
            "Epoch 5/5\n",
            "594225/594225 [==============================] - 1s 3us/step - loss: 0.0066 - acc: 0.9157\n",
            "Epoch 1/5\n",
            " 62700/594225 [==>...........................] - ETA: 1s - loss: 0.0066 - acc: 0.9178"
          ],
          "name": "stdout"
        },
        {
          "output_type": "stream",
          "text": [
            "/usr/local/lib/python3.6/dist-packages/ipykernel_launcher.py:2: UserWarning: The `nb_epoch` argument in `fit` has been renamed `epochs`.\n",
            "  \n"
          ],
          "name": "stderr"
        },
        {
          "output_type": "stream",
          "text": [
            "594225/594225 [==============================] - 1s 2us/step - loss: 0.0066 - acc: 0.9152\n",
            "Epoch 2/5\n",
            "594225/594225 [==============================] - 2s 3us/step - loss: 0.0066 - acc: 0.9165\n",
            "Epoch 3/5\n",
            "594225/594225 [==============================] - 1s 3us/step - loss: 0.0066 - acc: 0.9148\n",
            "Epoch 4/5\n",
            "594225/594225 [==============================] - 2s 3us/step - loss: 0.0066 - acc: 0.9174\n",
            "Epoch 5/5\n",
            "594225/594225 [==============================] - 2s 3us/step - loss: 0.0066 - acc: 0.9149\n",
            "Epoch 1/5\n",
            " 64600/594225 [==>...........................] - ETA: 1s - loss: 0.0065 - acc: 0.9186"
          ],
          "name": "stdout"
        },
        {
          "output_type": "stream",
          "text": [
            "/usr/local/lib/python3.6/dist-packages/ipykernel_launcher.py:2: UserWarning: The `nb_epoch` argument in `fit` has been renamed `epochs`.\n",
            "  \n"
          ],
          "name": "stderr"
        },
        {
          "output_type": "stream",
          "text": [
            "594225/594225 [==============================] - 2s 3us/step - loss: 0.0066 - acc: 0.9157\n",
            "Epoch 2/5\n",
            "594225/594225 [==============================] - 2s 3us/step - loss: 0.0066 - acc: 0.9148\n",
            "Epoch 3/5\n",
            "594225/594225 [==============================] - 1s 3us/step - loss: 0.0066 - acc: 0.9151\n",
            "Epoch 4/5\n",
            "594225/594225 [==============================] - 1s 3us/step - loss: 0.0067 - acc: 0.9142\n",
            "Epoch 5/5\n",
            "594225/594225 [==============================] - 1s 3us/step - loss: 0.0066 - acc: 0.9163\n",
            "Epoch 1/5\n",
            " 62700/594225 [==>...........................] - ETA: 1s - loss: 0.0066 - acc: 0.9199"
          ],
          "name": "stdout"
        },
        {
          "output_type": "stream",
          "text": [
            "/usr/local/lib/python3.6/dist-packages/ipykernel_launcher.py:2: UserWarning: The `nb_epoch` argument in `fit` has been renamed `epochs`.\n",
            "  \n"
          ],
          "name": "stderr"
        },
        {
          "output_type": "stream",
          "text": [
            "594225/594225 [==============================] - 1s 3us/step - loss: 0.0066 - acc: 0.9169\n",
            "Epoch 2/5\n",
            "594225/594225 [==============================] - 1s 3us/step - loss: 0.0066 - acc: 0.9168\n",
            "Epoch 3/5\n",
            "594225/594225 [==============================] - 2s 3us/step - loss: 0.0066 - acc: 0.9174\n",
            "Epoch 4/5\n",
            "594225/594225 [==============================] - 1s 2us/step - loss: 0.0066 - acc: 0.9165\n",
            "Epoch 5/5\n",
            "594225/594225 [==============================] - 1s 2us/step - loss: 0.0066 - acc: 0.9143\n",
            "Epoch 1/5\n",
            " 57000/594225 [=>............................] - ETA: 1s - loss: 0.0067 - acc: 0.9192"
          ],
          "name": "stdout"
        },
        {
          "output_type": "stream",
          "text": [
            "/usr/local/lib/python3.6/dist-packages/ipykernel_launcher.py:2: UserWarning: The `nb_epoch` argument in `fit` has been renamed `epochs`.\n",
            "  \n"
          ],
          "name": "stderr"
        },
        {
          "output_type": "stream",
          "text": [
            "594225/594225 [==============================] - 2s 3us/step - loss: 0.0066 - acc: 0.9157\n",
            "Epoch 2/5\n",
            "594225/594225 [==============================] - 2s 3us/step - loss: 0.0066 - acc: 0.9165\n",
            "Epoch 3/5\n",
            "594225/594225 [==============================] - 1s 3us/step - loss: 0.0066 - acc: 0.9161\n",
            "Epoch 4/5\n",
            "594225/594225 [==============================] - 2s 3us/step - loss: 0.0066 - acc: 0.9152\n",
            "Epoch 5/5\n",
            "594225/594225 [==============================] - 2s 3us/step - loss: 0.0066 - acc: 0.9156\n",
            "Epoch 1/5\n",
            " 62700/594225 [==>...........................] - ETA: 1s - loss: 0.0067 - acc: 0.9158"
          ],
          "name": "stdout"
        },
        {
          "output_type": "stream",
          "text": [
            "/usr/local/lib/python3.6/dist-packages/ipykernel_launcher.py:2: UserWarning: The `nb_epoch` argument in `fit` has been renamed `epochs`.\n",
            "  \n"
          ],
          "name": "stderr"
        },
        {
          "output_type": "stream",
          "text": [
            "594225/594225 [==============================] - 2s 3us/step - loss: 0.0066 - acc: 0.9144\n",
            "Epoch 2/5\n",
            "594225/594225 [==============================] - 1s 3us/step - loss: 0.0066 - acc: 0.9181\n",
            "Epoch 3/5\n",
            "594225/594225 [==============================] - 2s 3us/step - loss: 0.0066 - acc: 0.9163\n",
            "Epoch 4/5\n",
            "594225/594225 [==============================] - 2s 3us/step - loss: 0.0066 - acc: 0.9152\n",
            "Epoch 5/5\n",
            "594225/594225 [==============================] - 2s 3us/step - loss: 0.0066 - acc: 0.9149\n",
            "Epoch 1/5\n",
            " 68400/594225 [==>...........................] - ETA: 1s - loss: 0.0065 - acc: 0.9190"
          ],
          "name": "stdout"
        },
        {
          "output_type": "stream",
          "text": [
            "/usr/local/lib/python3.6/dist-packages/ipykernel_launcher.py:2: UserWarning: The `nb_epoch` argument in `fit` has been renamed `epochs`.\n",
            "  \n"
          ],
          "name": "stderr"
        },
        {
          "output_type": "stream",
          "text": [
            "594225/594225 [==============================] - 1s 2us/step - loss: 0.0066 - acc: 0.9163\n",
            "Epoch 2/5\n",
            "594225/594225 [==============================] - 2s 3us/step - loss: 0.0066 - acc: 0.9171\n",
            "Epoch 3/5\n",
            "594225/594225 [==============================] - 2s 3us/step - loss: 0.0066 - acc: 0.9170\n",
            "Epoch 4/5\n",
            "594225/594225 [==============================] - 2s 3us/step - loss: 0.0066 - acc: 0.9171\n",
            "Epoch 5/5\n",
            "594225/594225 [==============================] - 2s 3us/step - loss: 0.0066 - acc: 0.9164\n",
            "Epoch 1/5\n",
            " 64600/594225 [==>...........................] - ETA: 1s - loss: 0.0066 - acc: 0.9139"
          ],
          "name": "stdout"
        },
        {
          "output_type": "stream",
          "text": [
            "/usr/local/lib/python3.6/dist-packages/ipykernel_launcher.py:2: UserWarning: The `nb_epoch` argument in `fit` has been renamed `epochs`.\n",
            "  \n"
          ],
          "name": "stderr"
        },
        {
          "output_type": "stream",
          "text": [
            "594225/594225 [==============================] - 2s 3us/step - loss: 0.0066 - acc: 0.9146\n",
            "Epoch 2/5\n",
            "594225/594225 [==============================] - 1s 2us/step - loss: 0.0066 - acc: 0.9152\n",
            "Epoch 3/5\n",
            "594225/594225 [==============================] - 1s 2us/step - loss: 0.0066 - acc: 0.9162\n",
            "Epoch 4/5\n",
            "594225/594225 [==============================] - 1s 2us/step - loss: 0.0066 - acc: 0.9142\n",
            "Epoch 5/5\n",
            "594225/594225 [==============================] - 1s 2us/step - loss: 0.0066 - acc: 0.9157\n",
            "Epoch 1/5\n",
            " 60800/594225 [==>...........................] - ETA: 1s - loss: 0.0066 - acc: 0.9099"
          ],
          "name": "stdout"
        },
        {
          "output_type": "stream",
          "text": [
            "/usr/local/lib/python3.6/dist-packages/ipykernel_launcher.py:2: UserWarning: The `nb_epoch` argument in `fit` has been renamed `epochs`.\n",
            "  \n"
          ],
          "name": "stderr"
        },
        {
          "output_type": "stream",
          "text": [
            "594225/594225 [==============================] - 2s 3us/step - loss: 0.0066 - acc: 0.9151\n",
            "Epoch 2/5\n",
            "594225/594225 [==============================] - 2s 3us/step - loss: 0.0066 - acc: 0.9138\n",
            "Epoch 3/5\n",
            "594225/594225 [==============================] - 1s 3us/step - loss: 0.0066 - acc: 0.9147\n",
            "Epoch 4/5\n",
            "594225/594225 [==============================] - 1s 2us/step - loss: 0.0066 - acc: 0.9141\n",
            "Epoch 5/5\n",
            "594225/594225 [==============================] - 2s 3us/step - loss: 0.0066 - acc: 0.9133\n",
            "Epoch 1/5\n",
            " 62700/594225 [==>...........................] - ETA: 1s - loss: 0.0064 - acc: 0.9174"
          ],
          "name": "stdout"
        },
        {
          "output_type": "stream",
          "text": [
            "/usr/local/lib/python3.6/dist-packages/ipykernel_launcher.py:2: UserWarning: The `nb_epoch` argument in `fit` has been renamed `epochs`.\n",
            "  \n"
          ],
          "name": "stderr"
        },
        {
          "output_type": "stream",
          "text": [
            "594225/594225 [==============================] - 2s 3us/step - loss: 0.0066 - acc: 0.9146\n",
            "Epoch 2/5\n",
            "594225/594225 [==============================] - 2s 3us/step - loss: 0.0066 - acc: 0.9157\n",
            "Epoch 3/5\n",
            "594225/594225 [==============================] - 2s 3us/step - loss: 0.0066 - acc: 0.9154\n",
            "Epoch 4/5\n",
            "594225/594225 [==============================] - 2s 3us/step - loss: 0.0066 - acc: 0.9154\n",
            "Epoch 5/5\n",
            "594225/594225 [==============================] - 2s 3us/step - loss: 0.0066 - acc: 0.9144\n",
            "Epoch 1/5\n",
            " 55100/594225 [=>............................] - ETA: 1s - loss: 0.0066 - acc: 0.9156"
          ],
          "name": "stdout"
        },
        {
          "output_type": "stream",
          "text": [
            "/usr/local/lib/python3.6/dist-packages/ipykernel_launcher.py:2: UserWarning: The `nb_epoch` argument in `fit` has been renamed `epochs`.\n",
            "  \n"
          ],
          "name": "stderr"
        },
        {
          "output_type": "stream",
          "text": [
            "594225/594225 [==============================] - 2s 3us/step - loss: 0.0066 - acc: 0.9144\n",
            "Epoch 2/5\n",
            "594225/594225 [==============================] - 2s 3us/step - loss: 0.0066 - acc: 0.9156\n",
            "Epoch 3/5\n",
            "594225/594225 [==============================] - 2s 3us/step - loss: 0.0066 - acc: 0.9160\n",
            "Epoch 4/5\n",
            "594225/594225 [==============================] - 2s 3us/step - loss: 0.0066 - acc: 0.9170\n",
            "Epoch 5/5\n",
            "594225/594225 [==============================] - 2s 3us/step - loss: 0.0066 - acc: 0.9160\n",
            "Epoch 1/5\n",
            " 62700/594225 [==>...........................] - ETA: 1s - loss: 0.0067 - acc: 0.9186"
          ],
          "name": "stdout"
        },
        {
          "output_type": "stream",
          "text": [
            "/usr/local/lib/python3.6/dist-packages/ipykernel_launcher.py:2: UserWarning: The `nb_epoch` argument in `fit` has been renamed `epochs`.\n",
            "  \n"
          ],
          "name": "stderr"
        },
        {
          "output_type": "stream",
          "text": [
            "594225/594225 [==============================] - 2s 3us/step - loss: 0.0066 - acc: 0.9160\n",
            "Epoch 2/5\n",
            "594225/594225 [==============================] - 1s 2us/step - loss: 0.0066 - acc: 0.9166\n",
            "Epoch 3/5\n",
            "594225/594225 [==============================] - 2s 3us/step - loss: 0.0066 - acc: 0.9153\n",
            "Epoch 4/5\n",
            "594225/594225 [==============================] - 2s 3us/step - loss: 0.0066 - acc: 0.9146\n",
            "Epoch 5/5\n",
            "594225/594225 [==============================] - 2s 3us/step - loss: 0.0066 - acc: 0.9152\n",
            "Epoch 1/5\n",
            " 58900/594225 [=>............................] - ETA: 1s - loss: 0.0066 - acc: 0.9169"
          ],
          "name": "stdout"
        },
        {
          "output_type": "stream",
          "text": [
            "/usr/local/lib/python3.6/dist-packages/ipykernel_launcher.py:2: UserWarning: The `nb_epoch` argument in `fit` has been renamed `epochs`.\n",
            "  \n"
          ],
          "name": "stderr"
        },
        {
          "output_type": "stream",
          "text": [
            "594225/594225 [==============================] - 1s 2us/step - loss: 0.0065 - acc: 0.9145\n",
            "Epoch 2/5\n",
            "594225/594225 [==============================] - 2s 3us/step - loss: 0.0066 - acc: 0.9155\n",
            "Epoch 3/5\n",
            "594225/594225 [==============================] - 1s 2us/step - loss: 0.0066 - acc: 0.9151\n",
            "Epoch 4/5\n",
            "594225/594225 [==============================] - 2s 3us/step - loss: 0.0066 - acc: 0.9152\n",
            "Epoch 5/5\n",
            "594225/594225 [==============================] - 2s 3us/step - loss: 0.0066 - acc: 0.9154\n",
            "Epoch 1/5\n",
            " 68400/594225 [==>...........................] - ETA: 1s - loss: 0.0066 - acc: 0.9110"
          ],
          "name": "stdout"
        },
        {
          "output_type": "stream",
          "text": [
            "/usr/local/lib/python3.6/dist-packages/ipykernel_launcher.py:2: UserWarning: The `nb_epoch` argument in `fit` has been renamed `epochs`.\n",
            "  \n"
          ],
          "name": "stderr"
        },
        {
          "output_type": "stream",
          "text": [
            "594225/594225 [==============================] - 1s 3us/step - loss: 0.0066 - acc: 0.9147\n",
            "Epoch 2/5\n",
            "594225/594225 [==============================] - 2s 3us/step - loss: 0.0066 - acc: 0.9162\n",
            "Epoch 3/5\n",
            "594225/594225 [==============================] - 2s 3us/step - loss: 0.0066 - acc: 0.9156\n",
            "Epoch 4/5\n",
            "594225/594225 [==============================] - 2s 3us/step - loss: 0.0066 - acc: 0.9143\n",
            "Epoch 5/5\n",
            "594225/594225 [==============================] - 2s 3us/step - loss: 0.0066 - acc: 0.9164\n",
            "Epoch 1/5\n",
            " 58900/594225 [=>............................] - ETA: 1s - loss: 0.0065 - acc: 0.9125"
          ],
          "name": "stdout"
        },
        {
          "output_type": "stream",
          "text": [
            "/usr/local/lib/python3.6/dist-packages/ipykernel_launcher.py:2: UserWarning: The `nb_epoch` argument in `fit` has been renamed `epochs`.\n",
            "  \n"
          ],
          "name": "stderr"
        },
        {
          "output_type": "stream",
          "text": [
            "594225/594225 [==============================] - 2s 3us/step - loss: 0.0065 - acc: 0.9159\n",
            "Epoch 2/5\n",
            "594225/594225 [==============================] - 2s 3us/step - loss: 0.0066 - acc: 0.9146\n",
            "Epoch 3/5\n",
            "594225/594225 [==============================] - 2s 3us/step - loss: 0.0065 - acc: 0.9182\n",
            "Epoch 4/5\n",
            "594225/594225 [==============================] - 2s 3us/step - loss: 0.0066 - acc: 0.9171\n",
            "Epoch 5/5\n",
            "594225/594225 [==============================] - 2s 3us/step - loss: 0.0065 - acc: 0.9161\n",
            "Epoch 1/5\n",
            " 62700/594225 [==>...........................] - ETA: 1s - loss: 0.0065 - acc: 0.9152"
          ],
          "name": "stdout"
        },
        {
          "output_type": "stream",
          "text": [
            "/usr/local/lib/python3.6/dist-packages/ipykernel_launcher.py:2: UserWarning: The `nb_epoch` argument in `fit` has been renamed `epochs`.\n",
            "  \n"
          ],
          "name": "stderr"
        },
        {
          "output_type": "stream",
          "text": [
            "594225/594225 [==============================] - 2s 3us/step - loss: 0.0066 - acc: 0.9167\n",
            "Epoch 2/5\n",
            "594225/594225 [==============================] - 2s 3us/step - loss: 0.0066 - acc: 0.9185\n",
            "Epoch 3/5\n",
            "594225/594225 [==============================] - 2s 3us/step - loss: 0.0065 - acc: 0.9168\n",
            "Epoch 4/5\n",
            "594225/594225 [==============================] - 2s 3us/step - loss: 0.0065 - acc: 0.9182\n",
            "Epoch 5/5\n",
            "594225/594225 [==============================] - 2s 3us/step - loss: 0.0066 - acc: 0.9162\n",
            "Epoch 1/5\n",
            " 64600/594225 [==>...........................] - ETA: 1s - loss: 0.0066 - acc: 0.9181"
          ],
          "name": "stdout"
        },
        {
          "output_type": "stream",
          "text": [
            "/usr/local/lib/python3.6/dist-packages/ipykernel_launcher.py:2: UserWarning: The `nb_epoch` argument in `fit` has been renamed `epochs`.\n",
            "  \n"
          ],
          "name": "stderr"
        },
        {
          "output_type": "stream",
          "text": [
            "594225/594225 [==============================] - 2s 3us/step - loss: 0.0065 - acc: 0.9161\n",
            "Epoch 2/5\n",
            "594225/594225 [==============================] - 2s 3us/step - loss: 0.0066 - acc: 0.9157\n",
            "Epoch 3/5\n",
            "594225/594225 [==============================] - 2s 3us/step - loss: 0.0066 - acc: 0.9155\n",
            "Epoch 4/5\n",
            "594225/594225 [==============================] - 2s 3us/step - loss: 0.0065 - acc: 0.9153\n",
            "Epoch 5/5\n",
            "594225/594225 [==============================] - 1s 3us/step - loss: 0.0066 - acc: 0.9139\n",
            "Epoch 1/5\n",
            " 62700/594225 [==>...........................] - ETA: 1s - loss: 0.0066 - acc: 0.9163"
          ],
          "name": "stdout"
        },
        {
          "output_type": "stream",
          "text": [
            "/usr/local/lib/python3.6/dist-packages/ipykernel_launcher.py:2: UserWarning: The `nb_epoch` argument in `fit` has been renamed `epochs`.\n",
            "  \n"
          ],
          "name": "stderr"
        },
        {
          "output_type": "stream",
          "text": [
            "594225/594225 [==============================] - 1s 2us/step - loss: 0.0066 - acc: 0.9160\n",
            "Epoch 2/5\n",
            "594225/594225 [==============================] - 2s 3us/step - loss: 0.0066 - acc: 0.9155\n",
            "Epoch 3/5\n",
            "594225/594225 [==============================] - 1s 2us/step - loss: 0.0066 - acc: 0.9163\n",
            "Epoch 4/5\n",
            "594225/594225 [==============================] - 1s 2us/step - loss: 0.0066 - acc: 0.9162\n",
            "Epoch 5/5\n",
            "594225/594225 [==============================] - 2s 3us/step - loss: 0.0065 - acc: 0.9172\n",
            "Epoch 1/5\n",
            " 58900/594225 [=>............................] - ETA: 1s - loss: 0.0066 - acc: 0.9206"
          ],
          "name": "stdout"
        },
        {
          "output_type": "stream",
          "text": [
            "/usr/local/lib/python3.6/dist-packages/ipykernel_launcher.py:2: UserWarning: The `nb_epoch` argument in `fit` has been renamed `epochs`.\n",
            "  \n"
          ],
          "name": "stderr"
        },
        {
          "output_type": "stream",
          "text": [
            "594225/594225 [==============================] - 2s 3us/step - loss: 0.0066 - acc: 0.9169\n",
            "Epoch 2/5\n",
            "594225/594225 [==============================] - 1s 2us/step - loss: 0.0066 - acc: 0.9156\n",
            "Epoch 3/5\n",
            "594225/594225 [==============================] - 1s 3us/step - loss: 0.0066 - acc: 0.9159\n",
            "Epoch 4/5\n",
            "594225/594225 [==============================] - 1s 2us/step - loss: 0.0066 - acc: 0.9145\n",
            "Epoch 5/5\n",
            "594225/594225 [==============================] - 2s 3us/step - loss: 0.0065 - acc: 0.9183\n",
            "Epoch 1/5\n",
            " 68400/594225 [==>...........................] - ETA: 1s - loss: 0.0064 - acc: 0.9173"
          ],
          "name": "stdout"
        },
        {
          "output_type": "stream",
          "text": [
            "/usr/local/lib/python3.6/dist-packages/ipykernel_launcher.py:2: UserWarning: The `nb_epoch` argument in `fit` has been renamed `epochs`.\n",
            "  \n"
          ],
          "name": "stderr"
        },
        {
          "output_type": "stream",
          "text": [
            "594225/594225 [==============================] - 1s 2us/step - loss: 0.0066 - acc: 0.9167\n",
            "Epoch 2/5\n",
            "594225/594225 [==============================] - 2s 3us/step - loss: 0.0066 - acc: 0.9155\n",
            "Epoch 3/5\n",
            "594225/594225 [==============================] - 1s 3us/step - loss: 0.0066 - acc: 0.9168\n",
            "Epoch 4/5\n",
            "594225/594225 [==============================] - 2s 3us/step - loss: 0.0066 - acc: 0.9161\n",
            "Epoch 5/5\n",
            "594225/594225 [==============================] - 2s 3us/step - loss: 0.0066 - acc: 0.9173\n",
            "Epoch 1/5\n",
            " 64600/594225 [==>...........................] - ETA: 1s - loss: 0.0066 - acc: 0.9152"
          ],
          "name": "stdout"
        },
        {
          "output_type": "stream",
          "text": [
            "/usr/local/lib/python3.6/dist-packages/ipykernel_launcher.py:2: UserWarning: The `nb_epoch` argument in `fit` has been renamed `epochs`.\n",
            "  \n"
          ],
          "name": "stderr"
        },
        {
          "output_type": "stream",
          "text": [
            "594225/594225 [==============================] - 1s 3us/step - loss: 0.0066 - acc: 0.9165\n",
            "Epoch 2/5\n",
            "594225/594225 [==============================] - 2s 3us/step - loss: 0.0066 - acc: 0.9160\n",
            "Epoch 3/5\n",
            "594225/594225 [==============================] - 2s 3us/step - loss: 0.0066 - acc: 0.9158\n",
            "Epoch 4/5\n",
            "594225/594225 [==============================] - 2s 3us/step - loss: 0.0066 - acc: 0.9180\n",
            "Epoch 5/5\n",
            "594225/594225 [==============================] - 2s 3us/step - loss: 0.0066 - acc: 0.9174\n",
            "Epoch 1/5\n",
            " 64600/594225 [==>...........................] - ETA: 1s - loss: 0.0066 - acc: 0.9103"
          ],
          "name": "stdout"
        },
        {
          "output_type": "stream",
          "text": [
            "/usr/local/lib/python3.6/dist-packages/ipykernel_launcher.py:2: UserWarning: The `nb_epoch` argument in `fit` has been renamed `epochs`.\n",
            "  \n"
          ],
          "name": "stderr"
        },
        {
          "output_type": "stream",
          "text": [
            "594225/594225 [==============================] - 1s 2us/step - loss: 0.0065 - acc: 0.9155\n",
            "Epoch 2/5\n",
            "594225/594225 [==============================] - 1s 2us/step - loss: 0.0066 - acc: 0.9160\n",
            "Epoch 3/5\n",
            "594225/594225 [==============================] - 2s 3us/step - loss: 0.0066 - acc: 0.9156\n",
            "Epoch 4/5\n",
            "594225/594225 [==============================] - 2s 3us/step - loss: 0.0066 - acc: 0.9169\n",
            "Epoch 5/5\n",
            "594225/594225 [==============================] - 2s 3us/step - loss: 0.0066 - acc: 0.9163\n",
            "Epoch 1/5\n",
            " 60800/594225 [==>...........................] - ETA: 1s - loss: 0.0066 - acc: 0.9081"
          ],
          "name": "stdout"
        },
        {
          "output_type": "stream",
          "text": [
            "/usr/local/lib/python3.6/dist-packages/ipykernel_launcher.py:2: UserWarning: The `nb_epoch` argument in `fit` has been renamed `epochs`.\n",
            "  \n"
          ],
          "name": "stderr"
        },
        {
          "output_type": "stream",
          "text": [
            "594225/594225 [==============================] - 2s 3us/step - loss: 0.0066 - acc: 0.9158\n",
            "Epoch 2/5\n",
            "594225/594225 [==============================] - 2s 3us/step - loss: 0.0065 - acc: 0.9169\n",
            "Epoch 3/5\n",
            "594225/594225 [==============================] - 2s 3us/step - loss: 0.0065 - acc: 0.9161\n",
            "Epoch 4/5\n",
            "594225/594225 [==============================] - 2s 3us/step - loss: 0.0066 - acc: 0.9140\n",
            "Epoch 5/5\n",
            "594225/594225 [==============================] - 1s 2us/step - loss: 0.0066 - acc: 0.9140\n",
            "Epoch 1/5\n",
            " 66500/594225 [==>...........................] - ETA: 1s - loss: 0.0065 - acc: 0.9138"
          ],
          "name": "stdout"
        },
        {
          "output_type": "stream",
          "text": [
            "/usr/local/lib/python3.6/dist-packages/ipykernel_launcher.py:2: UserWarning: The `nb_epoch` argument in `fit` has been renamed `epochs`.\n",
            "  \n"
          ],
          "name": "stderr"
        },
        {
          "output_type": "stream",
          "text": [
            "594225/594225 [==============================] - 1s 2us/step - loss: 0.0066 - acc: 0.9157\n",
            "Epoch 2/5\n",
            "594225/594225 [==============================] - 1s 3us/step - loss: 0.0066 - acc: 0.9127\n",
            "Epoch 3/5\n",
            "594225/594225 [==============================] - 2s 3us/step - loss: 0.0066 - acc: 0.9150\n",
            "Epoch 4/5\n",
            "594225/594225 [==============================] - 1s 3us/step - loss: 0.0066 - acc: 0.9153\n",
            "Epoch 5/5\n",
            "594225/594225 [==============================] - 2s 3us/step - loss: 0.0066 - acc: 0.9164\n",
            "Epoch 1/5\n",
            " 58900/594225 [=>............................] - ETA: 1s - loss: 0.0065 - acc: 0.9170"
          ],
          "name": "stdout"
        },
        {
          "output_type": "stream",
          "text": [
            "/usr/local/lib/python3.6/dist-packages/ipykernel_launcher.py:2: UserWarning: The `nb_epoch` argument in `fit` has been renamed `epochs`.\n",
            "  \n"
          ],
          "name": "stderr"
        },
        {
          "output_type": "stream",
          "text": [
            "594225/594225 [==============================] - 1s 2us/step - loss: 0.0065 - acc: 0.9180\n",
            "Epoch 2/5\n",
            "594225/594225 [==============================] - 1s 3us/step - loss: 0.0066 - acc: 0.9162\n",
            "Epoch 3/5\n",
            "594225/594225 [==============================] - 2s 3us/step - loss: 0.0065 - acc: 0.9166\n",
            "Epoch 4/5\n",
            "594225/594225 [==============================] - 2s 3us/step - loss: 0.0066 - acc: 0.9171\n",
            "Epoch 5/5\n",
            "594225/594225 [==============================] - 2s 3us/step - loss: 0.0066 - acc: 0.9144\n",
            "Epoch 1/5\n",
            " 62700/594225 [==>...........................] - ETA: 1s - loss: 0.0065 - acc: 0.9071"
          ],
          "name": "stdout"
        },
        {
          "output_type": "stream",
          "text": [
            "/usr/local/lib/python3.6/dist-packages/ipykernel_launcher.py:2: UserWarning: The `nb_epoch` argument in `fit` has been renamed `epochs`.\n",
            "  \n"
          ],
          "name": "stderr"
        },
        {
          "output_type": "stream",
          "text": [
            "594225/594225 [==============================] - 1s 2us/step - loss: 0.0065 - acc: 0.9166\n",
            "Epoch 2/5\n",
            "594225/594225 [==============================] - 2s 3us/step - loss: 0.0066 - acc: 0.9150\n",
            "Epoch 3/5\n",
            "594225/594225 [==============================] - 2s 3us/step - loss: 0.0065 - acc: 0.9162\n",
            "Epoch 4/5\n",
            "594225/594225 [==============================] - 2s 3us/step - loss: 0.0065 - acc: 0.9161\n",
            "Epoch 5/5\n",
            "594225/594225 [==============================] - 2s 3us/step - loss: 0.0065 - acc: 0.9178\n",
            "Epoch 1/5\n",
            " 57000/594225 [=>............................] - ETA: 1s - loss: 0.0066 - acc: 0.9131"
          ],
          "name": "stdout"
        },
        {
          "output_type": "stream",
          "text": [
            "/usr/local/lib/python3.6/dist-packages/ipykernel_launcher.py:2: UserWarning: The `nb_epoch` argument in `fit` has been renamed `epochs`.\n",
            "  \n"
          ],
          "name": "stderr"
        },
        {
          "output_type": "stream",
          "text": [
            "594225/594225 [==============================] - 2s 3us/step - loss: 0.0066 - acc: 0.9142\n",
            "Epoch 2/5\n",
            "594225/594225 [==============================] - 1s 3us/step - loss: 0.0066 - acc: 0.9144\n",
            "Epoch 3/5\n",
            "594225/594225 [==============================] - 1s 3us/step - loss: 0.0065 - acc: 0.9165\n",
            "Epoch 4/5\n",
            "594225/594225 [==============================] - 2s 3us/step - loss: 0.0066 - acc: 0.9142\n",
            "Epoch 5/5\n",
            "594225/594225 [==============================] - 2s 3us/step - loss: 0.0066 - acc: 0.9148\n",
            "Epoch 1/5\n",
            " 60800/594225 [==>...........................] - ETA: 1s - loss: 0.0064 - acc: 0.9170"
          ],
          "name": "stdout"
        },
        {
          "output_type": "stream",
          "text": [
            "/usr/local/lib/python3.6/dist-packages/ipykernel_launcher.py:2: UserWarning: The `nb_epoch` argument in `fit` has been renamed `epochs`.\n",
            "  \n"
          ],
          "name": "stderr"
        },
        {
          "output_type": "stream",
          "text": [
            "594225/594225 [==============================] - 2s 3us/step - loss: 0.0065 - acc: 0.9152\n",
            "Epoch 2/5\n",
            "594225/594225 [==============================] - 2s 3us/step - loss: 0.0066 - acc: 0.9160\n",
            "Epoch 3/5\n",
            "594225/594225 [==============================] - 2s 3us/step - loss: 0.0066 - acc: 0.9167\n",
            "Epoch 4/5\n",
            "594225/594225 [==============================] - 2s 3us/step - loss: 0.0065 - acc: 0.9170\n",
            "Epoch 5/5\n",
            "594225/594225 [==============================] - 1s 2us/step - loss: 0.0065 - acc: 0.9176\n",
            "Epoch 1/5\n",
            " 58900/594225 [=>............................] - ETA: 1s - loss: 0.0064 - acc: 0.9144"
          ],
          "name": "stdout"
        },
        {
          "output_type": "stream",
          "text": [
            "/usr/local/lib/python3.6/dist-packages/ipykernel_launcher.py:2: UserWarning: The `nb_epoch` argument in `fit` has been renamed `epochs`.\n",
            "  \n"
          ],
          "name": "stderr"
        },
        {
          "output_type": "stream",
          "text": [
            "594225/594225 [==============================] - 2s 3us/step - loss: 0.0065 - acc: 0.9169\n",
            "Epoch 2/5\n",
            "594225/594225 [==============================] - 2s 3us/step - loss: 0.0066 - acc: 0.9160\n",
            "Epoch 3/5\n",
            "594225/594225 [==============================] - 1s 2us/step - loss: 0.0066 - acc: 0.9147\n",
            "Epoch 4/5\n",
            "594225/594225 [==============================] - 2s 3us/step - loss: 0.0065 - acc: 0.9178\n",
            "Epoch 5/5\n",
            "594225/594225 [==============================] - 2s 3us/step - loss: 0.0065 - acc: 0.9167\n",
            "Epoch 1/5\n",
            " 60800/594225 [==>...........................] - ETA: 1s - loss: 0.0066 - acc: 0.9161"
          ],
          "name": "stdout"
        },
        {
          "output_type": "stream",
          "text": [
            "/usr/local/lib/python3.6/dist-packages/ipykernel_launcher.py:2: UserWarning: The `nb_epoch` argument in `fit` has been renamed `epochs`.\n",
            "  \n"
          ],
          "name": "stderr"
        },
        {
          "output_type": "stream",
          "text": [
            "594225/594225 [==============================] - 2s 3us/step - loss: 0.0066 - acc: 0.9153\n",
            "Epoch 2/5\n",
            "594225/594225 [==============================] - 2s 3us/step - loss: 0.0065 - acc: 0.9170\n",
            "Epoch 3/5\n",
            "594225/594225 [==============================] - 1s 2us/step - loss: 0.0066 - acc: 0.9155\n",
            "Epoch 4/5\n",
            "594225/594225 [==============================] - 2s 3us/step - loss: 0.0065 - acc: 0.9170\n",
            "Epoch 5/5\n",
            "594225/594225 [==============================] - 2s 3us/step - loss: 0.0066 - acc: 0.9172\n",
            "Epoch 1/5\n",
            " 64600/594225 [==>...........................] - ETA: 1s - loss: 0.0066 - acc: 0.9126"
          ],
          "name": "stdout"
        },
        {
          "output_type": "stream",
          "text": [
            "/usr/local/lib/python3.6/dist-packages/ipykernel_launcher.py:2: UserWarning: The `nb_epoch` argument in `fit` has been renamed `epochs`.\n",
            "  \n"
          ],
          "name": "stderr"
        },
        {
          "output_type": "stream",
          "text": [
            "594225/594225 [==============================] - 2s 3us/step - loss: 0.0065 - acc: 0.9170\n",
            "Epoch 2/5\n",
            "594225/594225 [==============================] - 2s 3us/step - loss: 0.0066 - acc: 0.9156\n",
            "Epoch 3/5\n",
            "594225/594225 [==============================] - 2s 3us/step - loss: 0.0065 - acc: 0.9173\n",
            "Epoch 4/5\n",
            "594225/594225 [==============================] - 2s 3us/step - loss: 0.0065 - acc: 0.9168\n",
            "Epoch 5/5\n",
            "594225/594225 [==============================] - 2s 3us/step - loss: 0.0065 - acc: 0.9151\n",
            "Epoch 1/5\n",
            " 64600/594225 [==>...........................] - ETA: 1s - loss: 0.0067 - acc: 0.9128"
          ],
          "name": "stdout"
        },
        {
          "output_type": "stream",
          "text": [
            "/usr/local/lib/python3.6/dist-packages/ipykernel_launcher.py:2: UserWarning: The `nb_epoch` argument in `fit` has been renamed `epochs`.\n",
            "  \n"
          ],
          "name": "stderr"
        },
        {
          "output_type": "stream",
          "text": [
            "594225/594225 [==============================] - 2s 3us/step - loss: 0.0066 - acc: 0.9142\n",
            "Epoch 2/5\n",
            "594225/594225 [==============================] - 2s 3us/step - loss: 0.0066 - acc: 0.9155\n",
            "Epoch 3/5\n",
            "594225/594225 [==============================] - 2s 3us/step - loss: 0.0065 - acc: 0.9154\n",
            "Epoch 4/5\n",
            "594225/594225 [==============================] - 2s 3us/step - loss: 0.0066 - acc: 0.9155\n",
            "Epoch 5/5\n",
            "594225/594225 [==============================] - 2s 3us/step - loss: 0.0065 - acc: 0.9168\n",
            "Epoch 1/5\n",
            " 64600/594225 [==>...........................] - ETA: 1s - loss: 0.0065 - acc: 0.9168"
          ],
          "name": "stdout"
        },
        {
          "output_type": "stream",
          "text": [
            "/usr/local/lib/python3.6/dist-packages/ipykernel_launcher.py:2: UserWarning: The `nb_epoch` argument in `fit` has been renamed `epochs`.\n",
            "  \n"
          ],
          "name": "stderr"
        },
        {
          "output_type": "stream",
          "text": [
            "594225/594225 [==============================] - 2s 3us/step - loss: 0.0065 - acc: 0.9164\n",
            "Epoch 2/5\n",
            "594225/594225 [==============================] - 2s 3us/step - loss: 0.0065 - acc: 0.9169\n",
            "Epoch 3/5\n",
            "594225/594225 [==============================] - 2s 3us/step - loss: 0.0065 - acc: 0.9173\n",
            "Epoch 4/5\n",
            "594225/594225 [==============================] - 2s 3us/step - loss: 0.0065 - acc: 0.9142\n",
            "Epoch 5/5\n",
            "594225/594225 [==============================] - 2s 3us/step - loss: 0.0066 - acc: 0.9164\n",
            "Epoch 1/5\n",
            " 68400/594225 [==>...........................] - ETA: 1s - loss: 0.0064 - acc: 0.9152"
          ],
          "name": "stdout"
        },
        {
          "output_type": "stream",
          "text": [
            "/usr/local/lib/python3.6/dist-packages/ipykernel_launcher.py:2: UserWarning: The `nb_epoch` argument in `fit` has been renamed `epochs`.\n",
            "  \n"
          ],
          "name": "stderr"
        },
        {
          "output_type": "stream",
          "text": [
            "594225/594225 [==============================] - 2s 3us/step - loss: 0.0065 - acc: 0.9142\n",
            "Epoch 2/5\n",
            "594225/594225 [==============================] - 2s 3us/step - loss: 0.0065 - acc: 0.9165\n",
            "Epoch 3/5\n",
            "594225/594225 [==============================] - 1s 3us/step - loss: 0.0065 - acc: 0.9168\n",
            "Epoch 4/5\n",
            "594225/594225 [==============================] - 1s 3us/step - loss: 0.0065 - acc: 0.9165\n",
            "Epoch 5/5\n",
            "594225/594225 [==============================] - 2s 3us/step - loss: 0.0066 - acc: 0.9187\n",
            "Epoch 1/5\n",
            " 62700/594225 [==>...........................] - ETA: 1s - loss: 0.0067 - acc: 0.9177"
          ],
          "name": "stdout"
        },
        {
          "output_type": "stream",
          "text": [
            "/usr/local/lib/python3.6/dist-packages/ipykernel_launcher.py:2: UserWarning: The `nb_epoch` argument in `fit` has been renamed `epochs`.\n",
            "  \n"
          ],
          "name": "stderr"
        },
        {
          "output_type": "stream",
          "text": [
            "594225/594225 [==============================] - 1s 3us/step - loss: 0.0065 - acc: 0.9191\n",
            "Epoch 2/5\n",
            "594225/594225 [==============================] - 2s 3us/step - loss: 0.0065 - acc: 0.9195\n",
            "Epoch 3/5\n",
            "594225/594225 [==============================] - 2s 3us/step - loss: 0.0065 - acc: 0.9149\n",
            "Epoch 4/5\n",
            "594225/594225 [==============================] - 2s 3us/step - loss: 0.0065 - acc: 0.9153\n",
            "Epoch 5/5\n",
            "594225/594225 [==============================] - 1s 2us/step - loss: 0.0066 - acc: 0.9149\n",
            "Epoch 1/5\n",
            " 70300/594225 [==>...........................] - ETA: 1s - loss: 0.0065 - acc: 0.9169"
          ],
          "name": "stdout"
        },
        {
          "output_type": "stream",
          "text": [
            "/usr/local/lib/python3.6/dist-packages/ipykernel_launcher.py:2: UserWarning: The `nb_epoch` argument in `fit` has been renamed `epochs`.\n",
            "  \n"
          ],
          "name": "stderr"
        },
        {
          "output_type": "stream",
          "text": [
            "594225/594225 [==============================] - 1s 2us/step - loss: 0.0066 - acc: 0.9179\n",
            "Epoch 2/5\n",
            "594225/594225 [==============================] - 2s 3us/step - loss: 0.0065 - acc: 0.9162\n",
            "Epoch 3/5\n",
            "594225/594225 [==============================] - 1s 2us/step - loss: 0.0065 - acc: 0.9167\n",
            "Epoch 4/5\n",
            "594225/594225 [==============================] - 2s 3us/step - loss: 0.0065 - acc: 0.9158\n",
            "Epoch 5/5\n",
            "594225/594225 [==============================] - 2s 3us/step - loss: 0.0065 - acc: 0.9162\n",
            "Epoch 1/5\n",
            " 62700/594225 [==>...........................] - ETA: 1s - loss: 0.0063 - acc: 0.9121"
          ],
          "name": "stdout"
        },
        {
          "output_type": "stream",
          "text": [
            "/usr/local/lib/python3.6/dist-packages/ipykernel_launcher.py:2: UserWarning: The `nb_epoch` argument in `fit` has been renamed `epochs`.\n",
            "  \n"
          ],
          "name": "stderr"
        },
        {
          "output_type": "stream",
          "text": [
            "594225/594225 [==============================] - 2s 3us/step - loss: 0.0065 - acc: 0.9153\n",
            "Epoch 2/5\n",
            "594225/594225 [==============================] - 1s 3us/step - loss: 0.0065 - acc: 0.9157\n",
            "Epoch 3/5\n",
            "594225/594225 [==============================] - 2s 3us/step - loss: 0.0066 - acc: 0.9169\n",
            "Epoch 4/5\n",
            "594225/594225 [==============================] - 1s 3us/step - loss: 0.0065 - acc: 0.9164\n",
            "Epoch 5/5\n",
            "594225/594225 [==============================] - 2s 3us/step - loss: 0.0065 - acc: 0.9172\n",
            "Epoch 1/5\n",
            " 62700/594225 [==>...........................] - ETA: 1s - loss: 0.0064 - acc: 0.9179"
          ],
          "name": "stdout"
        },
        {
          "output_type": "stream",
          "text": [
            "/usr/local/lib/python3.6/dist-packages/ipykernel_launcher.py:2: UserWarning: The `nb_epoch` argument in `fit` has been renamed `epochs`.\n",
            "  \n"
          ],
          "name": "stderr"
        },
        {
          "output_type": "stream",
          "text": [
            "594225/594225 [==============================] - 1s 3us/step - loss: 0.0065 - acc: 0.9192\n",
            "Epoch 2/5\n",
            "594225/594225 [==============================] - 2s 3us/step - loss: 0.0065 - acc: 0.9160\n",
            "Epoch 3/5\n",
            "594225/594225 [==============================] - 1s 2us/step - loss: 0.0065 - acc: 0.9164\n",
            "Epoch 4/5\n",
            "594225/594225 [==============================] - 1s 2us/step - loss: 0.0065 - acc: 0.9181\n",
            "Epoch 5/5\n",
            "594225/594225 [==============================] - 2s 3us/step - loss: 0.0065 - acc: 0.9178\n",
            "Epoch 1/5\n",
            " 64600/594225 [==>...........................] - ETA: 1s - loss: 0.0065 - acc: 0.9124"
          ],
          "name": "stdout"
        },
        {
          "output_type": "stream",
          "text": [
            "/usr/local/lib/python3.6/dist-packages/ipykernel_launcher.py:2: UserWarning: The `nb_epoch` argument in `fit` has been renamed `epochs`.\n",
            "  \n"
          ],
          "name": "stderr"
        },
        {
          "output_type": "stream",
          "text": [
            "594225/594225 [==============================] - 2s 3us/step - loss: 0.0065 - acc: 0.9161\n",
            "Epoch 2/5\n",
            "594225/594225 [==============================] - 2s 3us/step - loss: 0.0065 - acc: 0.9179\n",
            "Epoch 3/5\n",
            "594225/594225 [==============================] - 2s 3us/step - loss: 0.0065 - acc: 0.9152\n",
            "Epoch 4/5\n",
            "594225/594225 [==============================] - 2s 3us/step - loss: 0.0065 - acc: 0.9154\n",
            "Epoch 5/5\n",
            "594225/594225 [==============================] - 1s 2us/step - loss: 0.0065 - acc: 0.9166\n",
            "Epoch 1/5\n",
            " 60800/594225 [==>...........................] - ETA: 1s - loss: 0.0066 - acc: 0.9140"
          ],
          "name": "stdout"
        },
        {
          "output_type": "stream",
          "text": [
            "/usr/local/lib/python3.6/dist-packages/ipykernel_launcher.py:2: UserWarning: The `nb_epoch` argument in `fit` has been renamed `epochs`.\n",
            "  \n"
          ],
          "name": "stderr"
        },
        {
          "output_type": "stream",
          "text": [
            "594225/594225 [==============================] - 1s 3us/step - loss: 0.0065 - acc: 0.9167\n",
            "Epoch 2/5\n",
            "594225/594225 [==============================] - 2s 3us/step - loss: 0.0065 - acc: 0.9168\n",
            "Epoch 3/5\n",
            "594225/594225 [==============================] - 2s 3us/step - loss: 0.0065 - acc: 0.9163\n",
            "Epoch 4/5\n",
            "594225/594225 [==============================] - 2s 3us/step - loss: 0.0065 - acc: 0.9163\n",
            "Epoch 5/5\n",
            "594225/594225 [==============================] - 2s 3us/step - loss: 0.0065 - acc: 0.9186\n",
            "Epoch 1/5\n",
            " 62700/594225 [==>...........................] - ETA: 1s - loss: 0.0064 - acc: 0.9173"
          ],
          "name": "stdout"
        },
        {
          "output_type": "stream",
          "text": [
            "/usr/local/lib/python3.6/dist-packages/ipykernel_launcher.py:2: UserWarning: The `nb_epoch` argument in `fit` has been renamed `epochs`.\n",
            "  \n"
          ],
          "name": "stderr"
        },
        {
          "output_type": "stream",
          "text": [
            "594225/594225 [==============================] - 2s 3us/step - loss: 0.0065 - acc: 0.9166\n",
            "Epoch 2/5\n",
            "594225/594225 [==============================] - 2s 3us/step - loss: 0.0065 - acc: 0.9167\n",
            "Epoch 3/5\n",
            "594225/594225 [==============================] - 2s 3us/step - loss: 0.0066 - acc: 0.9156\n",
            "Epoch 4/5\n",
            "594225/594225 [==============================] - 2s 3us/step - loss: 0.0065 - acc: 0.9162\n",
            "Epoch 5/5\n",
            "594225/594225 [==============================] - 2s 3us/step - loss: 0.0065 - acc: 0.9150\n",
            "Epoch 1/5\n",
            " 57000/594225 [=>............................] - ETA: 1s - loss: 0.0064 - acc: 0.9160"
          ],
          "name": "stdout"
        },
        {
          "output_type": "stream",
          "text": [
            "/usr/local/lib/python3.6/dist-packages/ipykernel_launcher.py:2: UserWarning: The `nb_epoch` argument in `fit` has been renamed `epochs`.\n",
            "  \n"
          ],
          "name": "stderr"
        },
        {
          "output_type": "stream",
          "text": [
            "594225/594225 [==============================] - 2s 3us/step - loss: 0.0065 - acc: 0.9163\n",
            "Epoch 2/5\n",
            "594225/594225 [==============================] - 2s 3us/step - loss: 0.0065 - acc: 0.9184\n",
            "Epoch 3/5\n",
            "594225/594225 [==============================] - 2s 3us/step - loss: 0.0065 - acc: 0.9163\n",
            "Epoch 4/5\n",
            "594225/594225 [==============================] - 1s 3us/step - loss: 0.0065 - acc: 0.9157\n",
            "Epoch 5/5\n",
            "594225/594225 [==============================] - 1s 3us/step - loss: 0.0065 - acc: 0.9150\n",
            "Epoch 1/5\n",
            " 64600/594225 [==>...........................] - ETA: 1s - loss: 0.0063 - acc: 0.9185"
          ],
          "name": "stdout"
        },
        {
          "output_type": "stream",
          "text": [
            "/usr/local/lib/python3.6/dist-packages/ipykernel_launcher.py:2: UserWarning: The `nb_epoch` argument in `fit` has been renamed `epochs`.\n",
            "  \n"
          ],
          "name": "stderr"
        },
        {
          "output_type": "stream",
          "text": [
            "594225/594225 [==============================] - 1s 2us/step - loss: 0.0065 - acc: 0.9145\n",
            "Epoch 2/5\n",
            "594225/594225 [==============================] - 1s 2us/step - loss: 0.0065 - acc: 0.9156\n",
            "Epoch 3/5\n",
            "594225/594225 [==============================] - 2s 3us/step - loss: 0.0065 - acc: 0.9163\n",
            "Epoch 4/5\n",
            "594225/594225 [==============================] - 2s 3us/step - loss: 0.0065 - acc: 0.9166\n",
            "Epoch 5/5\n",
            "594225/594225 [==============================] - 2s 3us/step - loss: 0.0065 - acc: 0.9165\n",
            "Epoch 1/5\n",
            " 66500/594225 [==>...........................] - ETA: 1s - loss: 0.0064 - acc: 0.9174"
          ],
          "name": "stdout"
        },
        {
          "output_type": "stream",
          "text": [
            "/usr/local/lib/python3.6/dist-packages/ipykernel_launcher.py:2: UserWarning: The `nb_epoch` argument in `fit` has been renamed `epochs`.\n",
            "  \n"
          ],
          "name": "stderr"
        },
        {
          "output_type": "stream",
          "text": [
            "594225/594225 [==============================] - 2s 3us/step - loss: 0.0065 - acc: 0.9179\n",
            "Epoch 2/5\n",
            "594225/594225 [==============================] - 1s 3us/step - loss: 0.0065 - acc: 0.9179\n",
            "Epoch 3/5\n",
            "594225/594225 [==============================] - 2s 3us/step - loss: 0.0066 - acc: 0.9153\n",
            "Epoch 4/5\n",
            "594225/594225 [==============================] - 2s 3us/step - loss: 0.0065 - acc: 0.9173\n",
            "Epoch 5/5\n",
            "594225/594225 [==============================] - 1s 3us/step - loss: 0.0065 - acc: 0.9158\n",
            "Epoch 1/5\n",
            " 66500/594225 [==>...........................] - ETA: 1s - loss: 0.0065 - acc: 0.9163"
          ],
          "name": "stdout"
        },
        {
          "output_type": "stream",
          "text": [
            "/usr/local/lib/python3.6/dist-packages/ipykernel_launcher.py:2: UserWarning: The `nb_epoch` argument in `fit` has been renamed `epochs`.\n",
            "  \n"
          ],
          "name": "stderr"
        },
        {
          "output_type": "stream",
          "text": [
            "594225/594225 [==============================] - 1s 2us/step - loss: 0.0065 - acc: 0.9169\n",
            "Epoch 2/5\n",
            "594225/594225 [==============================] - 1s 3us/step - loss: 0.0065 - acc: 0.9184\n",
            "Epoch 3/5\n",
            "594225/594225 [==============================] - 1s 3us/step - loss: 0.0065 - acc: 0.9159\n",
            "Epoch 4/5\n",
            "594225/594225 [==============================] - 2s 3us/step - loss: 0.0065 - acc: 0.9180\n",
            "Epoch 5/5\n",
            "594225/594225 [==============================] - 1s 3us/step - loss: 0.0065 - acc: 0.9173\n",
            "Epoch 1/5\n",
            " 64600/594225 [==>...........................] - ETA: 1s - loss: 0.0065 - acc: 0.9191"
          ],
          "name": "stdout"
        },
        {
          "output_type": "stream",
          "text": [
            "/usr/local/lib/python3.6/dist-packages/ipykernel_launcher.py:2: UserWarning: The `nb_epoch` argument in `fit` has been renamed `epochs`.\n",
            "  \n"
          ],
          "name": "stderr"
        },
        {
          "output_type": "stream",
          "text": [
            "594225/594225 [==============================] - 2s 3us/step - loss: 0.0065 - acc: 0.9164\n",
            "Epoch 2/5\n",
            "594225/594225 [==============================] - 2s 3us/step - loss: 0.0065 - acc: 0.9156\n",
            "Epoch 3/5\n",
            "594225/594225 [==============================] - 1s 2us/step - loss: 0.0065 - acc: 0.9168\n",
            "Epoch 4/5\n",
            "594225/594225 [==============================] - 2s 3us/step - loss: 0.0065 - acc: 0.9166\n",
            "Epoch 5/5\n",
            "594225/594225 [==============================] - 2s 3us/step - loss: 0.0066 - acc: 0.9153\n",
            "Epoch 1/5\n",
            " 64600/594225 [==>...........................] - ETA: 1s - loss: 0.0066 - acc: 0.9162"
          ],
          "name": "stdout"
        },
        {
          "output_type": "stream",
          "text": [
            "/usr/local/lib/python3.6/dist-packages/ipykernel_launcher.py:2: UserWarning: The `nb_epoch` argument in `fit` has been renamed `epochs`.\n",
            "  \n"
          ],
          "name": "stderr"
        },
        {
          "output_type": "stream",
          "text": [
            "594225/594225 [==============================] - 1s 3us/step - loss: 0.0065 - acc: 0.9158\n",
            "Epoch 2/5\n",
            "594225/594225 [==============================] - 2s 3us/step - loss: 0.0065 - acc: 0.9148\n",
            "Epoch 3/5\n",
            "594225/594225 [==============================] - 2s 3us/step - loss: 0.0065 - acc: 0.9176\n",
            "Epoch 4/5\n",
            "594225/594225 [==============================] - 2s 3us/step - loss: 0.0065 - acc: 0.9144\n",
            "Epoch 5/5\n",
            "594225/594225 [==============================] - 2s 3us/step - loss: 0.0065 - acc: 0.9148\n",
            "Epoch 1/5\n",
            " 64600/594225 [==>...........................] - ETA: 1s - loss: 0.0065 - acc: 0.9191"
          ],
          "name": "stdout"
        },
        {
          "output_type": "stream",
          "text": [
            "/usr/local/lib/python3.6/dist-packages/ipykernel_launcher.py:2: UserWarning: The `nb_epoch` argument in `fit` has been renamed `epochs`.\n",
            "  \n"
          ],
          "name": "stderr"
        },
        {
          "output_type": "stream",
          "text": [
            "594225/594225 [==============================] - 2s 3us/step - loss: 0.0065 - acc: 0.9154\n",
            "Epoch 2/5\n",
            "594225/594225 [==============================] - 2s 3us/step - loss: 0.0065 - acc: 0.9176\n",
            "Epoch 3/5\n",
            "594225/594225 [==============================] - 1s 3us/step - loss: 0.0065 - acc: 0.9171\n",
            "Epoch 4/5\n",
            "594225/594225 [==============================] - 2s 3us/step - loss: 0.0065 - acc: 0.9156\n",
            "Epoch 5/5\n",
            "594225/594225 [==============================] - 2s 3us/step - loss: 0.0065 - acc: 0.9181\n",
            "Epoch 1/5\n",
            " 60800/594225 [==>...........................] - ETA: 1s - loss: 0.0065 - acc: 0.9156"
          ],
          "name": "stdout"
        },
        {
          "output_type": "stream",
          "text": [
            "/usr/local/lib/python3.6/dist-packages/ipykernel_launcher.py:2: UserWarning: The `nb_epoch` argument in `fit` has been renamed `epochs`.\n",
            "  \n"
          ],
          "name": "stderr"
        },
        {
          "output_type": "stream",
          "text": [
            "594225/594225 [==============================] - 1s 3us/step - loss: 0.0065 - acc: 0.9168\n",
            "Epoch 2/5\n",
            "594225/594225 [==============================] - 1s 2us/step - loss: 0.0065 - acc: 0.9172\n",
            "Epoch 3/5\n",
            "594225/594225 [==============================] - 2s 3us/step - loss: 0.0065 - acc: 0.9186\n",
            "Epoch 4/5\n",
            "594225/594225 [==============================] - 1s 3us/step - loss: 0.0065 - acc: 0.9182\n",
            "Epoch 5/5\n",
            "594225/594225 [==============================] - 2s 3us/step - loss: 0.0066 - acc: 0.9151\n",
            "Epoch 1/5\n",
            " 62700/594225 [==>...........................] - ETA: 1s - loss: 0.0065 - acc: 0.9189"
          ],
          "name": "stdout"
        },
        {
          "output_type": "stream",
          "text": [
            "/usr/local/lib/python3.6/dist-packages/ipykernel_launcher.py:2: UserWarning: The `nb_epoch` argument in `fit` has been renamed `epochs`.\n",
            "  \n"
          ],
          "name": "stderr"
        },
        {
          "output_type": "stream",
          "text": [
            "594225/594225 [==============================] - 2s 3us/step - loss: 0.0065 - acc: 0.9157\n",
            "Epoch 2/5\n",
            "594225/594225 [==============================] - 2s 3us/step - loss: 0.0065 - acc: 0.9178\n",
            "Epoch 3/5\n",
            "594225/594225 [==============================] - 2s 3us/step - loss: 0.0065 - acc: 0.9154\n",
            "Epoch 4/5\n",
            "594225/594225 [==============================] - 2s 3us/step - loss: 0.0065 - acc: 0.9174\n",
            "Epoch 5/5\n",
            "594225/594225 [==============================] - 2s 3us/step - loss: 0.0065 - acc: 0.9151\n",
            "Epoch 1/5\n",
            " 62700/594225 [==>...........................] - ETA: 1s - loss: 0.0066 - acc: 0.9052"
          ],
          "name": "stdout"
        },
        {
          "output_type": "stream",
          "text": [
            "/usr/local/lib/python3.6/dist-packages/ipykernel_launcher.py:2: UserWarning: The `nb_epoch` argument in `fit` has been renamed `epochs`.\n",
            "  \n"
          ],
          "name": "stderr"
        },
        {
          "output_type": "stream",
          "text": [
            "594225/594225 [==============================] - 1s 2us/step - loss: 0.0065 - acc: 0.9167\n",
            "Epoch 2/5\n",
            "594225/594225 [==============================] - 2s 3us/step - loss: 0.0065 - acc: 0.9177\n",
            "Epoch 3/5\n",
            "594225/594225 [==============================] - 2s 3us/step - loss: 0.0065 - acc: 0.9158\n",
            "Epoch 4/5\n",
            "594225/594225 [==============================] - 2s 3us/step - loss: 0.0065 - acc: 0.9137\n",
            "Epoch 5/5\n",
            "594225/594225 [==============================] - 2s 3us/step - loss: 0.0065 - acc: 0.9156\n",
            "Epoch 1/5\n",
            " 68400/594225 [==>...........................] - ETA: 1s - loss: 0.0065 - acc: 0.9138"
          ],
          "name": "stdout"
        },
        {
          "output_type": "stream",
          "text": [
            "/usr/local/lib/python3.6/dist-packages/ipykernel_launcher.py:2: UserWarning: The `nb_epoch` argument in `fit` has been renamed `epochs`.\n",
            "  \n"
          ],
          "name": "stderr"
        },
        {
          "output_type": "stream",
          "text": [
            "594225/594225 [==============================] - 1s 3us/step - loss: 0.0065 - acc: 0.9152\n",
            "Epoch 2/5\n",
            "594225/594225 [==============================] - 2s 3us/step - loss: 0.0065 - acc: 0.9171\n",
            "Epoch 3/5\n",
            "594225/594225 [==============================] - 2s 3us/step - loss: 0.0065 - acc: 0.9167\n",
            "Epoch 4/5\n",
            "594225/594225 [==============================] - 2s 3us/step - loss: 0.0065 - acc: 0.9165\n",
            "Epoch 5/5\n",
            "594225/594225 [==============================] - 2s 3us/step - loss: 0.0065 - acc: 0.9150\n",
            "Epoch 1/5\n",
            " 60800/594225 [==>...........................] - ETA: 1s - loss: 0.0066 - acc: 0.9182"
          ],
          "name": "stdout"
        },
        {
          "output_type": "stream",
          "text": [
            "/usr/local/lib/python3.6/dist-packages/ipykernel_launcher.py:2: UserWarning: The `nb_epoch` argument in `fit` has been renamed `epochs`.\n",
            "  \n"
          ],
          "name": "stderr"
        },
        {
          "output_type": "stream",
          "text": [
            "594225/594225 [==============================] - 2s 3us/step - loss: 0.0065 - acc: 0.9139\n",
            "Epoch 2/5\n",
            "594225/594225 [==============================] - 2s 3us/step - loss: 0.0065 - acc: 0.9146\n",
            "Epoch 3/5\n",
            "594225/594225 [==============================] - 2s 3us/step - loss: 0.0065 - acc: 0.9157\n",
            "Epoch 4/5\n",
            "594225/594225 [==============================] - 2s 3us/step - loss: 0.0065 - acc: 0.9181\n",
            "Epoch 5/5\n",
            "594225/594225 [==============================] - 2s 3us/step - loss: 0.0065 - acc: 0.9174\n",
            "Epoch 1/5\n",
            " 64600/594225 [==>...........................] - ETA: 1s - loss: 0.0065 - acc: 0.9196"
          ],
          "name": "stdout"
        },
        {
          "output_type": "stream",
          "text": [
            "/usr/local/lib/python3.6/dist-packages/ipykernel_launcher.py:2: UserWarning: The `nb_epoch` argument in `fit` has been renamed `epochs`.\n",
            "  \n"
          ],
          "name": "stderr"
        },
        {
          "output_type": "stream",
          "text": [
            "594225/594225 [==============================] - 1s 2us/step - loss: 0.0065 - acc: 0.9172\n",
            "Epoch 2/5\n",
            "594225/594225 [==============================] - 2s 3us/step - loss: 0.0065 - acc: 0.9162\n",
            "Epoch 3/5\n",
            "594225/594225 [==============================] - 2s 3us/step - loss: 0.0065 - acc: 0.9179\n",
            "Epoch 4/5\n",
            "594225/594225 [==============================] - 1s 2us/step - loss: 0.0065 - acc: 0.9166\n",
            "Epoch 5/5\n",
            "594225/594225 [==============================] - 2s 3us/step - loss: 0.0065 - acc: 0.9172\n",
            "Epoch 1/5\n",
            " 55100/594225 [=>............................] - ETA: 1s - loss: 0.0065 - acc: 0.9185"
          ],
          "name": "stdout"
        },
        {
          "output_type": "stream",
          "text": [
            "/usr/local/lib/python3.6/dist-packages/ipykernel_launcher.py:2: UserWarning: The `nb_epoch` argument in `fit` has been renamed `epochs`.\n",
            "  \n"
          ],
          "name": "stderr"
        },
        {
          "output_type": "stream",
          "text": [
            "594225/594225 [==============================] - 2s 3us/step - loss: 0.0065 - acc: 0.9171\n",
            "Epoch 2/5\n",
            "594225/594225 [==============================] - 2s 3us/step - loss: 0.0065 - acc: 0.9150\n",
            "Epoch 3/5\n",
            "594225/594225 [==============================] - 2s 3us/step - loss: 0.0065 - acc: 0.9155\n",
            "Epoch 4/5\n",
            "594225/594225 [==============================] - 2s 3us/step - loss: 0.0065 - acc: 0.9161\n",
            "Epoch 5/5\n",
            "594225/594225 [==============================] - 1s 2us/step - loss: 0.0065 - acc: 0.9168\n",
            "Epoch 1/5\n",
            " 66500/594225 [==>...........................] - ETA: 1s - loss: 0.0064 - acc: 0.9200"
          ],
          "name": "stdout"
        },
        {
          "output_type": "stream",
          "text": [
            "/usr/local/lib/python3.6/dist-packages/ipykernel_launcher.py:2: UserWarning: The `nb_epoch` argument in `fit` has been renamed `epochs`.\n",
            "  \n"
          ],
          "name": "stderr"
        },
        {
          "output_type": "stream",
          "text": [
            "594225/594225 [==============================] - 1s 3us/step - loss: 0.0065 - acc: 0.9185\n",
            "Epoch 2/5\n",
            "594225/594225 [==============================] - 2s 3us/step - loss: 0.0065 - acc: 0.9188\n",
            "Epoch 3/5\n",
            "594225/594225 [==============================] - 2s 3us/step - loss: 0.0065 - acc: 0.9164\n",
            "Epoch 4/5\n",
            "594225/594225 [==============================] - 2s 3us/step - loss: 0.0065 - acc: 0.9165\n",
            "Epoch 5/5\n",
            "594225/594225 [==============================] - 2s 3us/step - loss: 0.0065 - acc: 0.9174\n",
            "Epoch 1/5\n",
            " 68400/594225 [==>...........................] - ETA: 1s - loss: 0.0065 - acc: 0.9160"
          ],
          "name": "stdout"
        },
        {
          "output_type": "stream",
          "text": [
            "/usr/local/lib/python3.6/dist-packages/ipykernel_launcher.py:2: UserWarning: The `nb_epoch` argument in `fit` has been renamed `epochs`.\n",
            "  \n"
          ],
          "name": "stderr"
        },
        {
          "output_type": "stream",
          "text": [
            "594225/594225 [==============================] - 1s 3us/step - loss: 0.0065 - acc: 0.9171\n",
            "Epoch 2/5\n",
            "594225/594225 [==============================] - 2s 3us/step - loss: 0.0065 - acc: 0.9151\n",
            "Epoch 3/5\n",
            "594225/594225 [==============================] - 2s 3us/step - loss: 0.0065 - acc: 0.9181\n",
            "Epoch 4/5\n",
            "594225/594225 [==============================] - 2s 3us/step - loss: 0.0065 - acc: 0.9171\n",
            "Epoch 5/5\n",
            "594225/594225 [==============================] - 2s 3us/step - loss: 0.0065 - acc: 0.9157\n",
            "Epoch 1/5\n",
            " 60800/594225 [==>...........................] - ETA: 1s - loss: 0.0065 - acc: 0.9133"
          ],
          "name": "stdout"
        },
        {
          "output_type": "stream",
          "text": [
            "/usr/local/lib/python3.6/dist-packages/ipykernel_launcher.py:2: UserWarning: The `nb_epoch` argument in `fit` has been renamed `epochs`.\n",
            "  \n"
          ],
          "name": "stderr"
        },
        {
          "output_type": "stream",
          "text": [
            "594225/594225 [==============================] - 2s 3us/step - loss: 0.0065 - acc: 0.9161\n",
            "Epoch 2/5\n",
            "594225/594225 [==============================] - 2s 3us/step - loss: 0.0065 - acc: 0.9169\n",
            "Epoch 3/5\n",
            "594225/594225 [==============================] - 1s 2us/step - loss: 0.0065 - acc: 0.9161\n",
            "Epoch 4/5\n",
            "594225/594225 [==============================] - 2s 3us/step - loss: 0.0065 - acc: 0.9161\n",
            "Epoch 5/5\n",
            "594225/594225 [==============================] - 2s 3us/step - loss: 0.0065 - acc: 0.9157\n",
            "Epoch 1/5\n",
            " 55100/594225 [=>............................] - ETA: 1s - loss: 0.0065 - acc: 0.9193"
          ],
          "name": "stdout"
        },
        {
          "output_type": "stream",
          "text": [
            "/usr/local/lib/python3.6/dist-packages/ipykernel_launcher.py:2: UserWarning: The `nb_epoch` argument in `fit` has been renamed `epochs`.\n",
            "  \n"
          ],
          "name": "stderr"
        },
        {
          "output_type": "stream",
          "text": [
            "594225/594225 [==============================] - 2s 3us/step - loss: 0.0065 - acc: 0.9176\n",
            "Epoch 2/5\n",
            "594225/594225 [==============================] - 2s 3us/step - loss: 0.0065 - acc: 0.9163\n",
            "Epoch 3/5\n",
            "594225/594225 [==============================] - 2s 3us/step - loss: 0.0065 - acc: 0.9156\n",
            "Epoch 4/5\n",
            "594225/594225 [==============================] - 2s 3us/step - loss: 0.0065 - acc: 0.9163\n",
            "Epoch 5/5\n",
            "594225/594225 [==============================] - 2s 3us/step - loss: 0.0065 - acc: 0.9154\n",
            "Epoch 1/5\n",
            " 62700/594225 [==>...........................] - ETA: 1s - loss: 0.0065 - acc: 0.9125"
          ],
          "name": "stdout"
        },
        {
          "output_type": "stream",
          "text": [
            "/usr/local/lib/python3.6/dist-packages/ipykernel_launcher.py:2: UserWarning: The `nb_epoch` argument in `fit` has been renamed `epochs`.\n",
            "  \n"
          ],
          "name": "stderr"
        },
        {
          "output_type": "stream",
          "text": [
            "594225/594225 [==============================] - 2s 3us/step - loss: 0.0065 - acc: 0.9177\n",
            "Epoch 2/5\n",
            "594225/594225 [==============================] - 2s 3us/step - loss: 0.0065 - acc: 0.9167\n",
            "Epoch 3/5\n",
            "594225/594225 [==============================] - 2s 3us/step - loss: 0.0065 - acc: 0.9160\n",
            "Epoch 4/5\n",
            "594225/594225 [==============================] - 1s 3us/step - loss: 0.0065 - acc: 0.9148\n",
            "Epoch 5/5\n",
            "594225/594225 [==============================] - 2s 3us/step - loss: 0.0065 - acc: 0.9174\n",
            "Epoch 1/5\n",
            " 62700/594225 [==>...........................] - ETA: 1s - loss: 0.0064 - acc: 0.9192"
          ],
          "name": "stdout"
        },
        {
          "output_type": "stream",
          "text": [
            "/usr/local/lib/python3.6/dist-packages/ipykernel_launcher.py:2: UserWarning: The `nb_epoch` argument in `fit` has been renamed `epochs`.\n",
            "  \n"
          ],
          "name": "stderr"
        },
        {
          "output_type": "stream",
          "text": [
            "594225/594225 [==============================] - 1s 2us/step - loss: 0.0065 - acc: 0.9176\n",
            "Epoch 2/5\n",
            "594225/594225 [==============================] - 2s 3us/step - loss: 0.0065 - acc: 0.9156\n",
            "Epoch 3/5\n",
            "594225/594225 [==============================] - 2s 3us/step - loss: 0.0065 - acc: 0.9161\n",
            "Epoch 4/5\n",
            "594225/594225 [==============================] - 2s 3us/step - loss: 0.0064 - acc: 0.9169\n",
            "Epoch 5/5\n",
            "594225/594225 [==============================] - 1s 2us/step - loss: 0.0065 - acc: 0.9175\n",
            "Epoch 1/5\n",
            " 60800/594225 [==>...........................] - ETA: 1s - loss: 0.0065 - acc: 0.9195"
          ],
          "name": "stdout"
        },
        {
          "output_type": "stream",
          "text": [
            "/usr/local/lib/python3.6/dist-packages/ipykernel_launcher.py:2: UserWarning: The `nb_epoch` argument in `fit` has been renamed `epochs`.\n",
            "  \n"
          ],
          "name": "stderr"
        },
        {
          "output_type": "stream",
          "text": [
            "594225/594225 [==============================] - 2s 3us/step - loss: 0.0065 - acc: 0.9179\n",
            "Epoch 2/5\n",
            "594225/594225 [==============================] - 2s 3us/step - loss: 0.0064 - acc: 0.9170\n",
            "Epoch 3/5\n",
            "594225/594225 [==============================] - 1s 3us/step - loss: 0.0065 - acc: 0.9176\n",
            "Epoch 4/5\n",
            "594225/594225 [==============================] - 2s 3us/step - loss: 0.0064 - acc: 0.9185\n",
            "Epoch 5/5\n",
            "594225/594225 [==============================] - 2s 3us/step - loss: 0.0065 - acc: 0.9194\n",
            "Epoch 1/5\n",
            " 62700/594225 [==>...........................] - ETA: 1s - loss: 0.0066 - acc: 0.9214"
          ],
          "name": "stdout"
        },
        {
          "output_type": "stream",
          "text": [
            "/usr/local/lib/python3.6/dist-packages/ipykernel_launcher.py:2: UserWarning: The `nb_epoch` argument in `fit` has been renamed `epochs`.\n",
            "  \n"
          ],
          "name": "stderr"
        },
        {
          "output_type": "stream",
          "text": [
            "594225/594225 [==============================] - 2s 3us/step - loss: 0.0065 - acc: 0.9177\n",
            "Epoch 2/5\n",
            "594225/594225 [==============================] - 2s 3us/step - loss: 0.0064 - acc: 0.9158\n",
            "Epoch 3/5\n",
            "594225/594225 [==============================] - 2s 3us/step - loss: 0.0065 - acc: 0.9141\n",
            "Epoch 4/5\n",
            "594225/594225 [==============================] - 2s 3us/step - loss: 0.0065 - acc: 0.9186\n",
            "Epoch 5/5\n",
            "594225/594225 [==============================] - 2s 3us/step - loss: 0.0065 - acc: 0.9164\n",
            "Epoch 1/5\n",
            " 60800/594225 [==>...........................] - ETA: 1s - loss: 0.0064 - acc: 0.9082"
          ],
          "name": "stdout"
        },
        {
          "output_type": "stream",
          "text": [
            "/usr/local/lib/python3.6/dist-packages/ipykernel_launcher.py:2: UserWarning: The `nb_epoch` argument in `fit` has been renamed `epochs`.\n",
            "  \n"
          ],
          "name": "stderr"
        },
        {
          "output_type": "stream",
          "text": [
            "594225/594225 [==============================] - 1s 2us/step - loss: 0.0065 - acc: 0.9154\n",
            "Epoch 2/5\n",
            "594225/594225 [==============================] - 2s 3us/step - loss: 0.0065 - acc: 0.9160\n",
            "Epoch 3/5\n",
            "594225/594225 [==============================] - 2s 3us/step - loss: 0.0065 - acc: 0.9155\n",
            "Epoch 4/5\n",
            "594225/594225 [==============================] - 2s 3us/step - loss: 0.0065 - acc: 0.9159\n",
            "Epoch 5/5\n",
            "594225/594225 [==============================] - 2s 3us/step - loss: 0.0065 - acc: 0.9155\n",
            "Epoch 1/5\n",
            " 64600/594225 [==>...........................] - ETA: 1s - loss: 0.0065 - acc: 0.9154"
          ],
          "name": "stdout"
        },
        {
          "output_type": "stream",
          "text": [
            "/usr/local/lib/python3.6/dist-packages/ipykernel_launcher.py:2: UserWarning: The `nb_epoch` argument in `fit` has been renamed `epochs`.\n",
            "  \n"
          ],
          "name": "stderr"
        },
        {
          "output_type": "stream",
          "text": [
            "594225/594225 [==============================] - 2s 3us/step - loss: 0.0065 - acc: 0.9168\n",
            "Epoch 2/5\n",
            "594225/594225 [==============================] - 2s 3us/step - loss: 0.0065 - acc: 0.9154\n",
            "Epoch 3/5\n",
            "594225/594225 [==============================] - 2s 3us/step - loss: 0.0065 - acc: 0.9169\n",
            "Epoch 4/5\n",
            "594225/594225 [==============================] - 2s 3us/step - loss: 0.0065 - acc: 0.9151\n",
            "Epoch 5/5\n",
            "594225/594225 [==============================] - 1s 2us/step - loss: 0.0065 - acc: 0.9174\n",
            "Epoch 1/5\n",
            " 62700/594225 [==>...........................] - ETA: 1s - loss: 0.0064 - acc: 0.9203"
          ],
          "name": "stdout"
        },
        {
          "output_type": "stream",
          "text": [
            "/usr/local/lib/python3.6/dist-packages/ipykernel_launcher.py:2: UserWarning: The `nb_epoch` argument in `fit` has been renamed `epochs`.\n",
            "  \n"
          ],
          "name": "stderr"
        },
        {
          "output_type": "stream",
          "text": [
            "594225/594225 [==============================] - 1s 3us/step - loss: 0.0065 - acc: 0.9187\n",
            "Epoch 2/5\n",
            "594225/594225 [==============================] - 2s 3us/step - loss: 0.0065 - acc: 0.9182\n",
            "Epoch 3/5\n",
            "594225/594225 [==============================] - 2s 3us/step - loss: 0.0065 - acc: 0.9176\n",
            "Epoch 4/5\n",
            "594225/594225 [==============================] - 2s 3us/step - loss: 0.0065 - acc: 0.9171\n",
            "Epoch 5/5\n",
            "594225/594225 [==============================] - 2s 3us/step - loss: 0.0065 - acc: 0.9169\n",
            "Epoch 1/5\n",
            " 62700/594225 [==>...........................] - ETA: 1s - loss: 0.0065 - acc: 0.9125"
          ],
          "name": "stdout"
        },
        {
          "output_type": "stream",
          "text": [
            "/usr/local/lib/python3.6/dist-packages/ipykernel_launcher.py:2: UserWarning: The `nb_epoch` argument in `fit` has been renamed `epochs`.\n",
            "  \n"
          ],
          "name": "stderr"
        },
        {
          "output_type": "stream",
          "text": [
            "594225/594225 [==============================] - 2s 3us/step - loss: 0.0065 - acc: 0.9180\n",
            "Epoch 2/5\n",
            "594225/594225 [==============================] - 2s 3us/step - loss: 0.0065 - acc: 0.9163\n",
            "Epoch 3/5\n",
            "594225/594225 [==============================] - 2s 3us/step - loss: 0.0065 - acc: 0.9179\n",
            "Epoch 4/5\n",
            "594225/594225 [==============================] - 2s 3us/step - loss: 0.0064 - acc: 0.9164\n",
            "Epoch 5/5\n",
            "594225/594225 [==============================] - 2s 3us/step - loss: 0.0065 - acc: 0.9173\n",
            "Epoch 1/5\n",
            " 58900/594225 [=>............................] - ETA: 1s - loss: 0.0065 - acc: 0.9112"
          ],
          "name": "stdout"
        },
        {
          "output_type": "stream",
          "text": [
            "/usr/local/lib/python3.6/dist-packages/ipykernel_launcher.py:2: UserWarning: The `nb_epoch` argument in `fit` has been renamed `epochs`.\n",
            "  \n"
          ],
          "name": "stderr"
        },
        {
          "output_type": "stream",
          "text": [
            "594225/594225 [==============================] - 2s 3us/step - loss: 0.0065 - acc: 0.9164\n",
            "Epoch 2/5\n",
            "594225/594225 [==============================] - 1s 3us/step - loss: 0.0064 - acc: 0.9178\n",
            "Epoch 3/5\n",
            "594225/594225 [==============================] - 1s 2us/step - loss: 0.0065 - acc: 0.9155\n",
            "Epoch 4/5\n",
            "594225/594225 [==============================] - 1s 2us/step - loss: 0.0065 - acc: 0.9181\n",
            "Epoch 5/5\n",
            "594225/594225 [==============================] - 2s 3us/step - loss: 0.0065 - acc: 0.9170\n",
            "Epoch 1/5\n",
            " 66500/594225 [==>...........................] - ETA: 1s - loss: 0.0066 - acc: 0.9156"
          ],
          "name": "stdout"
        },
        {
          "output_type": "stream",
          "text": [
            "/usr/local/lib/python3.6/dist-packages/ipykernel_launcher.py:2: UserWarning: The `nb_epoch` argument in `fit` has been renamed `epochs`.\n",
            "  \n"
          ],
          "name": "stderr"
        },
        {
          "output_type": "stream",
          "text": [
            "594225/594225 [==============================] - 1s 3us/step - loss: 0.0065 - acc: 0.9157\n",
            "Epoch 2/5\n",
            "594225/594225 [==============================] - 2s 3us/step - loss: 0.0065 - acc: 0.9164\n",
            "Epoch 3/5\n",
            "594225/594225 [==============================] - 1s 3us/step - loss: 0.0065 - acc: 0.9174\n",
            "Epoch 4/5\n",
            "594225/594225 [==============================] - 2s 3us/step - loss: 0.0065 - acc: 0.9179\n",
            "Epoch 5/5\n",
            "594225/594225 [==============================] - 2s 3us/step - loss: 0.0064 - acc: 0.9182\n",
            "Epoch 1/5\n",
            " 60800/594225 [==>...........................] - ETA: 1s - loss: 0.0064 - acc: 0.9179"
          ],
          "name": "stdout"
        },
        {
          "output_type": "stream",
          "text": [
            "/usr/local/lib/python3.6/dist-packages/ipykernel_launcher.py:2: UserWarning: The `nb_epoch` argument in `fit` has been renamed `epochs`.\n",
            "  \n"
          ],
          "name": "stderr"
        },
        {
          "output_type": "stream",
          "text": [
            "594225/594225 [==============================] - 1s 3us/step - loss: 0.0065 - acc: 0.9176\n",
            "Epoch 2/5\n",
            "594225/594225 [==============================] - 2s 3us/step - loss: 0.0064 - acc: 0.9138\n",
            "Epoch 3/5\n",
            "594225/594225 [==============================] - 2s 3us/step - loss: 0.0064 - acc: 0.9163\n",
            "Epoch 4/5\n",
            "594225/594225 [==============================] - 2s 3us/step - loss: 0.0064 - acc: 0.9170\n",
            "Epoch 5/5\n",
            "594225/594225 [==============================] - 2s 3us/step - loss: 0.0065 - acc: 0.9159\n",
            "Epoch 1/5\n",
            " 64600/594225 [==>...........................] - ETA: 1s - loss: 0.0064 - acc: 0.9171"
          ],
          "name": "stdout"
        },
        {
          "output_type": "stream",
          "text": [
            "/usr/local/lib/python3.6/dist-packages/ipykernel_launcher.py:2: UserWarning: The `nb_epoch` argument in `fit` has been renamed `epochs`.\n",
            "  \n"
          ],
          "name": "stderr"
        },
        {
          "output_type": "stream",
          "text": [
            "594225/594225 [==============================] - 1s 3us/step - loss: 0.0065 - acc: 0.9172\n",
            "Epoch 2/5\n",
            "594225/594225 [==============================] - 2s 3us/step - loss: 0.0064 - acc: 0.9194\n",
            "Epoch 3/5\n",
            "594225/594225 [==============================] - 1s 2us/step - loss: 0.0065 - acc: 0.9187\n",
            "Epoch 4/5\n",
            "594225/594225 [==============================] - 1s 2us/step - loss: 0.0065 - acc: 0.9162\n",
            "Epoch 5/5\n",
            "594225/594225 [==============================] - 2s 3us/step - loss: 0.0065 - acc: 0.9168\n",
            "Epoch 1/5\n",
            " 64600/594225 [==>...........................] - ETA: 1s - loss: 0.0066 - acc: 0.9156"
          ],
          "name": "stdout"
        },
        {
          "output_type": "stream",
          "text": [
            "/usr/local/lib/python3.6/dist-packages/ipykernel_launcher.py:2: UserWarning: The `nb_epoch` argument in `fit` has been renamed `epochs`.\n",
            "  \n"
          ],
          "name": "stderr"
        },
        {
          "output_type": "stream",
          "text": [
            "594225/594225 [==============================] - 1s 3us/step - loss: 0.0065 - acc: 0.9172\n",
            "Epoch 2/5\n",
            "594225/594225 [==============================] - 2s 3us/step - loss: 0.0065 - acc: 0.9172\n",
            "Epoch 3/5\n",
            "594225/594225 [==============================] - 1s 2us/step - loss: 0.0065 - acc: 0.9177\n",
            "Epoch 4/5\n",
            "594225/594225 [==============================] - 1s 3us/step - loss: 0.0065 - acc: 0.9161\n",
            "Epoch 5/5\n",
            "594225/594225 [==============================] - 1s 2us/step - loss: 0.0065 - acc: 0.9164\n",
            "Epoch 1/5\n",
            " 66500/594225 [==>...........................] - ETA: 1s - loss: 0.0066 - acc: 0.9163"
          ],
          "name": "stdout"
        },
        {
          "output_type": "stream",
          "text": [
            "/usr/local/lib/python3.6/dist-packages/ipykernel_launcher.py:2: UserWarning: The `nb_epoch` argument in `fit` has been renamed `epochs`.\n",
            "  \n"
          ],
          "name": "stderr"
        },
        {
          "output_type": "stream",
          "text": [
            "594225/594225 [==============================] - 1s 2us/step - loss: 0.0065 - acc: 0.9179\n",
            "Epoch 2/5\n",
            "594225/594225 [==============================] - 1s 2us/step - loss: 0.0065 - acc: 0.9152\n",
            "Epoch 3/5\n",
            "594225/594225 [==============================] - 2s 3us/step - loss: 0.0064 - acc: 0.9166\n",
            "Epoch 4/5\n",
            "594225/594225 [==============================] - 1s 2us/step - loss: 0.0065 - acc: 0.9164\n",
            "Epoch 5/5\n",
            "594225/594225 [==============================] - 1s 2us/step - loss: 0.0065 - acc: 0.9174\n",
            "Epoch 1/5\n",
            " 64600/594225 [==>...........................] - ETA: 1s - loss: 0.0063 - acc: 0.9200"
          ],
          "name": "stdout"
        },
        {
          "output_type": "stream",
          "text": [
            "/usr/local/lib/python3.6/dist-packages/ipykernel_launcher.py:2: UserWarning: The `nb_epoch` argument in `fit` has been renamed `epochs`.\n",
            "  \n"
          ],
          "name": "stderr"
        },
        {
          "output_type": "stream",
          "text": [
            "594225/594225 [==============================] - 1s 2us/step - loss: 0.0064 - acc: 0.9172\n",
            "Epoch 2/5\n",
            "594225/594225 [==============================] - 1s 3us/step - loss: 0.0065 - acc: 0.9167\n",
            "Epoch 3/5\n",
            "594225/594225 [==============================] - 1s 2us/step - loss: 0.0065 - acc: 0.9175\n",
            "Epoch 4/5\n",
            "594225/594225 [==============================] - 1s 2us/step - loss: 0.0065 - acc: 0.9178\n",
            "Epoch 5/5\n",
            "594225/594225 [==============================] - 1s 2us/step - loss: 0.0065 - acc: 0.9143\n",
            "Epoch 1/5\n",
            " 66500/594225 [==>...........................] - ETA: 1s - loss: 0.0065 - acc: 0.9156"
          ],
          "name": "stdout"
        },
        {
          "output_type": "stream",
          "text": [
            "/usr/local/lib/python3.6/dist-packages/ipykernel_launcher.py:2: UserWarning: The `nb_epoch` argument in `fit` has been renamed `epochs`.\n",
            "  \n"
          ],
          "name": "stderr"
        },
        {
          "output_type": "stream",
          "text": [
            "594225/594225 [==============================] - 1s 2us/step - loss: 0.0064 - acc: 0.9177\n",
            "Epoch 2/5\n",
            "594225/594225 [==============================] - 1s 2us/step - loss: 0.0065 - acc: 0.9178\n",
            "Epoch 3/5\n",
            "594225/594225 [==============================] - 2s 3us/step - loss: 0.0065 - acc: 0.9191\n",
            "Epoch 4/5\n",
            "594225/594225 [==============================] - 1s 3us/step - loss: 0.0065 - acc: 0.9170\n",
            "Epoch 5/5\n",
            "594225/594225 [==============================] - 1s 2us/step - loss: 0.0065 - acc: 0.9165\n",
            "Epoch 1/5\n",
            " 64600/594225 [==>...........................] - ETA: 1s - loss: 0.0064 - acc: 0.9203"
          ],
          "name": "stdout"
        },
        {
          "output_type": "stream",
          "text": [
            "/usr/local/lib/python3.6/dist-packages/ipykernel_launcher.py:2: UserWarning: The `nb_epoch` argument in `fit` has been renamed `epochs`.\n",
            "  \n"
          ],
          "name": "stderr"
        },
        {
          "output_type": "stream",
          "text": [
            "594225/594225 [==============================] - 1s 2us/step - loss: 0.0065 - acc: 0.9161\n",
            "Epoch 2/5\n",
            "594225/594225 [==============================] - 1s 2us/step - loss: 0.0064 - acc: 0.9183\n",
            "Epoch 3/5\n",
            "594225/594225 [==============================] - 2s 3us/step - loss: 0.0065 - acc: 0.9185\n",
            "Epoch 4/5\n",
            "594225/594225 [==============================] - 2s 3us/step - loss: 0.0065 - acc: 0.9172\n",
            "Epoch 5/5\n",
            "594225/594225 [==============================] - 2s 3us/step - loss: 0.0065 - acc: 0.9164\n",
            "Epoch 1/5\n",
            " 66500/594225 [==>...........................] - ETA: 1s - loss: 0.0064 - acc: 0.9177"
          ],
          "name": "stdout"
        },
        {
          "output_type": "stream",
          "text": [
            "/usr/local/lib/python3.6/dist-packages/ipykernel_launcher.py:2: UserWarning: The `nb_epoch` argument in `fit` has been renamed `epochs`.\n",
            "  \n"
          ],
          "name": "stderr"
        },
        {
          "output_type": "stream",
          "text": [
            "594225/594225 [==============================] - 1s 2us/step - loss: 0.0065 - acc: 0.9175\n",
            "Epoch 2/5\n",
            "594225/594225 [==============================] - 1s 3us/step - loss: 0.0064 - acc: 0.9186\n",
            "Epoch 3/5\n",
            "594225/594225 [==============================] - 1s 3us/step - loss: 0.0065 - acc: 0.9157\n",
            "Epoch 4/5\n",
            "594225/594225 [==============================] - 1s 3us/step - loss: 0.0064 - acc: 0.9167\n",
            "Epoch 5/5\n",
            "594225/594225 [==============================] - 1s 2us/step - loss: 0.0065 - acc: 0.9160\n",
            "Epoch 1/5\n",
            " 64600/594225 [==>...........................] - ETA: 1s - loss: 0.0065 - acc: 0.9186"
          ],
          "name": "stdout"
        },
        {
          "output_type": "stream",
          "text": [
            "/usr/local/lib/python3.6/dist-packages/ipykernel_launcher.py:2: UserWarning: The `nb_epoch` argument in `fit` has been renamed `epochs`.\n",
            "  \n"
          ],
          "name": "stderr"
        },
        {
          "output_type": "stream",
          "text": [
            "594225/594225 [==============================] - 1s 2us/step - loss: 0.0065 - acc: 0.9160\n",
            "Epoch 2/5\n",
            "594225/594225 [==============================] - 2s 3us/step - loss: 0.0064 - acc: 0.9183\n",
            "Epoch 3/5\n",
            "594225/594225 [==============================] - 2s 3us/step - loss: 0.0064 - acc: 0.9153\n",
            "Epoch 4/5\n",
            "594225/594225 [==============================] - 2s 3us/step - loss: 0.0065 - acc: 0.9164\n",
            "Epoch 5/5\n",
            "594225/594225 [==============================] - 2s 3us/step - loss: 0.0065 - acc: 0.9175\n",
            "Epoch 1/5\n",
            " 64600/594225 [==>...........................] - ETA: 1s - loss: 0.0065 - acc: 0.9164"
          ],
          "name": "stdout"
        },
        {
          "output_type": "stream",
          "text": [
            "/usr/local/lib/python3.6/dist-packages/ipykernel_launcher.py:2: UserWarning: The `nb_epoch` argument in `fit` has been renamed `epochs`.\n",
            "  \n"
          ],
          "name": "stderr"
        },
        {
          "output_type": "stream",
          "text": [
            "594225/594225 [==============================] - 1s 2us/step - loss: 0.0065 - acc: 0.9166\n",
            "Epoch 2/5\n",
            "594225/594225 [==============================] - 2s 3us/step - loss: 0.0065 - acc: 0.9170\n",
            "Epoch 3/5\n",
            "594225/594225 [==============================] - 1s 3us/step - loss: 0.0065 - acc: 0.9152\n",
            "Epoch 4/5\n",
            "594225/594225 [==============================] - 2s 3us/step - loss: 0.0065 - acc: 0.9171\n",
            "Epoch 5/5\n",
            "594225/594225 [==============================] - 2s 3us/step - loss: 0.0064 - acc: 0.9170\n"
          ],
          "name": "stdout"
        }
      ]
    },
    {
      "cell_type": "code",
      "metadata": {
        "id": "fhu-_6X4EFF-",
        "colab_type": "code",
        "colab": {
          "base_uri": "https://localhost:8080/",
          "height": 279
        },
        "outputId": "04046aab-fe16-4f38-f30a-8a3c10fb8d17"
      },
      "source": [
        "plt.plot(count*5, error_train_co, label='Train error')\n",
        "plt.plot(count*5, error_test_co, label='Test error')\n",
        "plt.xlabel('Epochs')\n",
        "plt.ylabel('Error')\n",
        "plt.legend()\n",
        "plt.show()"
      ],
      "execution_count": null,
      "outputs": [
        {
          "output_type": "display_data",
          "data": {
            "image/png": "[encoded data removed]",
            "text/plain": [
              "<Figure size 432x288 with 1 Axes>"
            ]
          },
          "metadata": {
            "tags": []
          }
        }
      ]
    },
    {
      "cell_type": "code",
      "metadata": {
        "id": "ZmbyCy_DEFGB",
        "colab_type": "code",
        "colab": {
          "base_uri": "https://localhost:8080/",
          "height": 279
        },
        "outputId": "d4da26be-83f5-43a1-a5ef-eaf2151a5dae"
      },
      "source": [
        "plt.plot(count*5, error_train_et, label='Train error')\n",
        "plt.plot(count*5, error_test_et, label='Test error')\n",
        "plt.xlabel('Epochs')\n",
        "plt.ylabel('Error')\n",
        "plt.legend()\n",
        "plt.show()"
      ],
      "execution_count": null,
      "outputs": [
        {
          "output_type": "display_data",
          "data": {
            "image/png": "[encoded data removed]",
            "text/plain": [
              "<Figure size 432x288 with 1 Axes>"
            ]
          },
          "metadata": {
            "tags": []
          }
        }
      ]
    },
    {
      "cell_type": "code",
      "metadata": {
        "id": "TCPIWaNmEFGG",
        "colab_type": "code",
        "colab": {}
      },
      "source": [
        "epochs=610"
      ],
      "execution_count": null,
      "outputs": []
    },
    {
      "cell_type": "code",
      "metadata": {
        "id": "cCWIHqc9EFGJ",
        "colab_type": "code",
        "colab": {
          "base_uri": "https://localhost:8080/",
          "height": 1000
        },
        "outputId": "4a4e5848-c6ef-4072-be67-7b6335afa950"
      },
      "source": [
        "classifier.fit(X_train, y_train, batch_size = 1900, nb_epoch = epochs)\n",
        "y_pred = classifier.predict(X_test)\n",
        "for i in range(0,np.size(y_pred,0)):\n",
        "    for j in range(0,np.size(y_pred,1)):\n",
        "        if y_pred[i,j]<-y1_mean[j]/y1_max[j]:\n",
        "            y_pred[i,j]=-y1_mean[j]/y1_max[j]\n",
        "error_test_co=math.sqrt(mean_squared_error(y_test[:,0], y_pred[:,0]))\n",
        "error_test_et=math.sqrt(mean_squared_error(y_test[:,1], y_pred[:,1]))\n",
        "RMSE=np.array([error_test_co, error_test_et])*y1_max"
      ],
      "execution_count": null,
      "outputs": [
        {
          "output_type": "stream",
          "text": [
            "/usr/local/lib/python3.6/dist-packages/ipykernel_launcher.py:1: UserWarning: The `nb_epoch` argument in `fit` has been renamed `epochs`.\n",
            "  \"\"\"Entry point for launching an IPython kernel.\n"
          ],
          "name": "stderr"
        },
        {
          "output_type": "stream",
          "text": [
            "Epoch 1/610\n",
            "594225/594225 [==============================] - 2s 3us/step - loss: 0.0327 - acc: 0.7169\n",
            "Epoch 2/610\n",
            "594225/594225 [==============================] - 2s 3us/step - loss: 0.0207 - acc: 0.7848\n",
            "Epoch 3/610\n",
            "594225/594225 [==============================] - 2s 3us/step - loss: 0.0189 - acc: 0.7987\n",
            "Epoch 4/610\n",
            "594225/594225 [==============================] - 2s 3us/step - loss: 0.0177 - acc: 0.8098\n",
            "Epoch 5/610\n",
            "594225/594225 [==============================] - 2s 3us/step - loss: 0.0168 - acc: 0.8082\n",
            "Epoch 6/610\n",
            "594225/594225 [==============================] - 2s 3us/step - loss: 0.0159 - acc: 0.8082\n",
            "Epoch 7/610\n",
            "594225/594225 [==============================] - 2s 3us/step - loss: 0.0153 - acc: 0.8044\n",
            "Epoch 8/610\n",
            "594225/594225 [==============================] - 2s 3us/step - loss: 0.0146 - acc: 0.8000\n",
            "Epoch 9/610\n",
            "594225/594225 [==============================] - 2s 3us/step - loss: 0.0140 - acc: 0.7968\n",
            "Epoch 10/610\n",
            "594225/594225 [==============================] - 2s 3us/step - loss: 0.0137 - acc: 0.7914\n",
            "Epoch 11/610\n",
            "594225/594225 [==============================] - 2s 3us/step - loss: 0.0132 - acc: 0.7920\n",
            "Epoch 12/610\n",
            "594225/594225 [==============================] - 2s 3us/step - loss: 0.0128 - acc: 0.7906\n",
            "Epoch 13/610\n",
            "594225/594225 [==============================] - 2s 3us/step - loss: 0.0126 - acc: 0.7870\n",
            "Epoch 14/610\n",
            "594225/594225 [==============================] - 2s 3us/step - loss: 0.0123 - acc: 0.7879\n",
            "Epoch 15/610\n",
            "594225/594225 [==============================] - 2s 3us/step - loss: 0.0120 - acc: 0.7877\n",
            "Epoch 16/610\n",
            "594225/594225 [==============================] - 2s 3us/step - loss: 0.0118 - acc: 0.7868\n",
            "Epoch 17/610\n",
            "594225/594225 [==============================] - 2s 3us/step - loss: 0.0116 - acc: 0.7849\n",
            "Epoch 18/610\n",
            "594225/594225 [==============================] - 2s 3us/step - loss: 0.0114 - acc: 0.7851\n",
            "Epoch 19/610\n",
            "594225/594225 [==============================] - 1s 3us/step - loss: 0.0112 - acc: 0.7858\n",
            "Epoch 20/610\n",
            "594225/594225 [==============================] - 2s 3us/step - loss: 0.0110 - acc: 0.7864\n",
            "Epoch 21/610\n",
            "594225/594225 [==============================] - 2s 3us/step - loss: 0.0108 - acc: 0.7859\n",
            "Epoch 22/610\n",
            "594225/594225 [==============================] - 2s 3us/step - loss: 0.0107 - acc: 0.7871\n",
            "Epoch 23/610\n",
            "594225/594225 [==============================] - 2s 3us/step - loss: 0.0106 - acc: 0.7887\n",
            "Epoch 24/610\n",
            "594225/594225 [==============================] - 2s 3us/step - loss: 0.0105 - acc: 0.7897\n",
            "Epoch 25/610\n",
            "594225/594225 [==============================] - 2s 3us/step - loss: 0.0104 - acc: 0.7925\n",
            "Epoch 26/610\n",
            "594225/594225 [==============================] - 2s 3us/step - loss: 0.0102 - acc: 0.7937\n",
            "Epoch 27/610\n",
            "594225/594225 [==============================] - 2s 3us/step - loss: 0.0102 - acc: 0.7912\n",
            "Epoch 28/610\n",
            "594225/594225 [==============================] - 2s 3us/step - loss: 0.0101 - acc: 0.7913\n",
            "Epoch 29/610\n",
            "594225/594225 [==============================] - 2s 3us/step - loss: 0.0100 - acc: 0.7907\n",
            "Epoch 30/610\n",
            "594225/594225 [==============================] - 2s 3us/step - loss: 0.0099 - acc: 0.7947\n",
            "Epoch 31/610\n",
            "594225/594225 [==============================] - 2s 3us/step - loss: 0.0098 - acc: 0.7941\n",
            "Epoch 32/610\n",
            "594225/594225 [==============================] - 2s 3us/step - loss: 0.0097 - acc: 0.7992\n",
            "Epoch 33/610\n",
            "594225/594225 [==============================] - 2s 3us/step - loss: 0.0096 - acc: 0.7969\n",
            "Epoch 34/610\n",
            "594225/594225 [==============================] - 2s 3us/step - loss: 0.0096 - acc: 0.7967\n",
            "Epoch 35/610\n",
            "594225/594225 [==============================] - 2s 3us/step - loss: 0.0096 - acc: 0.7986\n",
            "Epoch 36/610\n",
            "594225/594225 [==============================] - 2s 3us/step - loss: 0.0095 - acc: 0.8007\n",
            "Epoch 37/610\n",
            "594225/594225 [==============================] - 2s 3us/step - loss: 0.0094 - acc: 0.8015\n",
            "Epoch 38/610\n",
            "594225/594225 [==============================] - 1s 3us/step - loss: 0.0093 - acc: 0.8005\n",
            "Epoch 39/610\n",
            "594225/594225 [==============================] - 2s 3us/step - loss: 0.0092 - acc: 0.8001\n",
            "Epoch 40/610\n",
            "594225/594225 [==============================] - 2s 3us/step - loss: 0.0092 - acc: 0.8018\n",
            "Epoch 41/610\n",
            "594225/594225 [==============================] - 2s 3us/step - loss: 0.0091 - acc: 0.8028\n",
            "Epoch 42/610\n",
            "594225/594225 [==============================] - 2s 3us/step - loss: 0.0091 - acc: 0.8025\n",
            "Epoch 43/610\n",
            "594225/594225 [==============================] - 1s 2us/step - loss: 0.0090 - acc: 0.8060\n",
            "Epoch 44/610\n",
            "594225/594225 [==============================] - 2s 3us/step - loss: 0.0091 - acc: 0.8036\n",
            "Epoch 45/610\n",
            "594225/594225 [==============================] - 2s 3us/step - loss: 0.0089 - acc: 0.8046\n",
            "Epoch 46/610\n",
            "594225/594225 [==============================] - 2s 3us/step - loss: 0.0089 - acc: 0.8027\n",
            "Epoch 47/610\n",
            "594225/594225 [==============================] - 2s 3us/step - loss: 0.0089 - acc: 0.8025\n",
            "Epoch 48/610\n",
            "594225/594225 [==============================] - 2s 3us/step - loss: 0.0088 - acc: 0.8037\n",
            "Epoch 49/610\n",
            "594225/594225 [==============================] - 2s 3us/step - loss: 0.0088 - acc: 0.8023\n",
            "Epoch 50/610\n",
            "594225/594225 [==============================] - 2s 3us/step - loss: 0.0088 - acc: 0.8044\n",
            "Epoch 51/610\n",
            "594225/594225 [==============================] - 2s 3us/step - loss: 0.0087 - acc: 0.8044\n",
            "Epoch 52/610\n",
            "594225/594225 [==============================] - 2s 3us/step - loss: 0.0087 - acc: 0.8030\n",
            "Epoch 53/610\n",
            "594225/594225 [==============================] - 2s 3us/step - loss: 0.0086 - acc: 0.8058\n",
            "Epoch 54/610\n",
            "594225/594225 [==============================] - 2s 3us/step - loss: 0.0086 - acc: 0.8039\n",
            "Epoch 55/610\n",
            "594225/594225 [==============================] - 2s 3us/step - loss: 0.0086 - acc: 0.8057\n",
            "Epoch 56/610\n",
            "594225/594225 [==============================] - 2s 3us/step - loss: 0.0086 - acc: 0.8064\n",
            "Epoch 57/610\n",
            "594225/594225 [==============================] - 2s 3us/step - loss: 0.0086 - acc: 0.8051\n",
            "Epoch 58/610\n",
            "594225/594225 [==============================] - 2s 3us/step - loss: 0.0085 - acc: 0.8028\n",
            "Epoch 59/610\n",
            "594225/594225 [==============================] - 2s 3us/step - loss: 0.0085 - acc: 0.8042\n",
            "Epoch 60/610\n",
            "594225/594225 [==============================] - 2s 3us/step - loss: 0.0085 - acc: 0.8041\n",
            "Epoch 61/610\n",
            "594225/594225 [==============================] - 2s 3us/step - loss: 0.0084 - acc: 0.8036\n",
            "Epoch 62/610\n",
            "594225/594225 [==============================] - 2s 3us/step - loss: 0.0084 - acc: 0.8039\n",
            "Epoch 63/610\n",
            "594225/594225 [==============================] - 2s 3us/step - loss: 0.0084 - acc: 0.8034\n",
            "Epoch 64/610\n",
            "594225/594225 [==============================] - 2s 3us/step - loss: 0.0083 - acc: 0.8034\n",
            "Epoch 65/610\n",
            "594225/594225 [==============================] - 2s 3us/step - loss: 0.0083 - acc: 0.8043\n",
            "Epoch 66/610\n",
            "594225/594225 [==============================] - 2s 3us/step - loss: 0.0083 - acc: 0.8031\n",
            "Epoch 67/610\n",
            "594225/594225 [==============================] - 2s 3us/step - loss: 0.0082 - acc: 0.8012\n",
            "Epoch 68/610\n",
            "594225/594225 [==============================] - 2s 3us/step - loss: 0.0083 - acc: 0.8027\n",
            "Epoch 69/610\n",
            "594225/594225 [==============================] - 1s 3us/step - loss: 0.0082 - acc: 0.8015\n",
            "Epoch 70/610\n",
            "594225/594225 [==============================] - 2s 3us/step - loss: 0.0082 - acc: 0.8041\n",
            "Epoch 71/610\n",
            "594225/594225 [==============================] - 2s 3us/step - loss: 0.0082 - acc: 0.8017\n",
            "Epoch 72/610\n",
            "594225/594225 [==============================] - 2s 3us/step - loss: 0.0082 - acc: 0.8032\n",
            "Epoch 73/610\n",
            "594225/594225 [==============================] - 2s 3us/step - loss: 0.0082 - acc: 0.8009\n",
            "Epoch 74/610\n",
            "594225/594225 [==============================] - 2s 3us/step - loss: 0.0081 - acc: 0.8030\n",
            "Epoch 75/610\n",
            "594225/594225 [==============================] - 2s 3us/step - loss: 0.0082 - acc: 0.8007\n",
            "Epoch 76/610\n",
            "594225/594225 [==============================] - 2s 3us/step - loss: 0.0081 - acc: 0.8025\n",
            "Epoch 77/610\n",
            "594225/594225 [==============================] - 2s 3us/step - loss: 0.0082 - acc: 0.8044\n",
            "Epoch 78/610\n",
            "594225/594225 [==============================] - 1s 3us/step - loss: 0.0081 - acc: 0.8020\n",
            "Epoch 79/610\n",
            "594225/594225 [==============================] - 2s 3us/step - loss: 0.0081 - acc: 0.8018\n",
            "Epoch 80/610\n",
            "594225/594225 [==============================] - 2s 3us/step - loss: 0.0080 - acc: 0.8041\n",
            "Epoch 81/610\n",
            "594225/594225 [==============================] - 2s 3us/step - loss: 0.0081 - acc: 0.8015\n",
            "Epoch 82/610\n",
            "594225/594225 [==============================] - 2s 3us/step - loss: 0.0080 - acc: 0.8026\n",
            "Epoch 83/610\n",
            "594225/594225 [==============================] - 2s 3us/step - loss: 0.0081 - acc: 0.8031\n",
            "Epoch 84/610\n",
            "594225/594225 [==============================] - 2s 3us/step - loss: 0.0080 - acc: 0.8035\n",
            "Epoch 85/610\n",
            "594225/594225 [==============================] - 2s 3us/step - loss: 0.0080 - acc: 0.8021\n",
            "Epoch 86/610\n",
            "594225/594225 [==============================] - 2s 3us/step - loss: 0.0080 - acc: 0.8037\n",
            "Epoch 87/610\n",
            "594225/594225 [==============================] - 2s 3us/step - loss: 0.0080 - acc: 0.8049\n",
            "Epoch 88/610\n",
            "594225/594225 [==============================] - 2s 3us/step - loss: 0.0080 - acc: 0.8031\n",
            "Epoch 89/610\n",
            "594225/594225 [==============================] - 2s 3us/step - loss: 0.0080 - acc: 0.8045\n",
            "Epoch 90/610\n",
            "594225/594225 [==============================] - 2s 3us/step - loss: 0.0080 - acc: 0.8032\n",
            "Epoch 91/610\n",
            "594225/594225 [==============================] - 2s 3us/step - loss: 0.0079 - acc: 0.8032\n",
            "Epoch 92/610\n",
            "594225/594225 [==============================] - 2s 3us/step - loss: 0.0080 - acc: 0.8026\n",
            "Epoch 93/610\n",
            "594225/594225 [==============================] - 2s 3us/step - loss: 0.0079 - acc: 0.8044\n",
            "Epoch 94/610\n",
            "594225/594225 [==============================] - 1s 3us/step - loss: 0.0080 - acc: 0.8031\n",
            "Epoch 95/610\n",
            "594225/594225 [==============================] - 2s 3us/step - loss: 0.0079 - acc: 0.8066\n",
            "Epoch 96/610\n",
            "594225/594225 [==============================] - 1s 2us/step - loss: 0.0079 - acc: 0.8050\n",
            "Epoch 97/610\n",
            "594225/594225 [==============================] - 2s 3us/step - loss: 0.0079 - acc: 0.8044\n",
            "Epoch 98/610\n",
            "594225/594225 [==============================] - 2s 3us/step - loss: 0.0079 - acc: 0.8077\n",
            "Epoch 99/610\n",
            "594225/594225 [==============================] - 2s 3us/step - loss: 0.0079 - acc: 0.8048\n",
            "Epoch 100/610\n",
            "594225/594225 [==============================] - 2s 3us/step - loss: 0.0079 - acc: 0.8048\n",
            "Epoch 101/610\n",
            "594225/594225 [==============================] - 1s 3us/step - loss: 0.0079 - acc: 0.8053\n",
            "Epoch 102/610\n",
            "594225/594225 [==============================] - 1s 3us/step - loss: 0.0079 - acc: 0.8038\n",
            "Epoch 103/610\n",
            "594225/594225 [==============================] - 2s 3us/step - loss: 0.0078 - acc: 0.8044\n",
            "Epoch 104/610\n",
            "594225/594225 [==============================] - 2s 3us/step - loss: 0.0078 - acc: 0.8027\n",
            "Epoch 105/610\n",
            "594225/594225 [==============================] - 2s 3us/step - loss: 0.0079 - acc: 0.8052\n",
            "Epoch 106/610\n",
            "594225/594225 [==============================] - 1s 3us/step - loss: 0.0078 - acc: 0.8041\n",
            "Epoch 107/610\n",
            "594225/594225 [==============================] - 2s 3us/step - loss: 0.0079 - acc: 0.8014\n",
            "Epoch 108/610\n",
            "594225/594225 [==============================] - 2s 3us/step - loss: 0.0078 - acc: 0.8040\n",
            "Epoch 109/610\n",
            "594225/594225 [==============================] - 2s 3us/step - loss: 0.0078 - acc: 0.8016\n",
            "Epoch 110/610\n",
            "594225/594225 [==============================] - 2s 3us/step - loss: 0.0078 - acc: 0.8027\n",
            "Epoch 111/610\n",
            "594225/594225 [==============================] - 2s 3us/step - loss: 0.0079 - acc: 0.8031\n",
            "Epoch 112/610\n",
            "594225/594225 [==============================] - 2s 3us/step - loss: 0.0078 - acc: 0.8044\n",
            "Epoch 113/610\n",
            "594225/594225 [==============================] - 2s 3us/step - loss: 0.0077 - acc: 0.8032\n",
            "Epoch 114/610\n",
            "594225/594225 [==============================] - 2s 3us/step - loss: 0.0078 - acc: 0.8034\n",
            "Epoch 115/610\n",
            "594225/594225 [==============================] - 2s 3us/step - loss: 0.0078 - acc: 0.8038\n",
            "Epoch 116/610\n",
            "594225/594225 [==============================] - 2s 3us/step - loss: 0.0078 - acc: 0.8022\n",
            "Epoch 117/610\n",
            "594225/594225 [==============================] - 2s 3us/step - loss: 0.0077 - acc: 0.8016\n",
            "Epoch 118/610\n",
            "594225/594225 [==============================] - 2s 3us/step - loss: 0.0078 - acc: 0.8025\n",
            "Epoch 119/610\n",
            "594225/594225 [==============================] - 2s 3us/step - loss: 0.0078 - acc: 0.8017\n",
            "Epoch 120/610\n",
            "594225/594225 [==============================] - 1s 3us/step - loss: 0.0078 - acc: 0.8025\n",
            "Epoch 121/610\n",
            "594225/594225 [==============================] - 2s 3us/step - loss: 0.0077 - acc: 0.8027\n",
            "Epoch 122/610\n",
            "594225/594225 [==============================] - 1s 3us/step - loss: 0.0077 - acc: 0.8035\n",
            "Epoch 123/610\n",
            "594225/594225 [==============================] - 2s 3us/step - loss: 0.0077 - acc: 0.8039\n",
            "Epoch 124/610\n",
            "594225/594225 [==============================] - 1s 3us/step - loss: 0.0077 - acc: 0.8025\n",
            "Epoch 125/610\n",
            "594225/594225 [==============================] - 2s 3us/step - loss: 0.0078 - acc: 0.8016\n",
            "Epoch 126/610\n",
            "594225/594225 [==============================] - 1s 3us/step - loss: 0.0078 - acc: 0.8031\n",
            "Epoch 127/610\n",
            "594225/594225 [==============================] - 1s 2us/step - loss: 0.0077 - acc: 0.8048\n",
            "Epoch 128/610\n",
            "594225/594225 [==============================] - 2s 3us/step - loss: 0.0077 - acc: 0.8032\n",
            "Epoch 129/610\n",
            "594225/594225 [==============================] - 2s 3us/step - loss: 0.0077 - acc: 0.8022\n",
            "Epoch 130/610\n",
            "594225/594225 [==============================] - 2s 3us/step - loss: 0.0077 - acc: 0.8012\n",
            "Epoch 131/610\n",
            "594225/594225 [==============================] - 2s 3us/step - loss: 0.0076 - acc: 0.8045\n",
            "Epoch 132/610\n",
            "594225/594225 [==============================] - 2s 3us/step - loss: 0.0077 - acc: 0.8036\n",
            "Epoch 133/610\n",
            "594225/594225 [==============================] - 2s 3us/step - loss: 0.0077 - acc: 0.8002\n",
            "Epoch 134/610\n",
            "594225/594225 [==============================] - 2s 3us/step - loss: 0.0077 - acc: 0.8012\n",
            "Epoch 135/610\n",
            "594225/594225 [==============================] - 2s 3us/step - loss: 0.0077 - acc: 0.8002\n",
            "Epoch 136/610\n",
            "594225/594225 [==============================] - 2s 3us/step - loss: 0.0077 - acc: 0.8029\n",
            "Epoch 137/610\n",
            "594225/594225 [==============================] - 2s 3us/step - loss: 0.0077 - acc: 0.7999\n",
            "Epoch 138/610\n",
            "594225/594225 [==============================] - 2s 3us/step - loss: 0.0076 - acc: 0.8028\n",
            "Epoch 139/610\n",
            "594225/594225 [==============================] - 2s 3us/step - loss: 0.0076 - acc: 0.8034\n",
            "Epoch 140/610\n",
            "594225/594225 [==============================] - 2s 3us/step - loss: 0.0076 - acc: 0.8021\n",
            "Epoch 141/610\n",
            "594225/594225 [==============================] - 2s 3us/step - loss: 0.0076 - acc: 0.8011\n",
            "Epoch 142/610\n",
            "594225/594225 [==============================] - 2s 3us/step - loss: 0.0076 - acc: 0.7982\n",
            "Epoch 143/610\n",
            "594225/594225 [==============================] - 2s 3us/step - loss: 0.0076 - acc: 0.7996\n",
            "Epoch 144/610\n",
            "594225/594225 [==============================] - 2s 3us/step - loss: 0.0076 - acc: 0.7998\n",
            "Epoch 145/610\n",
            "594225/594225 [==============================] - 2s 3us/step - loss: 0.0077 - acc: 0.8004\n",
            "Epoch 146/610\n",
            "594225/594225 [==============================] - 2s 3us/step - loss: 0.0076 - acc: 0.8002\n",
            "Epoch 147/610\n",
            "594225/594225 [==============================] - 2s 3us/step - loss: 0.0076 - acc: 0.8001\n",
            "Epoch 148/610\n",
            "594225/594225 [==============================] - 2s 3us/step - loss: 0.0076 - acc: 0.8001\n",
            "Epoch 149/610\n",
            "594225/594225 [==============================] - 2s 3us/step - loss: 0.0076 - acc: 0.8006\n",
            "Epoch 150/610\n",
            "594225/594225 [==============================] - 2s 3us/step - loss: 0.0076 - acc: 0.8003\n",
            "Epoch 151/610\n",
            "594225/594225 [==============================] - 2s 3us/step - loss: 0.0076 - acc: 0.7989\n",
            "Epoch 152/610\n",
            "594225/594225 [==============================] - 2s 3us/step - loss: 0.0076 - acc: 0.7984\n",
            "Epoch 153/610\n",
            "594225/594225 [==============================] - 2s 3us/step - loss: 0.0076 - acc: 0.7999\n",
            "Epoch 154/610\n",
            "594225/594225 [==============================] - 1s 3us/step - loss: 0.0076 - acc: 0.7988\n",
            "Epoch 155/610\n",
            "594225/594225 [==============================] - 2s 3us/step - loss: 0.0076 - acc: 0.7994\n",
            "Epoch 156/610\n",
            "594225/594225 [==============================] - 2s 3us/step - loss: 0.0075 - acc: 0.7993\n",
            "Epoch 157/610\n",
            "594225/594225 [==============================] - 2s 3us/step - loss: 0.0076 - acc: 0.7995\n",
            "Epoch 158/610\n",
            "594225/594225 [==============================] - 2s 3us/step - loss: 0.0076 - acc: 0.7998\n",
            "Epoch 159/610\n",
            "594225/594225 [==============================] - 2s 3us/step - loss: 0.0076 - acc: 0.8011\n",
            "Epoch 160/610\n",
            "594225/594225 [==============================] - 2s 3us/step - loss: 0.0075 - acc: 0.7988\n",
            "Epoch 161/610\n",
            "594225/594225 [==============================] - 1s 2us/step - loss: 0.0076 - acc: 0.7987\n",
            "Epoch 162/610\n",
            "594225/594225 [==============================] - 2s 3us/step - loss: 0.0075 - acc: 0.8006\n",
            "Epoch 163/610\n",
            "594225/594225 [==============================] - 2s 3us/step - loss: 0.0075 - acc: 0.7995\n",
            "Epoch 164/610\n",
            "594225/594225 [==============================] - 2s 3us/step - loss: 0.0075 - acc: 0.8014\n",
            "Epoch 165/610\n",
            "594225/594225 [==============================] - 2s 3us/step - loss: 0.0075 - acc: 0.7990\n",
            "Epoch 166/610\n",
            "594225/594225 [==============================] - 1s 3us/step - loss: 0.0076 - acc: 0.7980\n",
            "Epoch 167/610\n",
            "594225/594225 [==============================] - 2s 3us/step - loss: 0.0075 - acc: 0.8000\n",
            "Epoch 168/610\n",
            "594225/594225 [==============================] - 2s 3us/step - loss: 0.0075 - acc: 0.7998\n",
            "Epoch 169/610\n",
            "594225/594225 [==============================] - 2s 3us/step - loss: 0.0075 - acc: 0.7985\n",
            "Epoch 170/610\n",
            "594225/594225 [==============================] - 2s 3us/step - loss: 0.0075 - acc: 0.8025\n",
            "Epoch 171/610\n",
            "594225/594225 [==============================] - 2s 3us/step - loss: 0.0076 - acc: 0.8012\n",
            "Epoch 172/610\n",
            "594225/594225 [==============================] - 2s 3us/step - loss: 0.0075 - acc: 0.8015\n",
            "Epoch 173/610\n",
            "594225/594225 [==============================] - 1s 2us/step - loss: 0.0075 - acc: 0.8032\n",
            "Epoch 174/610\n",
            "594225/594225 [==============================] - 2s 3us/step - loss: 0.0075 - acc: 0.8027\n",
            "Epoch 175/610\n",
            "594225/594225 [==============================] - 2s 3us/step - loss: 0.0075 - acc: 0.8022\n",
            "Epoch 176/610\n",
            "594225/594225 [==============================] - 2s 3us/step - loss: 0.0075 - acc: 0.8011\n",
            "Epoch 177/610\n",
            "594225/594225 [==============================] - 2s 3us/step - loss: 0.0075 - acc: 0.8026\n",
            "Epoch 178/610\n",
            "594225/594225 [==============================] - 2s 3us/step - loss: 0.0075 - acc: 0.8042\n",
            "Epoch 179/610\n",
            "594225/594225 [==============================] - 2s 3us/step - loss: 0.0075 - acc: 0.8011\n",
            "Epoch 180/610\n",
            "594225/594225 [==============================] - 2s 3us/step - loss: 0.0075 - acc: 0.8054\n",
            "Epoch 181/610\n",
            "594225/594225 [==============================] - 2s 3us/step - loss: 0.0075 - acc: 0.8015\n",
            "Epoch 182/610\n",
            "594225/594225 [==============================] - 2s 3us/step - loss: 0.0075 - acc: 0.8012\n",
            "Epoch 183/610\n",
            "594225/594225 [==============================] - 2s 3us/step - loss: 0.0076 - acc: 0.7997\n",
            "Epoch 184/610\n",
            "594225/594225 [==============================] - 2s 3us/step - loss: 0.0075 - acc: 0.8054\n",
            "Epoch 185/610\n",
            "594225/594225 [==============================] - 2s 3us/step - loss: 0.0075 - acc: 0.8022\n",
            "Epoch 186/610\n",
            "594225/594225 [==============================] - 1s 3us/step - loss: 0.0075 - acc: 0.8041\n",
            "Epoch 187/610\n",
            "594225/594225 [==============================] - 2s 3us/step - loss: 0.0075 - acc: 0.8020\n",
            "Epoch 188/610\n",
            "594225/594225 [==============================] - 2s 3us/step - loss: 0.0075 - acc: 0.8033\n",
            "Epoch 189/610\n",
            "594225/594225 [==============================] - 2s 3us/step - loss: 0.0074 - acc: 0.8024\n",
            "Epoch 190/610\n",
            "594225/594225 [==============================] - 2s 3us/step - loss: 0.0075 - acc: 0.8025\n",
            "Epoch 191/610\n",
            "594225/594225 [==============================] - 2s 3us/step - loss: 0.0075 - acc: 0.8040\n",
            "Epoch 192/610\n",
            "594225/594225 [==============================] - 2s 3us/step - loss: 0.0074 - acc: 0.8012\n",
            "Epoch 193/610\n",
            "594225/594225 [==============================] - 1s 2us/step - loss: 0.0075 - acc: 0.8009\n",
            "Epoch 194/610\n",
            "594225/594225 [==============================] - 2s 3us/step - loss: 0.0075 - acc: 0.7987\n",
            "Epoch 195/610\n",
            "594225/594225 [==============================] - 2s 3us/step - loss: 0.0075 - acc: 0.8011\n",
            "Epoch 196/610\n",
            "594225/594225 [==============================] - 1s 3us/step - loss: 0.0075 - acc: 0.8017\n",
            "Epoch 197/610\n",
            "594225/594225 [==============================] - 2s 3us/step - loss: 0.0074 - acc: 0.8025\n",
            "Epoch 198/610\n",
            "594225/594225 [==============================] - 1s 3us/step - loss: 0.0075 - acc: 0.8008\n",
            "Epoch 199/610\n",
            "594225/594225 [==============================] - 1s 3us/step - loss: 0.0074 - acc: 0.8024\n",
            "Epoch 200/610\n",
            "594225/594225 [==============================] - 1s 3us/step - loss: 0.0075 - acc: 0.8025\n",
            "Epoch 201/610\n",
            "594225/594225 [==============================] - 1s 2us/step - loss: 0.0075 - acc: 0.8000\n",
            "Epoch 202/610\n",
            "594225/594225 [==============================] - 2s 3us/step - loss: 0.0074 - acc: 0.8031\n",
            "Epoch 203/610\n",
            "594225/594225 [==============================] - 2s 3us/step - loss: 0.0074 - acc: 0.8018\n",
            "Epoch 204/610\n",
            "594225/594225 [==============================] - 1s 3us/step - loss: 0.0074 - acc: 0.8023\n",
            "Epoch 205/610\n",
            "594225/594225 [==============================] - 1s 2us/step - loss: 0.0074 - acc: 0.8019\n",
            "Epoch 206/610\n",
            "594225/594225 [==============================] - 1s 3us/step - loss: 0.0074 - acc: 0.8038\n",
            "Epoch 207/610\n",
            "594225/594225 [==============================] - 1s 3us/step - loss: 0.0075 - acc: 0.8011\n",
            "Epoch 208/610\n",
            "594225/594225 [==============================] - 1s 3us/step - loss: 0.0075 - acc: 0.8046\n",
            "Epoch 209/610\n",
            "594225/594225 [==============================] - 2s 3us/step - loss: 0.0074 - acc: 0.8037\n",
            "Epoch 210/610\n",
            "594225/594225 [==============================] - 2s 3us/step - loss: 0.0074 - acc: 0.8039\n",
            "Epoch 211/610\n",
            "594225/594225 [==============================] - 2s 3us/step - loss: 0.0074 - acc: 0.8014\n",
            "Epoch 212/610\n",
            "594225/594225 [==============================] - 2s 3us/step - loss: 0.0074 - acc: 0.8043\n",
            "Epoch 213/610\n",
            "594225/594225 [==============================] - 1s 3us/step - loss: 0.0074 - acc: 0.8040\n",
            "Epoch 214/610\n",
            "594225/594225 [==============================] - 2s 3us/step - loss: 0.0074 - acc: 0.8023\n",
            "Epoch 215/610\n",
            "594225/594225 [==============================] - 1s 2us/step - loss: 0.0075 - acc: 0.8015\n",
            "Epoch 216/610\n",
            "594225/594225 [==============================] - 2s 3us/step - loss: 0.0074 - acc: 0.8031\n",
            "Epoch 217/610\n",
            "594225/594225 [==============================] - 2s 3us/step - loss: 0.0074 - acc: 0.8019\n",
            "Epoch 218/610\n",
            "594225/594225 [==============================] - 2s 3us/step - loss: 0.0073 - acc: 0.8031\n",
            "Epoch 219/610\n",
            "594225/594225 [==============================] - 2s 3us/step - loss: 0.0074 - acc: 0.8011\n",
            "Epoch 220/610\n",
            "594225/594225 [==============================] - 2s 3us/step - loss: 0.0074 - acc: 0.8023\n",
            "Epoch 221/610\n",
            "594225/594225 [==============================] - 2s 3us/step - loss: 0.0074 - acc: 0.8002\n",
            "Epoch 222/610\n",
            "594225/594225 [==============================] - 1s 2us/step - loss: 0.0074 - acc: 0.8035\n",
            "Epoch 223/610\n",
            "594225/594225 [==============================] - 1s 2us/step - loss: 0.0074 - acc: 0.8022\n",
            "Epoch 224/610\n",
            "594225/594225 [==============================] - 2s 3us/step - loss: 0.0073 - acc: 0.8023\n",
            "Epoch 225/610\n",
            "594225/594225 [==============================] - 2s 3us/step - loss: 0.0075 - acc: 0.8001\n",
            "Epoch 226/610\n",
            "594225/594225 [==============================] - 2s 3us/step - loss: 0.0074 - acc: 0.8007\n",
            "Epoch 227/610\n",
            "594225/594225 [==============================] - 2s 3us/step - loss: 0.0074 - acc: 0.8018\n",
            "Epoch 228/610\n",
            "594225/594225 [==============================] - 2s 3us/step - loss: 0.0074 - acc: 0.8008\n",
            "Epoch 229/610\n",
            "594225/594225 [==============================] - 2s 3us/step - loss: 0.0073 - acc: 0.8027\n",
            "Epoch 230/610\n",
            "594225/594225 [==============================] - 2s 3us/step - loss: 0.0074 - acc: 0.8006\n",
            "Epoch 231/610\n",
            "594225/594225 [==============================] - 2s 3us/step - loss: 0.0074 - acc: 0.7999\n",
            "Epoch 232/610\n",
            "594225/594225 [==============================] - 1s 3us/step - loss: 0.0074 - acc: 0.7992\n",
            "Epoch 233/610\n",
            "594225/594225 [==============================] - 2s 3us/step - loss: 0.0074 - acc: 0.8019\n",
            "Epoch 234/610\n",
            "594225/594225 [==============================] - 2s 3us/step - loss: 0.0074 - acc: 0.8043\n",
            "Epoch 235/610\n",
            "594225/594225 [==============================] - 2s 3us/step - loss: 0.0073 - acc: 0.8035\n",
            "Epoch 236/610\n",
            "594225/594225 [==============================] - 2s 3us/step - loss: 0.0074 - acc: 0.8003\n",
            "Epoch 237/610\n",
            "594225/594225 [==============================] - 2s 3us/step - loss: 0.0073 - acc: 0.8021\n",
            "Epoch 238/610\n",
            "594225/594225 [==============================] - 2s 3us/step - loss: 0.0074 - acc: 0.8003\n",
            "Epoch 239/610\n",
            "594225/594225 [==============================] - 2s 3us/step - loss: 0.0073 - acc: 0.8049\n",
            "Epoch 240/610\n",
            "594225/594225 [==============================] - 2s 3us/step - loss: 0.0073 - acc: 0.8009\n",
            "Epoch 241/610\n",
            "594225/594225 [==============================] - 2s 3us/step - loss: 0.0073 - acc: 0.8013\n",
            "Epoch 242/610\n",
            "594225/594225 [==============================] - 1s 2us/step - loss: 0.0074 - acc: 0.8037\n",
            "Epoch 243/610\n",
            "594225/594225 [==============================] - 2s 3us/step - loss: 0.0074 - acc: 0.8038\n",
            "Epoch 244/610\n",
            "594225/594225 [==============================] - 2s 3us/step - loss: 0.0074 - acc: 0.8008\n",
            "Epoch 245/610\n",
            "594225/594225 [==============================] - 2s 3us/step - loss: 0.0074 - acc: 0.8040\n",
            "Epoch 246/610\n",
            "594225/594225 [==============================] - 2s 3us/step - loss: 0.0073 - acc: 0.8009\n",
            "Epoch 247/610\n",
            "594225/594225 [==============================] - 2s 3us/step - loss: 0.0073 - acc: 0.8050\n",
            "Epoch 248/610\n",
            "594225/594225 [==============================] - 2s 3us/step - loss: 0.0073 - acc: 0.8030\n",
            "Epoch 249/610\n",
            "594225/594225 [==============================] - 2s 3us/step - loss: 0.0074 - acc: 0.8009\n",
            "Epoch 250/610\n",
            "594225/594225 [==============================] - 2s 3us/step - loss: 0.0074 - acc: 0.8054\n",
            "Epoch 251/610\n",
            "594225/594225 [==============================] - 2s 3us/step - loss: 0.0073 - acc: 0.8033\n",
            "Epoch 252/610\n",
            "594225/594225 [==============================] - 2s 3us/step - loss: 0.0073 - acc: 0.8009\n",
            "Epoch 253/610\n",
            "594225/594225 [==============================] - 2s 3us/step - loss: 0.0073 - acc: 0.8021\n",
            "Epoch 254/610\n",
            "594225/594225 [==============================] - 2s 3us/step - loss: 0.0073 - acc: 0.8006\n",
            "Epoch 255/610\n",
            "594225/594225 [==============================] - 2s 3us/step - loss: 0.0073 - acc: 0.8015\n",
            "Epoch 256/610\n",
            "594225/594225 [==============================] - 1s 3us/step - loss: 0.0073 - acc: 0.8030\n",
            "Epoch 257/610\n",
            "594225/594225 [==============================] - 2s 3us/step - loss: 0.0073 - acc: 0.8031\n",
            "Epoch 258/610\n",
            "594225/594225 [==============================] - 1s 2us/step - loss: 0.0073 - acc: 0.8039\n",
            "Epoch 259/610\n",
            "594225/594225 [==============================] - 2s 3us/step - loss: 0.0073 - acc: 0.8039\n",
            "Epoch 260/610\n",
            "594225/594225 [==============================] - 2s 3us/step - loss: 0.0074 - acc: 0.8032\n",
            "Epoch 261/610\n",
            "594225/594225 [==============================] - 2s 3us/step - loss: 0.0073 - acc: 0.8041\n",
            "Epoch 262/610\n",
            "594225/594225 [==============================] - 1s 3us/step - loss: 0.0073 - acc: 0.8032\n",
            "Epoch 263/610\n",
            "594225/594225 [==============================] - 2s 3us/step - loss: 0.0073 - acc: 0.8032\n",
            "Epoch 264/610\n",
            "594225/594225 [==============================] - 1s 3us/step - loss: 0.0073 - acc: 0.8031\n",
            "Epoch 265/610\n",
            "594225/594225 [==============================] - 2s 3us/step - loss: 0.0073 - acc: 0.8032\n",
            "Epoch 266/610\n",
            "594225/594225 [==============================] - 2s 3us/step - loss: 0.0073 - acc: 0.8028\n",
            "Epoch 267/610\n",
            "594225/594225 [==============================] - 1s 3us/step - loss: 0.0073 - acc: 0.8044\n",
            "Epoch 268/610\n",
            "594225/594225 [==============================] - 2s 3us/step - loss: 0.0073 - acc: 0.8058\n",
            "Epoch 269/610\n",
            "594225/594225 [==============================] - 2s 3us/step - loss: 0.0073 - acc: 0.8046\n",
            "Epoch 270/610\n",
            "594225/594225 [==============================] - 2s 3us/step - loss: 0.0073 - acc: 0.8040\n",
            "Epoch 271/610\n",
            "594225/594225 [==============================] - 2s 3us/step - loss: 0.0073 - acc: 0.8060\n",
            "Epoch 272/610\n",
            "594225/594225 [==============================] - 1s 2us/step - loss: 0.0073 - acc: 0.8042\n",
            "Epoch 273/610\n",
            "594225/594225 [==============================] - 2s 3us/step - loss: 0.0073 - acc: 0.8042\n",
            "Epoch 274/610\n",
            "594225/594225 [==============================] - 1s 2us/step - loss: 0.0073 - acc: 0.8041\n",
            "Epoch 275/610\n",
            "594225/594225 [==============================] - 1s 3us/step - loss: 0.0073 - acc: 0.8055\n",
            "Epoch 276/610\n",
            "594225/594225 [==============================] - 2s 3us/step - loss: 0.0072 - acc: 0.8066\n",
            "Epoch 277/610\n",
            "594225/594225 [==============================] - 2s 3us/step - loss: 0.0073 - acc: 0.8066\n",
            "Epoch 278/610\n",
            "594225/594225 [==============================] - 2s 3us/step - loss: 0.0072 - acc: 0.8029\n",
            "Epoch 279/610\n",
            "594225/594225 [==============================] - 1s 3us/step - loss: 0.0073 - acc: 0.8038\n",
            "Epoch 280/610\n",
            "594225/594225 [==============================] - 2s 3us/step - loss: 0.0072 - acc: 0.8047\n",
            "Epoch 281/610\n",
            "594225/594225 [==============================] - 2s 3us/step - loss: 0.0073 - acc: 0.8059\n",
            "Epoch 282/610\n",
            "594225/594225 [==============================] - 2s 3us/step - loss: 0.0073 - acc: 0.8066\n",
            "Epoch 283/610\n",
            "594225/594225 [==============================] - 2s 3us/step - loss: 0.0073 - acc: 0.8053\n",
            "Epoch 284/610\n",
            "594225/594225 [==============================] - 2s 3us/step - loss: 0.0072 - acc: 0.8047\n",
            "Epoch 285/610\n",
            "594225/594225 [==============================] - 2s 3us/step - loss: 0.0073 - acc: 0.8050\n",
            "Epoch 286/610\n",
            "594225/594225 [==============================] - 1s 2us/step - loss: 0.0073 - acc: 0.8053\n",
            "Epoch 287/610\n",
            "594225/594225 [==============================] - 2s 3us/step - loss: 0.0073 - acc: 0.8043\n",
            "Epoch 288/610\n",
            "594225/594225 [==============================] - 2s 3us/step - loss: 0.0073 - acc: 0.8048\n",
            "Epoch 289/610\n",
            "594225/594225 [==============================] - 2s 3us/step - loss: 0.0073 - acc: 0.8064\n",
            "Epoch 290/610\n",
            "594225/594225 [==============================] - 1s 3us/step - loss: 0.0072 - acc: 0.8072\n",
            "Epoch 291/610\n",
            "594225/594225 [==============================] - 2s 3us/step - loss: 0.0073 - acc: 0.8041\n",
            "Epoch 292/610\n",
            "594225/594225 [==============================] - 2s 3us/step - loss: 0.0073 - acc: 0.8052\n",
            "Epoch 293/610\n",
            "594225/594225 [==============================] - 2s 3us/step - loss: 0.0073 - acc: 0.8052\n",
            "Epoch 294/610\n",
            "594225/594225 [==============================] - 2s 3us/step - loss: 0.0072 - acc: 0.8040\n",
            "Epoch 295/610\n",
            "594225/594225 [==============================] - 2s 3us/step - loss: 0.0072 - acc: 0.8039\n",
            "Epoch 296/610\n",
            "594225/594225 [==============================] - 2s 3us/step - loss: 0.0073 - acc: 0.8032\n",
            "Epoch 297/610\n",
            "594225/594225 [==============================] - 2s 3us/step - loss: 0.0072 - acc: 0.8072\n",
            "Epoch 298/610\n",
            "594225/594225 [==============================] - 2s 3us/step - loss: 0.0072 - acc: 0.8059\n",
            "Epoch 299/610\n",
            "594225/594225 [==============================] - 2s 3us/step - loss: 0.0073 - acc: 0.8049\n",
            "Epoch 300/610\n",
            "594225/594225 [==============================] - 2s 3us/step - loss: 0.0073 - acc: 0.8036\n",
            "Epoch 301/610\n",
            "594225/594225 [==============================] - 2s 3us/step - loss: 0.0072 - acc: 0.8045\n",
            "Epoch 302/610\n",
            "594225/594225 [==============================] - 1s 3us/step - loss: 0.0072 - acc: 0.8061\n",
            "Epoch 303/610\n",
            "594225/594225 [==============================] - 2s 3us/step - loss: 0.0072 - acc: 0.8049\n",
            "Epoch 304/610\n",
            "594225/594225 [==============================] - 2s 3us/step - loss: 0.0072 - acc: 0.8056\n",
            "Epoch 305/610\n",
            "594225/594225 [==============================] - 1s 3us/step - loss: 0.0073 - acc: 0.8032\n",
            "Epoch 306/610\n",
            "594225/594225 [==============================] - 2s 3us/step - loss: 0.0072 - acc: 0.8066\n",
            "Epoch 307/610\n",
            "594225/594225 [==============================] - 2s 3us/step - loss: 0.0073 - acc: 0.8082\n",
            "Epoch 308/610\n",
            "594225/594225 [==============================] - 2s 3us/step - loss: 0.0073 - acc: 0.8016\n",
            "Epoch 309/610\n",
            "594225/594225 [==============================] - 2s 3us/step - loss: 0.0072 - acc: 0.8054\n",
            "Epoch 310/610\n",
            "594225/594225 [==============================] - 1s 2us/step - loss: 0.0072 - acc: 0.8073\n",
            "Epoch 311/610\n",
            "594225/594225 [==============================] - 2s 3us/step - loss: 0.0073 - acc: 0.8052\n",
            "Epoch 312/610\n",
            "594225/594225 [==============================] - 1s 3us/step - loss: 0.0072 - acc: 0.8061\n",
            "Epoch 313/610\n",
            "594225/594225 [==============================] - 2s 3us/step - loss: 0.0072 - acc: 0.8042\n",
            "Epoch 314/610\n",
            "594225/594225 [==============================] - 2s 3us/step - loss: 0.0072 - acc: 0.8032\n",
            "Epoch 315/610\n",
            "594225/594225 [==============================] - 1s 3us/step - loss: 0.0072 - acc: 0.8044\n",
            "Epoch 316/610\n",
            "594225/594225 [==============================] - 2s 3us/step - loss: 0.0072 - acc: 0.8060\n",
            "Epoch 317/610\n",
            "594225/594225 [==============================] - 2s 3us/step - loss: 0.0072 - acc: 0.8056\n",
            "Epoch 318/610\n",
            "594225/594225 [==============================] - 2s 3us/step - loss: 0.0072 - acc: 0.8034\n",
            "Epoch 319/610\n",
            "594225/594225 [==============================] - 2s 3us/step - loss: 0.0072 - acc: 0.8063\n",
            "Epoch 320/610\n",
            "594225/594225 [==============================] - 2s 3us/step - loss: 0.0072 - acc: 0.8052\n",
            "Epoch 321/610\n",
            "594225/594225 [==============================] - 2s 3us/step - loss: 0.0072 - acc: 0.8074\n",
            "Epoch 322/610\n",
            "594225/594225 [==============================] - 2s 3us/step - loss: 0.0073 - acc: 0.8061\n",
            "Epoch 323/610\n",
            "594225/594225 [==============================] - 2s 3us/step - loss: 0.0072 - acc: 0.8052\n",
            "Epoch 324/610\n",
            "594225/594225 [==============================] - 2s 3us/step - loss: 0.0072 - acc: 0.8076\n",
            "Epoch 325/610\n",
            "594225/594225 [==============================] - 2s 3us/step - loss: 0.0072 - acc: 0.8062\n",
            "Epoch 326/610\n",
            "594225/594225 [==============================] - 2s 3us/step - loss: 0.0072 - acc: 0.8073\n",
            "Epoch 327/610\n",
            "594225/594225 [==============================] - 2s 3us/step - loss: 0.0071 - acc: 0.8033\n",
            "Epoch 328/610\n",
            "594225/594225 [==============================] - 2s 3us/step - loss: 0.0073 - acc: 0.8051\n",
            "Epoch 329/610\n",
            "594225/594225 [==============================] - 2s 3us/step - loss: 0.0072 - acc: 0.8054\n",
            "Epoch 330/610\n",
            "594225/594225 [==============================] - 2s 3us/step - loss: 0.0072 - acc: 0.8052\n",
            "Epoch 331/610\n",
            "594225/594225 [==============================] - 2s 3us/step - loss: 0.0072 - acc: 0.8036\n",
            "Epoch 332/610\n",
            "594225/594225 [==============================] - 2s 3us/step - loss: 0.0072 - acc: 0.8057\n",
            "Epoch 333/610\n",
            "594225/594225 [==============================] - 2s 3us/step - loss: 0.0072 - acc: 0.8065\n",
            "Epoch 334/610\n",
            "594225/594225 [==============================] - 1s 3us/step - loss: 0.0072 - acc: 0.8037\n",
            "Epoch 335/610\n",
            "594225/594225 [==============================] - 2s 3us/step - loss: 0.0071 - acc: 0.8054\n",
            "Epoch 336/610\n",
            "594225/594225 [==============================] - 2s 3us/step - loss: 0.0071 - acc: 0.8057\n",
            "Epoch 337/610\n",
            "594225/594225 [==============================] - 2s 3us/step - loss: 0.0073 - acc: 0.8049\n",
            "Epoch 338/610\n",
            "594225/594225 [==============================] - 2s 3us/step - loss: 0.0072 - acc: 0.8058\n",
            "Epoch 339/610\n",
            "594225/594225 [==============================] - 2s 3us/step - loss: 0.0072 - acc: 0.8046\n",
            "Epoch 340/610\n",
            "594225/594225 [==============================] - 2s 3us/step - loss: 0.0072 - acc: 0.8036\n",
            "Epoch 341/610\n",
            "594225/594225 [==============================] - 2s 3us/step - loss: 0.0072 - acc: 0.8030\n",
            "Epoch 342/610\n",
            "594225/594225 [==============================] - 1s 2us/step - loss: 0.0072 - acc: 0.8064\n",
            "Epoch 343/610\n",
            "594225/594225 [==============================] - 1s 2us/step - loss: 0.0072 - acc: 0.8056\n",
            "Epoch 344/610\n",
            "594225/594225 [==============================] - 2s 3us/step - loss: 0.0072 - acc: 0.8036\n",
            "Epoch 345/610\n",
            "594225/594225 [==============================] - 2s 3us/step - loss: 0.0072 - acc: 0.8062\n",
            "Epoch 346/610\n",
            "594225/594225 [==============================] - 2s 3us/step - loss: 0.0072 - acc: 0.8044\n",
            "Epoch 347/610\n",
            "594225/594225 [==============================] - 2s 3us/step - loss: 0.0072 - acc: 0.8046\n",
            "Epoch 348/610\n",
            "594225/594225 [==============================] - 2s 3us/step - loss: 0.0072 - acc: 0.8060\n",
            "Epoch 349/610\n",
            "594225/594225 [==============================] - 2s 3us/step - loss: 0.0072 - acc: 0.8071\n",
            "Epoch 350/610\n",
            "594225/594225 [==============================] - 2s 3us/step - loss: 0.0072 - acc: 0.8042\n",
            "Epoch 351/610\n",
            "594225/594225 [==============================] - 2s 3us/step - loss: 0.0072 - acc: 0.8052\n",
            "Epoch 352/610\n",
            "594225/594225 [==============================] - 1s 2us/step - loss: 0.0072 - acc: 0.8056\n",
            "Epoch 353/610\n",
            "594225/594225 [==============================] - 1s 3us/step - loss: 0.0072 - acc: 0.8044\n",
            "Epoch 354/610\n",
            "594225/594225 [==============================] - 2s 3us/step - loss: 0.0072 - acc: 0.8061\n",
            "Epoch 355/610\n",
            "594225/594225 [==============================] - 2s 3us/step - loss: 0.0072 - acc: 0.8067\n",
            "Epoch 356/610\n",
            "594225/594225 [==============================] - 2s 3us/step - loss: 0.0072 - acc: 0.8066\n",
            "Epoch 357/610\n",
            "594225/594225 [==============================] - 2s 3us/step - loss: 0.0071 - acc: 0.8055\n",
            "Epoch 358/610\n",
            "594225/594225 [==============================] - 2s 3us/step - loss: 0.0072 - acc: 0.8057\n",
            "Epoch 359/610\n",
            "594225/594225 [==============================] - 2s 3us/step - loss: 0.0072 - acc: 0.8041\n",
            "Epoch 360/610\n",
            "594225/594225 [==============================] - 1s 2us/step - loss: 0.0071 - acc: 0.8065\n",
            "Epoch 361/610\n",
            "594225/594225 [==============================] - 2s 3us/step - loss: 0.0072 - acc: 0.8048\n",
            "Epoch 362/610\n",
            "594225/594225 [==============================] - 2s 3us/step - loss: 0.0072 - acc: 0.8053\n",
            "Epoch 363/610\n",
            "594225/594225 [==============================] - 2s 3us/step - loss: 0.0072 - acc: 0.8031\n",
            "Epoch 364/610\n",
            "594225/594225 [==============================] - 2s 3us/step - loss: 0.0072 - acc: 0.8043\n",
            "Epoch 365/610\n",
            "594225/594225 [==============================] - 2s 3us/step - loss: 0.0072 - acc: 0.8059\n",
            "Epoch 366/610\n",
            "594225/594225 [==============================] - 2s 3us/step - loss: 0.0071 - acc: 0.8085\n",
            "Epoch 367/610\n",
            "594225/594225 [==============================] - 1s 2us/step - loss: 0.0072 - acc: 0.8062\n",
            "Epoch 368/610\n",
            "594225/594225 [==============================] - 2s 3us/step - loss: 0.0072 - acc: 0.8052\n",
            "Epoch 369/610\n",
            "594225/594225 [==============================] - 2s 3us/step - loss: 0.0072 - acc: 0.8051\n",
            "Epoch 370/610\n",
            "594225/594225 [==============================] - 2s 3us/step - loss: 0.0072 - acc: 0.8070\n",
            "Epoch 371/610\n",
            "594225/594225 [==============================] - 2s 3us/step - loss: 0.0072 - acc: 0.8065\n",
            "Epoch 372/610\n",
            "594225/594225 [==============================] - 1s 3us/step - loss: 0.0071 - acc: 0.8074\n",
            "Epoch 373/610\n",
            "594225/594225 [==============================] - 2s 3us/step - loss: 0.0072 - acc: 0.8053\n",
            "Epoch 374/610\n",
            "594225/594225 [==============================] - 2s 3us/step - loss: 0.0072 - acc: 0.8063\n",
            "Epoch 375/610\n",
            "594225/594225 [==============================] - 2s 3us/step - loss: 0.0072 - acc: 0.8052\n",
            "Epoch 376/610\n",
            "594225/594225 [==============================] - 2s 3us/step - loss: 0.0072 - acc: 0.8045\n",
            "Epoch 377/610\n",
            "594225/594225 [==============================] - 2s 3us/step - loss: 0.0072 - acc: 0.8063\n",
            "Epoch 378/610\n",
            "594225/594225 [==============================] - 2s 3us/step - loss: 0.0072 - acc: 0.8050\n",
            "Epoch 379/610\n",
            "594225/594225 [==============================] - 2s 3us/step - loss: 0.0071 - acc: 0.8054\n",
            "Epoch 380/610\n",
            "594225/594225 [==============================] - 2s 3us/step - loss: 0.0072 - acc: 0.8051\n",
            "Epoch 381/610\n",
            "594225/594225 [==============================] - 2s 3us/step - loss: 0.0072 - acc: 0.8035\n",
            "Epoch 382/610\n",
            "594225/594225 [==============================] - 2s 3us/step - loss: 0.0072 - acc: 0.8061\n",
            "Epoch 383/610\n",
            "594225/594225 [==============================] - 2s 3us/step - loss: 0.0072 - acc: 0.8042\n",
            "Epoch 384/610\n",
            "594225/594225 [==============================] - 2s 3us/step - loss: 0.0072 - acc: 0.8044\n",
            "Epoch 385/610\n",
            "594225/594225 [==============================] - 2s 3us/step - loss: 0.0071 - acc: 0.8057\n",
            "Epoch 386/610\n",
            "594225/594225 [==============================] - 2s 3us/step - loss: 0.0071 - acc: 0.8046\n",
            "Epoch 387/610\n",
            "594225/594225 [==============================] - 2s 3us/step - loss: 0.0072 - acc: 0.8059\n",
            "Epoch 388/610\n",
            "594225/594225 [==============================] - 2s 3us/step - loss: 0.0071 - acc: 0.8034\n",
            "Epoch 389/610\n",
            "594225/594225 [==============================] - 2s 3us/step - loss: 0.0072 - acc: 0.8053\n",
            "Epoch 390/610\n",
            "594225/594225 [==============================] - 1s 3us/step - loss: 0.0071 - acc: 0.8046\n",
            "Epoch 391/610\n",
            "594225/594225 [==============================] - 2s 3us/step - loss: 0.0071 - acc: 0.8046\n",
            "Epoch 392/610\n",
            "594225/594225 [==============================] - 2s 3us/step - loss: 0.0072 - acc: 0.8038\n",
            "Epoch 393/610\n",
            "594225/594225 [==============================] - 2s 3us/step - loss: 0.0071 - acc: 0.8032\n",
            "Epoch 394/610\n",
            "594225/594225 [==============================] - 2s 3us/step - loss: 0.0072 - acc: 0.8054\n",
            "Epoch 395/610\n",
            "594225/594225 [==============================] - 2s 3us/step - loss: 0.0071 - acc: 0.8070\n",
            "Epoch 396/610\n",
            "594225/594225 [==============================] - 2s 3us/step - loss: 0.0071 - acc: 0.8063\n",
            "Epoch 397/610\n",
            "594225/594225 [==============================] - 2s 3us/step - loss: 0.0071 - acc: 0.8056\n",
            "Epoch 398/610\n",
            "594225/594225 [==============================] - 2s 3us/step - loss: 0.0071 - acc: 0.8074\n",
            "Epoch 399/610\n",
            "594225/594225 [==============================] - 2s 3us/step - loss: 0.0072 - acc: 0.8026\n",
            "Epoch 400/610\n",
            "594225/594225 [==============================] - 2s 3us/step - loss: 0.0072 - acc: 0.8055\n",
            "Epoch 401/610\n",
            "594225/594225 [==============================] - 2s 3us/step - loss: 0.0071 - acc: 0.8043\n",
            "Epoch 402/610\n",
            "594225/594225 [==============================] - 2s 3us/step - loss: 0.0072 - acc: 0.8066\n",
            "Epoch 403/610\n",
            "594225/594225 [==============================] - 2s 3us/step - loss: 0.0071 - acc: 0.8066\n",
            "Epoch 404/610\n",
            "594225/594225 [==============================] - 2s 3us/step - loss: 0.0071 - acc: 0.8017\n",
            "Epoch 405/610\n",
            "594225/594225 [==============================] - 2s 3us/step - loss: 0.0071 - acc: 0.8034\n",
            "Epoch 406/610\n",
            "594225/594225 [==============================] - 2s 3us/step - loss: 0.0071 - acc: 0.8055\n",
            "Epoch 407/610\n",
            "594225/594225 [==============================] - 2s 3us/step - loss: 0.0071 - acc: 0.8041\n",
            "Epoch 408/610\n",
            "594225/594225 [==============================] - 2s 3us/step - loss: 0.0072 - acc: 0.8059\n",
            "Epoch 409/610\n",
            "594225/594225 [==============================] - 2s 3us/step - loss: 0.0071 - acc: 0.8036\n",
            "Epoch 410/610\n",
            "594225/594225 [==============================] - 2s 3us/step - loss: 0.0071 - acc: 0.8060\n",
            "Epoch 411/610\n",
            "594225/594225 [==============================] - 2s 3us/step - loss: 0.0071 - acc: 0.8061\n",
            "Epoch 412/610\n",
            "594225/594225 [==============================] - 2s 3us/step - loss: 0.0071 - acc: 0.8029\n",
            "Epoch 413/610\n",
            "594225/594225 [==============================] - 2s 3us/step - loss: 0.0071 - acc: 0.8010\n",
            "Epoch 414/610\n",
            "594225/594225 [==============================] - 2s 3us/step - loss: 0.0071 - acc: 0.8090\n",
            "Epoch 415/610\n",
            "594225/594225 [==============================] - 2s 3us/step - loss: 0.0071 - acc: 0.8063\n",
            "Epoch 416/610\n",
            "594225/594225 [==============================] - 2s 3us/step - loss: 0.0071 - acc: 0.8043\n",
            "Epoch 417/610\n",
            "594225/594225 [==============================] - 2s 3us/step - loss: 0.0071 - acc: 0.8035\n",
            "Epoch 418/610\n",
            "594225/594225 [==============================] - 2s 3us/step - loss: 0.0071 - acc: 0.8049\n",
            "Epoch 419/610\n",
            "594225/594225 [==============================] - 1s 3us/step - loss: 0.0071 - acc: 0.8043\n",
            "Epoch 420/610\n",
            "594225/594225 [==============================] - 2s 3us/step - loss: 0.0071 - acc: 0.8025\n",
            "Epoch 421/610\n",
            "594225/594225 [==============================] - 2s 3us/step - loss: 0.0072 - acc: 0.8059\n",
            "Epoch 422/610\n",
            "594225/594225 [==============================] - 2s 3us/step - loss: 0.0071 - acc: 0.8055\n",
            "Epoch 423/610\n",
            "594225/594225 [==============================] - 2s 3us/step - loss: 0.0071 - acc: 0.8041\n",
            "Epoch 424/610\n",
            "594225/594225 [==============================] - 2s 3us/step - loss: 0.0071 - acc: 0.8058\n",
            "Epoch 425/610\n",
            "594225/594225 [==============================] - 2s 3us/step - loss: 0.0071 - acc: 0.8057\n",
            "Epoch 426/610\n",
            "594225/594225 [==============================] - 2s 3us/step - loss: 0.0071 - acc: 0.8068\n",
            "Epoch 427/610\n",
            "594225/594225 [==============================] - 2s 3us/step - loss: 0.0071 - acc: 0.8072\n",
            "Epoch 428/610\n",
            "594225/594225 [==============================] - 2s 3us/step - loss: 0.0071 - acc: 0.8061\n",
            "Epoch 429/610\n",
            "594225/594225 [==============================] - 2s 3us/step - loss: 0.0071 - acc: 0.8057\n",
            "Epoch 430/610\n",
            "594225/594225 [==============================] - 2s 3us/step - loss: 0.0071 - acc: 0.8053\n",
            "Epoch 431/610\n",
            "594225/594225 [==============================] - 2s 3us/step - loss: 0.0071 - acc: 0.8046\n",
            "Epoch 432/610\n",
            "594225/594225 [==============================] - 2s 3us/step - loss: 0.0071 - acc: 0.8056\n",
            "Epoch 433/610\n",
            "594225/594225 [==============================] - 2s 3us/step - loss: 0.0071 - acc: 0.8033\n",
            "Epoch 434/610\n",
            "594225/594225 [==============================] - 2s 3us/step - loss: 0.0071 - acc: 0.8048\n",
            "Epoch 435/610\n",
            "594225/594225 [==============================] - 2s 3us/step - loss: 0.0071 - acc: 0.8084\n",
            "Epoch 436/610\n",
            "594225/594225 [==============================] - 2s 3us/step - loss: 0.0071 - acc: 0.8046\n",
            "Epoch 437/610\n",
            "594225/594225 [==============================] - 2s 3us/step - loss: 0.0071 - acc: 0.8035\n",
            "Epoch 438/610\n",
            "594225/594225 [==============================] - 2s 3us/step - loss: 0.0071 - acc: 0.8053\n",
            "Epoch 439/610\n",
            "594225/594225 [==============================] - 2s 3us/step - loss: 0.0071 - acc: 0.8044\n",
            "Epoch 440/610\n",
            "594225/594225 [==============================] - 2s 3us/step - loss: 0.0071 - acc: 0.8061\n",
            "Epoch 441/610\n",
            "594225/594225 [==============================] - 2s 3us/step - loss: 0.0071 - acc: 0.8049\n",
            "Epoch 442/610\n",
            "594225/594225 [==============================] - 2s 3us/step - loss: 0.0071 - acc: 0.8023\n",
            "Epoch 443/610\n",
            "594225/594225 [==============================] - 2s 3us/step - loss: 0.0071 - acc: 0.8066\n",
            "Epoch 444/610\n",
            "594225/594225 [==============================] - 2s 3us/step - loss: 0.0071 - acc: 0.8033\n",
            "Epoch 445/610\n",
            "594225/594225 [==============================] - 2s 3us/step - loss: 0.0071 - acc: 0.8055\n",
            "Epoch 446/610\n",
            "594225/594225 [==============================] - 2s 3us/step - loss: 0.0071 - acc: 0.8044\n",
            "Epoch 447/610\n",
            "594225/594225 [==============================] - 2s 3us/step - loss: 0.0071 - acc: 0.8066\n",
            "Epoch 448/610\n",
            "594225/594225 [==============================] - 2s 3us/step - loss: 0.0071 - acc: 0.8037\n",
            "Epoch 449/610\n",
            "594225/594225 [==============================] - 2s 3us/step - loss: 0.0071 - acc: 0.8026\n",
            "Epoch 450/610\n",
            "594225/594225 [==============================] - 2s 3us/step - loss: 0.0071 - acc: 0.8053\n",
            "Epoch 451/610\n",
            "594225/594225 [==============================] - 2s 3us/step - loss: 0.0071 - acc: 0.8049\n",
            "Epoch 452/610\n",
            "594225/594225 [==============================] - 2s 3us/step - loss: 0.0071 - acc: 0.8052\n",
            "Epoch 453/610\n",
            "594225/594225 [==============================] - 2s 3us/step - loss: 0.0071 - acc: 0.8025\n",
            "Epoch 454/610\n",
            "594225/594225 [==============================] - 2s 3us/step - loss: 0.0071 - acc: 0.8044\n",
            "Epoch 455/610\n",
            "594225/594225 [==============================] - 2s 3us/step - loss: 0.0071 - acc: 0.8039\n",
            "Epoch 456/610\n",
            "594225/594225 [==============================] - 2s 3us/step - loss: 0.0071 - acc: 0.8060\n",
            "Epoch 457/610\n",
            "594225/594225 [==============================] - 2s 3us/step - loss: 0.0071 - acc: 0.8051\n",
            "Epoch 458/610\n",
            "594225/594225 [==============================] - 2s 3us/step - loss: 0.0071 - acc: 0.8039\n",
            "Epoch 459/610\n",
            "594225/594225 [==============================] - 2s 3us/step - loss: 0.0071 - acc: 0.8037\n",
            "Epoch 460/610\n",
            "594225/594225 [==============================] - 2s 3us/step - loss: 0.0071 - acc: 0.8037\n",
            "Epoch 461/610\n",
            "594225/594225 [==============================] - 2s 3us/step - loss: 0.0071 - acc: 0.8061\n",
            "Epoch 462/610\n",
            "594225/594225 [==============================] - 2s 3us/step - loss: 0.0071 - acc: 0.8043\n",
            "Epoch 463/610\n",
            "594225/594225 [==============================] - 2s 3us/step - loss: 0.0071 - acc: 0.8039\n",
            "Epoch 464/610\n",
            "594225/594225 [==============================] - 2s 3us/step - loss: 0.0071 - acc: 0.8050\n",
            "Epoch 465/610\n",
            "594225/594225 [==============================] - 2s 3us/step - loss: 0.0071 - acc: 0.8027\n",
            "Epoch 466/610\n",
            "594225/594225 [==============================] - 2s 3us/step - loss: 0.0071 - acc: 0.8047\n",
            "Epoch 467/610\n",
            "594225/594225 [==============================] - 2s 3us/step - loss: 0.0071 - acc: 0.8031\n",
            "Epoch 468/610\n",
            "594225/594225 [==============================] - 2s 3us/step - loss: 0.0071 - acc: 0.8038\n",
            "Epoch 469/610\n",
            "594225/594225 [==============================] - 2s 3us/step - loss: 0.0071 - acc: 0.8053\n",
            "Epoch 470/610\n",
            "594225/594225 [==============================] - 2s 3us/step - loss: 0.0070 - acc: 0.8033\n",
            "Epoch 471/610\n",
            "594225/594225 [==============================] - 2s 3us/step - loss: 0.0071 - acc: 0.8019\n",
            "Epoch 472/610\n",
            "594225/594225 [==============================] - 2s 3us/step - loss: 0.0070 - acc: 0.8045\n",
            "Epoch 473/610\n",
            "594225/594225 [==============================] - 2s 3us/step - loss: 0.0071 - acc: 0.8056\n",
            "Epoch 474/610\n",
            "594225/594225 [==============================] - 2s 3us/step - loss: 0.0070 - acc: 0.8038\n",
            "Epoch 475/610\n",
            "594225/594225 [==============================] - 2s 3us/step - loss: 0.0071 - acc: 0.8043\n",
            "Epoch 476/610\n",
            "594225/594225 [==============================] - 2s 3us/step - loss: 0.0071 - acc: 0.8042\n",
            "Epoch 477/610\n",
            "594225/594225 [==============================] - 2s 3us/step - loss: 0.0070 - acc: 0.8071\n",
            "Epoch 478/610\n",
            "594225/594225 [==============================] - 2s 3us/step - loss: 0.0070 - acc: 0.8061\n",
            "Epoch 479/610\n",
            "594225/594225 [==============================] - 2s 3us/step - loss: 0.0071 - acc: 0.8048\n",
            "Epoch 480/610\n",
            "594225/594225 [==============================] - 2s 3us/step - loss: 0.0070 - acc: 0.8034\n",
            "Epoch 481/610\n",
            "594225/594225 [==============================] - 2s 3us/step - loss: 0.0070 - acc: 0.8065\n",
            "Epoch 482/610\n",
            "594225/594225 [==============================] - 2s 3us/step - loss: 0.0070 - acc: 0.8052\n",
            "Epoch 483/610\n",
            "594225/594225 [==============================] - 2s 3us/step - loss: 0.0070 - acc: 0.8043\n",
            "Epoch 484/610\n",
            "594225/594225 [==============================] - 2s 3us/step - loss: 0.0070 - acc: 0.8049\n",
            "Epoch 485/610\n",
            "594225/594225 [==============================] - 2s 3us/step - loss: 0.0071 - acc: 0.8052\n",
            "Epoch 486/610\n",
            "594225/594225 [==============================] - 2s 3us/step - loss: 0.0071 - acc: 0.8018\n",
            "Epoch 487/610\n",
            "594225/594225 [==============================] - 2s 3us/step - loss: 0.0070 - acc: 0.8028\n",
            "Epoch 488/610\n",
            "594225/594225 [==============================] - 2s 3us/step - loss: 0.0070 - acc: 0.8047\n",
            "Epoch 489/610\n",
            "594225/594225 [==============================] - 2s 3us/step - loss: 0.0071 - acc: 0.8042\n",
            "Epoch 490/610\n",
            "594225/594225 [==============================] - 2s 3us/step - loss: 0.0070 - acc: 0.8035\n",
            "Epoch 491/610\n",
            "594225/594225 [==============================] - 2s 3us/step - loss: 0.0071 - acc: 0.8047\n",
            "Epoch 492/610\n",
            "594225/594225 [==============================] - 2s 3us/step - loss: 0.0070 - acc: 0.8036\n",
            "Epoch 493/610\n",
            "594225/594225 [==============================] - 2s 3us/step - loss: 0.0070 - acc: 0.8032\n",
            "Epoch 494/610\n",
            "594225/594225 [==============================] - 2s 3us/step - loss: 0.0070 - acc: 0.8049\n",
            "Epoch 495/610\n",
            "594225/594225 [==============================] - 2s 3us/step - loss: 0.0071 - acc: 0.8055\n",
            "Epoch 496/610\n",
            "594225/594225 [==============================] - 2s 3us/step - loss: 0.0070 - acc: 0.8026\n",
            "Epoch 497/610\n",
            "594225/594225 [==============================] - 2s 3us/step - loss: 0.0070 - acc: 0.8043\n",
            "Epoch 498/610\n",
            "594225/594225 [==============================] - 1s 2us/step - loss: 0.0070 - acc: 0.8056\n",
            "Epoch 499/610\n",
            "594225/594225 [==============================] - 1s 2us/step - loss: 0.0070 - acc: 0.8029\n",
            "Epoch 500/610\n",
            "594225/594225 [==============================] - 2s 3us/step - loss: 0.0070 - acc: 0.8044\n",
            "Epoch 501/610\n",
            "594225/594225 [==============================] - 2s 3us/step - loss: 0.0070 - acc: 0.8032\n",
            "Epoch 502/610\n",
            "594225/594225 [==============================] - 2s 3us/step - loss: 0.0070 - acc: 0.8015\n",
            "Epoch 503/610\n",
            "594225/594225 [==============================] - 2s 3us/step - loss: 0.0071 - acc: 0.8041\n",
            "Epoch 504/610\n",
            "594225/594225 [==============================] - 2s 3us/step - loss: 0.0071 - acc: 0.8039\n",
            "Epoch 505/610\n",
            "594225/594225 [==============================] - 2s 3us/step - loss: 0.0070 - acc: 0.8057\n",
            "Epoch 506/610\n",
            "594225/594225 [==============================] - 2s 3us/step - loss: 0.0071 - acc: 0.8055\n",
            "Epoch 507/610\n",
            "594225/594225 [==============================] - 2s 3us/step - loss: 0.0071 - acc: 0.8024\n",
            "Epoch 508/610\n",
            "594225/594225 [==============================] - 2s 3us/step - loss: 0.0071 - acc: 0.8051\n",
            "Epoch 509/610\n",
            "594225/594225 [==============================] - 2s 3us/step - loss: 0.0070 - acc: 0.8034\n",
            "Epoch 510/610\n",
            "594225/594225 [==============================] - 1s 2us/step - loss: 0.0070 - acc: 0.8043\n",
            "Epoch 511/610\n",
            "594225/594225 [==============================] - 2s 3us/step - loss: 0.0070 - acc: 0.8034\n",
            "Epoch 512/610\n",
            "594225/594225 [==============================] - 2s 3us/step - loss: 0.0070 - acc: 0.8042\n",
            "Epoch 513/610\n",
            "594225/594225 [==============================] - 2s 3us/step - loss: 0.0070 - acc: 0.8032\n",
            "Epoch 514/610\n",
            "594225/594225 [==============================] - 2s 3us/step - loss: 0.0070 - acc: 0.8062\n",
            "Epoch 515/610\n",
            "594225/594225 [==============================] - 2s 3us/step - loss: 0.0071 - acc: 0.8031\n",
            "Epoch 516/610\n",
            "594225/594225 [==============================] - 2s 3us/step - loss: 0.0070 - acc: 0.8029\n",
            "Epoch 517/610\n",
            "594225/594225 [==============================] - 2s 3us/step - loss: 0.0070 - acc: 0.8084\n",
            "Epoch 518/610\n",
            "594225/594225 [==============================] - 2s 3us/step - loss: 0.0070 - acc: 0.8032\n",
            "Epoch 519/610\n",
            "594225/594225 [==============================] - 2s 3us/step - loss: 0.0070 - acc: 0.8072\n",
            "Epoch 520/610\n",
            "594225/594225 [==============================] - 2s 3us/step - loss: 0.0070 - acc: 0.8060\n",
            "Epoch 521/610\n",
            "594225/594225 [==============================] - 2s 3us/step - loss: 0.0070 - acc: 0.8043\n",
            "Epoch 522/610\n",
            "594225/594225 [==============================] - 2s 3us/step - loss: 0.0070 - acc: 0.8067\n",
            "Epoch 523/610\n",
            "594225/594225 [==============================] - 2s 3us/step - loss: 0.0070 - acc: 0.8052\n",
            "Epoch 524/610\n",
            "594225/594225 [==============================] - 2s 3us/step - loss: 0.0071 - acc: 0.8051\n",
            "Epoch 525/610\n",
            "594225/594225 [==============================] - 2s 3us/step - loss: 0.0070 - acc: 0.8027\n",
            "Epoch 526/610\n",
            "594225/594225 [==============================] - 2s 3us/step - loss: 0.0070 - acc: 0.8040\n",
            "Epoch 527/610\n",
            "594225/594225 [==============================] - 2s 3us/step - loss: 0.0070 - acc: 0.8039\n",
            "Epoch 528/610\n",
            "594225/594225 [==============================] - 2s 3us/step - loss: 0.0070 - acc: 0.8041\n",
            "Epoch 529/610\n",
            "594225/594225 [==============================] - 2s 3us/step - loss: 0.0070 - acc: 0.8056\n",
            "Epoch 530/610\n",
            "594225/594225 [==============================] - 2s 3us/step - loss: 0.0070 - acc: 0.8038\n",
            "Epoch 531/610\n",
            "594225/594225 [==============================] - 2s 3us/step - loss: 0.0070 - acc: 0.8040\n",
            "Epoch 532/610\n",
            "594225/594225 [==============================] - 2s 3us/step - loss: 0.0070 - acc: 0.8028\n",
            "Epoch 533/610\n",
            "594225/594225 [==============================] - 1s 2us/step - loss: 0.0070 - acc: 0.8027\n",
            "Epoch 534/610\n",
            "594225/594225 [==============================] - 2s 3us/step - loss: 0.0070 - acc: 0.8063\n",
            "Epoch 535/610\n",
            "594225/594225 [==============================] - 2s 3us/step - loss: 0.0071 - acc: 0.8058\n",
            "Epoch 536/610\n",
            "594225/594225 [==============================] - 2s 3us/step - loss: 0.0070 - acc: 0.8044\n",
            "Epoch 537/610\n",
            "594225/594225 [==============================] - 1s 3us/step - loss: 0.0070 - acc: 0.8041\n",
            "Epoch 538/610\n",
            "594225/594225 [==============================] - 2s 3us/step - loss: 0.0070 - acc: 0.8028\n",
            "Epoch 539/610\n",
            "594225/594225 [==============================] - 2s 3us/step - loss: 0.0071 - acc: 0.8044\n",
            "Epoch 540/610\n",
            "594225/594225 [==============================] - 2s 3us/step - loss: 0.0070 - acc: 0.8030\n",
            "Epoch 541/610\n",
            "594225/594225 [==============================] - 2s 3us/step - loss: 0.0070 - acc: 0.8026\n",
            "Epoch 542/610\n",
            "594225/594225 [==============================] - 2s 3us/step - loss: 0.0070 - acc: 0.8021\n",
            "Epoch 543/610\n",
            "594225/594225 [==============================] - 2s 3us/step - loss: 0.0070 - acc: 0.8028\n",
            "Epoch 544/610\n",
            "594225/594225 [==============================] - 1s 3us/step - loss: 0.0070 - acc: 0.8018\n",
            "Epoch 545/610\n",
            "594225/594225 [==============================] - 2s 3us/step - loss: 0.0070 - acc: 0.8041\n",
            "Epoch 546/610\n",
            "594225/594225 [==============================] - 2s 3us/step - loss: 0.0070 - acc: 0.8056\n",
            "Epoch 547/610\n",
            "594225/594225 [==============================] - 2s 3us/step - loss: 0.0070 - acc: 0.8032\n",
            "Epoch 548/610\n",
            "594225/594225 [==============================] - 2s 3us/step - loss: 0.0070 - acc: 0.8051\n",
            "Epoch 549/610\n",
            "594225/594225 [==============================] - 2s 3us/step - loss: 0.0070 - acc: 0.8051\n",
            "Epoch 550/610\n",
            "594225/594225 [==============================] - 2s 3us/step - loss: 0.0070 - acc: 0.8046\n",
            "Epoch 551/610\n",
            "594225/594225 [==============================] - 2s 3us/step - loss: 0.0070 - acc: 0.8032\n",
            "Epoch 552/610\n",
            "594225/594225 [==============================] - 2s 3us/step - loss: 0.0070 - acc: 0.8031\n",
            "Epoch 553/610\n",
            "594225/594225 [==============================] - 2s 3us/step - loss: 0.0070 - acc: 0.8033\n",
            "Epoch 554/610\n",
            "594225/594225 [==============================] - 2s 3us/step - loss: 0.0070 - acc: 0.8021\n",
            "Epoch 555/610\n",
            "594225/594225 [==============================] - 1s 2us/step - loss: 0.0070 - acc: 0.8058\n",
            "Epoch 556/610\n",
            "594225/594225 [==============================] - 2s 3us/step - loss: 0.0070 - acc: 0.8046\n",
            "Epoch 557/610\n",
            "594225/594225 [==============================] - 2s 3us/step - loss: 0.0070 - acc: 0.8056\n",
            "Epoch 558/610\n",
            "594225/594225 [==============================] - 2s 3us/step - loss: 0.0070 - acc: 0.8049\n",
            "Epoch 559/610\n",
            "594225/594225 [==============================] - 2s 3us/step - loss: 0.0070 - acc: 0.8015\n",
            "Epoch 560/610\n",
            "594225/594225 [==============================] - 1s 2us/step - loss: 0.0070 - acc: 0.8017\n",
            "Epoch 561/610\n",
            "594225/594225 [==============================] - 2s 3us/step - loss: 0.0070 - acc: 0.8057\n",
            "Epoch 562/610\n",
            "594225/594225 [==============================] - 2s 3us/step - loss: 0.0070 - acc: 0.8025\n",
            "Epoch 563/610\n",
            "594225/594225 [==============================] - 2s 3us/step - loss: 0.0070 - acc: 0.8040\n",
            "Epoch 564/610\n",
            "594225/594225 [==============================] - 1s 3us/step - loss: 0.0070 - acc: 0.8017\n",
            "Epoch 565/610\n",
            "594225/594225 [==============================] - 2s 3us/step - loss: 0.0070 - acc: 0.8016\n",
            "Epoch 566/610\n",
            "594225/594225 [==============================] - 2s 3us/step - loss: 0.0069 - acc: 0.8052\n",
            "Epoch 567/610\n",
            "594225/594225 [==============================] - 2s 3us/step - loss: 0.0070 - acc: 0.8043\n",
            "Epoch 568/610\n",
            "594225/594225 [==============================] - 2s 3us/step - loss: 0.0070 - acc: 0.8026\n",
            "Epoch 569/610\n",
            "594225/594225 [==============================] - 2s 3us/step - loss: 0.0070 - acc: 0.8054\n",
            "Epoch 570/610\n",
            "594225/594225 [==============================] - 2s 3us/step - loss: 0.0070 - acc: 0.8069\n",
            "Epoch 571/610\n",
            "594225/594225 [==============================] - 2s 3us/step - loss: 0.0070 - acc: 0.8049\n",
            "Epoch 572/610\n",
            "594225/594225 [==============================] - 2s 3us/step - loss: 0.0070 - acc: 0.8035\n",
            "Epoch 573/610\n",
            "594225/594225 [==============================] - 2s 3us/step - loss: 0.0070 - acc: 0.8024\n",
            "Epoch 574/610\n",
            "594225/594225 [==============================] - 2s 3us/step - loss: 0.0070 - acc: 0.8024\n",
            "Epoch 575/610\n",
            "594225/594225 [==============================] - 2s 3us/step - loss: 0.0070 - acc: 0.8059\n",
            "Epoch 576/610\n",
            "594225/594225 [==============================] - 2s 3us/step - loss: 0.0070 - acc: 0.8060\n",
            "Epoch 577/610\n",
            "594225/594225 [==============================] - 2s 3us/step - loss: 0.0070 - acc: 0.8046\n",
            "Epoch 578/610\n",
            "594225/594225 [==============================] - 1s 3us/step - loss: 0.0070 - acc: 0.8048\n",
            "Epoch 579/610\n",
            "594225/594225 [==============================] - 2s 3us/step - loss: 0.0070 - acc: 0.8048\n",
            "Epoch 580/610\n",
            "594225/594225 [==============================] - 1s 3us/step - loss: 0.0070 - acc: 0.8039\n",
            "Epoch 581/610\n",
            "594225/594225 [==============================] - 1s 3us/step - loss: 0.0070 - acc: 0.8036\n",
            "Epoch 582/610\n",
            "594225/594225 [==============================] - 2s 3us/step - loss: 0.0070 - acc: 0.8062\n",
            "Epoch 583/610\n",
            "594225/594225 [==============================] - 1s 2us/step - loss: 0.0069 - acc: 0.8010\n",
            "Epoch 584/610\n",
            "594225/594225 [==============================] - 2s 3us/step - loss: 0.0070 - acc: 0.8026\n",
            "Epoch 585/610\n",
            "594225/594225 [==============================] - 1s 2us/step - loss: 0.0070 - acc: 0.8060\n",
            "Epoch 586/610\n",
            "594225/594225 [==============================] - 2s 3us/step - loss: 0.0070 - acc: 0.8046\n",
            "Epoch 587/610\n",
            "594225/594225 [==============================] - 1s 3us/step - loss: 0.0070 - acc: 0.8049\n",
            "Epoch 588/610\n",
            "594225/594225 [==============================] - 1s 2us/step - loss: 0.0070 - acc: 0.8058\n",
            "Epoch 589/610\n",
            "594225/594225 [==============================] - 2s 3us/step - loss: 0.0070 - acc: 0.8032\n",
            "Epoch 590/610\n",
            "594225/594225 [==============================] - 1s 2us/step - loss: 0.0070 - acc: 0.8037\n",
            "Epoch 591/610\n",
            "594225/594225 [==============================] - 2s 3us/step - loss: 0.0070 - acc: 0.8028\n",
            "Epoch 592/610\n",
            "594225/594225 [==============================] - 1s 3us/step - loss: 0.0070 - acc: 0.8029\n",
            "Epoch 593/610\n",
            "594225/594225 [==============================] - 2s 3us/step - loss: 0.0070 - acc: 0.8044\n",
            "Epoch 594/610\n",
            "594225/594225 [==============================] - 1s 2us/step - loss: 0.0070 - acc: 0.8033\n",
            "Epoch 595/610\n",
            "594225/594225 [==============================] - 1s 3us/step - loss: 0.0069 - acc: 0.8060\n",
            "Epoch 596/610\n",
            "594225/594225 [==============================] - 1s 2us/step - loss: 0.0070 - acc: 0.8020\n",
            "Epoch 597/610\n",
            "594225/594225 [==============================] - 2s 3us/step - loss: 0.0070 - acc: 0.8038\n",
            "Epoch 598/610\n",
            "594225/594225 [==============================] - 1s 3us/step - loss: 0.0070 - acc: 0.8053\n",
            "Epoch 599/610\n",
            "594225/594225 [==============================] - 2s 3us/step - loss: 0.0069 - acc: 0.8089\n",
            "Epoch 600/610\n",
            "594225/594225 [==============================] - 1s 2us/step - loss: 0.0070 - acc: 0.8032\n",
            "Epoch 601/610\n",
            "594225/594225 [==============================] - 1s 3us/step - loss: 0.0070 - acc: 0.8014\n",
            "Epoch 602/610\n",
            "594225/594225 [==============================] - 1s 2us/step - loss: 0.0070 - acc: 0.8048\n",
            "Epoch 603/610\n",
            "594225/594225 [==============================] - 2s 3us/step - loss: 0.0070 - acc: 0.8026\n",
            "Epoch 604/610\n",
            "594225/594225 [==============================] - 1s 2us/step - loss: 0.0069 - acc: 0.8028\n",
            "Epoch 605/610\n",
            "594225/594225 [==============================] - 2s 3us/step - loss: 0.0069 - acc: 0.8068\n",
            "Epoch 606/610\n",
            "594225/594225 [==============================] - 1s 3us/step - loss: 0.0069 - acc: 0.8067\n",
            "Epoch 607/610\n",
            "594225/594225 [==============================] - 2s 3us/step - loss: 0.0070 - acc: 0.8076\n",
            "Epoch 608/610\n",
            "594225/594225 [==============================] - 2s 3us/step - loss: 0.0070 - acc: 0.8064\n",
            "Epoch 609/610\n",
            "594225/594225 [==============================] - 2s 3us/step - loss: 0.0070 - acc: 0.8051\n",
            "Epoch 610/610\n",
            "594225/594225 [==============================] - 2s 3us/step - loss: 0.0070 - acc: 0.8039\n"
          ],
          "name": "stdout"
        }
      ]
    },
    {
      "cell_type": "code",
      "metadata": {
        "id": "fxVetneO6_Hw",
        "colab_type": "code",
        "colab": {
          "base_uri": "https://localhost:8080/",
          "height": 55
        },
        "outputId": "58365edc-f0d5-4f7f-9309-3e08c3804e98"
      },
      "source": [
        "print(\"RMSE for CO prediction is\",RMSE[0],\"and Ethylene prediction is\",RMSE[1],\"respectively.\")"
      ],
      "execution_count": null,
      "outputs": [
        {
          "output_type": "stream",
          "text": [
            "RMSE for CO prediction is 16.34677841727218 and Ethylene prediction is 1.3343177532533983 respectively.\n"
          ],
          "name": "stdout"
        }
      ]
    },
    {
      "cell_type": "code",
      "metadata": {
        "id": "G9lOhPdbfMu0",
        "colab_type": "code",
        "colab": {
          "base_uri": "https://localhost:8080/",
          "height": 35
        },
        "outputId": "ab3020f8-c37a-4a4f-b2df-33a3d27380cf"
      },
      "source": [
        "y1_max"
      ],
      "execution_count": null,
      "outputs": [
        {
          "output_type": "execute_result",
          "data": {
            "text/plain": [
              "array([296.67,  20.  ])"
            ]
          },
          "metadata": {
            "tags": []
          },
          "execution_count": 23
        }
      ]
    },
    {
      "cell_type": "code",
      "metadata": {
        "id": "WbFG6T19fQJk",
        "colab_type": "code",
        "colab": {}
      },
      "source": [
        ""
      ],
      "execution_count": null,
      "outputs": []
    }
  ]
}