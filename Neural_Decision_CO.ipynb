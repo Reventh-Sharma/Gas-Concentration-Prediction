{
  "nbformat": 4,
  "nbformat_minor": 0,
  "metadata": {
    "kernelspec": {
      "name": "python3",
      "display_name": "Python 3"
    },
    "colab": {
      "name": "Neural_Decision_CO.ipynb",
      "provenance": [],
      "collapsed_sections": [],
      "include_colab_link": true
    },
    "accelerator": "GPU"
  },
  "cells": [
    {
      "cell_type": "markdown",
      "metadata": {
        "id": "view-in-github",
        "colab_type": "text"
      },
      "source": [
        "<a href=\"https://colab.research.google.com/github/Reventh-Sharma/Gas-Concentration-Prediction/blob/master/Neural_Decision_CO.ipynb\" target=\"_parent\"><img src=\"https://colab.research.google.com/assets/colab-badge.svg\" alt=\"Open In Colab\"/></a>"
      ]
    },
    {
      "cell_type": "code",
      "metadata": {
        "id": "KVTF77pqKq0p",
        "colab_type": "code",
        "colab": {
          "base_uri": "https://localhost:8080/",
          "height": 129
        },
        "outputId": "11179566-72fe-454b-be42-54c53a96eed5"
      },
      "source": [
        "from google.colab import drive\n",
        "drive.mount('/content/drive')"
      ],
      "execution_count": null,
      "outputs": [
        {
          "output_type": "stream",
          "text": [
            "Go to this URL in a browser: https://accounts.google.com/o/oauth2/auth?client_id=947318989803-6bn6qk8qdgf4n4g3pfee6491hc0brc4i.apps.googleusercontent.com&redirect_uri=urn%3aietf%3awg%3aoauth%3a2.0%3aoob&response_type=code&scope=email%20https%3a%2f%2fwww.googleapis.com%2fauth%2fdocs.test%20https%3a%2f%2fwww.googleapis.com%2fauth%2fdrive%20https%3a%2f%2fwww.googleapis.com%2fauth%2fdrive.photos.readonly%20https%3a%2f%2fwww.googleapis.com%2fauth%2fpeopleapi.readonly\n",
            "\n",
            "Enter your authorization code:\n",
            "··········\n",
            "Mounted at /content/drive\n"
          ],
          "name": "stdout"
        }
      ]
    },
    {
      "cell_type": "code",
      "metadata": {
        "id": "2gmF8C2gEFDo",
        "colab_type": "code",
        "colab": {}
      },
      "source": [
        "import numpy as np\n",
        "import pandas as pd\n",
        "import math\n",
        "from statistics import mean\n",
        "import matplotlib.pyplot as plt\n",
        "from sklearn.metrics import mean_squared_error\n",
        "from sklearn.model_selection import train_test_split"
      ],
      "execution_count": null,
      "outputs": []
    },
    {
      "cell_type": "code",
      "metadata": {
        "id": "CTdUUSOeEFDx",
        "colab_type": "code",
        "colab": {}
      },
      "source": [
        "dataset = pd.read_csv('/content/drive/My Drive/Colab Notebooks/unanomalousfinal.csv')\n",
        "X1=dataset.iloc[:,:].values\n",
        "X1=np.append(X1,[X1[-1,:]],axis=0)"
      ],
      "execution_count": null,
      "outputs": []
    },
    {
      "cell_type": "code",
      "metadata": {
        "id": "I18kax5xEFEB",
        "colab_type": "code",
        "colab": {}
      },
      "source": [
        "dataset = pd.read_csv('/content/drive/My Drive/Colab Notebooks/Ethylene_CO1.csv')"
      ],
      "execution_count": null,
      "outputs": []
    },
    {
      "cell_type": "code",
      "metadata": {
        "id": "anuWNLoLEFEO",
        "colab_type": "code",
        "colab": {}
      },
      "source": [
        "y = dataset.iloc[:, 2:4].values"
      ],
      "execution_count": null,
      "outputs": []
    },
    {
      "cell_type": "code",
      "metadata": {
        "id": "p4No_5ROEFEU",
        "colab_type": "code",
        "colab": {}
      },
      "source": [
        "y1=np.zeros((420*1900,2))\n",
        "for i in range(420):\n",
        "    y1[i*1900:(i+1)*1900,:]=y[i*10000+8000:(i+1)*10000-100,:]\n",
        "del dataset,y"
      ],
      "execution_count": null,
      "outputs": []
    },
    {
      "cell_type": "code",
      "metadata": {
        "id": "JPmIvbkmEFEf",
        "colab_type": "code",
        "colab": {}
      },
      "source": [
        "X1 = (X1-X1.mean(axis=0))/X1.max(axis=0)\n",
        "y1_mean = y1.mean(axis = 0)\n",
        "y1_max=y1.max(axis=0)\n",
        "y2 = (y1-y1_mean)/y1_max"
      ],
      "execution_count": null,
      "outputs": []
    },
    {
      "cell_type": "code",
      "metadata": {
        "id": "MqPEp_6eEFEl",
        "colab_type": "code",
        "colab": {}
      },
      "source": [
        "X_train, X_test, y_train, y_test = train_test_split(X1, y2, test_size = 0.25,random_state=42)"
      ],
      "execution_count": null,
      "outputs": []
    },
    {
      "cell_type": "code",
      "metadata": {
        "id": "H00eYsyLEFEr",
        "colab_type": "code",
        "colab": {}
      },
      "source": [
        "from sklearn.tree import DecisionTreeRegressor"
      ],
      "execution_count": null,
      "outputs": []
    },
    {
      "cell_type": "code",
      "metadata": {
        "id": "dIbc4XmvEFEx",
        "colab_type": "code",
        "colab": {}
      },
      "source": [
        "max_depth=np.arange(1,77,5)\n",
        "error_train_co=np.zeros(np.size(max_depth))\n",
        "error_test_co=np.zeros(np.size(max_depth))\n",
        "error_train_et=np.zeros(np.size(max_depth))\n",
        "error_test_et=np.zeros(np.size(max_depth))"
      ],
      "execution_count": null,
      "outputs": []
    },
    {
      "cell_type": "code",
      "metadata": {
        "id": "pkgJjr-dEFE4",
        "colab_type": "code",
        "colab": {}
      },
      "source": [
        "m=0\n",
        "for depth in max_depth:\n",
        "    regr=DecisionTreeRegressor(max_depth=depth, min_samples_split=10, min_samples_leaf=2)\n",
        "    regr.fit(X_train,y_train)\n",
        "    y_pred=regr.predict(X_test)\n",
        "    for i in range(0,np.size(y_pred,0)):\n",
        "        for j in range(0,np.size(y_pred,1)):\n",
        "            if y_pred[i,j]<-y1_mean[j]/y1_max[j]:\n",
        "                y_pred[i,j]=-y1_mean[j]/y1_max[j]\n",
        "    y_train_pred=regr.predict(X_train)\n",
        "    error_train_co[m]=math.sqrt(mean_squared_error(y_train[:,0], y_train_pred[:,0]))\n",
        "    error_test_co[m]=math.sqrt(mean_squared_error(y_test[:,0], y_pred[:,0]))\n",
        "    error_train_et[m]=math.sqrt(mean_squared_error(y_train[:,1], y_train_pred[:,1]))\n",
        "    error_test_et[m]=math.sqrt(mean_squared_error(y_test[:,1], y_pred[:,1]))\n",
        "    m=m+1"
      ],
      "execution_count": null,
      "outputs": []
    },
    {
      "cell_type": "code",
      "metadata": {
        "id": "I8oHHq_REFE8",
        "colab_type": "code",
        "colab": {
          "base_uri": "https://localhost:8080/",
          "height": 279
        },
        "outputId": "160604c5-642b-4aa8-d50e-2b6081c6e1c7"
      },
      "source": [
        "plt.plot(max_depth, error_train_co, label='Train error')\n",
        "plt.plot(max_depth, error_test_co, label='Test error')\n",
        "plt.xlabel('Max Depth')\n",
        "plt.ylabel('Error')\n",
        "plt.legend()\n",
        "plt.show()"
      ],
      "execution_count": null,
      "outputs": [
        {
          "output_type": "display_data",
          "data": {
            "image/png": "[encoded data removed]",
            "text/plain": [
              "<Figure size 432x288 with 1 Axes>"
            ]
          },
          "metadata": {
            "tags": []
          }
        }
      ]
    },
    {
      "cell_type": "code",
      "metadata": {
        "id": "ITBFDR8gEFFB",
        "colab_type": "code",
        "colab": {
          "base_uri": "https://localhost:8080/",
          "height": 279
        },
        "outputId": "175c945d-acb0-4706-ec3c-e8b290477a76"
      },
      "source": [
        "plt.plot(max_depth, error_train_et, label='Train error')\n",
        "plt.plot(max_depth, error_test_et, label='Test error')\n",
        "plt.xlabel('Max Depth')\n",
        "plt.ylabel('Error')\n",
        "plt.legend()\n",
        "plt.show()"
      ],
      "execution_count": null,
      "outputs": [
        {
          "output_type": "display_data",
          "data": {
            "image/png": "[encoded data removed]",
            "text/plain": [
              "<Figure size 432x288 with 1 Axes>"
            ]
          },
          "metadata": {
            "tags": []
          }
        }
      ]
    },
    {
      "cell_type": "code",
      "metadata": {
        "id": "r186_2dZEFFF",
        "colab_type": "code",
        "colab": {}
      },
      "source": [
        "depth=36"
      ],
      "execution_count": null,
      "outputs": []
    },
    {
      "cell_type": "code",
      "metadata": {
        "id": "5x9qmtAMEFFJ",
        "colab_type": "code",
        "colab": {}
      },
      "source": [
        "regr=DecisionTreeRegressor(max_depth=depth, min_samples_split=100, min_samples_leaf=20)\n",
        "regr.fit(X_train,y_train)\n",
        "y_pred=regr.predict(X_test)\n",
        "for i in range(0,np.size(y_pred,0)):\n",
        "    for j in range(0,np.size(y_pred,1)):\n",
        "        if y_pred[i,j]<-y1_mean[j]/y1_max[j]:\n",
        "            y_pred[i,j]=-y1_mean[j]/y1_max[j]\n",
        "error_test_co=(math.sqrt(mean_squared_error(y_test[:,0], y_pred[:,0])))\n",
        "error_test_et=math.sqrt(mean_squared_error(y_test[:,1], y_pred[:,1]))\n",
        "RMSE=np.array([error_test_co, error_test_et])*y1_max"
      ],
      "execution_count": null,
      "outputs": []
    },
    {
      "cell_type": "code",
      "metadata": {
        "id": "bCa1CPdsRaP0",
        "colab_type": "code",
        "colab": {
          "base_uri": "https://localhost:8080/",
          "height": 55
        },
        "outputId": "6f2eae45-541c-477c-e136-2b5e0e7be8bd"
      },
      "source": [
        "print(\"RMSE for CO prediction is\",RMSE[0],\"and Ethylene prediction is\",RMSE[1],\"respectively.\")"
      ],
      "execution_count": null,
      "outputs": [
        {
          "output_type": "stream",
          "text": [
            "RMSE for CO prediction is 25.580732500446935 and Ethylene prediction is 1.0754117241941938 respectively.\n"
          ],
          "name": "stdout"
        }
      ]
    },
    {
      "cell_type": "code",
      "metadata": {
        "id": "eS7wEYFcEFFN",
        "colab_type": "code",
        "colab": {}
      },
      "source": [
        "from sklearn.ensemble import RandomForestRegressor"
      ],
      "execution_count": null,
      "outputs": []
    },
    {
      "cell_type": "code",
      "metadata": {
        "id": "QpC7tjYwEFFS",
        "colab_type": "code",
        "colab": {}
      },
      "source": [
        "max_depth=np.arange(1,52,5)\n",
        "error_train_co=np.zeros(np.size(max_depth))\n",
        "error_test_co=np.zeros(np.size(max_depth))\n",
        "error_train_et=np.zeros(np.size(max_depth))\n",
        "error_test_et=np.zeros(np.size(max_depth))"
      ],
      "execution_count": null,
      "outputs": []
    },
    {
      "cell_type": "code",
      "metadata": {
        "id": "o1dyXl90EFFX",
        "colab_type": "code",
        "colab": {
          "base_uri": "https://localhost:8080/",
          "height": 441
        },
        "outputId": "3744d8cd-38cb-4628-8376-32c88f5a981b"
      },
      "source": [
        "m=0\n",
        "for depth in max_depth:\n",
        "    regr=RandomForestRegressor(max_depth=depth, min_samples_split=10, min_samples_leaf=2)\n",
        "    regr.fit(X_train,y_train)\n",
        "    y_pred=regr.predict(X_test)\n",
        "    for i in range(0,np.size(y_pred,0)):\n",
        "        for j in range(0,np.size(y_pred,1)):\n",
        "            if y_pred[i,j]<-y1_mean[j]/y1_max[j]:\n",
        "                y_pred[i,j]=-y1_mean[j]/y1_max[j]\n",
        "    y_train_pred=regr.predict(X_train)\n",
        "    error_train_co[m]=math.sqrt(mean_squared_error(y_train[:,0], y_train_pred[:,0]))\n",
        "    error_test_co[m]=math.sqrt(mean_squared_error(y_test[:,0], y_pred[:,0]))\n",
        "    error_train_et[m]=math.sqrt(mean_squared_error(y_train[:,1], y_train_pred[:,1]))\n",
        "    error_test_et[m]=math.sqrt(mean_squared_error(y_test[:,1], y_pred[:,1]))\n",
        "    m=m+1"
      ],
      "execution_count": null,
      "outputs": [
        {
          "output_type": "stream",
          "text": [
            "/usr/local/lib/python3.6/dist-packages/sklearn/ensemble/forest.py:245: FutureWarning: The default value of n_estimators will change from 10 in version 0.20 to 100 in 0.22.\n",
            "  \"10 in version 0.20 to 100 in 0.22.\", FutureWarning)\n",
            "/usr/local/lib/python3.6/dist-packages/sklearn/ensemble/forest.py:245: FutureWarning: The default value of n_estimators will change from 10 in version 0.20 to 100 in 0.22.\n",
            "  \"10 in version 0.20 to 100 in 0.22.\", FutureWarning)\n",
            "/usr/local/lib/python3.6/dist-packages/sklearn/ensemble/forest.py:245: FutureWarning: The default value of n_estimators will change from 10 in version 0.20 to 100 in 0.22.\n",
            "  \"10 in version 0.20 to 100 in 0.22.\", FutureWarning)\n",
            "/usr/local/lib/python3.6/dist-packages/sklearn/ensemble/forest.py:245: FutureWarning: The default value of n_estimators will change from 10 in version 0.20 to 100 in 0.22.\n",
            "  \"10 in version 0.20 to 100 in 0.22.\", FutureWarning)\n",
            "/usr/local/lib/python3.6/dist-packages/sklearn/ensemble/forest.py:245: FutureWarning: The default value of n_estimators will change from 10 in version 0.20 to 100 in 0.22.\n",
            "  \"10 in version 0.20 to 100 in 0.22.\", FutureWarning)\n",
            "/usr/local/lib/python3.6/dist-packages/sklearn/ensemble/forest.py:245: FutureWarning: The default value of n_estimators will change from 10 in version 0.20 to 100 in 0.22.\n",
            "  \"10 in version 0.20 to 100 in 0.22.\", FutureWarning)\n",
            "/usr/local/lib/python3.6/dist-packages/sklearn/ensemble/forest.py:245: FutureWarning: The default value of n_estimators will change from 10 in version 0.20 to 100 in 0.22.\n",
            "  \"10 in version 0.20 to 100 in 0.22.\", FutureWarning)\n",
            "/usr/local/lib/python3.6/dist-packages/sklearn/ensemble/forest.py:245: FutureWarning: The default value of n_estimators will change from 10 in version 0.20 to 100 in 0.22.\n",
            "  \"10 in version 0.20 to 100 in 0.22.\", FutureWarning)\n",
            "/usr/local/lib/python3.6/dist-packages/sklearn/ensemble/forest.py:245: FutureWarning: The default value of n_estimators will change from 10 in version 0.20 to 100 in 0.22.\n",
            "  \"10 in version 0.20 to 100 in 0.22.\", FutureWarning)\n",
            "/usr/local/lib/python3.6/dist-packages/sklearn/ensemble/forest.py:245: FutureWarning: The default value of n_estimators will change from 10 in version 0.20 to 100 in 0.22.\n",
            "  \"10 in version 0.20 to 100 in 0.22.\", FutureWarning)\n",
            "/usr/local/lib/python3.6/dist-packages/sklearn/ensemble/forest.py:245: FutureWarning: The default value of n_estimators will change from 10 in version 0.20 to 100 in 0.22.\n",
            "  \"10 in version 0.20 to 100 in 0.22.\", FutureWarning)\n"
          ],
          "name": "stderr"
        }
      ]
    },
    {
      "cell_type": "code",
      "metadata": {
        "id": "I46oWGtBEFFc",
        "colab_type": "code",
        "colab": {
          "base_uri": "https://localhost:8080/",
          "height": 279
        },
        "outputId": "13bf248e-9217-448a-e623-b2bd41897559"
      },
      "source": [
        "plt.plot(max_depth, error_train_co, label='Train error')\n",
        "plt.plot(max_depth, error_test_co, label='Test error')\n",
        "plt.xlabel('Max Depth')\n",
        "plt.ylabel('Error')\n",
        "plt.legend()\n",
        "plt.show()"
      ],
      "execution_count": null,
      "outputs": [
        {
          "output_type": "display_data",
          "data": {
            "image/png": "[encoded data removed]",
            "text/plain": [
              "<Figure size 432x288 with 1 Axes>"
            ]
          },
          "metadata": {
            "tags": []
          }
        }
      ]
    },
    {
      "cell_type": "code",
      "metadata": {
        "id": "SLc1d4e1EFFh",
        "colab_type": "code",
        "colab": {
          "base_uri": "https://localhost:8080/",
          "height": 279
        },
        "outputId": "4e27ff13-98c6-42d8-f5d9-35eaee8b92a0"
      },
      "source": [
        "plt.plot(max_depth, error_train_et, label='Train error')\n",
        "plt.plot(max_depth, error_test_et, label='Test error')\n",
        "plt.xlabel('Max Depth')\n",
        "plt.ylabel('Error')\n",
        "plt.legend()\n",
        "plt.show()"
      ],
      "execution_count": null,
      "outputs": [
        {
          "output_type": "display_data",
          "data": {
            "image/png": "[encoded data removed]",
            "text/plain": [
              "<Figure size 432x288 with 1 Axes>"
            ]
          },
          "metadata": {
            "tags": []
          }
        }
      ]
    },
    {
      "cell_type": "code",
      "metadata": {
        "id": "0SO6aEt6EFFm",
        "colab_type": "code",
        "colab": {}
      },
      "source": [
        "depth=36"
      ],
      "execution_count": null,
      "outputs": []
    },
    {
      "cell_type": "code",
      "metadata": {
        "id": "fk3u9eSUEFFr",
        "colab_type": "code",
        "colab": {
          "base_uri": "https://localhost:8080/",
          "height": 74
        },
        "outputId": "d186bbec-25cc-4dc0-aa62-bd6b1f7d19d0"
      },
      "source": [
        "regr=RandomForestRegressor(max_depth=depth, min_samples_split=10, min_samples_leaf=2)\n",
        "regr.fit(X_train,y_train)\n",
        "y_pred=regr.predict(X_test)\n",
        "for i in range(0,np.size(y_pred,0)):\n",
        "    for j in range(0,np.size(y_pred,1)):\n",
        "        if y_pred[i,j]<-y1_mean[j]/y1_max[j]:\n",
        "            y_pred[i,j]=-y1_mean[j]/y1_max[j]\n",
        "error_test_co=(math.sqrt(mean_squared_error(y_test[:,0], y_pred[:,0])))\n",
        "error_test_et=math.sqrt(mean_squared_error(y_test[:,1], y_pred[:,1]))\n",
        "RMSE=np.array([error_test_co, error_test_et])*y1_max"
      ],
      "execution_count": null,
      "outputs": [
        {
          "output_type": "stream",
          "text": [
            "/usr/local/lib/python3.6/dist-packages/sklearn/ensemble/forest.py:245: FutureWarning: The default value of n_estimators will change from 10 in version 0.20 to 100 in 0.22.\n",
            "  \"10 in version 0.20 to 100 in 0.22.\", FutureWarning)\n"
          ],
          "name": "stderr"
        }
      ]
    },
    {
      "cell_type": "code",
      "metadata": {
        "id": "_s_ieSd5CLOd",
        "colab_type": "code",
        "colab": {
          "base_uri": "https://localhost:8080/",
          "height": 55
        },
        "outputId": "cba0d881-175d-47cd-8cfe-4bba8ce380e9"
      },
      "source": [
        "print(\"RMSE for CO prediction is\",RMSE[0],\"and Ethylene prediction is\",RMSE[1],\"respectively.\")"
      ],
      "execution_count": null,
      "outputs": [
        {
          "output_type": "stream",
          "text": [
            "RMSE for CO prediction is 19.276068640038716 and Ethylene prediction is 0.7951368065559793 respectively.\n"
          ],
          "name": "stdout"
        }
      ]
    },
    {
      "cell_type": "code",
      "metadata": {
        "id": "M4Mya8fsEFFu",
        "colab_type": "code",
        "colab": {}
      },
      "source": [
        "from keras.models import Sequential\n",
        "from keras.layers import Dense\n",
        "from keras.layers import Dropout"
      ],
      "execution_count": null,
      "outputs": []
    },
    {
      "cell_type": "code",
      "metadata": {
        "id": "7bQAeob5EFFy",
        "colab_type": "code",
        "colab": {
          "base_uri": "https://localhost:8080/",
          "height": 184
        },
        "outputId": "ca02c754-ec9c-4a91-b7d1-837e34556bf8"
      },
      "source": [
        "classifier = Sequential()\n",
        "classifier.add(Dense(output_dim = 50, init = 'uniform', activation = 'relu', input_dim = 16))\n",
        "classifier.add(Dropout(rate=0.1))\n",
        "classifier.add(Dense(output_dim = 100, init = 'uniform', activation = 'relu'))\n",
        "classifier.add(Dropout(rate=0.1))\n",
        "classifier.add(Dense(output_dim = 10, init = 'uniform', activation = 'relu'))\n",
        "classifier.add(Dropout(rate=0.1))\n",
        "classifier.add(Dense(output_dim = 2, init = 'uniform', activation = 'linear'))\n",
        "classifier.compile(optimizer = 'adam', loss = 'mse', metrics = ['accuracy'])"
      ],
      "execution_count": null,
      "outputs": [
        {
          "output_type": "stream",
          "text": [
            "/usr/local/lib/python3.6/dist-packages/ipykernel_launcher.py:2: UserWarning: Update your `Dense` call to the Keras 2 API: `Dense(activation=\"relu\", input_dim=16, units=50, kernel_initializer=\"uniform\")`\n",
            "  \n",
            "/usr/local/lib/python3.6/dist-packages/ipykernel_launcher.py:4: UserWarning: Update your `Dense` call to the Keras 2 API: `Dense(activation=\"relu\", units=100, kernel_initializer=\"uniform\")`\n",
            "  after removing the cwd from sys.path.\n",
            "/usr/local/lib/python3.6/dist-packages/ipykernel_launcher.py:6: UserWarning: Update your `Dense` call to the Keras 2 API: `Dense(activation=\"relu\", units=10, kernel_initializer=\"uniform\")`\n",
            "  \n",
            "/usr/local/lib/python3.6/dist-packages/ipykernel_launcher.py:8: UserWarning: Update your `Dense` call to the Keras 2 API: `Dense(activation=\"linear\", units=2, kernel_initializer=\"uniform\")`\n",
            "  \n"
          ],
          "name": "stderr"
        }
      ]
    },
    {
      "cell_type": "code",
      "metadata": {
        "id": "PtccW5rOEFF2",
        "colab_type": "code",
        "colab": {}
      },
      "source": [
        "count=np.arange(1,101,1)\n",
        "error_train_co=np.zeros(np.size(count))\n",
        "error_test_co=np.zeros(np.size(count))\n",
        "error_train_et=np.zeros(np.size(count))\n",
        "error_test_et=np.zeros(np.size(count))"
      ],
      "execution_count": null,
      "outputs": []
    },
    {
      "cell_type": "code",
      "metadata": {
        "id": "NeUv9-kNEFF8",
        "colab_type": "code",
        "colab": {
          "base_uri": "https://localhost:8080/",
          "height": 1000
        },
        "outputId": "2cee01ae-f4ac-46b2-d7a0-f44ba808656d"
      },
      "source": [
        "for index in count:\n",
        "    classifier.fit(X_train, y_train, batch_size = 1900, nb_epoch = 5)\n",
        "    y_pred = classifier.predict(X_test)\n",
        "    for i in range(0,np.size(y_pred,0)):\n",
        "        for j in range(0,np.size(y_pred,1)):\n",
        "            if y_pred[i,j]<-y1_mean[j]/y1_max[j]:\n",
        "                y_pred[i,j]=-y1_mean[j]/y1_max[j]\n",
        "    y_train_pred=regr.predict(X_train)\n",
        "    error_train_co[index-1]=math.sqrt(mean_squared_error(y_train[:,0], y_train_pred[:,0]))\n",
        "    error_test_co[index-1]=math.sqrt(mean_squared_error(y_test[:,0], y_pred[:,0]))\n",
        "    error_train_et[index-1]=math.sqrt(mean_squared_error(y_train[:,1], y_train_pred[:,1]))\n",
        "    error_test_et[index-1]=math.sqrt(mean_squared_error(y_test[:,1], y_pred[:,1]))"
      ],
      "execution_count": null,
      "outputs": [
        {
          "output_type": "stream",
          "text": [
            "/usr/local/lib/python3.6/dist-packages/ipykernel_launcher.py:2: UserWarning: The `nb_epoch` argument in `fit` has been renamed `epochs`.\n",
            "  \n"
          ],
          "name": "stderr"
        },
        {
          "output_type": "stream",
          "text": [
            "Epoch 1/5\n",
            "598500/598500 [==============================] - 2s 3us/step - loss: 0.0480 - acc: 0.6633\n",
            "Epoch 2/5\n",
            "598500/598500 [==============================] - 2s 3us/step - loss: 0.0327 - acc: 0.7165\n",
            "Epoch 3/5\n",
            "598500/598500 [==============================] - 2s 3us/step - loss: 0.0298 - acc: 0.7454\n",
            "Epoch 4/5\n",
            "598500/598500 [==============================] - 2s 3us/step - loss: 0.0286 - acc: 0.7516\n",
            "Epoch 5/5\n",
            "598500/598500 [==============================] - 2s 3us/step - loss: 0.0277 - acc: 0.7575\n",
            "Epoch 1/5\n",
            " 60800/598500 [==>...........................] - ETA: 1s - loss: 0.0272 - acc: 0.7594"
          ],
          "name": "stdout"
        },
        {
          "output_type": "stream",
          "text": [
            "/usr/local/lib/python3.6/dist-packages/ipykernel_launcher.py:2: UserWarning: The `nb_epoch` argument in `fit` has been renamed `epochs`.\n",
            "  \n"
          ],
          "name": "stderr"
        },
        {
          "output_type": "stream",
          "text": [
            "598500/598500 [==============================] - 2s 3us/step - loss: 0.0268 - acc: 0.7607\n",
            "Epoch 2/5\n",
            "598500/598500 [==============================] - 2s 3us/step - loss: 0.0260 - acc: 0.7640\n",
            "Epoch 3/5\n",
            "598500/598500 [==============================] - 2s 3us/step - loss: 0.0252 - acc: 0.7661\n",
            "Epoch 4/5\n",
            "598500/598500 [==============================] - 2s 3us/step - loss: 0.0245 - acc: 0.7655\n",
            "Epoch 5/5\n",
            "598500/598500 [==============================] - 2s 3us/step - loss: 0.0238 - acc: 0.7671\n",
            "Epoch 1/5\n",
            " 60800/598500 [==>...........................] - ETA: 1s - loss: 0.0236 - acc: 0.7687"
          ],
          "name": "stdout"
        },
        {
          "output_type": "stream",
          "text": [
            "/usr/local/lib/python3.6/dist-packages/ipykernel_launcher.py:2: UserWarning: The `nb_epoch` argument in `fit` has been renamed `epochs`.\n",
            "  \n"
          ],
          "name": "stderr"
        },
        {
          "output_type": "stream",
          "text": [
            "598500/598500 [==============================] - 2s 3us/step - loss: 0.0232 - acc: 0.7678\n",
            "Epoch 2/5\n",
            "598500/598500 [==============================] - 2s 3us/step - loss: 0.0227 - acc: 0.7676\n",
            "Epoch 3/5\n",
            "598500/598500 [==============================] - 2s 3us/step - loss: 0.0222 - acc: 0.7702\n",
            "Epoch 4/5\n",
            "598500/598500 [==============================] - 2s 3us/step - loss: 0.0218 - acc: 0.7698\n",
            "Epoch 5/5\n",
            "598500/598500 [==============================] - 2s 3us/step - loss: 0.0214 - acc: 0.7728\n",
            "Epoch 1/5\n",
            " 57000/598500 [=>............................] - ETA: 1s - loss: 0.0209 - acc: 0.7770"
          ],
          "name": "stdout"
        },
        {
          "output_type": "stream",
          "text": [
            "/usr/local/lib/python3.6/dist-packages/ipykernel_launcher.py:2: UserWarning: The `nb_epoch` argument in `fit` has been renamed `epochs`.\n",
            "  \n"
          ],
          "name": "stderr"
        },
        {
          "output_type": "stream",
          "text": [
            "598500/598500 [==============================] - 2s 3us/step - loss: 0.0210 - acc: 0.7763\n",
            "Epoch 2/5\n",
            "598500/598500 [==============================] - 2s 3us/step - loss: 0.0207 - acc: 0.7772\n",
            "Epoch 3/5\n",
            "598500/598500 [==============================] - 2s 3us/step - loss: 0.0203 - acc: 0.7793\n",
            "Epoch 4/5\n",
            "598500/598500 [==============================] - 2s 3us/step - loss: 0.0200 - acc: 0.7830\n",
            "Epoch 5/5\n",
            "598500/598500 [==============================] - 2s 3us/step - loss: 0.0198 - acc: 0.7854\n",
            "Epoch 1/5\n",
            " 60800/598500 [==>...........................] - ETA: 1s - loss: 0.0196 - acc: 0.7859"
          ],
          "name": "stdout"
        },
        {
          "output_type": "stream",
          "text": [
            "/usr/local/lib/python3.6/dist-packages/ipykernel_launcher.py:2: UserWarning: The `nb_epoch` argument in `fit` has been renamed `epochs`.\n",
            "  \n"
          ],
          "name": "stderr"
        },
        {
          "output_type": "stream",
          "text": [
            "598500/598500 [==============================] - 2s 3us/step - loss: 0.0194 - acc: 0.7866\n",
            "Epoch 2/5\n",
            "598500/598500 [==============================] - 2s 3us/step - loss: 0.0192 - acc: 0.7899\n",
            "Epoch 3/5\n",
            "598500/598500 [==============================] - 2s 3us/step - loss: 0.0189 - acc: 0.7914\n",
            "Epoch 4/5\n",
            "598500/598500 [==============================] - 2s 3us/step - loss: 0.0188 - acc: 0.7922\n",
            "Epoch 5/5\n",
            "598500/598500 [==============================] - 2s 3us/step - loss: 0.0185 - acc: 0.7947\n",
            "Epoch 1/5\n",
            " 57000/598500 [=>............................] - ETA: 1s - loss: 0.0183 - acc: 0.7951"
          ],
          "name": "stdout"
        },
        {
          "output_type": "stream",
          "text": [
            "/usr/local/lib/python3.6/dist-packages/ipykernel_launcher.py:2: UserWarning: The `nb_epoch` argument in `fit` has been renamed `epochs`.\n",
            "  \n"
          ],
          "name": "stderr"
        },
        {
          "output_type": "stream",
          "text": [
            "598500/598500 [==============================] - 2s 3us/step - loss: 0.0183 - acc: 0.7960\n",
            "Epoch 2/5\n",
            "598500/598500 [==============================] - 2s 3us/step - loss: 0.0182 - acc: 0.7954\n",
            "Epoch 3/5\n",
            "598500/598500 [==============================] - 2s 3us/step - loss: 0.0179 - acc: 0.7984\n",
            "Epoch 4/5\n",
            "598500/598500 [==============================] - 2s 3us/step - loss: 0.0178 - acc: 0.7990\n",
            "Epoch 5/5\n",
            "598500/598500 [==============================] - 2s 3us/step - loss: 0.0176 - acc: 0.8000\n",
            "Epoch 1/5\n",
            " 58900/598500 [=>............................] - ETA: 1s - loss: 0.0176 - acc: 0.7983"
          ],
          "name": "stdout"
        },
        {
          "output_type": "stream",
          "text": [
            "/usr/local/lib/python3.6/dist-packages/ipykernel_launcher.py:2: UserWarning: The `nb_epoch` argument in `fit` has been renamed `epochs`.\n",
            "  \n"
          ],
          "name": "stderr"
        },
        {
          "output_type": "stream",
          "text": [
            "598500/598500 [==============================] - 2s 3us/step - loss: 0.0174 - acc: 0.7993\n",
            "Epoch 2/5\n",
            "598500/598500 [==============================] - 2s 3us/step - loss: 0.0173 - acc: 0.7997\n",
            "Epoch 3/5\n",
            "598500/598500 [==============================] - 2s 3us/step - loss: 0.0172 - acc: 0.8014\n",
            "Epoch 4/5\n",
            "598500/598500 [==============================] - 2s 3us/step - loss: 0.0170 - acc: 0.8025\n",
            "Epoch 5/5\n",
            "598500/598500 [==============================] - 2s 3us/step - loss: 0.0168 - acc: 0.8034\n",
            "Epoch 1/5\n",
            " 53200/598500 [=>............................] - ETA: 1s - loss: 0.0166 - acc: 0.8021"
          ],
          "name": "stdout"
        },
        {
          "output_type": "stream",
          "text": [
            "/usr/local/lib/python3.6/dist-packages/ipykernel_launcher.py:2: UserWarning: The `nb_epoch` argument in `fit` has been renamed `epochs`.\n",
            "  \n"
          ],
          "name": "stderr"
        },
        {
          "output_type": "stream",
          "text": [
            "598500/598500 [==============================] - 2s 3us/step - loss: 0.0167 - acc: 0.8028\n",
            "Epoch 2/5\n",
            "598500/598500 [==============================] - 2s 3us/step - loss: 0.0167 - acc: 0.8058\n",
            "Epoch 3/5\n",
            "598500/598500 [==============================] - 2s 3us/step - loss: 0.0165 - acc: 0.8058\n",
            "Epoch 4/5\n",
            "598500/598500 [==============================] - 2s 3us/step - loss: 0.0163 - acc: 0.8082\n",
            "Epoch 5/5\n",
            "598500/598500 [==============================] - 2s 3us/step - loss: 0.0162 - acc: 0.8085\n",
            "Epoch 1/5\n",
            " 58900/598500 [=>............................] - ETA: 1s - loss: 0.0160 - acc: 0.8093"
          ],
          "name": "stdout"
        },
        {
          "output_type": "stream",
          "text": [
            "/usr/local/lib/python3.6/dist-packages/ipykernel_launcher.py:2: UserWarning: The `nb_epoch` argument in `fit` has been renamed `epochs`.\n",
            "  \n"
          ],
          "name": "stderr"
        },
        {
          "output_type": "stream",
          "text": [
            "598500/598500 [==============================] - 2s 3us/step - loss: 0.0160 - acc: 0.8093\n",
            "Epoch 2/5\n",
            "598500/598500 [==============================] - 2s 3us/step - loss: 0.0159 - acc: 0.8087\n",
            "Epoch 3/5\n",
            "598500/598500 [==============================] - 2s 3us/step - loss: 0.0158 - acc: 0.8113\n",
            "Epoch 4/5\n",
            "598500/598500 [==============================] - 2s 3us/step - loss: 0.0157 - acc: 0.8115\n",
            "Epoch 5/5\n",
            "598500/598500 [==============================] - 2s 3us/step - loss: 0.0157 - acc: 0.8116\n",
            "Epoch 1/5\n",
            " 51300/598500 [=>............................] - ETA: 1s - loss: 0.0158 - acc: 0.8130"
          ],
          "name": "stdout"
        },
        {
          "output_type": "stream",
          "text": [
            "/usr/local/lib/python3.6/dist-packages/ipykernel_launcher.py:2: UserWarning: The `nb_epoch` argument in `fit` has been renamed `epochs`.\n",
            "  \n"
          ],
          "name": "stderr"
        },
        {
          "output_type": "stream",
          "text": [
            "598500/598500 [==============================] - 2s 3us/step - loss: 0.0156 - acc: 0.8126\n",
            "Epoch 2/5\n",
            "598500/598500 [==============================] - 2s 3us/step - loss: 0.0154 - acc: 0.8135\n",
            "Epoch 3/5\n",
            "598500/598500 [==============================] - 2s 3us/step - loss: 0.0154 - acc: 0.8145\n",
            "Epoch 4/5\n",
            "598500/598500 [==============================] - 2s 3us/step - loss: 0.0152 - acc: 0.8145\n",
            "Epoch 5/5\n",
            "598500/598500 [==============================] - 2s 3us/step - loss: 0.0151 - acc: 0.8153\n",
            "Epoch 1/5\n",
            " 57000/598500 [=>............................] - ETA: 1s - loss: 0.0151 - acc: 0.8149"
          ],
          "name": "stdout"
        },
        {
          "output_type": "stream",
          "text": [
            "/usr/local/lib/python3.6/dist-packages/ipykernel_launcher.py:2: UserWarning: The `nb_epoch` argument in `fit` has been renamed `epochs`.\n",
            "  \n"
          ],
          "name": "stderr"
        },
        {
          "output_type": "stream",
          "text": [
            "598500/598500 [==============================] - 2s 3us/step - loss: 0.0151 - acc: 0.8161\n",
            "Epoch 2/5\n",
            "598500/598500 [==============================] - 2s 3us/step - loss: 0.0150 - acc: 0.8169\n",
            "Epoch 3/5\n",
            "598500/598500 [==============================] - 2s 3us/step - loss: 0.0150 - acc: 0.8159\n",
            "Epoch 4/5\n",
            "598500/598500 [==============================] - 2s 3us/step - loss: 0.0148 - acc: 0.8176\n",
            "Epoch 5/5\n",
            "598500/598500 [==============================] - 2s 3us/step - loss: 0.0147 - acc: 0.8177\n",
            "Epoch 1/5\n",
            " 62700/598500 [==>...........................] - ETA: 1s - loss: 0.0148 - acc: 0.8152"
          ],
          "name": "stdout"
        },
        {
          "output_type": "stream",
          "text": [
            "/usr/local/lib/python3.6/dist-packages/ipykernel_launcher.py:2: UserWarning: The `nb_epoch` argument in `fit` has been renamed `epochs`.\n",
            "  \n"
          ],
          "name": "stderr"
        },
        {
          "output_type": "stream",
          "text": [
            "598500/598500 [==============================] - 2s 3us/step - loss: 0.0147 - acc: 0.8177\n",
            "Epoch 2/5\n",
            "598500/598500 [==============================] - 2s 3us/step - loss: 0.0146 - acc: 0.8176\n",
            "Epoch 3/5\n",
            "598500/598500 [==============================] - 2s 3us/step - loss: 0.0146 - acc: 0.8190\n",
            "Epoch 4/5\n",
            "598500/598500 [==============================] - 2s 3us/step - loss: 0.0145 - acc: 0.8186\n",
            "Epoch 5/5\n",
            "598500/598500 [==============================] - 2s 3us/step - loss: 0.0145 - acc: 0.8178\n",
            "Epoch 1/5\n",
            " 58900/598500 [=>............................] - ETA: 1s - loss: 0.0145 - acc: 0.8197"
          ],
          "name": "stdout"
        },
        {
          "output_type": "stream",
          "text": [
            "/usr/local/lib/python3.6/dist-packages/ipykernel_launcher.py:2: UserWarning: The `nb_epoch` argument in `fit` has been renamed `epochs`.\n",
            "  \n"
          ],
          "name": "stderr"
        },
        {
          "output_type": "stream",
          "text": [
            "598500/598500 [==============================] - 2s 3us/step - loss: 0.0144 - acc: 0.8189\n",
            "Epoch 2/5\n",
            "598500/598500 [==============================] - 2s 3us/step - loss: 0.0145 - acc: 0.8199\n",
            "Epoch 3/5\n",
            "598500/598500 [==============================] - 2s 3us/step - loss: 0.0143 - acc: 0.8203\n",
            "Epoch 4/5\n",
            "598500/598500 [==============================] - 2s 3us/step - loss: 0.0142 - acc: 0.8209\n",
            "Epoch 5/5\n",
            "598500/598500 [==============================] - 2s 3us/step - loss: 0.0142 - acc: 0.8206\n",
            "Epoch 1/5\n",
            " 62700/598500 [==>...........................] - ETA: 1s - loss: 0.0141 - acc: 0.8219"
          ],
          "name": "stdout"
        },
        {
          "output_type": "stream",
          "text": [
            "/usr/local/lib/python3.6/dist-packages/ipykernel_launcher.py:2: UserWarning: The `nb_epoch` argument in `fit` has been renamed `epochs`.\n",
            "  \n"
          ],
          "name": "stderr"
        },
        {
          "output_type": "stream",
          "text": [
            "598500/598500 [==============================] - 2s 3us/step - loss: 0.0141 - acc: 0.8207\n",
            "Epoch 2/5\n",
            "598500/598500 [==============================] - 2s 3us/step - loss: 0.0141 - acc: 0.8208\n",
            "Epoch 3/5\n",
            "598500/598500 [==============================] - 2s 3us/step - loss: 0.0142 - acc: 0.8211\n",
            "Epoch 4/5\n",
            "598500/598500 [==============================] - 2s 3us/step - loss: 0.0140 - acc: 0.8227\n",
            "Epoch 5/5\n",
            "598500/598500 [==============================] - 2s 3us/step - loss: 0.0140 - acc: 0.8219\n",
            "Epoch 1/5\n",
            " 62700/598500 [==>...........................] - ETA: 1s - loss: 0.0139 - acc: 0.8250"
          ],
          "name": "stdout"
        },
        {
          "output_type": "stream",
          "text": [
            "/usr/local/lib/python3.6/dist-packages/ipykernel_launcher.py:2: UserWarning: The `nb_epoch` argument in `fit` has been renamed `epochs`.\n",
            "  \n"
          ],
          "name": "stderr"
        },
        {
          "output_type": "stream",
          "text": [
            "598500/598500 [==============================] - 2s 3us/step - loss: 0.0139 - acc: 0.8228\n",
            "Epoch 2/5\n",
            "598500/598500 [==============================] - 2s 3us/step - loss: 0.0139 - acc: 0.8229\n",
            "Epoch 3/5\n",
            "598500/598500 [==============================] - 2s 3us/step - loss: 0.0138 - acc: 0.8225\n",
            "Epoch 4/5\n",
            "598500/598500 [==============================] - 2s 3us/step - loss: 0.0137 - acc: 0.8239\n",
            "Epoch 5/5\n",
            "598500/598500 [==============================] - 2s 3us/step - loss: 0.0138 - acc: 0.8249\n",
            "Epoch 1/5\n",
            " 62700/598500 [==>...........................] - ETA: 1s - loss: 0.0138 - acc: 0.8227"
          ],
          "name": "stdout"
        },
        {
          "output_type": "stream",
          "text": [
            "/usr/local/lib/python3.6/dist-packages/ipykernel_launcher.py:2: UserWarning: The `nb_epoch` argument in `fit` has been renamed `epochs`.\n",
            "  \n"
          ],
          "name": "stderr"
        },
        {
          "output_type": "stream",
          "text": [
            "598500/598500 [==============================] - 2s 3us/step - loss: 0.0138 - acc: 0.8254\n",
            "Epoch 2/5\n",
            "598500/598500 [==============================] - 2s 3us/step - loss: 0.0137 - acc: 0.8259\n",
            "Epoch 3/5\n",
            "598500/598500 [==============================] - 2s 3us/step - loss: 0.0137 - acc: 0.8261\n",
            "Epoch 4/5\n",
            "598500/598500 [==============================] - 2s 3us/step - loss: 0.0136 - acc: 0.8256\n",
            "Epoch 5/5\n",
            "598500/598500 [==============================] - 2s 3us/step - loss: 0.0137 - acc: 0.8263\n",
            "Epoch 1/5\n",
            " 66500/598500 [==>...........................] - ETA: 1s - loss: 0.0137 - acc: 0.8309"
          ],
          "name": "stdout"
        },
        {
          "output_type": "stream",
          "text": [
            "/usr/local/lib/python3.6/dist-packages/ipykernel_launcher.py:2: UserWarning: The `nb_epoch` argument in `fit` has been renamed `epochs`.\n",
            "  \n"
          ],
          "name": "stderr"
        },
        {
          "output_type": "stream",
          "text": [
            "598500/598500 [==============================] - 2s 3us/step - loss: 0.0137 - acc: 0.8252\n",
            "Epoch 2/5\n",
            "598500/598500 [==============================] - 2s 3us/step - loss: 0.0136 - acc: 0.8268\n",
            "Epoch 3/5\n",
            "598500/598500 [==============================] - 2s 3us/step - loss: 0.0135 - acc: 0.8251\n",
            "Epoch 4/5\n",
            "598500/598500 [==============================] - 2s 3us/step - loss: 0.0135 - acc: 0.8278\n",
            "Epoch 5/5\n",
            "598500/598500 [==============================] - 2s 3us/step - loss: 0.0135 - acc: 0.8277\n",
            "Epoch 1/5\n",
            " 58900/598500 [=>............................] - ETA: 1s - loss: 0.0134 - acc: 0.8291"
          ],
          "name": "stdout"
        },
        {
          "output_type": "stream",
          "text": [
            "/usr/local/lib/python3.6/dist-packages/ipykernel_launcher.py:2: UserWarning: The `nb_epoch` argument in `fit` has been renamed `epochs`.\n",
            "  \n"
          ],
          "name": "stderr"
        },
        {
          "output_type": "stream",
          "text": [
            "598500/598500 [==============================] - 2s 3us/step - loss: 0.0134 - acc: 0.8283\n",
            "Epoch 2/5\n",
            "598500/598500 [==============================] - 2s 3us/step - loss: 0.0134 - acc: 0.8281\n",
            "Epoch 3/5\n",
            "598500/598500 [==============================] - 2s 3us/step - loss: 0.0133 - acc: 0.8283\n",
            "Epoch 4/5\n",
            "598500/598500 [==============================] - 2s 3us/step - loss: 0.0133 - acc: 0.8281\n",
            "Epoch 5/5\n",
            "598500/598500 [==============================] - 2s 3us/step - loss: 0.0133 - acc: 0.8297\n",
            "Epoch 1/5\n",
            " 64600/598500 [==>...........................] - ETA: 1s - loss: 0.0132 - acc: 0.8255"
          ],
          "name": "stdout"
        },
        {
          "output_type": "stream",
          "text": [
            "/usr/local/lib/python3.6/dist-packages/ipykernel_launcher.py:2: UserWarning: The `nb_epoch` argument in `fit` has been renamed `epochs`.\n",
            "  \n"
          ],
          "name": "stderr"
        },
        {
          "output_type": "stream",
          "text": [
            "598500/598500 [==============================] - 2s 3us/step - loss: 0.0133 - acc: 0.8276\n",
            "Epoch 2/5\n",
            "598500/598500 [==============================] - 2s 3us/step - loss: 0.0132 - acc: 0.8300\n",
            "Epoch 3/5\n",
            "598500/598500 [==============================] - 2s 3us/step - loss: 0.0133 - acc: 0.8294\n",
            "Epoch 4/5\n",
            "598500/598500 [==============================] - 2s 3us/step - loss: 0.0132 - acc: 0.8302\n",
            "Epoch 5/5\n",
            "598500/598500 [==============================] - 2s 3us/step - loss: 0.0132 - acc: 0.8296\n",
            "Epoch 1/5\n",
            " 55100/598500 [=>............................] - ETA: 1s - loss: 0.0130 - acc: 0.8277"
          ],
          "name": "stdout"
        },
        {
          "output_type": "stream",
          "text": [
            "/usr/local/lib/python3.6/dist-packages/ipykernel_launcher.py:2: UserWarning: The `nb_epoch` argument in `fit` has been renamed `epochs`.\n",
            "  \n"
          ],
          "name": "stderr"
        },
        {
          "output_type": "stream",
          "text": [
            "598500/598500 [==============================] - 2s 3us/step - loss: 0.0131 - acc: 0.8298\n",
            "Epoch 2/5\n",
            "598500/598500 [==============================] - 2s 3us/step - loss: 0.0131 - acc: 0.8302\n",
            "Epoch 3/5\n",
            "598500/598500 [==============================] - 2s 3us/step - loss: 0.0131 - acc: 0.8298\n",
            "Epoch 4/5\n",
            "598500/598500 [==============================] - 2s 3us/step - loss: 0.0132 - acc: 0.8306\n",
            "Epoch 5/5\n",
            "598500/598500 [==============================] - 2s 3us/step - loss: 0.0131 - acc: 0.8317\n",
            "Epoch 1/5\n",
            " 64600/598500 [==>...........................] - ETA: 1s - loss: 0.0131 - acc: 0.8340"
          ],
          "name": "stdout"
        },
        {
          "output_type": "stream",
          "text": [
            "/usr/local/lib/python3.6/dist-packages/ipykernel_launcher.py:2: UserWarning: The `nb_epoch` argument in `fit` has been renamed `epochs`.\n",
            "  \n"
          ],
          "name": "stderr"
        },
        {
          "output_type": "stream",
          "text": [
            "598500/598500 [==============================] - 2s 3us/step - loss: 0.0131 - acc: 0.8317\n",
            "Epoch 2/5\n",
            "598500/598500 [==============================] - 2s 3us/step - loss: 0.0131 - acc: 0.8307\n",
            "Epoch 3/5\n",
            "598500/598500 [==============================] - 2s 3us/step - loss: 0.0131 - acc: 0.8295\n",
            "Epoch 4/5\n",
            "598500/598500 [==============================] - 2s 3us/step - loss: 0.0131 - acc: 0.8302\n",
            "Epoch 5/5\n",
            "598500/598500 [==============================] - 2s 3us/step - loss: 0.0130 - acc: 0.8306\n",
            "Epoch 1/5\n",
            " 60800/598500 [==>...........................] - ETA: 1s - loss: 0.0128 - acc: 0.8321"
          ],
          "name": "stdout"
        },
        {
          "output_type": "stream",
          "text": [
            "/usr/local/lib/python3.6/dist-packages/ipykernel_launcher.py:2: UserWarning: The `nb_epoch` argument in `fit` has been renamed `epochs`.\n",
            "  \n"
          ],
          "name": "stderr"
        },
        {
          "output_type": "stream",
          "text": [
            "598500/598500 [==============================] - 2s 3us/step - loss: 0.0130 - acc: 0.8309\n",
            "Epoch 2/5\n",
            "598500/598500 [==============================] - 2s 3us/step - loss: 0.0129 - acc: 0.8311\n",
            "Epoch 3/5\n",
            "598500/598500 [==============================] - 2s 3us/step - loss: 0.0129 - acc: 0.8313\n",
            "Epoch 4/5\n",
            "598500/598500 [==============================] - 2s 3us/step - loss: 0.0130 - acc: 0.8311\n",
            "Epoch 5/5\n",
            "598500/598500 [==============================] - 2s 3us/step - loss: 0.0128 - acc: 0.8325\n",
            "Epoch 1/5\n",
            " 60800/598500 [==>...........................] - ETA: 1s - loss: 0.0132 - acc: 0.8325"
          ],
          "name": "stdout"
        },
        {
          "output_type": "stream",
          "text": [
            "/usr/local/lib/python3.6/dist-packages/ipykernel_launcher.py:2: UserWarning: The `nb_epoch` argument in `fit` has been renamed `epochs`.\n",
            "  \n"
          ],
          "name": "stderr"
        },
        {
          "output_type": "stream",
          "text": [
            "598500/598500 [==============================] - 2s 3us/step - loss: 0.0128 - acc: 0.8322\n",
            "Epoch 2/5\n",
            "598500/598500 [==============================] - 2s 3us/step - loss: 0.0129 - acc: 0.8319\n",
            "Epoch 3/5\n",
            "598500/598500 [==============================] - 2s 3us/step - loss: 0.0129 - acc: 0.8316\n",
            "Epoch 4/5\n",
            "598500/598500 [==============================] - 2s 3us/step - loss: 0.0128 - acc: 0.8330\n",
            "Epoch 5/5\n",
            "598500/598500 [==============================] - 2s 3us/step - loss: 0.0128 - acc: 0.8338\n",
            "Epoch 1/5\n",
            " 58900/598500 [=>............................] - ETA: 1s - loss: 0.0127 - acc: 0.8315"
          ],
          "name": "stdout"
        },
        {
          "output_type": "stream",
          "text": [
            "/usr/local/lib/python3.6/dist-packages/ipykernel_launcher.py:2: UserWarning: The `nb_epoch` argument in `fit` has been renamed `epochs`.\n",
            "  \n"
          ],
          "name": "stderr"
        },
        {
          "output_type": "stream",
          "text": [
            "598500/598500 [==============================] - 2s 3us/step - loss: 0.0127 - acc: 0.8327\n",
            "Epoch 2/5\n",
            "598500/598500 [==============================] - 2s 3us/step - loss: 0.0128 - acc: 0.8330\n",
            "Epoch 3/5\n",
            "598500/598500 [==============================] - 2s 3us/step - loss: 0.0128 - acc: 0.8324\n",
            "Epoch 4/5\n",
            "598500/598500 [==============================] - 2s 3us/step - loss: 0.0127 - acc: 0.8338\n",
            "Epoch 5/5\n",
            "598500/598500 [==============================] - 2s 3us/step - loss: 0.0126 - acc: 0.8336\n",
            "Epoch 1/5\n",
            " 62700/598500 [==>...........................] - ETA: 1s - loss: 0.0126 - acc: 0.8320"
          ],
          "name": "stdout"
        },
        {
          "output_type": "stream",
          "text": [
            "/usr/local/lib/python3.6/dist-packages/ipykernel_launcher.py:2: UserWarning: The `nb_epoch` argument in `fit` has been renamed `epochs`.\n",
            "  \n"
          ],
          "name": "stderr"
        },
        {
          "output_type": "stream",
          "text": [
            "598500/598500 [==============================] - 2s 3us/step - loss: 0.0128 - acc: 0.8338\n",
            "Epoch 2/5\n",
            "598500/598500 [==============================] - 2s 3us/step - loss: 0.0127 - acc: 0.8334\n",
            "Epoch 3/5\n",
            "598500/598500 [==============================] - 2s 3us/step - loss: 0.0128 - acc: 0.8331\n",
            "Epoch 4/5\n",
            "598500/598500 [==============================] - 2s 3us/step - loss: 0.0127 - acc: 0.8341\n",
            "Epoch 5/5\n",
            "598500/598500 [==============================] - 2s 3us/step - loss: 0.0127 - acc: 0.8335\n",
            "Epoch 1/5\n",
            " 57000/598500 [=>............................] - ETA: 1s - loss: 0.0126 - acc: 0.8378"
          ],
          "name": "stdout"
        },
        {
          "output_type": "stream",
          "text": [
            "/usr/local/lib/python3.6/dist-packages/ipykernel_launcher.py:2: UserWarning: The `nb_epoch` argument in `fit` has been renamed `epochs`.\n",
            "  \n"
          ],
          "name": "stderr"
        },
        {
          "output_type": "stream",
          "text": [
            "598500/598500 [==============================] - 2s 3us/step - loss: 0.0126 - acc: 0.8351\n",
            "Epoch 2/5\n",
            "598500/598500 [==============================] - 2s 3us/step - loss: 0.0127 - acc: 0.8338\n",
            "Epoch 3/5\n",
            "598500/598500 [==============================] - 2s 3us/step - loss: 0.0127 - acc: 0.8340\n",
            "Epoch 4/5\n",
            "598500/598500 [==============================] - 2s 3us/step - loss: 0.0127 - acc: 0.8358\n",
            "Epoch 5/5\n",
            "598500/598500 [==============================] - 2s 3us/step - loss: 0.0127 - acc: 0.8355\n",
            "Epoch 1/5\n",
            " 55100/598500 [=>............................] - ETA: 1s - loss: 0.0125 - acc: 0.8382"
          ],
          "name": "stdout"
        },
        {
          "output_type": "stream",
          "text": [
            "/usr/local/lib/python3.6/dist-packages/ipykernel_launcher.py:2: UserWarning: The `nb_epoch` argument in `fit` has been renamed `epochs`.\n",
            "  \n"
          ],
          "name": "stderr"
        },
        {
          "output_type": "stream",
          "text": [
            "598500/598500 [==============================] - 2s 3us/step - loss: 0.0126 - acc: 0.8359\n",
            "Epoch 2/5\n",
            "598500/598500 [==============================] - 2s 3us/step - loss: 0.0126 - acc: 0.8352\n",
            "Epoch 3/5\n",
            "598500/598500 [==============================] - 2s 3us/step - loss: 0.0126 - acc: 0.8371\n",
            "Epoch 4/5\n",
            "598500/598500 [==============================] - 2s 3us/step - loss: 0.0126 - acc: 0.8347\n",
            "Epoch 5/5\n",
            "598500/598500 [==============================] - 2s 3us/step - loss: 0.0126 - acc: 0.8366\n",
            "Epoch 1/5\n",
            " 55100/598500 [=>............................] - ETA: 1s - loss: 0.0125 - acc: 0.8386"
          ],
          "name": "stdout"
        },
        {
          "output_type": "stream",
          "text": [
            "/usr/local/lib/python3.6/dist-packages/ipykernel_launcher.py:2: UserWarning: The `nb_epoch` argument in `fit` has been renamed `epochs`.\n",
            "  \n"
          ],
          "name": "stderr"
        },
        {
          "output_type": "stream",
          "text": [
            "598500/598500 [==============================] - 2s 3us/step - loss: 0.0126 - acc: 0.8355\n",
            "Epoch 2/5\n",
            "598500/598500 [==============================] - 2s 3us/step - loss: 0.0126 - acc: 0.8347\n",
            "Epoch 3/5\n",
            "598500/598500 [==============================] - 2s 3us/step - loss: 0.0126 - acc: 0.8358\n",
            "Epoch 4/5\n",
            "598500/598500 [==============================] - 2s 3us/step - loss: 0.0125 - acc: 0.8372\n",
            "Epoch 5/5\n",
            "598500/598500 [==============================] - 2s 3us/step - loss: 0.0125 - acc: 0.8373\n",
            "Epoch 1/5\n",
            " 62700/598500 [==>...........................] - ETA: 1s - loss: 0.0126 - acc: 0.8357"
          ],
          "name": "stdout"
        },
        {
          "output_type": "stream",
          "text": [
            "/usr/local/lib/python3.6/dist-packages/ipykernel_launcher.py:2: UserWarning: The `nb_epoch` argument in `fit` has been renamed `epochs`.\n",
            "  \n"
          ],
          "name": "stderr"
        },
        {
          "output_type": "stream",
          "text": [
            "598500/598500 [==============================] - 2s 3us/step - loss: 0.0125 - acc: 0.8356\n",
            "Epoch 2/5\n",
            "598500/598500 [==============================] - 2s 3us/step - loss: 0.0125 - acc: 0.8365\n",
            "Epoch 3/5\n",
            "598500/598500 [==============================] - 2s 3us/step - loss: 0.0125 - acc: 0.8365\n",
            "Epoch 4/5\n",
            "598500/598500 [==============================] - 2s 3us/step - loss: 0.0125 - acc: 0.8372\n",
            "Epoch 5/5\n",
            "598500/598500 [==============================] - 2s 3us/step - loss: 0.0125 - acc: 0.8370\n",
            "Epoch 1/5\n",
            " 60800/598500 [==>...........................] - ETA: 1s - loss: 0.0122 - acc: 0.8358"
          ],
          "name": "stdout"
        },
        {
          "output_type": "stream",
          "text": [
            "/usr/local/lib/python3.6/dist-packages/ipykernel_launcher.py:2: UserWarning: The `nb_epoch` argument in `fit` has been renamed `epochs`.\n",
            "  \n"
          ],
          "name": "stderr"
        },
        {
          "output_type": "stream",
          "text": [
            "598500/598500 [==============================] - 2s 3us/step - loss: 0.0126 - acc: 0.8363\n",
            "Epoch 2/5\n",
            "598500/598500 [==============================] - 2s 3us/step - loss: 0.0125 - acc: 0.8370\n",
            "Epoch 3/5\n",
            "598500/598500 [==============================] - 2s 3us/step - loss: 0.0124 - acc: 0.8385\n",
            "Epoch 4/5\n",
            "598500/598500 [==============================] - 2s 3us/step - loss: 0.0125 - acc: 0.8376\n",
            "Epoch 5/5\n",
            "598500/598500 [==============================] - 2s 3us/step - loss: 0.0125 - acc: 0.8392\n",
            "Epoch 1/5\n",
            " 62700/598500 [==>...........................] - ETA: 1s - loss: 0.0124 - acc: 0.8368"
          ],
          "name": "stdout"
        },
        {
          "output_type": "stream",
          "text": [
            "/usr/local/lib/python3.6/dist-packages/ipykernel_launcher.py:2: UserWarning: The `nb_epoch` argument in `fit` has been renamed `epochs`.\n",
            "  \n"
          ],
          "name": "stderr"
        },
        {
          "output_type": "stream",
          "text": [
            "598500/598500 [==============================] - 2s 3us/step - loss: 0.0125 - acc: 0.8383\n",
            "Epoch 2/5\n",
            "598500/598500 [==============================] - 2s 3us/step - loss: 0.0124 - acc: 0.8369\n",
            "Epoch 3/5\n",
            "598500/598500 [==============================] - 2s 3us/step - loss: 0.0124 - acc: 0.8392\n",
            "Epoch 4/5\n",
            "598500/598500 [==============================] - 2s 3us/step - loss: 0.0124 - acc: 0.8377\n",
            "Epoch 5/5\n",
            "598500/598500 [==============================] - 2s 3us/step - loss: 0.0124 - acc: 0.8390\n",
            "Epoch 1/5\n",
            " 57000/598500 [=>............................] - ETA: 1s - loss: 0.0125 - acc: 0.8397"
          ],
          "name": "stdout"
        },
        {
          "output_type": "stream",
          "text": [
            "/usr/local/lib/python3.6/dist-packages/ipykernel_launcher.py:2: UserWarning: The `nb_epoch` argument in `fit` has been renamed `epochs`.\n",
            "  \n"
          ],
          "name": "stderr"
        },
        {
          "output_type": "stream",
          "text": [
            "598500/598500 [==============================] - 2s 3us/step - loss: 0.0125 - acc: 0.8364\n",
            "Epoch 2/5\n",
            "598500/598500 [==============================] - 2s 3us/step - loss: 0.0124 - acc: 0.8388\n",
            "Epoch 3/5\n",
            "598500/598500 [==============================] - 2s 3us/step - loss: 0.0124 - acc: 0.8390\n",
            "Epoch 4/5\n",
            "598500/598500 [==============================] - 2s 3us/step - loss: 0.0124 - acc: 0.8382\n",
            "Epoch 5/5\n",
            "598500/598500 [==============================] - 2s 3us/step - loss: 0.0124 - acc: 0.8377\n",
            "Epoch 1/5\n",
            " 60800/598500 [==>...........................] - ETA: 1s - loss: 0.0124 - acc: 0.8417"
          ],
          "name": "stdout"
        },
        {
          "output_type": "stream",
          "text": [
            "/usr/local/lib/python3.6/dist-packages/ipykernel_launcher.py:2: UserWarning: The `nb_epoch` argument in `fit` has been renamed `epochs`.\n",
            "  \n"
          ],
          "name": "stderr"
        },
        {
          "output_type": "stream",
          "text": [
            "598500/598500 [==============================] - 2s 3us/step - loss: 0.0124 - acc: 0.8387\n",
            "Epoch 2/5\n",
            "598500/598500 [==============================] - 2s 3us/step - loss: 0.0124 - acc: 0.8376\n",
            "Epoch 3/5\n",
            "598500/598500 [==============================] - 2s 3us/step - loss: 0.0123 - acc: 0.8388\n",
            "Epoch 4/5\n",
            "598500/598500 [==============================] - 2s 3us/step - loss: 0.0124 - acc: 0.8378\n",
            "Epoch 5/5\n",
            "598500/598500 [==============================] - 2s 3us/step - loss: 0.0123 - acc: 0.8391\n",
            "Epoch 1/5\n",
            " 60800/598500 [==>...........................] - ETA: 1s - loss: 0.0122 - acc: 0.8369"
          ],
          "name": "stdout"
        },
        {
          "output_type": "stream",
          "text": [
            "/usr/local/lib/python3.6/dist-packages/ipykernel_launcher.py:2: UserWarning: The `nb_epoch` argument in `fit` has been renamed `epochs`.\n",
            "  \n"
          ],
          "name": "stderr"
        },
        {
          "output_type": "stream",
          "text": [
            "598500/598500 [==============================] - 2s 3us/step - loss: 0.0124 - acc: 0.8363\n",
            "Epoch 2/5\n",
            "598500/598500 [==============================] - 2s 3us/step - loss: 0.0123 - acc: 0.8388\n",
            "Epoch 3/5\n",
            "598500/598500 [==============================] - 2s 3us/step - loss: 0.0124 - acc: 0.8392\n",
            "Epoch 4/5\n",
            "598500/598500 [==============================] - 2s 3us/step - loss: 0.0123 - acc: 0.8402\n",
            "Epoch 5/5\n",
            "598500/598500 [==============================] - 2s 3us/step - loss: 0.0122 - acc: 0.8397\n",
            "Epoch 1/5\n",
            " 66500/598500 [==>...........................] - ETA: 1s - loss: 0.0124 - acc: 0.8427"
          ],
          "name": "stdout"
        },
        {
          "output_type": "stream",
          "text": [
            "/usr/local/lib/python3.6/dist-packages/ipykernel_launcher.py:2: UserWarning: The `nb_epoch` argument in `fit` has been renamed `epochs`.\n",
            "  \n"
          ],
          "name": "stderr"
        },
        {
          "output_type": "stream",
          "text": [
            "598500/598500 [==============================] - 2s 3us/step - loss: 0.0122 - acc: 0.8406\n",
            "Epoch 2/5\n",
            "598500/598500 [==============================] - 2s 3us/step - loss: 0.0122 - acc: 0.8400\n",
            "Epoch 3/5\n",
            "598500/598500 [==============================] - 2s 3us/step - loss: 0.0123 - acc: 0.8375\n",
            "Epoch 4/5\n",
            "598500/598500 [==============================] - 2s 3us/step - loss: 0.0123 - acc: 0.8380\n",
            "Epoch 5/5\n",
            "598500/598500 [==============================] - 2s 3us/step - loss: 0.0123 - acc: 0.8402\n",
            "Epoch 1/5\n",
            " 60800/598500 [==>...........................] - ETA: 1s - loss: 0.0122 - acc: 0.8490"
          ],
          "name": "stdout"
        },
        {
          "output_type": "stream",
          "text": [
            "/usr/local/lib/python3.6/dist-packages/ipykernel_launcher.py:2: UserWarning: The `nb_epoch` argument in `fit` has been renamed `epochs`.\n",
            "  \n"
          ],
          "name": "stderr"
        },
        {
          "output_type": "stream",
          "text": [
            "598500/598500 [==============================] - 2s 3us/step - loss: 0.0122 - acc: 0.8411\n",
            "Epoch 2/5\n",
            "598500/598500 [==============================] - 2s 3us/step - loss: 0.0123 - acc: 0.8402\n",
            "Epoch 3/5\n",
            "598500/598500 [==============================] - 2s 3us/step - loss: 0.0122 - acc: 0.8400\n",
            "Epoch 4/5\n",
            "598500/598500 [==============================] - 2s 3us/step - loss: 0.0122 - acc: 0.8386\n",
            "Epoch 5/5\n",
            "598500/598500 [==============================] - 2s 3us/step - loss: 0.0124 - acc: 0.8386\n",
            "Epoch 1/5\n",
            " 66500/598500 [==>...........................] - ETA: 1s - loss: 0.0124 - acc: 0.8360"
          ],
          "name": "stdout"
        },
        {
          "output_type": "stream",
          "text": [
            "/usr/local/lib/python3.6/dist-packages/ipykernel_launcher.py:2: UserWarning: The `nb_epoch` argument in `fit` has been renamed `epochs`.\n",
            "  \n"
          ],
          "name": "stderr"
        },
        {
          "output_type": "stream",
          "text": [
            "598500/598500 [==============================] - 2s 3us/step - loss: 0.0122 - acc: 0.8391\n",
            "Epoch 2/5\n",
            "598500/598500 [==============================] - 2s 3us/step - loss: 0.0123 - acc: 0.8396\n",
            "Epoch 3/5\n",
            "598500/598500 [==============================] - 2s 3us/step - loss: 0.0122 - acc: 0.8396\n",
            "Epoch 4/5\n",
            "598500/598500 [==============================] - 2s 3us/step - loss: 0.0123 - acc: 0.8408\n",
            "Epoch 5/5\n",
            "598500/598500 [==============================] - 2s 3us/step - loss: 0.0121 - acc: 0.8419\n",
            "Epoch 1/5\n",
            " 62700/598500 [==>...........................] - ETA: 1s - loss: 0.0121 - acc: 0.8403"
          ],
          "name": "stdout"
        },
        {
          "output_type": "stream",
          "text": [
            "/usr/local/lib/python3.6/dist-packages/ipykernel_launcher.py:2: UserWarning: The `nb_epoch` argument in `fit` has been renamed `epochs`.\n",
            "  \n"
          ],
          "name": "stderr"
        },
        {
          "output_type": "stream",
          "text": [
            "598500/598500 [==============================] - 2s 3us/step - loss: 0.0122 - acc: 0.8412\n",
            "Epoch 2/5\n",
            "598500/598500 [==============================] - 2s 3us/step - loss: 0.0122 - acc: 0.8405\n",
            "Epoch 3/5\n",
            "598500/598500 [==============================] - 2s 3us/step - loss: 0.0122 - acc: 0.8415\n",
            "Epoch 4/5\n",
            "598500/598500 [==============================] - 2s 3us/step - loss: 0.0122 - acc: 0.8401\n",
            "Epoch 5/5\n",
            "598500/598500 [==============================] - 2s 3us/step - loss: 0.0121 - acc: 0.8403\n",
            "Epoch 1/5\n",
            " 64600/598500 [==>...........................] - ETA: 1s - loss: 0.0122 - acc: 0.8434"
          ],
          "name": "stdout"
        },
        {
          "output_type": "stream",
          "text": [
            "/usr/local/lib/python3.6/dist-packages/ipykernel_launcher.py:2: UserWarning: The `nb_epoch` argument in `fit` has been renamed `epochs`.\n",
            "  \n"
          ],
          "name": "stderr"
        },
        {
          "output_type": "stream",
          "text": [
            "598500/598500 [==============================] - 2s 3us/step - loss: 0.0121 - acc: 0.8406\n",
            "Epoch 2/5\n",
            "598500/598500 [==============================] - 2s 3us/step - loss: 0.0122 - acc: 0.8398\n",
            "Epoch 3/5\n",
            "598500/598500 [==============================] - 2s 3us/step - loss: 0.0122 - acc: 0.8410\n",
            "Epoch 4/5\n",
            "598500/598500 [==============================] - 2s 3us/step - loss: 0.0122 - acc: 0.8419\n",
            "Epoch 5/5\n",
            "598500/598500 [==============================] - 2s 3us/step - loss: 0.0121 - acc: 0.8390\n",
            "Epoch 1/5\n",
            " 68400/598500 [==>...........................] - ETA: 1s - loss: 0.0119 - acc: 0.8417"
          ],
          "name": "stdout"
        },
        {
          "output_type": "stream",
          "text": [
            "/usr/local/lib/python3.6/dist-packages/ipykernel_launcher.py:2: UserWarning: The `nb_epoch` argument in `fit` has been renamed `epochs`.\n",
            "  \n"
          ],
          "name": "stderr"
        },
        {
          "output_type": "stream",
          "text": [
            "598500/598500 [==============================] - 2s 3us/step - loss: 0.0121 - acc: 0.8407\n",
            "Epoch 2/5\n",
            "598500/598500 [==============================] - 2s 3us/step - loss: 0.0121 - acc: 0.8435\n",
            "Epoch 3/5\n",
            "598500/598500 [==============================] - 2s 3us/step - loss: 0.0121 - acc: 0.8404\n",
            "Epoch 4/5\n",
            "598500/598500 [==============================] - 2s 3us/step - loss: 0.0121 - acc: 0.8412\n",
            "Epoch 5/5\n",
            "598500/598500 [==============================] - 2s 3us/step - loss: 0.0121 - acc: 0.8400\n",
            "Epoch 1/5\n",
            " 60800/598500 [==>...........................] - ETA: 1s - loss: 0.0123 - acc: 0.8447"
          ],
          "name": "stdout"
        },
        {
          "output_type": "stream",
          "text": [
            "/usr/local/lib/python3.6/dist-packages/ipykernel_launcher.py:2: UserWarning: The `nb_epoch` argument in `fit` has been renamed `epochs`.\n",
            "  \n"
          ],
          "name": "stderr"
        },
        {
          "output_type": "stream",
          "text": [
            "598500/598500 [==============================] - 2s 3us/step - loss: 0.0122 - acc: 0.8421\n",
            "Epoch 2/5\n",
            "598500/598500 [==============================] - 2s 3us/step - loss: 0.0121 - acc: 0.8419\n",
            "Epoch 3/5\n",
            "598500/598500 [==============================] - 2s 3us/step - loss: 0.0121 - acc: 0.8423\n",
            "Epoch 4/5\n",
            "598500/598500 [==============================] - 2s 3us/step - loss: 0.0121 - acc: 0.8408\n",
            "Epoch 5/5\n",
            "598500/598500 [==============================] - 2s 3us/step - loss: 0.0121 - acc: 0.8426\n",
            "Epoch 1/5\n",
            " 53200/598500 [=>............................] - ETA: 1s - loss: 0.0118 - acc: 0.8436"
          ],
          "name": "stdout"
        },
        {
          "output_type": "stream",
          "text": [
            "/usr/local/lib/python3.6/dist-packages/ipykernel_launcher.py:2: UserWarning: The `nb_epoch` argument in `fit` has been renamed `epochs`.\n",
            "  \n"
          ],
          "name": "stderr"
        },
        {
          "output_type": "stream",
          "text": [
            "598500/598500 [==============================] - 2s 3us/step - loss: 0.0121 - acc: 0.8415\n",
            "Epoch 2/5\n",
            "598500/598500 [==============================] - 2s 3us/step - loss: 0.0120 - acc: 0.8434\n",
            "Epoch 3/5\n",
            "598500/598500 [==============================] - 2s 3us/step - loss: 0.0121 - acc: 0.8435\n",
            "Epoch 4/5\n",
            "598500/598500 [==============================] - 2s 3us/step - loss: 0.0120 - acc: 0.8433\n",
            "Epoch 5/5\n",
            "598500/598500 [==============================] - 2s 3us/step - loss: 0.0120 - acc: 0.8417\n",
            "Epoch 1/5\n",
            " 57000/598500 [=>............................] - ETA: 1s - loss: 0.0120 - acc: 0.8457"
          ],
          "name": "stdout"
        },
        {
          "output_type": "stream",
          "text": [
            "/usr/local/lib/python3.6/dist-packages/ipykernel_launcher.py:2: UserWarning: The `nb_epoch` argument in `fit` has been renamed `epochs`.\n",
            "  \n"
          ],
          "name": "stderr"
        },
        {
          "output_type": "stream",
          "text": [
            "598500/598500 [==============================] - 2s 3us/step - loss: 0.0121 - acc: 0.8458\n",
            "Epoch 2/5\n",
            "598500/598500 [==============================] - 2s 3us/step - loss: 0.0120 - acc: 0.8446\n",
            "Epoch 3/5\n",
            "598500/598500 [==============================] - 2s 3us/step - loss: 0.0120 - acc: 0.8423\n",
            "Epoch 4/5\n",
            "598500/598500 [==============================] - 2s 3us/step - loss: 0.0120 - acc: 0.8437\n",
            "Epoch 5/5\n",
            "598500/598500 [==============================] - 2s 3us/step - loss: 0.0121 - acc: 0.8434\n",
            "Epoch 1/5\n",
            " 58900/598500 [=>............................] - ETA: 1s - loss: 0.0119 - acc: 0.8462"
          ],
          "name": "stdout"
        },
        {
          "output_type": "stream",
          "text": [
            "/usr/local/lib/python3.6/dist-packages/ipykernel_launcher.py:2: UserWarning: The `nb_epoch` argument in `fit` has been renamed `epochs`.\n",
            "  \n"
          ],
          "name": "stderr"
        },
        {
          "output_type": "stream",
          "text": [
            "598500/598500 [==============================] - 2s 3us/step - loss: 0.0121 - acc: 0.8442\n",
            "Epoch 2/5\n",
            "598500/598500 [==============================] - 2s 3us/step - loss: 0.0121 - acc: 0.8413\n",
            "Epoch 3/5\n",
            "598500/598500 [==============================] - 2s 3us/step - loss: 0.0121 - acc: 0.8441\n",
            "Epoch 4/5\n",
            "598500/598500 [==============================] - 2s 3us/step - loss: 0.0119 - acc: 0.8447\n",
            "Epoch 5/5\n",
            "598500/598500 [==============================] - 2s 3us/step - loss: 0.0120 - acc: 0.8444\n",
            "Epoch 1/5\n",
            " 62700/598500 [==>...........................] - ETA: 1s - loss: 0.0119 - acc: 0.8478"
          ],
          "name": "stdout"
        },
        {
          "output_type": "stream",
          "text": [
            "/usr/local/lib/python3.6/dist-packages/ipykernel_launcher.py:2: UserWarning: The `nb_epoch` argument in `fit` has been renamed `epochs`.\n",
            "  \n"
          ],
          "name": "stderr"
        },
        {
          "output_type": "stream",
          "text": [
            "598500/598500 [==============================] - 2s 3us/step - loss: 0.0120 - acc: 0.8455\n",
            "Epoch 2/5\n",
            "598500/598500 [==============================] - 2s 3us/step - loss: 0.0120 - acc: 0.8437\n",
            "Epoch 3/5\n",
            "598500/598500 [==============================] - 2s 3us/step - loss: 0.0120 - acc: 0.8436\n",
            "Epoch 4/5\n",
            "598500/598500 [==============================] - 2s 3us/step - loss: 0.0119 - acc: 0.8447\n",
            "Epoch 5/5\n",
            "598500/598500 [==============================] - 2s 3us/step - loss: 0.0120 - acc: 0.8448\n",
            "Epoch 1/5\n",
            " 58900/598500 [=>............................] - ETA: 1s - loss: 0.0118 - acc: 0.8484"
          ],
          "name": "stdout"
        },
        {
          "output_type": "stream",
          "text": [
            "/usr/local/lib/python3.6/dist-packages/ipykernel_launcher.py:2: UserWarning: The `nb_epoch` argument in `fit` has been renamed `epochs`.\n",
            "  \n"
          ],
          "name": "stderr"
        },
        {
          "output_type": "stream",
          "text": [
            "598500/598500 [==============================] - 2s 3us/step - loss: 0.0120 - acc: 0.8459\n",
            "Epoch 2/5\n",
            "598500/598500 [==============================] - 2s 3us/step - loss: 0.0120 - acc: 0.8460\n",
            "Epoch 3/5\n",
            "598500/598500 [==============================] - 2s 3us/step - loss: 0.0120 - acc: 0.8459\n",
            "Epoch 4/5\n",
            "598500/598500 [==============================] - 2s 3us/step - loss: 0.0120 - acc: 0.8452\n",
            "Epoch 5/5\n",
            "598500/598500 [==============================] - 2s 3us/step - loss: 0.0120 - acc: 0.8459\n",
            "Epoch 1/5\n",
            " 68400/598500 [==>...........................] - ETA: 1s - loss: 0.0121 - acc: 0.8455"
          ],
          "name": "stdout"
        },
        {
          "output_type": "stream",
          "text": [
            "/usr/local/lib/python3.6/dist-packages/ipykernel_launcher.py:2: UserWarning: The `nb_epoch` argument in `fit` has been renamed `epochs`.\n",
            "  \n"
          ],
          "name": "stderr"
        },
        {
          "output_type": "stream",
          "text": [
            "598500/598500 [==============================] - 2s 3us/step - loss: 0.0119 - acc: 0.8458\n",
            "Epoch 2/5\n",
            "598500/598500 [==============================] - 2s 3us/step - loss: 0.0119 - acc: 0.8464\n",
            "Epoch 3/5\n",
            "598500/598500 [==============================] - 2s 3us/step - loss: 0.0120 - acc: 0.8467\n",
            "Epoch 4/5\n",
            "598500/598500 [==============================] - 2s 3us/step - loss: 0.0119 - acc: 0.8466\n",
            "Epoch 5/5\n",
            "598500/598500 [==============================] - 2s 3us/step - loss: 0.0119 - acc: 0.8445\n",
            "Epoch 1/5\n",
            " 55100/598500 [=>............................] - ETA: 1s - loss: 0.0120 - acc: 0.8474"
          ],
          "name": "stdout"
        },
        {
          "output_type": "stream",
          "text": [
            "/usr/local/lib/python3.6/dist-packages/ipykernel_launcher.py:2: UserWarning: The `nb_epoch` argument in `fit` has been renamed `epochs`.\n",
            "  \n"
          ],
          "name": "stderr"
        },
        {
          "output_type": "stream",
          "text": [
            "598500/598500 [==============================] - 2s 3us/step - loss: 0.0120 - acc: 0.8465\n",
            "Epoch 2/5\n",
            "598500/598500 [==============================] - 2s 3us/step - loss: 0.0120 - acc: 0.8441\n",
            "Epoch 3/5\n",
            "598500/598500 [==============================] - 2s 3us/step - loss: 0.0119 - acc: 0.8445\n",
            "Epoch 4/5\n",
            "598500/598500 [==============================] - 2s 3us/step - loss: 0.0119 - acc: 0.8462\n",
            "Epoch 5/5\n",
            "598500/598500 [==============================] - 2s 3us/step - loss: 0.0119 - acc: 0.8447\n",
            "Epoch 1/5\n",
            " 62700/598500 [==>...........................] - ETA: 1s - loss: 0.0118 - acc: 0.8460"
          ],
          "name": "stdout"
        },
        {
          "output_type": "stream",
          "text": [
            "/usr/local/lib/python3.6/dist-packages/ipykernel_launcher.py:2: UserWarning: The `nb_epoch` argument in `fit` has been renamed `epochs`.\n",
            "  \n"
          ],
          "name": "stderr"
        },
        {
          "output_type": "stream",
          "text": [
            "598500/598500 [==============================] - 2s 3us/step - loss: 0.0119 - acc: 0.8457\n",
            "Epoch 2/5\n",
            "598500/598500 [==============================] - 2s 3us/step - loss: 0.0119 - acc: 0.8460\n",
            "Epoch 3/5\n",
            "598500/598500 [==============================] - 2s 3us/step - loss: 0.0118 - acc: 0.8468\n",
            "Epoch 4/5\n",
            "598500/598500 [==============================] - 2s 3us/step - loss: 0.0119 - acc: 0.8465\n",
            "Epoch 5/5\n",
            "598500/598500 [==============================] - 2s 3us/step - loss: 0.0118 - acc: 0.8463\n",
            "Epoch 1/5\n",
            " 58900/598500 [=>............................] - ETA: 1s - loss: 0.0118 - acc: 0.8510"
          ],
          "name": "stdout"
        },
        {
          "output_type": "stream",
          "text": [
            "/usr/local/lib/python3.6/dist-packages/ipykernel_launcher.py:2: UserWarning: The `nb_epoch` argument in `fit` has been renamed `epochs`.\n",
            "  \n"
          ],
          "name": "stderr"
        },
        {
          "output_type": "stream",
          "text": [
            "598500/598500 [==============================] - 2s 3us/step - loss: 0.0119 - acc: 0.8473\n",
            "Epoch 2/5\n",
            "598500/598500 [==============================] - 2s 3us/step - loss: 0.0119 - acc: 0.8455\n",
            "Epoch 3/5\n",
            "598500/598500 [==============================] - 2s 3us/step - loss: 0.0119 - acc: 0.8458\n",
            "Epoch 4/5\n",
            "598500/598500 [==============================] - 2s 3us/step - loss: 0.0118 - acc: 0.8452\n",
            "Epoch 5/5\n",
            "598500/598500 [==============================] - 2s 3us/step - loss: 0.0118 - acc: 0.8470\n",
            "Epoch 1/5\n",
            " 64600/598500 [==>...........................] - ETA: 1s - loss: 0.0118 - acc: 0.8450"
          ],
          "name": "stdout"
        },
        {
          "output_type": "stream",
          "text": [
            "/usr/local/lib/python3.6/dist-packages/ipykernel_launcher.py:2: UserWarning: The `nb_epoch` argument in `fit` has been renamed `epochs`.\n",
            "  \n"
          ],
          "name": "stderr"
        },
        {
          "output_type": "stream",
          "text": [
            "598500/598500 [==============================] - 2s 3us/step - loss: 0.0118 - acc: 0.8449\n",
            "Epoch 2/5\n",
            "598500/598500 [==============================] - 2s 3us/step - loss: 0.0119 - acc: 0.8463\n",
            "Epoch 3/5\n",
            "598500/598500 [==============================] - 2s 3us/step - loss: 0.0118 - acc: 0.8482\n",
            "Epoch 4/5\n",
            "598500/598500 [==============================] - 2s 3us/step - loss: 0.0118 - acc: 0.8463\n",
            "Epoch 5/5\n",
            "598500/598500 [==============================] - 2s 3us/step - loss: 0.0118 - acc: 0.8468\n",
            "Epoch 1/5\n",
            " 57000/598500 [=>............................] - ETA: 1s - loss: 0.0119 - acc: 0.8451"
          ],
          "name": "stdout"
        },
        {
          "output_type": "stream",
          "text": [
            "/usr/local/lib/python3.6/dist-packages/ipykernel_launcher.py:2: UserWarning: The `nb_epoch` argument in `fit` has been renamed `epochs`.\n",
            "  \n"
          ],
          "name": "stderr"
        },
        {
          "output_type": "stream",
          "text": [
            "598500/598500 [==============================] - 2s 3us/step - loss: 0.0118 - acc: 0.8473\n",
            "Epoch 2/5\n",
            "598500/598500 [==============================] - 2s 3us/step - loss: 0.0119 - acc: 0.8460\n",
            "Epoch 3/5\n",
            "598500/598500 [==============================] - 2s 3us/step - loss: 0.0118 - acc: 0.8465\n",
            "Epoch 4/5\n",
            "598500/598500 [==============================] - 2s 3us/step - loss: 0.0118 - acc: 0.8474\n",
            "Epoch 5/5\n",
            "598500/598500 [==============================] - 2s 3us/step - loss: 0.0118 - acc: 0.8468\n",
            "Epoch 1/5\n",
            " 64600/598500 [==>...........................] - ETA: 1s - loss: 0.0117 - acc: 0.8439"
          ],
          "name": "stdout"
        },
        {
          "output_type": "stream",
          "text": [
            "/usr/local/lib/python3.6/dist-packages/ipykernel_launcher.py:2: UserWarning: The `nb_epoch` argument in `fit` has been renamed `epochs`.\n",
            "  \n"
          ],
          "name": "stderr"
        },
        {
          "output_type": "stream",
          "text": [
            "598500/598500 [==============================] - 2s 3us/step - loss: 0.0119 - acc: 0.8467\n",
            "Epoch 2/5\n",
            "598500/598500 [==============================] - 2s 3us/step - loss: 0.0118 - acc: 0.8482\n",
            "Epoch 3/5\n",
            "598500/598500 [==============================] - 2s 3us/step - loss: 0.0117 - acc: 0.8491\n",
            "Epoch 4/5\n",
            "598500/598500 [==============================] - 2s 3us/step - loss: 0.0118 - acc: 0.8469\n",
            "Epoch 5/5\n",
            "598500/598500 [==============================] - 2s 3us/step - loss: 0.0118 - acc: 0.8485\n",
            "Epoch 1/5\n",
            " 62700/598500 [==>...........................] - ETA: 1s - loss: 0.0115 - acc: 0.8456"
          ],
          "name": "stdout"
        },
        {
          "output_type": "stream",
          "text": [
            "/usr/local/lib/python3.6/dist-packages/ipykernel_launcher.py:2: UserWarning: The `nb_epoch` argument in `fit` has been renamed `epochs`.\n",
            "  \n"
          ],
          "name": "stderr"
        },
        {
          "output_type": "stream",
          "text": [
            "598500/598500 [==============================] - 2s 3us/step - loss: 0.0118 - acc: 0.8473\n",
            "Epoch 2/5\n",
            "598500/598500 [==============================] - 2s 3us/step - loss: 0.0118 - acc: 0.8497\n",
            "Epoch 3/5\n",
            "598500/598500 [==============================] - 2s 3us/step - loss: 0.0118 - acc: 0.8494\n",
            "Epoch 4/5\n",
            "598500/598500 [==============================] - 2s 3us/step - loss: 0.0117 - acc: 0.8497\n",
            "Epoch 5/5\n",
            "598500/598500 [==============================] - 2s 3us/step - loss: 0.0118 - acc: 0.8485\n",
            "Epoch 1/5\n",
            " 60800/598500 [==>...........................] - ETA: 1s - loss: 0.0118 - acc: 0.8514"
          ],
          "name": "stdout"
        },
        {
          "output_type": "stream",
          "text": [
            "/usr/local/lib/python3.6/dist-packages/ipykernel_launcher.py:2: UserWarning: The `nb_epoch` argument in `fit` has been renamed `epochs`.\n",
            "  \n"
          ],
          "name": "stderr"
        },
        {
          "output_type": "stream",
          "text": [
            "598500/598500 [==============================] - 2s 3us/step - loss: 0.0117 - acc: 0.8506\n",
            "Epoch 2/5\n",
            "598500/598500 [==============================] - 2s 3us/step - loss: 0.0117 - acc: 0.8491\n",
            "Epoch 3/5\n",
            "598500/598500 [==============================] - 2s 3us/step - loss: 0.0117 - acc: 0.8492\n",
            "Epoch 4/5\n",
            "598500/598500 [==============================] - 2s 3us/step - loss: 0.0117 - acc: 0.8506\n",
            "Epoch 5/5\n",
            "598500/598500 [==============================] - 2s 3us/step - loss: 0.0117 - acc: 0.8487\n",
            "Epoch 1/5\n",
            " 60800/598500 [==>...........................] - ETA: 1s - loss: 0.0120 - acc: 0.8441"
          ],
          "name": "stdout"
        },
        {
          "output_type": "stream",
          "text": [
            "/usr/local/lib/python3.6/dist-packages/ipykernel_launcher.py:2: UserWarning: The `nb_epoch` argument in `fit` has been renamed `epochs`.\n",
            "  \n"
          ],
          "name": "stderr"
        },
        {
          "output_type": "stream",
          "text": [
            "598500/598500 [==============================] - 2s 3us/step - loss: 0.0118 - acc: 0.8460\n",
            "Epoch 2/5\n",
            "598500/598500 [==============================] - 2s 3us/step - loss: 0.0118 - acc: 0.8497\n",
            "Epoch 3/5\n",
            "598500/598500 [==============================] - 2s 3us/step - loss: 0.0117 - acc: 0.8491\n",
            "Epoch 4/5\n",
            "598500/598500 [==============================] - 2s 3us/step - loss: 0.0117 - acc: 0.8483\n",
            "Epoch 5/5\n",
            "598500/598500 [==============================] - 2s 3us/step - loss: 0.0118 - acc: 0.8480\n",
            "Epoch 1/5\n",
            " 62700/598500 [==>...........................] - ETA: 1s - loss: 0.0116 - acc: 0.8487"
          ],
          "name": "stdout"
        },
        {
          "output_type": "stream",
          "text": [
            "/usr/local/lib/python3.6/dist-packages/ipykernel_launcher.py:2: UserWarning: The `nb_epoch` argument in `fit` has been renamed `epochs`.\n",
            "  \n"
          ],
          "name": "stderr"
        },
        {
          "output_type": "stream",
          "text": [
            "598500/598500 [==============================] - 2s 3us/step - loss: 0.0116 - acc: 0.8511\n",
            "Epoch 2/5\n",
            "598500/598500 [==============================] - 2s 3us/step - loss: 0.0117 - acc: 0.8510\n",
            "Epoch 3/5\n",
            "598500/598500 [==============================] - 2s 3us/step - loss: 0.0117 - acc: 0.8506\n",
            "Epoch 4/5\n",
            "598500/598500 [==============================] - 2s 3us/step - loss: 0.0116 - acc: 0.8517\n",
            "Epoch 5/5\n",
            "598500/598500 [==============================] - 2s 3us/step - loss: 0.0117 - acc: 0.8482\n",
            "Epoch 1/5\n",
            " 60800/598500 [==>...........................] - ETA: 1s - loss: 0.0118 - acc: 0.8532"
          ],
          "name": "stdout"
        },
        {
          "output_type": "stream",
          "text": [
            "/usr/local/lib/python3.6/dist-packages/ipykernel_launcher.py:2: UserWarning: The `nb_epoch` argument in `fit` has been renamed `epochs`.\n",
            "  \n"
          ],
          "name": "stderr"
        },
        {
          "output_type": "stream",
          "text": [
            "598500/598500 [==============================] - 2s 3us/step - loss: 0.0117 - acc: 0.8502\n",
            "Epoch 2/5\n",
            "598500/598500 [==============================] - 2s 3us/step - loss: 0.0117 - acc: 0.8502\n",
            "Epoch 3/5\n",
            "598500/598500 [==============================] - 2s 3us/step - loss: 0.0117 - acc: 0.8503\n",
            "Epoch 4/5\n",
            "598500/598500 [==============================] - 2s 3us/step - loss: 0.0117 - acc: 0.8502\n",
            "Epoch 5/5\n",
            "598500/598500 [==============================] - 2s 3us/step - loss: 0.0116 - acc: 0.8506\n",
            "Epoch 1/5\n",
            " 66500/598500 [==>...........................] - ETA: 1s - loss: 0.0117 - acc: 0.8478"
          ],
          "name": "stdout"
        },
        {
          "output_type": "stream",
          "text": [
            "/usr/local/lib/python3.6/dist-packages/ipykernel_launcher.py:2: UserWarning: The `nb_epoch` argument in `fit` has been renamed `epochs`.\n",
            "  \n"
          ],
          "name": "stderr"
        },
        {
          "output_type": "stream",
          "text": [
            "598500/598500 [==============================] - 2s 3us/step - loss: 0.0117 - acc: 0.8507\n",
            "Epoch 2/5\n",
            "598500/598500 [==============================] - 2s 3us/step - loss: 0.0117 - acc: 0.8506\n",
            "Epoch 3/5\n",
            "598500/598500 [==============================] - 2s 3us/step - loss: 0.0116 - acc: 0.8505\n",
            "Epoch 4/5\n",
            "598500/598500 [==============================] - 2s 3us/step - loss: 0.0117 - acc: 0.8503\n",
            "Epoch 5/5\n",
            "598500/598500 [==============================] - 2s 3us/step - loss: 0.0116 - acc: 0.8514\n",
            "Epoch 1/5\n",
            " 58900/598500 [=>............................] - ETA: 1s - loss: 0.0116 - acc: 0.8533"
          ],
          "name": "stdout"
        },
        {
          "output_type": "stream",
          "text": [
            "/usr/local/lib/python3.6/dist-packages/ipykernel_launcher.py:2: UserWarning: The `nb_epoch` argument in `fit` has been renamed `epochs`.\n",
            "  \n"
          ],
          "name": "stderr"
        },
        {
          "output_type": "stream",
          "text": [
            "598500/598500 [==============================] - 2s 3us/step - loss: 0.0116 - acc: 0.8509\n",
            "Epoch 2/5\n",
            "598500/598500 [==============================] - 2s 3us/step - loss: 0.0117 - acc: 0.8508\n",
            "Epoch 3/5\n",
            "598500/598500 [==============================] - 2s 3us/step - loss: 0.0117 - acc: 0.8519\n",
            "Epoch 4/5\n",
            "598500/598500 [==============================] - 2s 3us/step - loss: 0.0116 - acc: 0.8533\n",
            "Epoch 5/5\n",
            "598500/598500 [==============================] - 2s 3us/step - loss: 0.0116 - acc: 0.8529\n",
            "Epoch 1/5\n",
            " 57000/598500 [=>............................] - ETA: 1s - loss: 0.0115 - acc: 0.8500"
          ],
          "name": "stdout"
        },
        {
          "output_type": "stream",
          "text": [
            "/usr/local/lib/python3.6/dist-packages/ipykernel_launcher.py:2: UserWarning: The `nb_epoch` argument in `fit` has been renamed `epochs`.\n",
            "  \n"
          ],
          "name": "stderr"
        },
        {
          "output_type": "stream",
          "text": [
            "598500/598500 [==============================] - 2s 3us/step - loss: 0.0117 - acc: 0.8517\n",
            "Epoch 2/5\n",
            "598500/598500 [==============================] - 2s 3us/step - loss: 0.0116 - acc: 0.8516\n",
            "Epoch 3/5\n",
            "598500/598500 [==============================] - 2s 3us/step - loss: 0.0116 - acc: 0.8518\n",
            "Epoch 4/5\n",
            "598500/598500 [==============================] - 2s 3us/step - loss: 0.0117 - acc: 0.8529\n",
            "Epoch 5/5\n",
            "598500/598500 [==============================] - 2s 3us/step - loss: 0.0116 - acc: 0.8516\n",
            "Epoch 1/5\n",
            " 58900/598500 [=>............................] - ETA: 1s - loss: 0.0116 - acc: 0.8530"
          ],
          "name": "stdout"
        },
        {
          "output_type": "stream",
          "text": [
            "/usr/local/lib/python3.6/dist-packages/ipykernel_launcher.py:2: UserWarning: The `nb_epoch` argument in `fit` has been renamed `epochs`.\n",
            "  \n"
          ],
          "name": "stderr"
        },
        {
          "output_type": "stream",
          "text": [
            "598500/598500 [==============================] - 2s 3us/step - loss: 0.0116 - acc: 0.8537\n",
            "Epoch 2/5\n",
            "598500/598500 [==============================] - 1s 2us/step - loss: 0.0117 - acc: 0.8522\n",
            "Epoch 3/5\n",
            "598500/598500 [==============================] - 2s 3us/step - loss: 0.0116 - acc: 0.8534\n",
            "Epoch 4/5\n",
            "598500/598500 [==============================] - 2s 3us/step - loss: 0.0116 - acc: 0.8530\n",
            "Epoch 5/5\n",
            "598500/598500 [==============================] - 2s 3us/step - loss: 0.0115 - acc: 0.8526\n",
            "Epoch 1/5\n",
            " 66500/598500 [==>...........................] - ETA: 1s - loss: 0.0116 - acc: 0.8536"
          ],
          "name": "stdout"
        },
        {
          "output_type": "stream",
          "text": [
            "/usr/local/lib/python3.6/dist-packages/ipykernel_launcher.py:2: UserWarning: The `nb_epoch` argument in `fit` has been renamed `epochs`.\n",
            "  \n"
          ],
          "name": "stderr"
        },
        {
          "output_type": "stream",
          "text": [
            "598500/598500 [==============================] - 2s 3us/step - loss: 0.0116 - acc: 0.8536\n",
            "Epoch 2/5\n",
            "598500/598500 [==============================] - 2s 3us/step - loss: 0.0115 - acc: 0.8540\n",
            "Epoch 3/5\n",
            "598500/598500 [==============================] - 2s 3us/step - loss: 0.0116 - acc: 0.8531\n",
            "Epoch 4/5\n",
            "598500/598500 [==============================] - 2s 3us/step - loss: 0.0116 - acc: 0.8534\n",
            "Epoch 5/5\n",
            "598500/598500 [==============================] - 2s 3us/step - loss: 0.0116 - acc: 0.8537\n",
            "Epoch 1/5\n",
            " 58900/598500 [=>............................] - ETA: 1s - loss: 0.0117 - acc: 0.8571"
          ],
          "name": "stdout"
        },
        {
          "output_type": "stream",
          "text": [
            "/usr/local/lib/python3.6/dist-packages/ipykernel_launcher.py:2: UserWarning: The `nb_epoch` argument in `fit` has been renamed `epochs`.\n",
            "  \n"
          ],
          "name": "stderr"
        },
        {
          "output_type": "stream",
          "text": [
            "598500/598500 [==============================] - 2s 3us/step - loss: 0.0116 - acc: 0.8545\n",
            "Epoch 2/5\n",
            "598500/598500 [==============================] - 2s 3us/step - loss: 0.0115 - acc: 0.8545\n",
            "Epoch 3/5\n",
            "598500/598500 [==============================] - 2s 3us/step - loss: 0.0116 - acc: 0.8537\n",
            "Epoch 4/5\n",
            "598500/598500 [==============================] - 2s 3us/step - loss: 0.0116 - acc: 0.8545\n",
            "Epoch 5/5\n",
            "598500/598500 [==============================] - 2s 3us/step - loss: 0.0115 - acc: 0.8548\n",
            "Epoch 1/5\n",
            " 64600/598500 [==>...........................] - ETA: 1s - loss: 0.0115 - acc: 0.8519"
          ],
          "name": "stdout"
        },
        {
          "output_type": "stream",
          "text": [
            "/usr/local/lib/python3.6/dist-packages/ipykernel_launcher.py:2: UserWarning: The `nb_epoch` argument in `fit` has been renamed `epochs`.\n",
            "  \n"
          ],
          "name": "stderr"
        },
        {
          "output_type": "stream",
          "text": [
            "598500/598500 [==============================] - 2s 3us/step - loss: 0.0115 - acc: 0.8534\n",
            "Epoch 2/5\n",
            "598500/598500 [==============================] - 2s 3us/step - loss: 0.0115 - acc: 0.8554\n",
            "Epoch 3/5\n",
            "598500/598500 [==============================] - 2s 3us/step - loss: 0.0117 - acc: 0.8513\n",
            "Epoch 4/5\n",
            "598500/598500 [==============================] - 2s 3us/step - loss: 0.0115 - acc: 0.8541\n",
            "Epoch 5/5\n",
            "598500/598500 [==============================] - 2s 3us/step - loss: 0.0115 - acc: 0.8543\n",
            "Epoch 1/5\n",
            " 57000/598500 [=>............................] - ETA: 1s - loss: 0.0115 - acc: 0.8561"
          ],
          "name": "stdout"
        },
        {
          "output_type": "stream",
          "text": [
            "/usr/local/lib/python3.6/dist-packages/ipykernel_launcher.py:2: UserWarning: The `nb_epoch` argument in `fit` has been renamed `epochs`.\n",
            "  \n"
          ],
          "name": "stderr"
        },
        {
          "output_type": "stream",
          "text": [
            "598500/598500 [==============================] - 2s 3us/step - loss: 0.0115 - acc: 0.8534\n",
            "Epoch 2/5\n",
            "598500/598500 [==============================] - 2s 3us/step - loss: 0.0115 - acc: 0.8537\n",
            "Epoch 3/5\n",
            "598500/598500 [==============================] - 2s 3us/step - loss: 0.0115 - acc: 0.8554\n",
            "Epoch 4/5\n",
            "598500/598500 [==============================] - 2s 3us/step - loss: 0.0116 - acc: 0.8549\n",
            "Epoch 5/5\n",
            "598500/598500 [==============================] - 2s 3us/step - loss: 0.0116 - acc: 0.8553\n",
            "Epoch 1/5\n",
            " 60800/598500 [==>...........................] - ETA: 1s - loss: 0.0115 - acc: 0.8557"
          ],
          "name": "stdout"
        },
        {
          "output_type": "stream",
          "text": [
            "/usr/local/lib/python3.6/dist-packages/ipykernel_launcher.py:2: UserWarning: The `nb_epoch` argument in `fit` has been renamed `epochs`.\n",
            "  \n"
          ],
          "name": "stderr"
        },
        {
          "output_type": "stream",
          "text": [
            "598500/598500 [==============================] - 2s 3us/step - loss: 0.0115 - acc: 0.8549\n",
            "Epoch 2/5\n",
            "598500/598500 [==============================] - 2s 3us/step - loss: 0.0114 - acc: 0.8542\n",
            "Epoch 3/5\n",
            "598500/598500 [==============================] - 2s 3us/step - loss: 0.0115 - acc: 0.8545\n",
            "Epoch 4/5\n",
            "598500/598500 [==============================] - 2s 3us/step - loss: 0.0115 - acc: 0.8540\n",
            "Epoch 5/5\n",
            "598500/598500 [==============================] - 2s 3us/step - loss: 0.0115 - acc: 0.8537\n",
            "Epoch 1/5\n",
            " 58900/598500 [=>............................] - ETA: 1s - loss: 0.0116 - acc: 0.8517"
          ],
          "name": "stdout"
        },
        {
          "output_type": "stream",
          "text": [
            "/usr/local/lib/python3.6/dist-packages/ipykernel_launcher.py:2: UserWarning: The `nb_epoch` argument in `fit` has been renamed `epochs`.\n",
            "  \n"
          ],
          "name": "stderr"
        },
        {
          "output_type": "stream",
          "text": [
            "598500/598500 [==============================] - 2s 3us/step - loss: 0.0115 - acc: 0.8559\n",
            "Epoch 2/5\n",
            "598500/598500 [==============================] - 2s 3us/step - loss: 0.0114 - acc: 0.8545\n",
            "Epoch 3/5\n",
            "598500/598500 [==============================] - 2s 3us/step - loss: 0.0115 - acc: 0.8558\n",
            "Epoch 4/5\n",
            "598500/598500 [==============================] - 2s 3us/step - loss: 0.0115 - acc: 0.8564\n",
            "Epoch 5/5\n",
            "598500/598500 [==============================] - 2s 3us/step - loss: 0.0115 - acc: 0.8560\n",
            "Epoch 1/5\n",
            " 64600/598500 [==>...........................] - ETA: 1s - loss: 0.0116 - acc: 0.8576"
          ],
          "name": "stdout"
        },
        {
          "output_type": "stream",
          "text": [
            "/usr/local/lib/python3.6/dist-packages/ipykernel_launcher.py:2: UserWarning: The `nb_epoch` argument in `fit` has been renamed `epochs`.\n",
            "  \n"
          ],
          "name": "stderr"
        },
        {
          "output_type": "stream",
          "text": [
            "598500/598500 [==============================] - 2s 3us/step - loss: 0.0114 - acc: 0.8545\n",
            "Epoch 2/5\n",
            "598500/598500 [==============================] - 2s 3us/step - loss: 0.0115 - acc: 0.8543\n",
            "Epoch 3/5\n",
            "598500/598500 [==============================] - 2s 3us/step - loss: 0.0114 - acc: 0.8563\n",
            "Epoch 4/5\n",
            "598500/598500 [==============================] - 2s 3us/step - loss: 0.0115 - acc: 0.8541\n",
            "Epoch 5/5\n",
            "598500/598500 [==============================] - 2s 3us/step - loss: 0.0115 - acc: 0.8550\n",
            "Epoch 1/5\n",
            " 60800/598500 [==>...........................] - ETA: 1s - loss: 0.0115 - acc: 0.8561"
          ],
          "name": "stdout"
        },
        {
          "output_type": "stream",
          "text": [
            "/usr/local/lib/python3.6/dist-packages/ipykernel_launcher.py:2: UserWarning: The `nb_epoch` argument in `fit` has been renamed `epochs`.\n",
            "  \n"
          ],
          "name": "stderr"
        },
        {
          "output_type": "stream",
          "text": [
            "598500/598500 [==============================] - 2s 3us/step - loss: 0.0114 - acc: 0.8551\n",
            "Epoch 2/5\n",
            "598500/598500 [==============================] - 2s 3us/step - loss: 0.0115 - acc: 0.8554\n",
            "Epoch 3/5\n",
            "598500/598500 [==============================] - 2s 3us/step - loss: 0.0115 - acc: 0.8567\n",
            "Epoch 4/5\n",
            "598500/598500 [==============================] - 2s 3us/step - loss: 0.0115 - acc: 0.8556\n",
            "Epoch 5/5\n",
            "598500/598500 [==============================] - 2s 3us/step - loss: 0.0115 - acc: 0.8573\n",
            "Epoch 1/5\n",
            " 57000/598500 [=>............................] - ETA: 1s - loss: 0.0115 - acc: 0.8537"
          ],
          "name": "stdout"
        },
        {
          "output_type": "stream",
          "text": [
            "/usr/local/lib/python3.6/dist-packages/ipykernel_launcher.py:2: UserWarning: The `nb_epoch` argument in `fit` has been renamed `epochs`.\n",
            "  \n"
          ],
          "name": "stderr"
        },
        {
          "output_type": "stream",
          "text": [
            "598500/598500 [==============================] - 2s 3us/step - loss: 0.0114 - acc: 0.8552\n",
            "Epoch 2/5\n",
            "598500/598500 [==============================] - 2s 3us/step - loss: 0.0115 - acc: 0.8543\n",
            "Epoch 3/5\n",
            "598500/598500 [==============================] - 2s 3us/step - loss: 0.0115 - acc: 0.8534\n",
            "Epoch 4/5\n",
            "598500/598500 [==============================] - 2s 3us/step - loss: 0.0114 - acc: 0.8536\n",
            "Epoch 5/5\n",
            "598500/598500 [==============================] - 2s 3us/step - loss: 0.0115 - acc: 0.8553\n",
            "Epoch 1/5\n",
            " 64600/598500 [==>...........................] - ETA: 1s - loss: 0.0112 - acc: 0.8572"
          ],
          "name": "stdout"
        },
        {
          "output_type": "stream",
          "text": [
            "/usr/local/lib/python3.6/dist-packages/ipykernel_launcher.py:2: UserWarning: The `nb_epoch` argument in `fit` has been renamed `epochs`.\n",
            "  \n"
          ],
          "name": "stderr"
        },
        {
          "output_type": "stream",
          "text": [
            "598500/598500 [==============================] - 2s 3us/step - loss: 0.0115 - acc: 0.8549\n",
            "Epoch 2/5\n",
            "598500/598500 [==============================] - 2s 3us/step - loss: 0.0113 - acc: 0.8550\n",
            "Epoch 3/5\n",
            "598500/598500 [==============================] - 2s 3us/step - loss: 0.0115 - acc: 0.8565\n",
            "Epoch 4/5\n",
            "598500/598500 [==============================] - 2s 3us/step - loss: 0.0115 - acc: 0.8539\n",
            "Epoch 5/5\n",
            "598500/598500 [==============================] - 2s 3us/step - loss: 0.0114 - acc: 0.8538\n",
            "Epoch 1/5\n",
            " 60800/598500 [==>...........................] - ETA: 1s - loss: 0.0116 - acc: 0.8602"
          ],
          "name": "stdout"
        },
        {
          "output_type": "stream",
          "text": [
            "/usr/local/lib/python3.6/dist-packages/ipykernel_launcher.py:2: UserWarning: The `nb_epoch` argument in `fit` has been renamed `epochs`.\n",
            "  \n"
          ],
          "name": "stderr"
        },
        {
          "output_type": "stream",
          "text": [
            "598500/598500 [==============================] - 2s 3us/step - loss: 0.0114 - acc: 0.8567\n",
            "Epoch 2/5\n",
            "598500/598500 [==============================] - 2s 3us/step - loss: 0.0116 - acc: 0.8547\n",
            "Epoch 3/5\n",
            "598500/598500 [==============================] - 2s 3us/step - loss: 0.0114 - acc: 0.8549\n",
            "Epoch 4/5\n",
            "598500/598500 [==============================] - 2s 3us/step - loss: 0.0115 - acc: 0.8558\n",
            "Epoch 5/5\n",
            "598500/598500 [==============================] - 2s 3us/step - loss: 0.0115 - acc: 0.8542\n",
            "Epoch 1/5\n",
            " 62700/598500 [==>...........................] - ETA: 1s - loss: 0.0114 - acc: 0.8489"
          ],
          "name": "stdout"
        },
        {
          "output_type": "stream",
          "text": [
            "/usr/local/lib/python3.6/dist-packages/ipykernel_launcher.py:2: UserWarning: The `nb_epoch` argument in `fit` has been renamed `epochs`.\n",
            "  \n"
          ],
          "name": "stderr"
        },
        {
          "output_type": "stream",
          "text": [
            "598500/598500 [==============================] - 2s 3us/step - loss: 0.0114 - acc: 0.8551\n",
            "Epoch 2/5\n",
            "598500/598500 [==============================] - 2s 3us/step - loss: 0.0114 - acc: 0.8545\n",
            "Epoch 3/5\n",
            "598500/598500 [==============================] - 2s 3us/step - loss: 0.0114 - acc: 0.8548\n",
            "Epoch 4/5\n",
            "598500/598500 [==============================] - 2s 3us/step - loss: 0.0114 - acc: 0.8544\n",
            "Epoch 5/5\n",
            "598500/598500 [==============================] - 2s 3us/step - loss: 0.0114 - acc: 0.8545\n",
            "Epoch 1/5\n",
            " 58900/598500 [=>............................] - ETA: 1s - loss: 0.0113 - acc: 0.8545"
          ],
          "name": "stdout"
        },
        {
          "output_type": "stream",
          "text": [
            "/usr/local/lib/python3.6/dist-packages/ipykernel_launcher.py:2: UserWarning: The `nb_epoch` argument in `fit` has been renamed `epochs`.\n",
            "  \n"
          ],
          "name": "stderr"
        },
        {
          "output_type": "stream",
          "text": [
            "598500/598500 [==============================] - 2s 3us/step - loss: 0.0114 - acc: 0.8551\n",
            "Epoch 2/5\n",
            "598500/598500 [==============================] - 2s 3us/step - loss: 0.0114 - acc: 0.8543\n",
            "Epoch 3/5\n",
            "598500/598500 [==============================] - 2s 3us/step - loss: 0.0114 - acc: 0.8555\n",
            "Epoch 4/5\n",
            "598500/598500 [==============================] - 2s 3us/step - loss: 0.0114 - acc: 0.8546\n",
            "Epoch 5/5\n",
            "598500/598500 [==============================] - 2s 3us/step - loss: 0.0114 - acc: 0.8564\n",
            "Epoch 1/5\n",
            " 66500/598500 [==>...........................] - ETA: 1s - loss: 0.0114 - acc: 0.8563"
          ],
          "name": "stdout"
        },
        {
          "output_type": "stream",
          "text": [
            "/usr/local/lib/python3.6/dist-packages/ipykernel_launcher.py:2: UserWarning: The `nb_epoch` argument in `fit` has been renamed `epochs`.\n",
            "  \n"
          ],
          "name": "stderr"
        },
        {
          "output_type": "stream",
          "text": [
            "598500/598500 [==============================] - 2s 3us/step - loss: 0.0114 - acc: 0.8561\n",
            "Epoch 2/5\n",
            "598500/598500 [==============================] - 2s 3us/step - loss: 0.0115 - acc: 0.8546\n",
            "Epoch 3/5\n",
            "598500/598500 [==============================] - 2s 3us/step - loss: 0.0114 - acc: 0.8567\n",
            "Epoch 4/5\n",
            "598500/598500 [==============================] - 2s 3us/step - loss: 0.0114 - acc: 0.8556\n",
            "Epoch 5/5\n",
            "598500/598500 [==============================] - 2s 3us/step - loss: 0.0114 - acc: 0.8538\n",
            "Epoch 1/5\n",
            " 58900/598500 [=>............................] - ETA: 1s - loss: 0.0114 - acc: 0.8555"
          ],
          "name": "stdout"
        },
        {
          "output_type": "stream",
          "text": [
            "/usr/local/lib/python3.6/dist-packages/ipykernel_launcher.py:2: UserWarning: The `nb_epoch` argument in `fit` has been renamed `epochs`.\n",
            "  \n"
          ],
          "name": "stderr"
        },
        {
          "output_type": "stream",
          "text": [
            "598500/598500 [==============================] - 2s 3us/step - loss: 0.0114 - acc: 0.8561\n",
            "Epoch 2/5\n",
            "598500/598500 [==============================] - 2s 3us/step - loss: 0.0114 - acc: 0.8560\n",
            "Epoch 3/5\n",
            "598500/598500 [==============================] - 2s 3us/step - loss: 0.0114 - acc: 0.8553\n",
            "Epoch 4/5\n",
            "598500/598500 [==============================] - 2s 3us/step - loss: 0.0114 - acc: 0.8572\n",
            "Epoch 5/5\n",
            "598500/598500 [==============================] - 2s 3us/step - loss: 0.0113 - acc: 0.8575\n",
            "Epoch 1/5\n",
            " 57000/598500 [=>............................] - ETA: 1s - loss: 0.0114 - acc: 0.8574"
          ],
          "name": "stdout"
        },
        {
          "output_type": "stream",
          "text": [
            "/usr/local/lib/python3.6/dist-packages/ipykernel_launcher.py:2: UserWarning: The `nb_epoch` argument in `fit` has been renamed `epochs`.\n",
            "  \n"
          ],
          "name": "stderr"
        },
        {
          "output_type": "stream",
          "text": [
            "598500/598500 [==============================] - 2s 3us/step - loss: 0.0114 - acc: 0.8564\n",
            "Epoch 2/5\n",
            "598500/598500 [==============================] - 2s 3us/step - loss: 0.0114 - acc: 0.8563\n",
            "Epoch 3/5\n",
            "598500/598500 [==============================] - 2s 3us/step - loss: 0.0114 - acc: 0.8566\n",
            "Epoch 4/5\n",
            "598500/598500 [==============================] - 2s 3us/step - loss: 0.0115 - acc: 0.8541\n",
            "Epoch 5/5\n",
            "598500/598500 [==============================] - 2s 3us/step - loss: 0.0114 - acc: 0.8548\n",
            "Epoch 1/5\n",
            " 57000/598500 [=>............................] - ETA: 1s - loss: 0.0113 - acc: 0.8591"
          ],
          "name": "stdout"
        },
        {
          "output_type": "stream",
          "text": [
            "/usr/local/lib/python3.6/dist-packages/ipykernel_launcher.py:2: UserWarning: The `nb_epoch` argument in `fit` has been renamed `epochs`.\n",
            "  \n"
          ],
          "name": "stderr"
        },
        {
          "output_type": "stream",
          "text": [
            "598500/598500 [==============================] - 2s 3us/step - loss: 0.0114 - acc: 0.8555\n",
            "Epoch 2/5\n",
            "598500/598500 [==============================] - 2s 3us/step - loss: 0.0114 - acc: 0.8552\n",
            "Epoch 3/5\n",
            "598500/598500 [==============================] - 2s 3us/step - loss: 0.0114 - acc: 0.8543\n",
            "Epoch 4/5\n",
            "598500/598500 [==============================] - 2s 3us/step - loss: 0.0112 - acc: 0.8569\n",
            "Epoch 5/5\n",
            "598500/598500 [==============================] - 2s 3us/step - loss: 0.0113 - acc: 0.8571\n",
            "Epoch 1/5\n",
            " 55100/598500 [=>............................] - ETA: 1s - loss: 0.0111 - acc: 0.8624"
          ],
          "name": "stdout"
        },
        {
          "output_type": "stream",
          "text": [
            "/usr/local/lib/python3.6/dist-packages/ipykernel_launcher.py:2: UserWarning: The `nb_epoch` argument in `fit` has been renamed `epochs`.\n",
            "  \n"
          ],
          "name": "stderr"
        },
        {
          "output_type": "stream",
          "text": [
            "598500/598500 [==============================] - 2s 3us/step - loss: 0.0113 - acc: 0.8561\n",
            "Epoch 2/5\n",
            "598500/598500 [==============================] - 2s 3us/step - loss: 0.0113 - acc: 0.8576\n",
            "Epoch 3/5\n",
            "598500/598500 [==============================] - 2s 3us/step - loss: 0.0114 - acc: 0.8561\n",
            "Epoch 4/5\n",
            "598500/598500 [==============================] - 2s 3us/step - loss: 0.0114 - acc: 0.8548\n",
            "Epoch 5/5\n",
            "598500/598500 [==============================] - 2s 3us/step - loss: 0.0113 - acc: 0.8566\n",
            "Epoch 1/5\n",
            " 58900/598500 [=>............................] - ETA: 1s - loss: 0.0114 - acc: 0.8595"
          ],
          "name": "stdout"
        },
        {
          "output_type": "stream",
          "text": [
            "/usr/local/lib/python3.6/dist-packages/ipykernel_launcher.py:2: UserWarning: The `nb_epoch` argument in `fit` has been renamed `epochs`.\n",
            "  \n"
          ],
          "name": "stderr"
        },
        {
          "output_type": "stream",
          "text": [
            "598500/598500 [==============================] - 2s 3us/step - loss: 0.0114 - acc: 0.8571\n",
            "Epoch 2/5\n",
            "598500/598500 [==============================] - 2s 3us/step - loss: 0.0113 - acc: 0.8546\n",
            "Epoch 3/5\n",
            "598500/598500 [==============================] - 2s 3us/step - loss: 0.0113 - acc: 0.8559\n",
            "Epoch 4/5\n",
            "598500/598500 [==============================] - 2s 3us/step - loss: 0.0113 - acc: 0.8574\n",
            "Epoch 5/5\n",
            "598500/598500 [==============================] - 2s 3us/step - loss: 0.0113 - acc: 0.8562\n",
            "Epoch 1/5\n",
            " 60800/598500 [==>...........................] - ETA: 1s - loss: 0.0117 - acc: 0.8580"
          ],
          "name": "stdout"
        },
        {
          "output_type": "stream",
          "text": [
            "/usr/local/lib/python3.6/dist-packages/ipykernel_launcher.py:2: UserWarning: The `nb_epoch` argument in `fit` has been renamed `epochs`.\n",
            "  \n"
          ],
          "name": "stderr"
        },
        {
          "output_type": "stream",
          "text": [
            "598500/598500 [==============================] - 2s 3us/step - loss: 0.0113 - acc: 0.8557\n",
            "Epoch 2/5\n",
            "598500/598500 [==============================] - 2s 3us/step - loss: 0.0113 - acc: 0.8560\n",
            "Epoch 3/5\n",
            "598500/598500 [==============================] - 2s 3us/step - loss: 0.0113 - acc: 0.8549\n",
            "Epoch 4/5\n",
            "598500/598500 [==============================] - 2s 3us/step - loss: 0.0114 - acc: 0.8560\n",
            "Epoch 5/5\n",
            "598500/598500 [==============================] - 2s 3us/step - loss: 0.0113 - acc: 0.8553\n",
            "Epoch 1/5\n",
            " 58900/598500 [=>............................] - ETA: 1s - loss: 0.0112 - acc: 0.8570"
          ],
          "name": "stdout"
        },
        {
          "output_type": "stream",
          "text": [
            "/usr/local/lib/python3.6/dist-packages/ipykernel_launcher.py:2: UserWarning: The `nb_epoch` argument in `fit` has been renamed `epochs`.\n",
            "  \n"
          ],
          "name": "stderr"
        },
        {
          "output_type": "stream",
          "text": [
            "598500/598500 [==============================] - 2s 3us/step - loss: 0.0113 - acc: 0.8569\n",
            "Epoch 2/5\n",
            "598500/598500 [==============================] - 2s 3us/step - loss: 0.0113 - acc: 0.8557\n",
            "Epoch 3/5\n",
            "598500/598500 [==============================] - 2s 3us/step - loss: 0.0113 - acc: 0.8559\n",
            "Epoch 4/5\n",
            "598500/598500 [==============================] - 2s 3us/step - loss: 0.0114 - acc: 0.8557\n",
            "Epoch 5/5\n",
            "598500/598500 [==============================] - 2s 3us/step - loss: 0.0113 - acc: 0.8563\n",
            "Epoch 1/5\n",
            " 64600/598500 [==>...........................] - ETA: 1s - loss: 0.0113 - acc: 0.8538"
          ],
          "name": "stdout"
        },
        {
          "output_type": "stream",
          "text": [
            "/usr/local/lib/python3.6/dist-packages/ipykernel_launcher.py:2: UserWarning: The `nb_epoch` argument in `fit` has been renamed `epochs`.\n",
            "  \n"
          ],
          "name": "stderr"
        },
        {
          "output_type": "stream",
          "text": [
            "598500/598500 [==============================] - 2s 3us/step - loss: 0.0114 - acc: 0.8557\n",
            "Epoch 2/5\n",
            "598500/598500 [==============================] - 2s 3us/step - loss: 0.0113 - acc: 0.8563\n",
            "Epoch 3/5\n",
            "598500/598500 [==============================] - 2s 3us/step - loss: 0.0113 - acc: 0.8547\n",
            "Epoch 4/5\n",
            "598500/598500 [==============================] - 2s 3us/step - loss: 0.0113 - acc: 0.8558\n",
            "Epoch 5/5\n",
            "598500/598500 [==============================] - 2s 3us/step - loss: 0.0113 - acc: 0.8543\n",
            "Epoch 1/5\n",
            " 57000/598500 [=>............................] - ETA: 1s - loss: 0.0113 - acc: 0.8517"
          ],
          "name": "stdout"
        },
        {
          "output_type": "stream",
          "text": [
            "/usr/local/lib/python3.6/dist-packages/ipykernel_launcher.py:2: UserWarning: The `nb_epoch` argument in `fit` has been renamed `epochs`.\n",
            "  \n"
          ],
          "name": "stderr"
        },
        {
          "output_type": "stream",
          "text": [
            "598500/598500 [==============================] - 2s 3us/step - loss: 0.0113 - acc: 0.8559\n",
            "Epoch 2/5\n",
            "598500/598500 [==============================] - 2s 3us/step - loss: 0.0112 - acc: 0.8567\n",
            "Epoch 3/5\n",
            "598500/598500 [==============================] - 2s 3us/step - loss: 0.0113 - acc: 0.8576\n",
            "Epoch 4/5\n",
            "598500/598500 [==============================] - 2s 3us/step - loss: 0.0113 - acc: 0.8558\n",
            "Epoch 5/5\n",
            "598500/598500 [==============================] - 2s 3us/step - loss: 0.0113 - acc: 0.8572\n",
            "Epoch 1/5\n",
            " 62700/598500 [==>...........................] - ETA: 1s - loss: 0.0113 - acc: 0.8548"
          ],
          "name": "stdout"
        },
        {
          "output_type": "stream",
          "text": [
            "/usr/local/lib/python3.6/dist-packages/ipykernel_launcher.py:2: UserWarning: The `nb_epoch` argument in `fit` has been renamed `epochs`.\n",
            "  \n"
          ],
          "name": "stderr"
        },
        {
          "output_type": "stream",
          "text": [
            "598500/598500 [==============================] - 2s 3us/step - loss: 0.0112 - acc: 0.8557\n",
            "Epoch 2/5\n",
            "598500/598500 [==============================] - 2s 3us/step - loss: 0.0112 - acc: 0.8553\n",
            "Epoch 3/5\n",
            "598500/598500 [==============================] - 2s 3us/step - loss: 0.0113 - acc: 0.8557\n",
            "Epoch 4/5\n",
            "598500/598500 [==============================] - 2s 3us/step - loss: 0.0111 - acc: 0.8588\n",
            "Epoch 5/5\n",
            "598500/598500 [==============================] - 2s 3us/step - loss: 0.0113 - acc: 0.8574\n",
            "Epoch 1/5\n",
            " 58900/598500 [=>............................] - ETA: 1s - loss: 0.0114 - acc: 0.8537"
          ],
          "name": "stdout"
        },
        {
          "output_type": "stream",
          "text": [
            "/usr/local/lib/python3.6/dist-packages/ipykernel_launcher.py:2: UserWarning: The `nb_epoch` argument in `fit` has been renamed `epochs`.\n",
            "  \n"
          ],
          "name": "stderr"
        },
        {
          "output_type": "stream",
          "text": [
            "598500/598500 [==============================] - 2s 3us/step - loss: 0.0113 - acc: 0.8563\n",
            "Epoch 2/5\n",
            "598500/598500 [==============================] - 2s 3us/step - loss: 0.0113 - acc: 0.8557\n",
            "Epoch 3/5\n",
            "598500/598500 [==============================] - 2s 3us/step - loss: 0.0113 - acc: 0.8574\n",
            "Epoch 4/5\n",
            "598500/598500 [==============================] - 2s 3us/step - loss: 0.0112 - acc: 0.8571\n",
            "Epoch 5/5\n",
            "598500/598500 [==============================] - 2s 3us/step - loss: 0.0112 - acc: 0.8565\n",
            "Epoch 1/5\n",
            " 57000/598500 [=>............................] - ETA: 1s - loss: 0.0111 - acc: 0.8604"
          ],
          "name": "stdout"
        },
        {
          "output_type": "stream",
          "text": [
            "/usr/local/lib/python3.6/dist-packages/ipykernel_launcher.py:2: UserWarning: The `nb_epoch` argument in `fit` has been renamed `epochs`.\n",
            "  \n"
          ],
          "name": "stderr"
        },
        {
          "output_type": "stream",
          "text": [
            "598500/598500 [==============================] - 2s 3us/step - loss: 0.0113 - acc: 0.8556\n",
            "Epoch 2/5\n",
            "598500/598500 [==============================] - 2s 3us/step - loss: 0.0112 - acc: 0.8567\n",
            "Epoch 3/5\n",
            "598500/598500 [==============================] - 2s 3us/step - loss: 0.0113 - acc: 0.8571\n",
            "Epoch 4/5\n",
            "598500/598500 [==============================] - 2s 3us/step - loss: 0.0113 - acc: 0.8557\n",
            "Epoch 5/5\n",
            "598500/598500 [==============================] - 2s 3us/step - loss: 0.0112 - acc: 0.8578\n",
            "Epoch 1/5\n",
            " 60800/598500 [==>...........................] - ETA: 1s - loss: 0.0111 - acc: 0.8601"
          ],
          "name": "stdout"
        },
        {
          "output_type": "stream",
          "text": [
            "/usr/local/lib/python3.6/dist-packages/ipykernel_launcher.py:2: UserWarning: The `nb_epoch` argument in `fit` has been renamed `epochs`.\n",
            "  \n"
          ],
          "name": "stderr"
        },
        {
          "output_type": "stream",
          "text": [
            "598500/598500 [==============================] - 2s 3us/step - loss: 0.0112 - acc: 0.8575\n",
            "Epoch 2/5\n",
            "598500/598500 [==============================] - 2s 3us/step - loss: 0.0113 - acc: 0.8557\n",
            "Epoch 3/5\n",
            "598500/598500 [==============================] - 2s 3us/step - loss: 0.0112 - acc: 0.8568\n",
            "Epoch 4/5\n",
            "598500/598500 [==============================] - 2s 3us/step - loss: 0.0113 - acc: 0.8569\n",
            "Epoch 5/5\n",
            "598500/598500 [==============================] - 2s 3us/step - loss: 0.0113 - acc: 0.8581\n",
            "Epoch 1/5\n",
            " 64600/598500 [==>...........................] - ETA: 1s - loss: 0.0112 - acc: 0.8595"
          ],
          "name": "stdout"
        },
        {
          "output_type": "stream",
          "text": [
            "/usr/local/lib/python3.6/dist-packages/ipykernel_launcher.py:2: UserWarning: The `nb_epoch` argument in `fit` has been renamed `epochs`.\n",
            "  \n"
          ],
          "name": "stderr"
        },
        {
          "output_type": "stream",
          "text": [
            "598500/598500 [==============================] - 2s 3us/step - loss: 0.0112 - acc: 0.8576\n",
            "Epoch 2/5\n",
            "598500/598500 [==============================] - 2s 3us/step - loss: 0.0112 - acc: 0.8579\n",
            "Epoch 3/5\n",
            "598500/598500 [==============================] - 2s 3us/step - loss: 0.0113 - acc: 0.8566\n",
            "Epoch 4/5\n",
            "598500/598500 [==============================] - 2s 3us/step - loss: 0.0113 - acc: 0.8569\n",
            "Epoch 5/5\n",
            "598500/598500 [==============================] - 2s 3us/step - loss: 0.0113 - acc: 0.8550\n",
            "Epoch 1/5\n",
            " 57000/598500 [=>............................] - ETA: 1s - loss: 0.0114 - acc: 0.8497"
          ],
          "name": "stdout"
        },
        {
          "output_type": "stream",
          "text": [
            "/usr/local/lib/python3.6/dist-packages/ipykernel_launcher.py:2: UserWarning: The `nb_epoch` argument in `fit` has been renamed `epochs`.\n",
            "  \n"
          ],
          "name": "stderr"
        },
        {
          "output_type": "stream",
          "text": [
            "598500/598500 [==============================] - 2s 3us/step - loss: 0.0111 - acc: 0.8573\n",
            "Epoch 2/5\n",
            "598500/598500 [==============================] - 2s 3us/step - loss: 0.0112 - acc: 0.8575\n",
            "Epoch 3/5\n",
            "598500/598500 [==============================] - 2s 3us/step - loss: 0.0111 - acc: 0.8570\n",
            "Epoch 4/5\n",
            "598500/598500 [==============================] - 2s 3us/step - loss: 0.0112 - acc: 0.8569\n",
            "Epoch 5/5\n",
            "598500/598500 [==============================] - 2s 3us/step - loss: 0.0112 - acc: 0.8563\n",
            "Epoch 1/5\n",
            " 64600/598500 [==>...........................] - ETA: 1s - loss: 0.0111 - acc: 0.8594"
          ],
          "name": "stdout"
        },
        {
          "output_type": "stream",
          "text": [
            "/usr/local/lib/python3.6/dist-packages/ipykernel_launcher.py:2: UserWarning: The `nb_epoch` argument in `fit` has been renamed `epochs`.\n",
            "  \n"
          ],
          "name": "stderr"
        },
        {
          "output_type": "stream",
          "text": [
            "598500/598500 [==============================] - 2s 3us/step - loss: 0.0112 - acc: 0.8565\n",
            "Epoch 2/5\n",
            "598500/598500 [==============================] - 2s 3us/step - loss: 0.0112 - acc: 0.8580\n",
            "Epoch 3/5\n",
            "598500/598500 [==============================] - 2s 3us/step - loss: 0.0112 - acc: 0.8575\n",
            "Epoch 4/5\n",
            "598500/598500 [==============================] - 2s 3us/step - loss: 0.0112 - acc: 0.8581\n",
            "Epoch 5/5\n",
            "598500/598500 [==============================] - 2s 3us/step - loss: 0.0111 - acc: 0.8579\n",
            "Epoch 1/5\n",
            " 57000/598500 [=>............................] - ETA: 1s - loss: 0.0111 - acc: 0.8616"
          ],
          "name": "stdout"
        },
        {
          "output_type": "stream",
          "text": [
            "/usr/local/lib/python3.6/dist-packages/ipykernel_launcher.py:2: UserWarning: The `nb_epoch` argument in `fit` has been renamed `epochs`.\n",
            "  \n"
          ],
          "name": "stderr"
        },
        {
          "output_type": "stream",
          "text": [
            "598500/598500 [==============================] - 2s 3us/step - loss: 0.0112 - acc: 0.8580\n",
            "Epoch 2/5\n",
            "598500/598500 [==============================] - 2s 3us/step - loss: 0.0112 - acc: 0.8579\n",
            "Epoch 3/5\n",
            "598500/598500 [==============================] - 2s 3us/step - loss: 0.0112 - acc: 0.8572\n",
            "Epoch 4/5\n",
            "598500/598500 [==============================] - 2s 3us/step - loss: 0.0113 - acc: 0.8565\n",
            "Epoch 5/5\n",
            "598500/598500 [==============================] - 2s 3us/step - loss: 0.0112 - acc: 0.8567\n",
            "Epoch 1/5\n",
            " 60800/598500 [==>...........................] - ETA: 1s - loss: 0.0113 - acc: 0.8575"
          ],
          "name": "stdout"
        },
        {
          "output_type": "stream",
          "text": [
            "/usr/local/lib/python3.6/dist-packages/ipykernel_launcher.py:2: UserWarning: The `nb_epoch` argument in `fit` has been renamed `epochs`.\n",
            "  \n"
          ],
          "name": "stderr"
        },
        {
          "output_type": "stream",
          "text": [
            "598500/598500 [==============================] - 2s 3us/step - loss: 0.0112 - acc: 0.8585\n",
            "Epoch 2/5\n",
            "598500/598500 [==============================] - 2s 3us/step - loss: 0.0112 - acc: 0.8590\n",
            "Epoch 3/5\n",
            "598500/598500 [==============================] - 2s 3us/step - loss: 0.0112 - acc: 0.8588\n",
            "Epoch 4/5\n",
            "598500/598500 [==============================] - 2s 3us/step - loss: 0.0111 - acc: 0.8584\n",
            "Epoch 5/5\n",
            "598500/598500 [==============================] - 2s 3us/step - loss: 0.0111 - acc: 0.8582\n",
            "Epoch 1/5\n",
            " 62700/598500 [==>...........................] - ETA: 1s - loss: 0.0111 - acc: 0.8554"
          ],
          "name": "stdout"
        },
        {
          "output_type": "stream",
          "text": [
            "/usr/local/lib/python3.6/dist-packages/ipykernel_launcher.py:2: UserWarning: The `nb_epoch` argument in `fit` has been renamed `epochs`.\n",
            "  \n"
          ],
          "name": "stderr"
        },
        {
          "output_type": "stream",
          "text": [
            "598500/598500 [==============================] - 2s 3us/step - loss: 0.0112 - acc: 0.8583\n",
            "Epoch 2/5\n",
            "598500/598500 [==============================] - 2s 3us/step - loss: 0.0112 - acc: 0.8568\n",
            "Epoch 3/5\n",
            "598500/598500 [==============================] - 2s 3us/step - loss: 0.0112 - acc: 0.8558\n",
            "Epoch 4/5\n",
            "598500/598500 [==============================] - 2s 3us/step - loss: 0.0112 - acc: 0.8573\n",
            "Epoch 5/5\n",
            "598500/598500 [==============================] - 2s 3us/step - loss: 0.0112 - acc: 0.8577\n",
            "Epoch 1/5\n",
            " 64600/598500 [==>...........................] - ETA: 1s - loss: 0.0115 - acc: 0.8553"
          ],
          "name": "stdout"
        },
        {
          "output_type": "stream",
          "text": [
            "/usr/local/lib/python3.6/dist-packages/ipykernel_launcher.py:2: UserWarning: The `nb_epoch` argument in `fit` has been renamed `epochs`.\n",
            "  \n"
          ],
          "name": "stderr"
        },
        {
          "output_type": "stream",
          "text": [
            "598500/598500 [==============================] - 2s 3us/step - loss: 0.0113 - acc: 0.8557\n",
            "Epoch 2/5\n",
            "598500/598500 [==============================] - 2s 3us/step - loss: 0.0112 - acc: 0.8583\n",
            "Epoch 3/5\n",
            "598500/598500 [==============================] - 2s 3us/step - loss: 0.0111 - acc: 0.8590\n",
            "Epoch 4/5\n",
            "598500/598500 [==============================] - 2s 3us/step - loss: 0.0113 - acc: 0.8568\n",
            "Epoch 5/5\n",
            "598500/598500 [==============================] - 2s 3us/step - loss: 0.0112 - acc: 0.8590\n",
            "Epoch 1/5\n",
            " 53200/598500 [=>............................] - ETA: 1s - loss: 0.0111 - acc: 0.8622"
          ],
          "name": "stdout"
        },
        {
          "output_type": "stream",
          "text": [
            "/usr/local/lib/python3.6/dist-packages/ipykernel_launcher.py:2: UserWarning: The `nb_epoch` argument in `fit` has been renamed `epochs`.\n",
            "  \n"
          ],
          "name": "stderr"
        },
        {
          "output_type": "stream",
          "text": [
            "598500/598500 [==============================] - 2s 3us/step - loss: 0.0112 - acc: 0.8574\n",
            "Epoch 2/5\n",
            "598500/598500 [==============================] - 2s 3us/step - loss: 0.0111 - acc: 0.8586\n",
            "Epoch 3/5\n",
            "598500/598500 [==============================] - 2s 3us/step - loss: 0.0112 - acc: 0.8585\n",
            "Epoch 4/5\n",
            "598500/598500 [==============================] - 2s 3us/step - loss: 0.0112 - acc: 0.8578\n",
            "Epoch 5/5\n",
            "598500/598500 [==============================] - 2s 3us/step - loss: 0.0111 - acc: 0.8597\n",
            "Epoch 1/5\n",
            " 62700/598500 [==>...........................] - ETA: 1s - loss: 0.0111 - acc: 0.8611"
          ],
          "name": "stdout"
        },
        {
          "output_type": "stream",
          "text": [
            "/usr/local/lib/python3.6/dist-packages/ipykernel_launcher.py:2: UserWarning: The `nb_epoch` argument in `fit` has been renamed `epochs`.\n",
            "  \n"
          ],
          "name": "stderr"
        },
        {
          "output_type": "stream",
          "text": [
            "598500/598500 [==============================] - 2s 3us/step - loss: 0.0111 - acc: 0.8586\n",
            "Epoch 2/5\n",
            "598500/598500 [==============================] - 2s 3us/step - loss: 0.0111 - acc: 0.8575\n",
            "Epoch 3/5\n",
            "598500/598500 [==============================] - 2s 3us/step - loss: 0.0111 - acc: 0.8577\n",
            "Epoch 4/5\n",
            "598500/598500 [==============================] - 2s 3us/step - loss: 0.0112 - acc: 0.8589\n",
            "Epoch 5/5\n",
            "598500/598500 [==============================] - 2s 3us/step - loss: 0.0111 - acc: 0.8583\n",
            "Epoch 1/5\n",
            " 57000/598500 [=>............................] - ETA: 1s - loss: 0.0111 - acc: 0.8595"
          ],
          "name": "stdout"
        },
        {
          "output_type": "stream",
          "text": [
            "/usr/local/lib/python3.6/dist-packages/ipykernel_launcher.py:2: UserWarning: The `nb_epoch` argument in `fit` has been renamed `epochs`.\n",
            "  \n"
          ],
          "name": "stderr"
        },
        {
          "output_type": "stream",
          "text": [
            "598500/598500 [==============================] - 2s 3us/step - loss: 0.0112 - acc: 0.8583\n",
            "Epoch 2/5\n",
            "598500/598500 [==============================] - 2s 3us/step - loss: 0.0112 - acc: 0.8571\n",
            "Epoch 3/5\n",
            "598500/598500 [==============================] - 2s 3us/step - loss: 0.0112 - acc: 0.8574\n",
            "Epoch 4/5\n",
            "598500/598500 [==============================] - 2s 3us/step - loss: 0.0112 - acc: 0.8582\n",
            "Epoch 5/5\n",
            "598500/598500 [==============================] - 2s 3us/step - loss: 0.0111 - acc: 0.8589\n",
            "Epoch 1/5\n",
            " 62700/598500 [==>...........................] - ETA: 1s - loss: 0.0111 - acc: 0.8572"
          ],
          "name": "stdout"
        },
        {
          "output_type": "stream",
          "text": [
            "/usr/local/lib/python3.6/dist-packages/ipykernel_launcher.py:2: UserWarning: The `nb_epoch` argument in `fit` has been renamed `epochs`.\n",
            "  \n"
          ],
          "name": "stderr"
        },
        {
          "output_type": "stream",
          "text": [
            "598500/598500 [==============================] - 2s 3us/step - loss: 0.0112 - acc: 0.8580\n",
            "Epoch 2/5\n",
            "598500/598500 [==============================] - 2s 3us/step - loss: 0.0112 - acc: 0.8569\n",
            "Epoch 3/5\n",
            "598500/598500 [==============================] - 2s 3us/step - loss: 0.0112 - acc: 0.8580\n",
            "Epoch 4/5\n",
            "598500/598500 [==============================] - 2s 3us/step - loss: 0.0110 - acc: 0.8572\n",
            "Epoch 5/5\n",
            "598500/598500 [==============================] - 2s 3us/step - loss: 0.0111 - acc: 0.8585\n"
          ],
          "name": "stdout"
        }
      ]
    },
    {
      "cell_type": "code",
      "metadata": {
        "id": "fhu-_6X4EFF-",
        "colab_type": "code",
        "colab": {
          "base_uri": "https://localhost:8080/",
          "height": 279
        },
        "outputId": "40777568-31a8-471f-94b4-bce3e2f49a86"
      },
      "source": [
        "plt.plot(count*5, error_train_co, label='Train error')\n",
        "plt.plot(count*5, error_test_co, label='Test error')\n",
        "plt.xlabel('Epochs')\n",
        "plt.ylabel('Error')\n",
        "plt.legend()\n",
        "plt.show()"
      ],
      "execution_count": null,
      "outputs": [
        {
          "output_type": "display_data",
          "data": {
            "image/png": "[encoded data removed]",
            "text/plain": [
              "<Figure size 432x288 with 1 Axes>"
            ]
          },
          "metadata": {
            "tags": []
          }
        }
      ]
    },
    {
      "cell_type": "code",
      "metadata": {
        "id": "ZmbyCy_DEFGB",
        "colab_type": "code",
        "colab": {
          "base_uri": "https://localhost:8080/",
          "height": 279
        },
        "outputId": "65b7b39d-41b8-42c3-b6e7-e2ac71a5d86a"
      },
      "source": [
        "plt.plot(count*5, error_train_et, label='Train error')\n",
        "plt.plot(count*5, error_test_et, label='Test error')\n",
        "plt.xlabel('Epochs')\n",
        "plt.ylabel('Error')\n",
        "plt.legend()\n",
        "plt.show()"
      ],
      "execution_count": null,
      "outputs": [
        {
          "output_type": "display_data",
          "data": {
            "image/png": "[encoded data removed]",
            "text/plain": [
              "<Figure size 432x288 with 1 Axes>"
            ]
          },
          "metadata": {
            "tags": []
          }
        }
      ]
    },
    {
      "cell_type": "code",
      "metadata": {
        "id": "TCPIWaNmEFGG",
        "colab_type": "code",
        "colab": {}
      },
      "source": [
        "epochs=430"
      ],
      "execution_count": null,
      "outputs": []
    },
    {
      "cell_type": "code",
      "metadata": {
        "id": "cCWIHqc9EFGJ",
        "colab_type": "code",
        "colab": {
          "base_uri": "https://localhost:8080/",
          "height": 1000
        },
        "outputId": "30c46d6b-3c95-44ae-eed6-945d10f33d62"
      },
      "source": [
        "classifier.fit(X_train, y_train, batch_size = 1900, nb_epoch = epochs)\n",
        "y_pred = classifier.predict(X_test)\n",
        "for i in range(0,np.size(y_pred,0)):\n",
        "    for j in range(0,np.size(y_pred,1)):\n",
        "        if y_pred[i,j]<-y1_mean[j]/y1_max[j]:\n",
        "            y_pred[i,j]=-y1_mean[j]/y1_max[j]\n",
        "error_test_co=math.sqrt(mean_squared_error(y_test[:,0], y_pred[:,0]))\n",
        "error_test_et=math.sqrt(mean_squared_error(y_test[:,1], y_pred[:,1]))\n",
        "RMSE=np.array([error_test_co, error_test_et])*y1_max"
      ],
      "execution_count": null,
      "outputs": [
        {
          "output_type": "stream",
          "text": [
            "/usr/local/lib/python3.6/dist-packages/ipykernel_launcher.py:1: UserWarning: The `nb_epoch` argument in `fit` has been renamed `epochs`.\n",
            "  \"\"\"Entry point for launching an IPython kernel.\n"
          ],
          "name": "stderr"
        },
        {
          "output_type": "stream",
          "text": [
            "Epoch 1/430\n",
            "598500/598500 [==============================] - 2s 4us/step - loss: 0.0470 - acc: 0.6792\n",
            "Epoch 2/430\n",
            "598500/598500 [==============================] - 2s 3us/step - loss: 0.0319 - acc: 0.7165\n",
            "Epoch 3/430\n",
            "598500/598500 [==============================] - 2s 3us/step - loss: 0.0297 - acc: 0.7267\n",
            "Epoch 4/430\n",
            "598500/598500 [==============================] - 2s 3us/step - loss: 0.0286 - acc: 0.7304\n",
            "Epoch 5/430\n",
            "598500/598500 [==============================] - 2s 3us/step - loss: 0.0277 - acc: 0.7316\n",
            "Epoch 6/430\n",
            "598500/598500 [==============================] - 2s 3us/step - loss: 0.0270 - acc: 0.7354\n",
            "Epoch 7/430\n",
            "598500/598500 [==============================] - 2s 3us/step - loss: 0.0263 - acc: 0.7413\n",
            "Epoch 8/430\n",
            "598500/598500 [==============================] - 2s 3us/step - loss: 0.0257 - acc: 0.7435\n",
            "Epoch 9/430\n",
            "598500/598500 [==============================] - 2s 3us/step - loss: 0.0250 - acc: 0.7439\n",
            "Epoch 10/430\n",
            "598500/598500 [==============================] - 2s 3us/step - loss: 0.0244 - acc: 0.7440\n",
            "Epoch 11/430\n",
            "598500/598500 [==============================] - 2s 3us/step - loss: 0.0238 - acc: 0.7452\n",
            "Epoch 12/430\n",
            "598500/598500 [==============================] - 2s 3us/step - loss: 0.0233 - acc: 0.7471\n",
            "Epoch 13/430\n",
            "598500/598500 [==============================] - 2s 3us/step - loss: 0.0227 - acc: 0.7490\n",
            "Epoch 14/430\n",
            "598500/598500 [==============================] - 2s 3us/step - loss: 0.0223 - acc: 0.7506\n",
            "Epoch 15/430\n",
            "598500/598500 [==============================] - 2s 3us/step - loss: 0.0218 - acc: 0.7534\n",
            "Epoch 16/430\n",
            "598500/598500 [==============================] - 2s 3us/step - loss: 0.0214 - acc: 0.7560\n",
            "Epoch 17/430\n",
            "598500/598500 [==============================] - 2s 3us/step - loss: 0.0210 - acc: 0.7591\n",
            "Epoch 18/430\n",
            "598500/598500 [==============================] - 2s 3us/step - loss: 0.0206 - acc: 0.7613\n",
            "Epoch 19/430\n",
            "598500/598500 [==============================] - 2s 3us/step - loss: 0.0203 - acc: 0.7641\n",
            "Epoch 20/430\n",
            "598500/598500 [==============================] - 2s 3us/step - loss: 0.0197 - acc: 0.7644\n",
            "Epoch 21/430\n",
            "598500/598500 [==============================] - 2s 3us/step - loss: 0.0193 - acc: 0.7672\n",
            "Epoch 22/430\n",
            "598500/598500 [==============================] - 2s 3us/step - loss: 0.0190 - acc: 0.7691\n",
            "Epoch 23/430\n",
            "598500/598500 [==============================] - 2s 3us/step - loss: 0.0187 - acc: 0.7715\n",
            "Epoch 24/430\n",
            "598500/598500 [==============================] - 2s 3us/step - loss: 0.0184 - acc: 0.7738\n",
            "Epoch 25/430\n",
            "598500/598500 [==============================] - 2s 3us/step - loss: 0.0182 - acc: 0.7761\n",
            "Epoch 26/430\n",
            "598500/598500 [==============================] - 2s 3us/step - loss: 0.0179 - acc: 0.7780\n",
            "Epoch 27/430\n",
            "598500/598500 [==============================] - 2s 3us/step - loss: 0.0177 - acc: 0.7808\n",
            "Epoch 28/430\n",
            "598500/598500 [==============================] - 2s 3us/step - loss: 0.0174 - acc: 0.7832\n",
            "Epoch 29/430\n",
            "598500/598500 [==============================] - 2s 3us/step - loss: 0.0172 - acc: 0.7862\n",
            "Epoch 30/430\n",
            "598500/598500 [==============================] - 2s 3us/step - loss: 0.0170 - acc: 0.7866\n",
            "Epoch 31/430\n",
            "598500/598500 [==============================] - 2s 3us/step - loss: 0.0168 - acc: 0.7904\n",
            "Epoch 32/430\n",
            "598500/598500 [==============================] - 2s 3us/step - loss: 0.0167 - acc: 0.7915\n",
            "Epoch 33/430\n",
            "598500/598500 [==============================] - 2s 3us/step - loss: 0.0165 - acc: 0.7954\n",
            "Epoch 34/430\n",
            "598500/598500 [==============================] - 2s 3us/step - loss: 0.0163 - acc: 0.7990\n",
            "Epoch 35/430\n",
            "598500/598500 [==============================] - 2s 3us/step - loss: 0.0161 - acc: 0.8007\n",
            "Epoch 36/430\n",
            "598500/598500 [==============================] - 2s 3us/step - loss: 0.0160 - acc: 0.8034\n",
            "Epoch 37/430\n",
            "598500/598500 [==============================] - 2s 3us/step - loss: 0.0159 - acc: 0.8048\n",
            "Epoch 38/430\n",
            "598500/598500 [==============================] - 2s 3us/step - loss: 0.0157 - acc: 0.8068\n",
            "Epoch 39/430\n",
            "598500/598500 [==============================] - 2s 3us/step - loss: 0.0155 - acc: 0.8093\n",
            "Epoch 40/430\n",
            "598500/598500 [==============================] - 2s 3us/step - loss: 0.0155 - acc: 0.8107\n",
            "Epoch 41/430\n",
            "598500/598500 [==============================] - 2s 3us/step - loss: 0.0153 - acc: 0.8136\n",
            "Epoch 42/430\n",
            "598500/598500 [==============================] - 2s 3us/step - loss: 0.0152 - acc: 0.8148\n",
            "Epoch 43/430\n",
            "598500/598500 [==============================] - 2s 3us/step - loss: 0.0151 - acc: 0.8162\n",
            "Epoch 44/430\n",
            "598500/598500 [==============================] - 2s 3us/step - loss: 0.0150 - acc: 0.8175\n",
            "Epoch 45/430\n",
            "598500/598500 [==============================] - 2s 3us/step - loss: 0.0149 - acc: 0.8192\n",
            "Epoch 46/430\n",
            "598500/598500 [==============================] - 2s 3us/step - loss: 0.0148 - acc: 0.8204\n",
            "Epoch 47/430\n",
            "598500/598500 [==============================] - 2s 3us/step - loss: 0.0147 - acc: 0.8206\n",
            "Epoch 48/430\n",
            "598500/598500 [==============================] - 2s 3us/step - loss: 0.0147 - acc: 0.8224\n",
            "Epoch 49/430\n",
            "598500/598500 [==============================] - 2s 3us/step - loss: 0.0145 - acc: 0.8243\n",
            "Epoch 50/430\n",
            "598500/598500 [==============================] - 2s 3us/step - loss: 0.0145 - acc: 0.8240\n",
            "Epoch 51/430\n",
            "598500/598500 [==============================] - 2s 3us/step - loss: 0.0144 - acc: 0.8241\n",
            "Epoch 52/430\n",
            "598500/598500 [==============================] - 2s 3us/step - loss: 0.0144 - acc: 0.8251\n",
            "Epoch 53/430\n",
            "598500/598500 [==============================] - 2s 3us/step - loss: 0.0143 - acc: 0.8259\n",
            "Epoch 54/430\n",
            "598500/598500 [==============================] - 2s 3us/step - loss: 0.0143 - acc: 0.8261\n",
            "Epoch 55/430\n",
            "598500/598500 [==============================] - 2s 3us/step - loss: 0.0141 - acc: 0.8271\n",
            "Epoch 56/430\n",
            "598500/598500 [==============================] - 2s 3us/step - loss: 0.0141 - acc: 0.8270\n",
            "Epoch 57/430\n",
            "598500/598500 [==============================] - 2s 3us/step - loss: 0.0141 - acc: 0.8290\n",
            "Epoch 58/430\n",
            "598500/598500 [==============================] - 2s 3us/step - loss: 0.0140 - acc: 0.8290\n",
            "Epoch 59/430\n",
            "598500/598500 [==============================] - 2s 3us/step - loss: 0.0140 - acc: 0.8295\n",
            "Epoch 60/430\n",
            "598500/598500 [==============================] - 2s 3us/step - loss: 0.0139 - acc: 0.8311\n",
            "Epoch 61/430\n",
            "598500/598500 [==============================] - 2s 3us/step - loss: 0.0138 - acc: 0.8314\n",
            "Epoch 62/430\n",
            "598500/598500 [==============================] - 2s 3us/step - loss: 0.0138 - acc: 0.8303\n",
            "Epoch 63/430\n",
            "598500/598500 [==============================] - 2s 3us/step - loss: 0.0138 - acc: 0.8318\n",
            "Epoch 64/430\n",
            "598500/598500 [==============================] - 2s 3us/step - loss: 0.0137 - acc: 0.8316\n",
            "Epoch 65/430\n",
            "598500/598500 [==============================] - 2s 3us/step - loss: 0.0137 - acc: 0.8313\n",
            "Epoch 66/430\n",
            "598500/598500 [==============================] - 2s 3us/step - loss: 0.0137 - acc: 0.8322\n",
            "Epoch 67/430\n",
            "598500/598500 [==============================] - 2s 3us/step - loss: 0.0136 - acc: 0.8331\n",
            "Epoch 68/430\n",
            "598500/598500 [==============================] - 2s 3us/step - loss: 0.0137 - acc: 0.8329\n",
            "Epoch 69/430\n",
            "598500/598500 [==============================] - 2s 3us/step - loss: 0.0135 - acc: 0.8335\n",
            "Epoch 70/430\n",
            "598500/598500 [==============================] - 2s 3us/step - loss: 0.0136 - acc: 0.8339\n",
            "Epoch 71/430\n",
            "598500/598500 [==============================] - 2s 3us/step - loss: 0.0135 - acc: 0.8333\n",
            "Epoch 72/430\n",
            "598500/598500 [==============================] - 2s 3us/step - loss: 0.0135 - acc: 0.8341\n",
            "Epoch 73/430\n",
            "598500/598500 [==============================] - 2s 3us/step - loss: 0.0135 - acc: 0.8349\n",
            "Epoch 74/430\n",
            "598500/598500 [==============================] - 2s 3us/step - loss: 0.0135 - acc: 0.8343\n",
            "Epoch 75/430\n",
            "598500/598500 [==============================] - 2s 3us/step - loss: 0.0134 - acc: 0.8359\n",
            "Epoch 76/430\n",
            "598500/598500 [==============================] - 2s 3us/step - loss: 0.0133 - acc: 0.8358\n",
            "Epoch 77/430\n",
            "598500/598500 [==============================] - 2s 3us/step - loss: 0.0134 - acc: 0.8371\n",
            "Epoch 78/430\n",
            "598500/598500 [==============================] - 2s 3us/step - loss: 0.0134 - acc: 0.8371\n",
            "Epoch 79/430\n",
            "598500/598500 [==============================] - 2s 3us/step - loss: 0.0133 - acc: 0.8382\n",
            "Epoch 80/430\n",
            "598500/598500 [==============================] - 2s 3us/step - loss: 0.0133 - acc: 0.8384\n",
            "Epoch 81/430\n",
            "598500/598500 [==============================] - 2s 3us/step - loss: 0.0133 - acc: 0.8382\n",
            "Epoch 82/430\n",
            "598500/598500 [==============================] - 2s 3us/step - loss: 0.0133 - acc: 0.8369\n",
            "Epoch 83/430\n",
            "598500/598500 [==============================] - 2s 3us/step - loss: 0.0133 - acc: 0.8376\n",
            "Epoch 84/430\n",
            "598500/598500 [==============================] - 2s 3us/step - loss: 0.0132 - acc: 0.8383\n",
            "Epoch 85/430\n",
            "598500/598500 [==============================] - 2s 3us/step - loss: 0.0131 - acc: 0.8382\n",
            "Epoch 86/430\n",
            "598500/598500 [==============================] - 2s 3us/step - loss: 0.0131 - acc: 0.8390\n",
            "Epoch 87/430\n",
            "598500/598500 [==============================] - 2s 3us/step - loss: 0.0131 - acc: 0.8388\n",
            "Epoch 88/430\n",
            "598500/598500 [==============================] - 2s 3us/step - loss: 0.0132 - acc: 0.8388\n",
            "Epoch 89/430\n",
            "598500/598500 [==============================] - 2s 3us/step - loss: 0.0132 - acc: 0.8390\n",
            "Epoch 90/430\n",
            "598500/598500 [==============================] - 2s 3us/step - loss: 0.0131 - acc: 0.8396\n",
            "Epoch 91/430\n",
            "598500/598500 [==============================] - 2s 3us/step - loss: 0.0131 - acc: 0.8404\n",
            "Epoch 92/430\n",
            "598500/598500 [==============================] - 2s 3us/step - loss: 0.0131 - acc: 0.8390\n",
            "Epoch 93/430\n",
            "598500/598500 [==============================] - 2s 3us/step - loss: 0.0130 - acc: 0.8399\n",
            "Epoch 94/430\n",
            "598500/598500 [==============================] - 2s 3us/step - loss: 0.0130 - acc: 0.8403\n",
            "Epoch 95/430\n",
            "598500/598500 [==============================] - 2s 3us/step - loss: 0.0130 - acc: 0.8413\n",
            "Epoch 96/430\n",
            "598500/598500 [==============================] - 2s 3us/step - loss: 0.0130 - acc: 0.8406\n",
            "Epoch 97/430\n",
            "598500/598500 [==============================] - 2s 3us/step - loss: 0.0131 - acc: 0.8418\n",
            "Epoch 98/430\n",
            "598500/598500 [==============================] - 2s 3us/step - loss: 0.0129 - acc: 0.8413\n",
            "Epoch 99/430\n",
            "598500/598500 [==============================] - 2s 3us/step - loss: 0.0128 - acc: 0.8419\n",
            "Epoch 100/430\n",
            "598500/598500 [==============================] - 2s 3us/step - loss: 0.0129 - acc: 0.8413\n",
            "Epoch 101/430\n",
            "598500/598500 [==============================] - 2s 3us/step - loss: 0.0129 - acc: 0.8422\n",
            "Epoch 102/430\n",
            "598500/598500 [==============================] - 2s 3us/step - loss: 0.0128 - acc: 0.8417\n",
            "Epoch 103/430\n",
            "598500/598500 [==============================] - 2s 3us/step - loss: 0.0129 - acc: 0.8426\n",
            "Epoch 104/430\n",
            "598500/598500 [==============================] - 2s 3us/step - loss: 0.0129 - acc: 0.8429\n",
            "Epoch 105/430\n",
            "598500/598500 [==============================] - 2s 3us/step - loss: 0.0128 - acc: 0.8429\n",
            "Epoch 106/430\n",
            "598500/598500 [==============================] - 2s 3us/step - loss: 0.0129 - acc: 0.8427\n",
            "Epoch 107/430\n",
            "598500/598500 [==============================] - 2s 3us/step - loss: 0.0128 - acc: 0.8446\n",
            "Epoch 108/430\n",
            "598500/598500 [==============================] - 2s 3us/step - loss: 0.0128 - acc: 0.8436\n",
            "Epoch 109/430\n",
            "598500/598500 [==============================] - 2s 3us/step - loss: 0.0128 - acc: 0.8444\n",
            "Epoch 110/430\n",
            "598500/598500 [==============================] - 2s 3us/step - loss: 0.0127 - acc: 0.8443\n",
            "Epoch 111/430\n",
            "598500/598500 [==============================] - 2s 3us/step - loss: 0.0128 - acc: 0.8429\n",
            "Epoch 112/430\n",
            "598500/598500 [==============================] - 2s 3us/step - loss: 0.0128 - acc: 0.8442\n",
            "Epoch 113/430\n",
            "598500/598500 [==============================] - 2s 3us/step - loss: 0.0127 - acc: 0.8441\n",
            "Epoch 114/430\n",
            "598500/598500 [==============================] - 2s 3us/step - loss: 0.0127 - acc: 0.8453\n",
            "Epoch 115/430\n",
            "598500/598500 [==============================] - 2s 3us/step - loss: 0.0127 - acc: 0.8452\n",
            "Epoch 116/430\n",
            "598500/598500 [==============================] - 2s 3us/step - loss: 0.0126 - acc: 0.8460\n",
            "Epoch 117/430\n",
            "598500/598500 [==============================] - 2s 3us/step - loss: 0.0127 - acc: 0.8452\n",
            "Epoch 118/430\n",
            "598500/598500 [==============================] - 2s 3us/step - loss: 0.0127 - acc: 0.8449\n",
            "Epoch 119/430\n",
            "598500/598500 [==============================] - 2s 3us/step - loss: 0.0126 - acc: 0.8451\n",
            "Epoch 120/430\n",
            "598500/598500 [==============================] - 2s 3us/step - loss: 0.0127 - acc: 0.8455\n",
            "Epoch 121/430\n",
            "598500/598500 [==============================] - 2s 3us/step - loss: 0.0126 - acc: 0.8451\n",
            "Epoch 122/430\n",
            "598500/598500 [==============================] - 2s 3us/step - loss: 0.0126 - acc: 0.8460\n",
            "Epoch 123/430\n",
            "598500/598500 [==============================] - 2s 3us/step - loss: 0.0126 - acc: 0.8458\n",
            "Epoch 124/430\n",
            "598500/598500 [==============================] - 2s 3us/step - loss: 0.0126 - acc: 0.8472\n",
            "Epoch 125/430\n",
            "598500/598500 [==============================] - 2s 3us/step - loss: 0.0126 - acc: 0.8456\n",
            "Epoch 126/430\n",
            "598500/598500 [==============================] - 2s 3us/step - loss: 0.0125 - acc: 0.8464\n",
            "Epoch 127/430\n",
            "598500/598500 [==============================] - 2s 3us/step - loss: 0.0126 - acc: 0.8464\n",
            "Epoch 128/430\n",
            "598500/598500 [==============================] - 2s 3us/step - loss: 0.0125 - acc: 0.8469\n",
            "Epoch 129/430\n",
            "598500/598500 [==============================] - 2s 3us/step - loss: 0.0126 - acc: 0.8465\n",
            "Epoch 130/430\n",
            "598500/598500 [==============================] - 2s 3us/step - loss: 0.0125 - acc: 0.8464\n",
            "Epoch 131/430\n",
            "598500/598500 [==============================] - 2s 3us/step - loss: 0.0126 - acc: 0.8455\n",
            "Epoch 132/430\n",
            "598500/598500 [==============================] - 2s 3us/step - loss: 0.0126 - acc: 0.8467\n",
            "Epoch 133/430\n",
            "598500/598500 [==============================] - 2s 3us/step - loss: 0.0126 - acc: 0.8465\n",
            "Epoch 134/430\n",
            "598500/598500 [==============================] - 2s 3us/step - loss: 0.0126 - acc: 0.8464\n",
            "Epoch 135/430\n",
            "598500/598500 [==============================] - 2s 3us/step - loss: 0.0125 - acc: 0.8469\n",
            "Epoch 136/430\n",
            "598500/598500 [==============================] - 2s 3us/step - loss: 0.0125 - acc: 0.8471\n",
            "Epoch 137/430\n",
            "598500/598500 [==============================] - 2s 3us/step - loss: 0.0124 - acc: 0.8460\n",
            "Epoch 138/430\n",
            "598500/598500 [==============================] - 2s 3us/step - loss: 0.0124 - acc: 0.8468\n",
            "Epoch 139/430\n",
            "598500/598500 [==============================] - 2s 3us/step - loss: 0.0125 - acc: 0.8474\n",
            "Epoch 140/430\n",
            "598500/598500 [==============================] - 2s 3us/step - loss: 0.0124 - acc: 0.8469\n",
            "Epoch 141/430\n",
            "598500/598500 [==============================] - 2s 3us/step - loss: 0.0124 - acc: 0.8468\n",
            "Epoch 142/430\n",
            "598500/598500 [==============================] - 2s 3us/step - loss: 0.0124 - acc: 0.8472\n",
            "Epoch 143/430\n",
            "598500/598500 [==============================] - 2s 3us/step - loss: 0.0124 - acc: 0.8467\n",
            "Epoch 144/430\n",
            "598500/598500 [==============================] - 2s 3us/step - loss: 0.0124 - acc: 0.8472\n",
            "Epoch 145/430\n",
            "598500/598500 [==============================] - 2s 3us/step - loss: 0.0124 - acc: 0.8467\n",
            "Epoch 146/430\n",
            "598500/598500 [==============================] - 2s 3us/step - loss: 0.0124 - acc: 0.8481\n",
            "Epoch 147/430\n",
            "598500/598500 [==============================] - 2s 3us/step - loss: 0.0123 - acc: 0.8469\n",
            "Epoch 148/430\n",
            "598500/598500 [==============================] - 2s 3us/step - loss: 0.0124 - acc: 0.8484\n",
            "Epoch 149/430\n",
            "598500/598500 [==============================] - 2s 3us/step - loss: 0.0123 - acc: 0.8479\n",
            "Epoch 150/430\n",
            "598500/598500 [==============================] - 2s 3us/step - loss: 0.0124 - acc: 0.8473\n",
            "Epoch 151/430\n",
            "598500/598500 [==============================] - 2s 3us/step - loss: 0.0123 - acc: 0.8469\n",
            "Epoch 152/430\n",
            "598500/598500 [==============================] - 2s 3us/step - loss: 0.0123 - acc: 0.8464\n",
            "Epoch 153/430\n",
            "598500/598500 [==============================] - 2s 3us/step - loss: 0.0124 - acc: 0.8486\n",
            "Epoch 154/430\n",
            "598500/598500 [==============================] - 2s 3us/step - loss: 0.0123 - acc: 0.8479\n",
            "Epoch 155/430\n",
            "598500/598500 [==============================] - 2s 3us/step - loss: 0.0124 - acc: 0.8484\n",
            "Epoch 156/430\n",
            "598500/598500 [==============================] - 2s 3us/step - loss: 0.0123 - acc: 0.8486\n",
            "Epoch 157/430\n",
            "598500/598500 [==============================] - 2s 3us/step - loss: 0.0123 - acc: 0.8480\n",
            "Epoch 158/430\n",
            "598500/598500 [==============================] - 2s 3us/step - loss: 0.0124 - acc: 0.8486\n",
            "Epoch 159/430\n",
            "598500/598500 [==============================] - 2s 3us/step - loss: 0.0123 - acc: 0.8489\n",
            "Epoch 160/430\n",
            "598500/598500 [==============================] - 2s 3us/step - loss: 0.0123 - acc: 0.8484\n",
            "Epoch 161/430\n",
            "598500/598500 [==============================] - 2s 3us/step - loss: 0.0123 - acc: 0.8485\n",
            "Epoch 162/430\n",
            "598500/598500 [==============================] - 2s 3us/step - loss: 0.0122 - acc: 0.8491\n",
            "Epoch 163/430\n",
            "598500/598500 [==============================] - 2s 3us/step - loss: 0.0122 - acc: 0.8490\n",
            "Epoch 164/430\n",
            "598500/598500 [==============================] - 2s 3us/step - loss: 0.0122 - acc: 0.8490\n",
            "Epoch 165/430\n",
            "598500/598500 [==============================] - 2s 3us/step - loss: 0.0122 - acc: 0.8477\n",
            "Epoch 166/430\n",
            "598500/598500 [==============================] - 2s 3us/step - loss: 0.0122 - acc: 0.8489\n",
            "Epoch 167/430\n",
            "598500/598500 [==============================] - 2s 3us/step - loss: 0.0122 - acc: 0.8481\n",
            "Epoch 168/430\n",
            "598500/598500 [==============================] - 2s 3us/step - loss: 0.0123 - acc: 0.8478\n",
            "Epoch 169/430\n",
            "598500/598500 [==============================] - 2s 3us/step - loss: 0.0122 - acc: 0.8492\n",
            "Epoch 170/430\n",
            "598500/598500 [==============================] - 2s 3us/step - loss: 0.0122 - acc: 0.8497\n",
            "Epoch 171/430\n",
            "598500/598500 [==============================] - 2s 3us/step - loss: 0.0122 - acc: 0.8498\n",
            "Epoch 172/430\n",
            "598500/598500 [==============================] - 2s 3us/step - loss: 0.0122 - acc: 0.8488\n",
            "Epoch 173/430\n",
            "598500/598500 [==============================] - 2s 3us/step - loss: 0.0122 - acc: 0.8493\n",
            "Epoch 174/430\n",
            "598500/598500 [==============================] - 2s 3us/step - loss: 0.0122 - acc: 0.8486\n",
            "Epoch 175/430\n",
            "598500/598500 [==============================] - 2s 3us/step - loss: 0.0122 - acc: 0.8495\n",
            "Epoch 176/430\n",
            "598500/598500 [==============================] - 2s 3us/step - loss: 0.0122 - acc: 0.8476\n",
            "Epoch 177/430\n",
            "598500/598500 [==============================] - 2s 3us/step - loss: 0.0121 - acc: 0.8491\n",
            "Epoch 178/430\n",
            "598500/598500 [==============================] - 2s 3us/step - loss: 0.0122 - acc: 0.8492\n",
            "Epoch 179/430\n",
            "598500/598500 [==============================] - 2s 3us/step - loss: 0.0121 - acc: 0.8486\n",
            "Epoch 180/430\n",
            "598500/598500 [==============================] - 2s 3us/step - loss: 0.0122 - acc: 0.8488\n",
            "Epoch 181/430\n",
            "598500/598500 [==============================] - 2s 3us/step - loss: 0.0122 - acc: 0.8493\n",
            "Epoch 182/430\n",
            "598500/598500 [==============================] - 2s 3us/step - loss: 0.0121 - acc: 0.8493\n",
            "Epoch 183/430\n",
            "598500/598500 [==============================] - 2s 3us/step - loss: 0.0121 - acc: 0.8501\n",
            "Epoch 184/430\n",
            "598500/598500 [==============================] - 2s 3us/step - loss: 0.0122 - acc: 0.8496\n",
            "Epoch 185/430\n",
            "598500/598500 [==============================] - 2s 3us/step - loss: 0.0121 - acc: 0.8494\n",
            "Epoch 186/430\n",
            "598500/598500 [==============================] - 2s 3us/step - loss: 0.0121 - acc: 0.8494\n",
            "Epoch 187/430\n",
            "598500/598500 [==============================] - 2s 3us/step - loss: 0.0121 - acc: 0.8491\n",
            "Epoch 188/430\n",
            "598500/598500 [==============================] - 2s 3us/step - loss: 0.0121 - acc: 0.8494\n",
            "Epoch 189/430\n",
            "598500/598500 [==============================] - 2s 3us/step - loss: 0.0120 - acc: 0.8498\n",
            "Epoch 190/430\n",
            "598500/598500 [==============================] - 2s 3us/step - loss: 0.0120 - acc: 0.8498\n",
            "Epoch 191/430\n",
            "598500/598500 [==============================] - 2s 3us/step - loss: 0.0121 - acc: 0.8487\n",
            "Epoch 192/430\n",
            "598500/598500 [==============================] - 2s 3us/step - loss: 0.0121 - acc: 0.8486\n",
            "Epoch 193/430\n",
            "598500/598500 [==============================] - 2s 3us/step - loss: 0.0121 - acc: 0.8489\n",
            "Epoch 194/430\n",
            "598500/598500 [==============================] - 2s 3us/step - loss: 0.0120 - acc: 0.8495\n",
            "Epoch 195/430\n",
            "598500/598500 [==============================] - 2s 3us/step - loss: 0.0120 - acc: 0.8498\n",
            "Epoch 196/430\n",
            "598500/598500 [==============================] - 2s 3us/step - loss: 0.0120 - acc: 0.8495\n",
            "Epoch 197/430\n",
            "598500/598500 [==============================] - 2s 3us/step - loss: 0.0119 - acc: 0.8494\n",
            "Epoch 198/430\n",
            "598500/598500 [==============================] - 2s 3us/step - loss: 0.0119 - acc: 0.8486\n",
            "Epoch 199/430\n",
            "598500/598500 [==============================] - 2s 3us/step - loss: 0.0119 - acc: 0.8500\n",
            "Epoch 200/430\n",
            "598500/598500 [==============================] - 2s 3us/step - loss: 0.0119 - acc: 0.8495\n",
            "Epoch 201/430\n",
            "598500/598500 [==============================] - 2s 3us/step - loss: 0.0119 - acc: 0.8498\n",
            "Epoch 202/430\n",
            "598500/598500 [==============================] - 2s 3us/step - loss: 0.0119 - acc: 0.8487\n",
            "Epoch 203/430\n",
            "598500/598500 [==============================] - 2s 3us/step - loss: 0.0120 - acc: 0.8502\n",
            "Epoch 204/430\n",
            "598500/598500 [==============================] - 2s 3us/step - loss: 0.0120 - acc: 0.8496\n",
            "Epoch 205/430\n",
            "598500/598500 [==============================] - 2s 3us/step - loss: 0.0119 - acc: 0.8493\n",
            "Epoch 206/430\n",
            "598500/598500 [==============================] - 2s 3us/step - loss: 0.0120 - acc: 0.8489\n",
            "Epoch 207/430\n",
            "598500/598500 [==============================] - 2s 3us/step - loss: 0.0120 - acc: 0.8485\n",
            "Epoch 208/430\n",
            "598500/598500 [==============================] - 2s 3us/step - loss: 0.0119 - acc: 0.8486\n",
            "Epoch 209/430\n",
            "598500/598500 [==============================] - 2s 3us/step - loss: 0.0119 - acc: 0.8498\n",
            "Epoch 210/430\n",
            "598500/598500 [==============================] - 2s 3us/step - loss: 0.0118 - acc: 0.8498\n",
            "Epoch 211/430\n",
            "598500/598500 [==============================] - 2s 3us/step - loss: 0.0118 - acc: 0.8496\n",
            "Epoch 212/430\n",
            "598500/598500 [==============================] - 2s 3us/step - loss: 0.0119 - acc: 0.8498\n",
            "Epoch 213/430\n",
            "598500/598500 [==============================] - 2s 3us/step - loss: 0.0119 - acc: 0.8494\n",
            "Epoch 214/430\n",
            "598500/598500 [==============================] - 2s 3us/step - loss: 0.0118 - acc: 0.8497\n",
            "Epoch 215/430\n",
            "598500/598500 [==============================] - 2s 3us/step - loss: 0.0118 - acc: 0.8507\n",
            "Epoch 216/430\n",
            "598500/598500 [==============================] - 2s 3us/step - loss: 0.0119 - acc: 0.8491\n",
            "Epoch 217/430\n",
            "598500/598500 [==============================] - 2s 3us/step - loss: 0.0118 - acc: 0.8491\n",
            "Epoch 218/430\n",
            "598500/598500 [==============================] - 2s 3us/step - loss: 0.0118 - acc: 0.8505\n",
            "Epoch 219/430\n",
            "598500/598500 [==============================] - 2s 3us/step - loss: 0.0117 - acc: 0.8515\n",
            "Epoch 220/430\n",
            "598500/598500 [==============================] - 2s 3us/step - loss: 0.0118 - acc: 0.8499\n",
            "Epoch 221/430\n",
            "598500/598500 [==============================] - 2s 3us/step - loss: 0.0118 - acc: 0.8504\n",
            "Epoch 222/430\n",
            "598500/598500 [==============================] - 2s 3us/step - loss: 0.0118 - acc: 0.8499\n",
            "Epoch 223/430\n",
            "598500/598500 [==============================] - 2s 3us/step - loss: 0.0118 - acc: 0.8510\n",
            "Epoch 224/430\n",
            "598500/598500 [==============================] - 2s 3us/step - loss: 0.0118 - acc: 0.8497\n",
            "Epoch 225/430\n",
            "598500/598500 [==============================] - 2s 3us/step - loss: 0.0117 - acc: 0.8514\n",
            "Epoch 226/430\n",
            "598500/598500 [==============================] - 2s 3us/step - loss: 0.0118 - acc: 0.8506\n",
            "Epoch 227/430\n",
            "598500/598500 [==============================] - 2s 3us/step - loss: 0.0117 - acc: 0.8516\n",
            "Epoch 228/430\n",
            "598500/598500 [==============================] - 2s 3us/step - loss: 0.0116 - acc: 0.8509\n",
            "Epoch 229/430\n",
            "598500/598500 [==============================] - 2s 3us/step - loss: 0.0117 - acc: 0.8508\n",
            "Epoch 230/430\n",
            "598500/598500 [==============================] - 2s 3us/step - loss: 0.0117 - acc: 0.8515\n",
            "Epoch 231/430\n",
            "598500/598500 [==============================] - 2s 3us/step - loss: 0.0118 - acc: 0.8502\n",
            "Epoch 232/430\n",
            "598500/598500 [==============================] - 2s 3us/step - loss: 0.0118 - acc: 0.8511\n",
            "Epoch 233/430\n",
            "598500/598500 [==============================] - 2s 3us/step - loss: 0.0117 - acc: 0.8504\n",
            "Epoch 234/430\n",
            "598500/598500 [==============================] - 2s 3us/step - loss: 0.0117 - acc: 0.8510\n",
            "Epoch 235/430\n",
            "598500/598500 [==============================] - 2s 3us/step - loss: 0.0117 - acc: 0.8517\n",
            "Epoch 236/430\n",
            "598500/598500 [==============================] - 2s 3us/step - loss: 0.0116 - acc: 0.8524\n",
            "Epoch 237/430\n",
            "598500/598500 [==============================] - 2s 3us/step - loss: 0.0118 - acc: 0.8508\n",
            "Epoch 238/430\n",
            "598500/598500 [==============================] - 2s 3us/step - loss: 0.0117 - acc: 0.8515\n",
            "Epoch 239/430\n",
            "598500/598500 [==============================] - 2s 3us/step - loss: 0.0117 - acc: 0.8503\n",
            "Epoch 240/430\n",
            "598500/598500 [==============================] - 2s 3us/step - loss: 0.0118 - acc: 0.8509\n",
            "Epoch 241/430\n",
            "598500/598500 [==============================] - 2s 3us/step - loss: 0.0116 - acc: 0.8519\n",
            "Epoch 242/430\n",
            "598500/598500 [==============================] - 2s 3us/step - loss: 0.0117 - acc: 0.8507\n",
            "Epoch 243/430\n",
            "598500/598500 [==============================] - 2s 3us/step - loss: 0.0116 - acc: 0.8519\n",
            "Epoch 244/430\n",
            "598500/598500 [==============================] - 2s 3us/step - loss: 0.0116 - acc: 0.8516\n",
            "Epoch 245/430\n",
            "598500/598500 [==============================] - 2s 3us/step - loss: 0.0117 - acc: 0.8524\n",
            "Epoch 246/430\n",
            "598500/598500 [==============================] - 2s 3us/step - loss: 0.0117 - acc: 0.8503\n",
            "Epoch 247/430\n",
            "598500/598500 [==============================] - 2s 3us/step - loss: 0.0116 - acc: 0.8525\n",
            "Epoch 248/430\n",
            "598500/598500 [==============================] - 2s 3us/step - loss: 0.0116 - acc: 0.8521\n",
            "Epoch 249/430\n",
            "598500/598500 [==============================] - 2s 3us/step - loss: 0.0117 - acc: 0.8522\n",
            "Epoch 250/430\n",
            "598500/598500 [==============================] - 2s 3us/step - loss: 0.0116 - acc: 0.8516\n",
            "Epoch 251/430\n",
            "598500/598500 [==============================] - 2s 3us/step - loss: 0.0116 - acc: 0.8523\n",
            "Epoch 252/430\n",
            "598500/598500 [==============================] - 2s 3us/step - loss: 0.0116 - acc: 0.8514\n",
            "Epoch 253/430\n",
            "598500/598500 [==============================] - 2s 3us/step - loss: 0.0116 - acc: 0.8521\n",
            "Epoch 254/430\n",
            "598500/598500 [==============================] - 2s 3us/step - loss: 0.0116 - acc: 0.8510\n",
            "Epoch 255/430\n",
            "598500/598500 [==============================] - 2s 3us/step - loss: 0.0116 - acc: 0.8525\n",
            "Epoch 256/430\n",
            "598500/598500 [==============================] - 2s 3us/step - loss: 0.0115 - acc: 0.8531\n",
            "Epoch 257/430\n",
            "598500/598500 [==============================] - 2s 3us/step - loss: 0.0116 - acc: 0.8530\n",
            "Epoch 258/430\n",
            "598500/598500 [==============================] - 2s 3us/step - loss: 0.0116 - acc: 0.8519\n",
            "Epoch 259/430\n",
            "598500/598500 [==============================] - 2s 3us/step - loss: 0.0116 - acc: 0.8528\n",
            "Epoch 260/430\n",
            "598500/598500 [==============================] - 2s 3us/step - loss: 0.0115 - acc: 0.8528\n",
            "Epoch 261/430\n",
            "598500/598500 [==============================] - 2s 3us/step - loss: 0.0116 - acc: 0.8526\n",
            "Epoch 262/430\n",
            "598500/598500 [==============================] - 2s 3us/step - loss: 0.0116 - acc: 0.8522\n",
            "Epoch 263/430\n",
            "598500/598500 [==============================] - 2s 3us/step - loss: 0.0115 - acc: 0.8533\n",
            "Epoch 264/430\n",
            "598500/598500 [==============================] - 2s 3us/step - loss: 0.0115 - acc: 0.8538\n",
            "Epoch 265/430\n",
            "598500/598500 [==============================] - 2s 3us/step - loss: 0.0115 - acc: 0.8538\n",
            "Epoch 266/430\n",
            "598500/598500 [==============================] - 2s 3us/step - loss: 0.0115 - acc: 0.8535\n",
            "Epoch 267/430\n",
            "598500/598500 [==============================] - 2s 3us/step - loss: 0.0116 - acc: 0.8528\n",
            "Epoch 268/430\n",
            "598500/598500 [==============================] - 2s 3us/step - loss: 0.0115 - acc: 0.8530\n",
            "Epoch 269/430\n",
            "598500/598500 [==============================] - 2s 3us/step - loss: 0.0116 - acc: 0.8518\n",
            "Epoch 270/430\n",
            "598500/598500 [==============================] - 2s 3us/step - loss: 0.0115 - acc: 0.8531\n",
            "Epoch 271/430\n",
            "598500/598500 [==============================] - 2s 3us/step - loss: 0.0115 - acc: 0.8533\n",
            "Epoch 272/430\n",
            "598500/598500 [==============================] - 2s 3us/step - loss: 0.0115 - acc: 0.8526\n",
            "Epoch 273/430\n",
            "598500/598500 [==============================] - 2s 3us/step - loss: 0.0115 - acc: 0.8531\n",
            "Epoch 274/430\n",
            "598500/598500 [==============================] - 2s 3us/step - loss: 0.0115 - acc: 0.8538\n",
            "Epoch 275/430\n",
            "598500/598500 [==============================] - 2s 3us/step - loss: 0.0116 - acc: 0.8528\n",
            "Epoch 276/430\n",
            "598500/598500 [==============================] - 2s 3us/step - loss: 0.0115 - acc: 0.8539\n",
            "Epoch 277/430\n",
            "598500/598500 [==============================] - 2s 3us/step - loss: 0.0115 - acc: 0.8535\n",
            "Epoch 278/430\n",
            "598500/598500 [==============================] - 2s 3us/step - loss: 0.0115 - acc: 0.8539\n",
            "Epoch 279/430\n",
            "598500/598500 [==============================] - 2s 3us/step - loss: 0.0115 - acc: 0.8543\n",
            "Epoch 280/430\n",
            "598500/598500 [==============================] - 2s 3us/step - loss: 0.0115 - acc: 0.8534\n",
            "Epoch 281/430\n",
            "598500/598500 [==============================] - 2s 3us/step - loss: 0.0115 - acc: 0.8530\n",
            "Epoch 282/430\n",
            "598500/598500 [==============================] - 2s 3us/step - loss: 0.0115 - acc: 0.8531\n",
            "Epoch 283/430\n",
            "598500/598500 [==============================] - 2s 3us/step - loss: 0.0114 - acc: 0.8539\n",
            "Epoch 284/430\n",
            "598500/598500 [==============================] - 2s 3us/step - loss: 0.0114 - acc: 0.8545\n",
            "Epoch 285/430\n",
            "598500/598500 [==============================] - 2s 3us/step - loss: 0.0115 - acc: 0.8531\n",
            "Epoch 286/430\n",
            "598500/598500 [==============================] - 2s 3us/step - loss: 0.0115 - acc: 0.8528\n",
            "Epoch 287/430\n",
            "598500/598500 [==============================] - 2s 3us/step - loss: 0.0114 - acc: 0.8542\n",
            "Epoch 288/430\n",
            "598500/598500 [==============================] - 2s 3us/step - loss: 0.0114 - acc: 0.8547\n",
            "Epoch 289/430\n",
            "598500/598500 [==============================] - 2s 3us/step - loss: 0.0115 - acc: 0.8545\n",
            "Epoch 290/430\n",
            "598500/598500 [==============================] - 2s 3us/step - loss: 0.0114 - acc: 0.8544\n",
            "Epoch 291/430\n",
            "598500/598500 [==============================] - 2s 3us/step - loss: 0.0114 - acc: 0.8539\n",
            "Epoch 292/430\n",
            "598500/598500 [==============================] - 2s 3us/step - loss: 0.0114 - acc: 0.8540\n",
            "Epoch 293/430\n",
            "598500/598500 [==============================] - 2s 3us/step - loss: 0.0115 - acc: 0.8535\n",
            "Epoch 294/430\n",
            "598500/598500 [==============================] - 2s 3us/step - loss: 0.0114 - acc: 0.8553\n",
            "Epoch 295/430\n",
            "598500/598500 [==============================] - 2s 3us/step - loss: 0.0114 - acc: 0.8540\n",
            "Epoch 296/430\n",
            "598500/598500 [==============================] - 2s 3us/step - loss: 0.0115 - acc: 0.8537\n",
            "Epoch 297/430\n",
            "598500/598500 [==============================] - 2s 3us/step - loss: 0.0114 - acc: 0.8546\n",
            "Epoch 298/430\n",
            "598500/598500 [==============================] - 2s 3us/step - loss: 0.0114 - acc: 0.8549\n",
            "Epoch 299/430\n",
            "598500/598500 [==============================] - 2s 3us/step - loss: 0.0114 - acc: 0.8537\n",
            "Epoch 300/430\n",
            "598500/598500 [==============================] - 2s 3us/step - loss: 0.0114 - acc: 0.8540\n",
            "Epoch 301/430\n",
            "598500/598500 [==============================] - 2s 3us/step - loss: 0.0114 - acc: 0.8538\n",
            "Epoch 302/430\n",
            "598500/598500 [==============================] - 2s 3us/step - loss: 0.0114 - acc: 0.8541\n",
            "Epoch 303/430\n",
            "598500/598500 [==============================] - 2s 3us/step - loss: 0.0114 - acc: 0.8533\n",
            "Epoch 304/430\n",
            "598500/598500 [==============================] - 2s 3us/step - loss: 0.0114 - acc: 0.8543\n",
            "Epoch 305/430\n",
            "598500/598500 [==============================] - 2s 3us/step - loss: 0.0114 - acc: 0.8548\n",
            "Epoch 306/430\n",
            "598500/598500 [==============================] - 2s 3us/step - loss: 0.0114 - acc: 0.8546\n",
            "Epoch 307/430\n",
            "598500/598500 [==============================] - 2s 3us/step - loss: 0.0114 - acc: 0.8533\n",
            "Epoch 308/430\n",
            "598500/598500 [==============================] - 2s 3us/step - loss: 0.0114 - acc: 0.8554\n",
            "Epoch 309/430\n",
            "598500/598500 [==============================] - 2s 3us/step - loss: 0.0115 - acc: 0.8542\n",
            "Epoch 310/430\n",
            "598500/598500 [==============================] - 2s 3us/step - loss: 0.0114 - acc: 0.8551\n",
            "Epoch 311/430\n",
            "598500/598500 [==============================] - 2s 3us/step - loss: 0.0114 - acc: 0.8536\n",
            "Epoch 312/430\n",
            "598500/598500 [==============================] - 2s 3us/step - loss: 0.0114 - acc: 0.8543\n",
            "Epoch 313/430\n",
            "598500/598500 [==============================] - 2s 3us/step - loss: 0.0114 - acc: 0.8547\n",
            "Epoch 314/430\n",
            "598500/598500 [==============================] - 2s 3us/step - loss: 0.0114 - acc: 0.8537\n",
            "Epoch 315/430\n",
            "598500/598500 [==============================] - 2s 3us/step - loss: 0.0114 - acc: 0.8543\n",
            "Epoch 316/430\n",
            "598500/598500 [==============================] - 2s 3us/step - loss: 0.0113 - acc: 0.8545\n",
            "Epoch 317/430\n",
            "598500/598500 [==============================] - 2s 3us/step - loss: 0.0113 - acc: 0.8543\n",
            "Epoch 318/430\n",
            "598500/598500 [==============================] - 2s 3us/step - loss: 0.0113 - acc: 0.8546\n",
            "Epoch 319/430\n",
            "598500/598500 [==============================] - 2s 3us/step - loss: 0.0113 - acc: 0.8542\n",
            "Epoch 320/430\n",
            "598500/598500 [==============================] - 2s 3us/step - loss: 0.0114 - acc: 0.8532\n",
            "Epoch 321/430\n",
            "598500/598500 [==============================] - 2s 3us/step - loss: 0.0113 - acc: 0.8551\n",
            "Epoch 322/430\n",
            "598500/598500 [==============================] - 2s 3us/step - loss: 0.0114 - acc: 0.8547\n",
            "Epoch 323/430\n",
            "598500/598500 [==============================] - 2s 3us/step - loss: 0.0113 - acc: 0.8544\n",
            "Epoch 324/430\n",
            "598500/598500 [==============================] - 2s 3us/step - loss: 0.0113 - acc: 0.8546\n",
            "Epoch 325/430\n",
            "598500/598500 [==============================] - 2s 3us/step - loss: 0.0112 - acc: 0.8549\n",
            "Epoch 326/430\n",
            "598500/598500 [==============================] - 2s 3us/step - loss: 0.0114 - acc: 0.8543\n",
            "Epoch 327/430\n",
            "598500/598500 [==============================] - 2s 3us/step - loss: 0.0113 - acc: 0.8544\n",
            "Epoch 328/430\n",
            "598500/598500 [==============================] - 2s 3us/step - loss: 0.0113 - acc: 0.8549\n",
            "Epoch 329/430\n",
            "598500/598500 [==============================] - 2s 3us/step - loss: 0.0113 - acc: 0.8542\n",
            "Epoch 330/430\n",
            "598500/598500 [==============================] - 2s 3us/step - loss: 0.0112 - acc: 0.8549\n",
            "Epoch 331/430\n",
            "598500/598500 [==============================] - 2s 3us/step - loss: 0.0114 - acc: 0.8546\n",
            "Epoch 332/430\n",
            "598500/598500 [==============================] - 2s 3us/step - loss: 0.0113 - acc: 0.8537\n",
            "Epoch 333/430\n",
            "598500/598500 [==============================] - 2s 3us/step - loss: 0.0113 - acc: 0.8549\n",
            "Epoch 334/430\n",
            "598500/598500 [==============================] - 2s 3us/step - loss: 0.0113 - acc: 0.8547\n",
            "Epoch 335/430\n",
            "598500/598500 [==============================] - 2s 3us/step - loss: 0.0114 - acc: 0.8534\n",
            "Epoch 336/430\n",
            "598500/598500 [==============================] - 2s 3us/step - loss: 0.0112 - acc: 0.8542\n",
            "Epoch 337/430\n",
            "598500/598500 [==============================] - 2s 3us/step - loss: 0.0113 - acc: 0.8547\n",
            "Epoch 338/430\n",
            "598500/598500 [==============================] - 2s 3us/step - loss: 0.0114 - acc: 0.8542\n",
            "Epoch 339/430\n",
            "598500/598500 [==============================] - 2s 3us/step - loss: 0.0113 - acc: 0.8545\n",
            "Epoch 340/430\n",
            "598500/598500 [==============================] - 2s 3us/step - loss: 0.0112 - acc: 0.8555\n",
            "Epoch 341/430\n",
            "598500/598500 [==============================] - 2s 3us/step - loss: 0.0113 - acc: 0.8550\n",
            "Epoch 342/430\n",
            "598500/598500 [==============================] - 2s 3us/step - loss: 0.0113 - acc: 0.8545\n",
            "Epoch 343/430\n",
            "598500/598500 [==============================] - 2s 3us/step - loss: 0.0113 - acc: 0.8546\n",
            "Epoch 344/430\n",
            "598500/598500 [==============================] - 2s 3us/step - loss: 0.0113 - acc: 0.8532\n",
            "Epoch 345/430\n",
            "598500/598500 [==============================] - 2s 3us/step - loss: 0.0113 - acc: 0.8554\n",
            "Epoch 346/430\n",
            "598500/598500 [==============================] - 2s 3us/step - loss: 0.0113 - acc: 0.8550\n",
            "Epoch 347/430\n",
            "598500/598500 [==============================] - 2s 3us/step - loss: 0.0112 - acc: 0.8554\n",
            "Epoch 348/430\n",
            "598500/598500 [==============================] - 2s 3us/step - loss: 0.0112 - acc: 0.8556\n",
            "Epoch 349/430\n",
            "598500/598500 [==============================] - 2s 3us/step - loss: 0.0113 - acc: 0.8545\n",
            "Epoch 350/430\n",
            "598500/598500 [==============================] - 2s 3us/step - loss: 0.0113 - acc: 0.8539\n",
            "Epoch 351/430\n",
            "598500/598500 [==============================] - 2s 3us/step - loss: 0.0113 - acc: 0.8540\n",
            "Epoch 352/430\n",
            "598500/598500 [==============================] - 2s 3us/step - loss: 0.0112 - acc: 0.8554\n",
            "Epoch 353/430\n",
            "598500/598500 [==============================] - 2s 3us/step - loss: 0.0113 - acc: 0.8548\n",
            "Epoch 354/430\n",
            "598500/598500 [==============================] - 2s 3us/step - loss: 0.0113 - acc: 0.8544\n",
            "Epoch 355/430\n",
            "598500/598500 [==============================] - 2s 3us/step - loss: 0.0113 - acc: 0.8552\n",
            "Epoch 356/430\n",
            "598500/598500 [==============================] - 2s 3us/step - loss: 0.0113 - acc: 0.8545\n",
            "Epoch 357/430\n",
            "598500/598500 [==============================] - 2s 3us/step - loss: 0.0112 - acc: 0.8551\n",
            "Epoch 358/430\n",
            "598500/598500 [==============================] - 2s 3us/step - loss: 0.0112 - acc: 0.8554\n",
            "Epoch 359/430\n",
            "598500/598500 [==============================] - 2s 3us/step - loss: 0.0113 - acc: 0.8544\n",
            "Epoch 360/430\n",
            "598500/598500 [==============================] - 2s 3us/step - loss: 0.0112 - acc: 0.8553\n",
            "Epoch 361/430\n",
            "598500/598500 [==============================] - 2s 3us/step - loss: 0.0113 - acc: 0.8544\n",
            "Epoch 362/430\n",
            "598500/598500 [==============================] - 2s 3us/step - loss: 0.0112 - acc: 0.8560\n",
            "Epoch 363/430\n",
            "598500/598500 [==============================] - 2s 3us/step - loss: 0.0112 - acc: 0.8557\n",
            "Epoch 364/430\n",
            "598500/598500 [==============================] - 2s 3us/step - loss: 0.0112 - acc: 0.8550\n",
            "Epoch 365/430\n",
            "598500/598500 [==============================] - 2s 3us/step - loss: 0.0112 - acc: 0.8558\n",
            "Epoch 366/430\n",
            "598500/598500 [==============================] - 2s 3us/step - loss: 0.0112 - acc: 0.8553\n",
            "Epoch 367/430\n",
            "598500/598500 [==============================] - 2s 3us/step - loss: 0.0112 - acc: 0.8549\n",
            "Epoch 368/430\n",
            "598500/598500 [==============================] - 2s 3us/step - loss: 0.0111 - acc: 0.8544\n",
            "Epoch 369/430\n",
            "598500/598500 [==============================] - 2s 3us/step - loss: 0.0113 - acc: 0.8557\n",
            "Epoch 370/430\n",
            "598500/598500 [==============================] - 2s 3us/step - loss: 0.0112 - acc: 0.8546\n",
            "Epoch 371/430\n",
            "598500/598500 [==============================] - 2s 3us/step - loss: 0.0113 - acc: 0.8558\n",
            "Epoch 372/430\n",
            "598500/598500 [==============================] - 2s 3us/step - loss: 0.0112 - acc: 0.8562\n",
            "Epoch 373/430\n",
            "598500/598500 [==============================] - 2s 3us/step - loss: 0.0111 - acc: 0.8562\n",
            "Epoch 374/430\n",
            "598500/598500 [==============================] - 2s 3us/step - loss: 0.0112 - acc: 0.8555\n",
            "Epoch 375/430\n",
            "598500/598500 [==============================] - 2s 3us/step - loss: 0.0112 - acc: 0.8561\n",
            "Epoch 376/430\n",
            "598500/598500 [==============================] - 2s 3us/step - loss: 0.0112 - acc: 0.8548\n",
            "Epoch 377/430\n",
            "598500/598500 [==============================] - 2s 3us/step - loss: 0.0112 - acc: 0.8548\n",
            "Epoch 378/430\n",
            "598500/598500 [==============================] - 2s 3us/step - loss: 0.0113 - acc: 0.8552\n",
            "Epoch 379/430\n",
            "598500/598500 [==============================] - 2s 3us/step - loss: 0.0112 - acc: 0.8559\n",
            "Epoch 380/430\n",
            "598500/598500 [==============================] - 2s 3us/step - loss: 0.0112 - acc: 0.8552\n",
            "Epoch 381/430\n",
            "598500/598500 [==============================] - 2s 3us/step - loss: 0.0112 - acc: 0.8554\n",
            "Epoch 382/430\n",
            "598500/598500 [==============================] - 2s 3us/step - loss: 0.0112 - acc: 0.8558\n",
            "Epoch 383/430\n",
            "598500/598500 [==============================] - 2s 3us/step - loss: 0.0111 - acc: 0.8551\n",
            "Epoch 384/430\n",
            "598500/598500 [==============================] - 2s 3us/step - loss: 0.0111 - acc: 0.8559\n",
            "Epoch 385/430\n",
            "598500/598500 [==============================] - 2s 3us/step - loss: 0.0112 - acc: 0.8560\n",
            "Epoch 386/430\n",
            "598500/598500 [==============================] - 2s 3us/step - loss: 0.0112 - acc: 0.8560\n",
            "Epoch 387/430\n",
            "598500/598500 [==============================] - 2s 3us/step - loss: 0.0111 - acc: 0.8556\n",
            "Epoch 388/430\n",
            "598500/598500 [==============================] - 2s 3us/step - loss: 0.0112 - acc: 0.8560\n",
            "Epoch 389/430\n",
            "598500/598500 [==============================] - 2s 3us/step - loss: 0.0113 - acc: 0.8554\n",
            "Epoch 390/430\n",
            "598500/598500 [==============================] - 2s 3us/step - loss: 0.0111 - acc: 0.8554\n",
            "Epoch 391/430\n",
            "598500/598500 [==============================] - 2s 3us/step - loss: 0.0112 - acc: 0.8551\n",
            "Epoch 392/430\n",
            "598500/598500 [==============================] - 2s 3us/step - loss: 0.0112 - acc: 0.8546\n",
            "Epoch 393/430\n",
            "598500/598500 [==============================] - 2s 3us/step - loss: 0.0111 - acc: 0.8560\n",
            "Epoch 394/430\n",
            "598500/598500 [==============================] - 2s 3us/step - loss: 0.0112 - acc: 0.8555\n",
            "Epoch 395/430\n",
            "598500/598500 [==============================] - 2s 3us/step - loss: 0.0111 - acc: 0.8559\n",
            "Epoch 396/430\n",
            "598500/598500 [==============================] - 2s 3us/step - loss: 0.0112 - acc: 0.8565\n",
            "Epoch 397/430\n",
            "598500/598500 [==============================] - 2s 3us/step - loss: 0.0111 - acc: 0.8552\n",
            "Epoch 398/430\n",
            "598500/598500 [==============================] - 2s 3us/step - loss: 0.0111 - acc: 0.8555\n",
            "Epoch 399/430\n",
            "598500/598500 [==============================] - 2s 3us/step - loss: 0.0112 - acc: 0.8559\n",
            "Epoch 400/430\n",
            "598500/598500 [==============================] - 2s 3us/step - loss: 0.0112 - acc: 0.8570\n",
            "Epoch 401/430\n",
            "598500/598500 [==============================] - 2s 3us/step - loss: 0.0111 - acc: 0.8564\n",
            "Epoch 402/430\n",
            "598500/598500 [==============================] - 2s 3us/step - loss: 0.0111 - acc: 0.8565\n",
            "Epoch 403/430\n",
            "598500/598500 [==============================] - 2s 3us/step - loss: 0.0111 - acc: 0.8561\n",
            "Epoch 404/430\n",
            "598500/598500 [==============================] - 2s 3us/step - loss: 0.0111 - acc: 0.8555\n",
            "Epoch 405/430\n",
            "598500/598500 [==============================] - 2s 3us/step - loss: 0.0111 - acc: 0.8555\n",
            "Epoch 406/430\n",
            "598500/598500 [==============================] - 2s 3us/step - loss: 0.0112 - acc: 0.8555\n",
            "Epoch 407/430\n",
            "598500/598500 [==============================] - 2s 3us/step - loss: 0.0112 - acc: 0.8569\n",
            "Epoch 408/430\n",
            "598500/598500 [==============================] - 2s 3us/step - loss: 0.0111 - acc: 0.8556\n",
            "Epoch 409/430\n",
            "598500/598500 [==============================] - 2s 3us/step - loss: 0.0112 - acc: 0.8556\n",
            "Epoch 410/430\n",
            "598500/598500 [==============================] - 2s 3us/step - loss: 0.0111 - acc: 0.8568\n",
            "Epoch 411/430\n",
            "598500/598500 [==============================] - 2s 3us/step - loss: 0.0111 - acc: 0.8563\n",
            "Epoch 412/430\n",
            "598500/598500 [==============================] - 2s 3us/step - loss: 0.0111 - acc: 0.8563\n",
            "Epoch 413/430\n",
            "598500/598500 [==============================] - 2s 3us/step - loss: 0.0111 - acc: 0.8578\n",
            "Epoch 414/430\n",
            "598500/598500 [==============================] - 2s 3us/step - loss: 0.0111 - acc: 0.8563\n",
            "Epoch 415/430\n",
            "598500/598500 [==============================] - 2s 3us/step - loss: 0.0111 - acc: 0.8547\n",
            "Epoch 416/430\n",
            "598500/598500 [==============================] - 2s 3us/step - loss: 0.0112 - acc: 0.8559\n",
            "Epoch 417/430\n",
            "598500/598500 [==============================] - 2s 3us/step - loss: 0.0111 - acc: 0.8553\n",
            "Epoch 418/430\n",
            "598500/598500 [==============================] - 2s 3us/step - loss: 0.0111 - acc: 0.8564\n",
            "Epoch 419/430\n",
            "598500/598500 [==============================] - 2s 3us/step - loss: 0.0110 - acc: 0.8566\n",
            "Epoch 420/430\n",
            "598500/598500 [==============================] - 2s 3us/step - loss: 0.0111 - acc: 0.8561\n",
            "Epoch 421/430\n",
            "598500/598500 [==============================] - 2s 3us/step - loss: 0.0111 - acc: 0.8558\n",
            "Epoch 422/430\n",
            "598500/598500 [==============================] - 2s 3us/step - loss: 0.0111 - acc: 0.8559\n",
            "Epoch 423/430\n",
            "598500/598500 [==============================] - 2s 3us/step - loss: 0.0111 - acc: 0.8555\n",
            "Epoch 424/430\n",
            "598500/598500 [==============================] - 2s 3us/step - loss: 0.0110 - acc: 0.8567\n",
            "Epoch 425/430\n",
            "598500/598500 [==============================] - 2s 3us/step - loss: 0.0112 - acc: 0.8559\n",
            "Epoch 426/430\n",
            "598500/598500 [==============================] - 2s 3us/step - loss: 0.0110 - acc: 0.8566\n",
            "Epoch 427/430\n",
            "598500/598500 [==============================] - 2s 3us/step - loss: 0.0110 - acc: 0.8561\n",
            "Epoch 428/430\n",
            "598500/598500 [==============================] - 2s 3us/step - loss: 0.0110 - acc: 0.8567\n",
            "Epoch 429/430\n",
            "598500/598500 [==============================] - 2s 3us/step - loss: 0.0111 - acc: 0.8557\n",
            "Epoch 430/430\n",
            "598500/598500 [==============================] - 2s 3us/step - loss: 0.0112 - acc: 0.8561\n"
          ],
          "name": "stdout"
        }
      ]
    },
    {
      "cell_type": "code",
      "metadata": {
        "id": "fxVetneO6_Hw",
        "colab_type": "code",
        "colab": {}
      },
      "source": [
        "print(\"RMSE for CO prediction is\",RMSE[0],\"and Ethylene prediction is\",RMSE[1],\"respectively.\")"
      ],
      "execution_count": null,
      "outputs": []
    },
    {
      "cell_type": "code",
      "metadata": {
        "id": "1EgNolQWf-8f",
        "colab_type": "code",
        "colab": {}
      },
      "source": [
        "y1_max"
      ],
      "execution_count": null,
      "outputs": []
    }
  ]
}